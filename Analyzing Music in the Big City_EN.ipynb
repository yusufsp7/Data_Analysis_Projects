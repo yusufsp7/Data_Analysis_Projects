{
 "cells": [
  {
   "cell_type": "markdown",
   "id": "572cafcb",
   "metadata": {},
   "source": [
    "# Analyzing Music in the Big City"
   ]
  },
  {
   "cell_type": "markdown",
   "id": "f11a49b8",
   "metadata": {},
   "source": [
    "In this project, I will compare music preferences in the cities of Springfield and Shelbyville, and study actual Y.Music data to test the hypotheses below, as well as compare user behavior in those two cities.\n",
    "\n",
    "<b>Hypothesis:</b>\n",
    "\n",
    "   1. User activity different on each depends on day and city.\n",
    "   2. At monday morning, the citizen of Springfield and Shelbyville listen to different genre. It is also happen at friday night. \n",
    "   3. User from Springfield and Shelbyville have different preferences. On Springfield, they prefer pop music, while in Shelbyville, rap music has a lot of fans.\n",
    "\n",
    "<b>Stages:</b>\n",
    "\n",
    "1. [Data Overview](#start)\n",
    "2. [Pre-process The Data](#pre-process)\n",
    "    - [Column titles](#column)\n",
    "    - [Missing values](#missing)\n",
    "    - [Duplicates](#duplicate)\n",
    "3. [Hypothesis Test](#test)\n",
    "    - [Hypothesis 1: comparing user behavior in two cities](#1)\n",
    "    - [Hypothesis 2: music at the beginning and end of the week](#2)\n",
    "    - [Hypothesis 3: genre preferences in springfield and shelbyville](#3)\n",
    "4. [General Conclusion](#conclusion)"
   ]
  },
  {
   "cell_type": "markdown",
   "id": "48472dbe",
   "metadata": {},
   "source": [
    "## Data Overview <a id=\"start\"></a>"
   ]
  },
  {
   "cell_type": "code",
   "execution_count": 10,
   "id": "836d7c38",
   "metadata": {},
   "outputs": [],
   "source": [
    "# Import pandas library\n",
    "import pandas as pd"
   ]
  },
  {
   "cell_type": "code",
   "execution_count": 11,
   "id": "aec4d184",
   "metadata": {},
   "outputs": [],
   "source": [
    "# Read file from directory and show the information related to the file\n",
    "df=pd.read_csv('Y:\\\\Online Course\\\\Practicum\\\\Jupyter Notebook\\\\1 Project\\\\music_project_en.csv')"
   ]
  },
  {
   "cell_type": "code",
   "execution_count": 12,
   "id": "4a350a59",
   "metadata": {},
   "outputs": [
    {
     "name": "stdout",
     "output_type": "stream",
     "text": [
      "<class 'pandas.core.frame.DataFrame'>\n",
      "RangeIndex: 65079 entries, 0 to 65078\n",
      "Data columns (total 7 columns):\n",
      " #   Column    Non-Null Count  Dtype \n",
      "---  ------    --------------  ----- \n",
      " 0     userID  65079 non-null  object\n",
      " 1   Track     63736 non-null  object\n",
      " 2   artist    57512 non-null  object\n",
      " 3   genre     63881 non-null  object\n",
      " 4     City    65079 non-null  object\n",
      " 5   time      65079 non-null  object\n",
      " 6   Day       65079 non-null  object\n",
      "dtypes: object(7)\n",
      "memory usage: 3.5+ MB\n"
     ]
    }
   ],
   "source": [
    "# Documentation and show the Data Frame\n",
    "df.info()"
   ]
  },
  {
   "cell_type": "code",
   "execution_count": 13,
   "id": "f1f8dad8-bdca-4d2e-8b5b-b66797bab688",
   "metadata": {},
   "outputs": [
    {
     "data": {
      "text/plain": [
       "(65079, 7)"
      ]
     },
     "execution_count": 13,
     "metadata": {},
     "output_type": "execute_result"
    }
   ],
   "source": [
    "# Dataset size\n",
    "df.shape"
   ]
  },
  {
   "cell_type": "code",
   "execution_count": 14,
   "id": "20e5dc83",
   "metadata": {
    "scrolled": true
   },
   "outputs": [
    {
     "data": {
      "text/html": [
       "<div>\n",
       "<style scoped>\n",
       "    .dataframe tbody tr th:only-of-type {\n",
       "        vertical-align: middle;\n",
       "    }\n",
       "\n",
       "    .dataframe tbody tr th {\n",
       "        vertical-align: top;\n",
       "    }\n",
       "\n",
       "    .dataframe thead th {\n",
       "        text-align: right;\n",
       "    }\n",
       "</style>\n",
       "<table border=\"1\" class=\"dataframe\">\n",
       "  <thead>\n",
       "    <tr style=\"text-align: right;\">\n",
       "      <th></th>\n",
       "      <th>userID</th>\n",
       "      <th>Track</th>\n",
       "      <th>artist</th>\n",
       "      <th>genre</th>\n",
       "      <th>City</th>\n",
       "      <th>time</th>\n",
       "      <th>Day</th>\n",
       "    </tr>\n",
       "  </thead>\n",
       "  <tbody>\n",
       "    <tr>\n",
       "      <th>0</th>\n",
       "      <td>FFB692EC</td>\n",
       "      <td>Kamigata To Boots</td>\n",
       "      <td>The Mass Missile</td>\n",
       "      <td>rock</td>\n",
       "      <td>Shelbyville</td>\n",
       "      <td>20:28:33</td>\n",
       "      <td>Wednesday</td>\n",
       "    </tr>\n",
       "    <tr>\n",
       "      <th>1</th>\n",
       "      <td>55204538</td>\n",
       "      <td>Delayed Because of Accident</td>\n",
       "      <td>Andreas Rönnberg</td>\n",
       "      <td>rock</td>\n",
       "      <td>Springfield</td>\n",
       "      <td>14:07:09</td>\n",
       "      <td>Friday</td>\n",
       "    </tr>\n",
       "    <tr>\n",
       "      <th>2</th>\n",
       "      <td>20EC38</td>\n",
       "      <td>Funiculì funiculà</td>\n",
       "      <td>Mario Lanza</td>\n",
       "      <td>pop</td>\n",
       "      <td>Shelbyville</td>\n",
       "      <td>20:58:07</td>\n",
       "      <td>Wednesday</td>\n",
       "    </tr>\n",
       "    <tr>\n",
       "      <th>3</th>\n",
       "      <td>A3DD03C9</td>\n",
       "      <td>Dragons in the Sunset</td>\n",
       "      <td>Fire + Ice</td>\n",
       "      <td>folk</td>\n",
       "      <td>Shelbyville</td>\n",
       "      <td>08:37:09</td>\n",
       "      <td>Monday</td>\n",
       "    </tr>\n",
       "    <tr>\n",
       "      <th>4</th>\n",
       "      <td>E2DC1FAE</td>\n",
       "      <td>Soul People</td>\n",
       "      <td>Space Echo</td>\n",
       "      <td>dance</td>\n",
       "      <td>Springfield</td>\n",
       "      <td>08:34:34</td>\n",
       "      <td>Monday</td>\n",
       "    </tr>\n",
       "    <tr>\n",
       "      <th>5</th>\n",
       "      <td>842029A1</td>\n",
       "      <td>Chains</td>\n",
       "      <td>Obladaet</td>\n",
       "      <td>rusrap</td>\n",
       "      <td>Shelbyville</td>\n",
       "      <td>13:09:41</td>\n",
       "      <td>Friday</td>\n",
       "    </tr>\n",
       "    <tr>\n",
       "      <th>6</th>\n",
       "      <td>4CB90AA5</td>\n",
       "      <td>True</td>\n",
       "      <td>Roman Messer</td>\n",
       "      <td>dance</td>\n",
       "      <td>Springfield</td>\n",
       "      <td>13:00:07</td>\n",
       "      <td>Wednesday</td>\n",
       "    </tr>\n",
       "    <tr>\n",
       "      <th>7</th>\n",
       "      <td>F03E1C1F</td>\n",
       "      <td>Feeling This Way</td>\n",
       "      <td>Polina Griffith</td>\n",
       "      <td>dance</td>\n",
       "      <td>Springfield</td>\n",
       "      <td>20:47:49</td>\n",
       "      <td>Wednesday</td>\n",
       "    </tr>\n",
       "    <tr>\n",
       "      <th>8</th>\n",
       "      <td>8FA1D3BE</td>\n",
       "      <td>L’estate</td>\n",
       "      <td>Julia Dalia</td>\n",
       "      <td>ruspop</td>\n",
       "      <td>Springfield</td>\n",
       "      <td>09:17:40</td>\n",
       "      <td>Friday</td>\n",
       "    </tr>\n",
       "    <tr>\n",
       "      <th>9</th>\n",
       "      <td>E772D5C0</td>\n",
       "      <td>Pessimist</td>\n",
       "      <td>NaN</td>\n",
       "      <td>dance</td>\n",
       "      <td>Shelbyville</td>\n",
       "      <td>21:20:49</td>\n",
       "      <td>Wednesday</td>\n",
       "    </tr>\n",
       "  </tbody>\n",
       "</table>\n",
       "</div>"
      ],
      "text/plain": [
       "     userID                        Track            artist   genre  \\\n",
       "0  FFB692EC            Kamigata To Boots  The Mass Missile    rock   \n",
       "1  55204538  Delayed Because of Accident  Andreas Rönnberg    rock   \n",
       "2    20EC38            Funiculì funiculà       Mario Lanza     pop   \n",
       "3  A3DD03C9        Dragons in the Sunset        Fire + Ice    folk   \n",
       "4  E2DC1FAE                  Soul People        Space Echo   dance   \n",
       "5  842029A1                       Chains          Obladaet  rusrap   \n",
       "6  4CB90AA5                         True      Roman Messer   dance   \n",
       "7  F03E1C1F             Feeling This Way   Polina Griffith   dance   \n",
       "8  8FA1D3BE                     L’estate       Julia Dalia  ruspop   \n",
       "9  E772D5C0                    Pessimist               NaN   dance   \n",
       "\n",
       "        City        time        Day  \n",
       "0  Shelbyville  20:28:33  Wednesday  \n",
       "1  Springfield  14:07:09     Friday  \n",
       "2  Shelbyville  20:58:07  Wednesday  \n",
       "3  Shelbyville  08:37:09     Monday  \n",
       "4  Springfield  08:34:34     Monday  \n",
       "5  Shelbyville  13:09:41     Friday  \n",
       "6  Springfield  13:00:07  Wednesday  \n",
       "7  Springfield  20:47:49  Wednesday  \n",
       "8  Springfield  09:17:40     Friday  \n",
       "9  Shelbyville  21:20:49  Wednesday  "
      ]
     },
     "execution_count": 14,
     "metadata": {},
     "output_type": "execute_result"
    }
   ],
   "source": [
    "# First 10 row of the Data Frame\n",
    "df.head(10)"
   ]
  },
  {
   "cell_type": "markdown",
   "id": "c4ddb4d6",
   "metadata": {},
   "source": [
    "Documentantions:\n",
    "- `' userID'` - user ID\n",
    "- `'Track'` - track tittle\n",
    "- `'artist'` - artist name\n",
    "- `'genre'` - music genre\n",
    "- `' City'` - city where the user lives\n",
    "- `'time'` - how long does the song play\n",
    "- `'Day'` - name of the day"
   ]
  },
  {
   "cell_type": "markdown",
   "id": "e72cd74c",
   "metadata": {},
   "source": [
    "**Tentative conclusions**\n",
    "\n",
    "Findings:\n",
    "\n",
    "1. There are multiple duplicate values,\n",
    "2. Column naming that can be fixed because it uses spaces and also uses snake case,\n",
    "3. There are several columns that have missing values."
   ]
  },
  {
   "cell_type": "markdown",
   "id": "80bcefd8",
   "metadata": {},
   "source": [
    "## Pre-process The Data <a id=\"pre-process\"></a>"
   ]
  },
  {
   "cell_type": "markdown",
   "id": "cfa6e437",
   "metadata": {},
   "source": [
    "### Columns titles <a id=\"column\"></a>"
   ]
  },
  {
   "cell_type": "code",
   "execution_count": 15,
   "id": "47a87e97",
   "metadata": {},
   "outputs": [
    {
     "data": {
      "text/plain": [
       "Index(['  userID', 'Track', 'artist', 'genre', '  City  ', 'time', 'Day'], dtype='object')"
      ]
     },
     "execution_count": 15,
     "metadata": {},
     "output_type": "execute_result"
    }
   ],
   "source": [
    "# Columns tittle\n",
    "df_clean = df\n",
    "df_clean.columns"
   ]
  },
  {
   "cell_type": "markdown",
   "id": "1ec8f976",
   "metadata": {},
   "source": [
    "There are some mistakes in the title of the columns"
   ]
  },
  {
   "cell_type": "code",
   "execution_count": 16,
   "id": "4dd32fa0",
   "metadata": {},
   "outputs": [],
   "source": [
    "# Fixing columns tittle\n",
    "df_clean = df_clean.rename(columns ={\n",
    "    '  userID' : 'user_id',\n",
    "    'Track' : 'track',\n",
    "    '  City  ': 'city',\n",
    "    'Day' : 'day'\n",
    "})"
   ]
  },
  {
   "cell_type": "code",
   "execution_count": 17,
   "id": "138a498f",
   "metadata": {
    "scrolled": true
   },
   "outputs": [
    {
     "data": {
      "text/plain": [
       "Index(['user_id', 'track', 'artist', 'genre', 'city', 'time', 'day'], dtype='object')"
      ]
     },
     "execution_count": 17,
     "metadata": {},
     "output_type": "execute_result"
    }
   ],
   "source": [
    "# Check the new column\n",
    "df_clean.columns"
   ]
  },
  {
   "cell_type": "markdown",
   "id": "276647c5",
   "metadata": {},
   "source": [
    "Column names `used_id`, `track`, `city`, `day` have been successfully changed to lowercase and removed spaces."
   ]
  },
  {
   "cell_type": "markdown",
   "id": "49f423b9",
   "metadata": {},
   "source": [
    "### Missing values <a id=\"missing\"></a>"
   ]
  },
  {
   "cell_type": "code",
   "execution_count": 18,
   "id": "f8a46595",
   "metadata": {},
   "outputs": [
    {
     "data": {
      "text/plain": [
       "user_id       0\n",
       "track      1343\n",
       "artist     7567\n",
       "genre      1198\n",
       "city          0\n",
       "time          0\n",
       "day           0\n",
       "dtype: int64"
      ]
     },
     "execution_count": 18,
     "metadata": {},
     "output_type": "execute_result"
    }
   ],
   "source": [
    "# Count the missing value\n",
    "df_clean.isna().sum()"
   ]
  },
  {
   "cell_type": "code",
   "execution_count": 19,
   "id": "dbb43fc4",
   "metadata": {},
   "outputs": [],
   "source": [
    "# Fill the missing value with 'unknown'\n",
    "columns_to_replace = ['track', 'artist', 'genre']\n",
    "\n",
    "for cols in columns_to_replace:\n",
    "    df_clean[cols] =df_clean[cols].fillna('unknown')"
   ]
  },
  {
   "cell_type": "code",
   "execution_count": 20,
   "id": "a2cb0fc5",
   "metadata": {},
   "outputs": [
    {
     "data": {
      "text/plain": [
       "user_id    0\n",
       "track      0\n",
       "artist     0\n",
       "genre      0\n",
       "city       0\n",
       "time       0\n",
       "day        0\n",
       "dtype: int64"
      ]
     },
     "execution_count": 20,
     "metadata": {},
     "output_type": "execute_result"
    }
   ],
   "source": [
    "# Check fixed value\n",
    "df_clean.isna().sum()"
   ]
  },
  {
   "cell_type": "markdown",
   "id": "323e5a65",
   "metadata": {},
   "source": [
    "Missing values from the `track`, `artist`, `genre` fields have been successfully fixed, replacing them with the string 'unknown'."
   ]
  },
  {
   "cell_type": "markdown",
   "id": "5e0c7992",
   "metadata": {},
   "source": [
    "### Duplicates <a id=\"duplicate\"></a>"
   ]
  },
  {
   "cell_type": "code",
   "execution_count": 21,
   "id": "e1575a72",
   "metadata": {},
   "outputs": [
    {
     "data": {
      "text/plain": [
       "3826"
      ]
     },
     "execution_count": 21,
     "metadata": {},
     "output_type": "execute_result"
    }
   ],
   "source": [
    "# Explicit (Data Frame): Counting duplicate value\n",
    "df_clean.duplicated().sum()"
   ]
  },
  {
   "cell_type": "code",
   "execution_count": 22,
   "id": "29dc8f83",
   "metadata": {},
   "outputs": [],
   "source": [
    "# Explicit : Clean up duplicate value\n",
    "df_clean = df_clean.drop_duplicates().reset_index(drop=True)"
   ]
  },
  {
   "cell_type": "code",
   "execution_count": 13,
   "id": "01b836ed",
   "metadata": {},
   "outputs": [
    {
     "data": {
      "text/plain": [
       "0"
      ]
     },
     "execution_count": 13,
     "metadata": {},
     "output_type": "execute_result"
    }
   ],
   "source": [
    "# Explicit : Check duplicate value\n",
    "df_clean.duplicated().sum()"
   ]
  },
  {
   "cell_type": "code",
   "execution_count": 23,
   "id": "74a9849b",
   "metadata": {
    "scrolled": true
   },
   "outputs": [
    {
     "data": {
      "text/plain": [
       "array(['acid', 'acoustic', 'action', 'adult', 'africa', 'afrikaans',\n",
       "       'alternative', 'ambient', 'americana', 'animated', 'anime',\n",
       "       'arabesk', 'arabic', 'arena', 'argentinetango', 'art', 'audiobook',\n",
       "       'avantgarde', 'axé', 'baile', 'balkan', 'beats', 'bigroom',\n",
       "       'black', 'bluegrass', 'blues', 'bollywood', 'bossa', 'brazilian',\n",
       "       'breakbeat', 'breaks', 'broadway', 'cantautori', 'cantopop',\n",
       "       'canzone', 'caribbean', 'caucasian', 'celtic', 'chamber',\n",
       "       'children', 'chill', 'chinese', 'choral', 'christian', 'christmas',\n",
       "       'classical', 'classicmetal', 'club', 'colombian', 'comedy',\n",
       "       'conjazz', 'contemporary', 'country', 'cuban', 'dance',\n",
       "       'dancehall', 'dancepop', 'dark', 'death', 'deep', 'deutschrock',\n",
       "       'deutschspr', 'dirty', 'disco', 'dnb', 'documentary', 'downbeat',\n",
       "       'downtempo', 'drum', 'dub', 'dubstep', 'eastern', 'easy',\n",
       "       'electronic', 'electropop', 'emo', 'entehno', 'epicmetal',\n",
       "       'estrada', 'ethnic', 'eurofolk', 'european', 'experimental',\n",
       "       'extrememetal', 'fado', 'film', 'fitness', 'flamenco', 'folk',\n",
       "       'folklore', 'folkmetal', 'folkrock', 'folktronica', 'forró',\n",
       "       'frankreich', 'französisch', 'french', 'funk', 'future', 'gangsta',\n",
       "       'garage', 'german', 'ghazal', 'gitarre', 'glitch', 'gospel',\n",
       "       'gothic', 'grime', 'grunge', 'gypsy', 'handsup', \"hard'n'heavy\",\n",
       "       'hardcore', 'hardstyle', 'hardtechno', 'hip', 'hip-hop', 'hiphop',\n",
       "       'historisch', 'holiday', 'hop', 'horror', 'house', 'idm',\n",
       "       'independent', 'indian', 'indie', 'indipop', 'industrial',\n",
       "       'inspirational', 'instrumental', 'international', 'irish', 'jam',\n",
       "       'japanese', 'jazz', 'jewish', 'jpop', 'jungle', 'k-pop',\n",
       "       'karadeniz', 'karaoke', 'kayokyoku', 'korean', 'laiko', 'latin',\n",
       "       'latino', 'leftfield', 'local', 'lounge', 'loungeelectronic',\n",
       "       'lovers', 'malaysian', 'mandopop', 'marschmusik', 'meditative',\n",
       "       'mediterranean', 'melodic', 'metal', 'metalcore', 'mexican',\n",
       "       'middle', 'minimal', 'miscellaneous', 'modern', 'mood', 'mpb',\n",
       "       'muslim', 'native', 'neoklassik', 'neue', 'new', 'newage',\n",
       "       'newwave', 'nu', 'nujazz', 'numetal', 'oceania', 'old', 'opera',\n",
       "       'orchestral', 'other', 'piano', 'pop', 'popelectronic',\n",
       "       'popeurodance', 'post', 'posthardcore', 'postrock', 'power',\n",
       "       'progmetal', 'progressive', 'psychedelic', 'punjabi', 'punk',\n",
       "       'quebecois', 'ragga', 'ram', 'rancheras', 'rap', 'rave', 'reggae',\n",
       "       'reggaeton', 'regional', 'relax', 'religious', 'retro', 'rhythm',\n",
       "       'rnb', 'rnr', 'rock', 'rockabilly', 'romance', 'roots', 'ruspop',\n",
       "       'rusrap', 'rusrock', 'salsa', 'samba', 'schlager', 'self',\n",
       "       'sertanejo', 'shoegazing', 'showtunes', 'singer', 'ska', 'slow',\n",
       "       'smooth', 'soul', 'soulful', 'sound', 'soundtrack', 'southern',\n",
       "       'specialty', 'speech', 'spiritual', 'sport', 'stonerrock', 'surf',\n",
       "       'swing', 'synthpop', 'sängerportrait', 'tango', 'tanzorchester',\n",
       "       'taraftar', 'tech', 'techno', 'thrash', 'top', 'traditional',\n",
       "       'tradjazz', 'trance', 'tribal', 'trip', 'triphop', 'tropical',\n",
       "       'türk', 'türkçe', 'unknown', 'urban', 'uzbek', 'variété', 'vi',\n",
       "       'videogame', 'vocal', 'western', 'world', 'worldbeat', 'ïîï'],\n",
       "      dtype=object)"
      ]
     },
     "execution_count": 23,
     "metadata": {},
     "output_type": "execute_result"
    }
   ],
   "source": [
    "# Finds the number of implicit duplicates in a table and fixes it\n",
    "# Implicit (Series): Counting duplicate value\n",
    "df_clean['genre'].sort_values().unique()"
   ]
  },
  {
   "cell_type": "code",
   "execution_count": 25,
   "id": "3f4d36e4",
   "metadata": {},
   "outputs": [],
   "source": [
    "# There are implicit duplicates in the strings hip, hop, hip-hop\n",
    "# Implicit (Series): Function to fix duplicate value\n",
    "'''\n",
    "Definisi:\n",
    "-----------\n",
    "    # Implicit (Series): Function to fix duplicate value\n",
    "-----------\n",
    "    wrong_genres:\n",
    "        the string you want to replace\n",
    "    correct_genre:\n",
    "        string to replace\n",
    "'''\n",
    "def replace_wrong_genres(wrong_genres, correct_genre):\n",
    "    \n",
    "    for wrong_genre in wrong_genres:\n",
    "        df_clean['genre'] = df_clean['genre'].replace(wrong_genres, correct_genre)\n"
   ]
  },
  {
   "cell_type": "code",
   "execution_count": 16,
   "id": "1d261578",
   "metadata": {},
   "outputs": [],
   "source": [
    "# Implicit (Series): Recall the function\n",
    "duplicates_genres = ['hip', 'hop', 'hip-hop']\n",
    "genre_replace = 'hiphop'\n",
    "replace_wrong_genres(duplicates_genres, genre_replace)"
   ]
  },
  {
   "cell_type": "code",
   "execution_count": 17,
   "id": "55b87a27",
   "metadata": {},
   "outputs": [
    {
     "data": {
      "text/plain": [
       "array(['acid', 'acoustic', 'action', 'adult', 'africa', 'afrikaans',\n",
       "       'alternative', 'ambient', 'americana', 'animated', 'anime',\n",
       "       'arabesk', 'arabic', 'arena', 'argentinetango', 'art', 'audiobook',\n",
       "       'avantgarde', 'axé', 'baile', 'balkan', 'beats', 'bigroom',\n",
       "       'black', 'bluegrass', 'blues', 'bollywood', 'bossa', 'brazilian',\n",
       "       'breakbeat', 'breaks', 'broadway', 'cantautori', 'cantopop',\n",
       "       'canzone', 'caribbean', 'caucasian', 'celtic', 'chamber',\n",
       "       'children', 'chill', 'chinese', 'choral', 'christian', 'christmas',\n",
       "       'classical', 'classicmetal', 'club', 'colombian', 'comedy',\n",
       "       'conjazz', 'contemporary', 'country', 'cuban', 'dance',\n",
       "       'dancehall', 'dancepop', 'dark', 'death', 'deep', 'deutschrock',\n",
       "       'deutschspr', 'dirty', 'disco', 'dnb', 'documentary', 'downbeat',\n",
       "       'downtempo', 'drum', 'dub', 'dubstep', 'eastern', 'easy',\n",
       "       'electronic', 'electropop', 'emo', 'entehno', 'epicmetal',\n",
       "       'estrada', 'ethnic', 'eurofolk', 'european', 'experimental',\n",
       "       'extrememetal', 'fado', 'film', 'fitness', 'flamenco', 'folk',\n",
       "       'folklore', 'folkmetal', 'folkrock', 'folktronica', 'forró',\n",
       "       'frankreich', 'französisch', 'french', 'funk', 'future', 'gangsta',\n",
       "       'garage', 'german', 'ghazal', 'gitarre', 'glitch', 'gospel',\n",
       "       'gothic', 'grime', 'grunge', 'gypsy', 'handsup', \"hard'n'heavy\",\n",
       "       'hardcore', 'hardstyle', 'hardtechno', 'hiphop', 'historisch',\n",
       "       'holiday', 'horror', 'house', 'idm', 'independent', 'indian',\n",
       "       'indie', 'indipop', 'industrial', 'inspirational', 'instrumental',\n",
       "       'international', 'irish', 'jam', 'japanese', 'jazz', 'jewish',\n",
       "       'jpop', 'jungle', 'k-pop', 'karadeniz', 'karaoke', 'kayokyoku',\n",
       "       'korean', 'laiko', 'latin', 'latino', 'leftfield', 'local',\n",
       "       'lounge', 'loungeelectronic', 'lovers', 'malaysian', 'mandopop',\n",
       "       'marschmusik', 'meditative', 'mediterranean', 'melodic', 'metal',\n",
       "       'metalcore', 'mexican', 'middle', 'minimal', 'miscellaneous',\n",
       "       'modern', 'mood', 'mpb', 'muslim', 'native', 'neoklassik', 'neue',\n",
       "       'new', 'newage', 'newwave', 'nu', 'nujazz', 'numetal', 'oceania',\n",
       "       'old', 'opera', 'orchestral', 'other', 'piano', 'pop',\n",
       "       'popelectronic', 'popeurodance', 'post', 'posthardcore',\n",
       "       'postrock', 'power', 'progmetal', 'progressive', 'psychedelic',\n",
       "       'punjabi', 'punk', 'quebecois', 'ragga', 'ram', 'rancheras', 'rap',\n",
       "       'rave', 'reggae', 'reggaeton', 'regional', 'relax', 'religious',\n",
       "       'retro', 'rhythm', 'rnb', 'rnr', 'rock', 'rockabilly', 'romance',\n",
       "       'roots', 'ruspop', 'rusrap', 'rusrock', 'salsa', 'samba',\n",
       "       'schlager', 'self', 'sertanejo', 'shoegazing', 'showtunes',\n",
       "       'singer', 'ska', 'slow', 'smooth', 'soul', 'soulful', 'sound',\n",
       "       'soundtrack', 'southern', 'specialty', 'speech', 'spiritual',\n",
       "       'sport', 'stonerrock', 'surf', 'swing', 'synthpop',\n",
       "       'sängerportrait', 'tango', 'tanzorchester', 'taraftar', 'tech',\n",
       "       'techno', 'thrash', 'top', 'traditional', 'tradjazz', 'trance',\n",
       "       'tribal', 'trip', 'triphop', 'tropical', 'türk', 'türkçe',\n",
       "       'unknown', 'urban', 'uzbek', 'variété', 'vi', 'videogame', 'vocal',\n",
       "       'western', 'world', 'worldbeat', 'ïîï'], dtype=object)"
      ]
     },
     "execution_count": 17,
     "metadata": {},
     "output_type": "execute_result"
    }
   ],
   "source": [
    "# Implicit (Series): Check duplicate value\n",
    "df_clean['genre'].sort_values().unique()"
   ]
  },
  {
   "cell_type": "markdown",
   "id": "88c91ccf",
   "metadata": {},
   "source": [
    "Either explicit duplicates are corrected by removing duplicated rows or implicit ones are corrected by replacing the duplicated value with a string."
   ]
  },
  {
   "cell_type": "markdown",
   "id": "8cf5b773",
   "metadata": {},
   "source": [
    "**Tentative conclusions**\n",
    "\n",
    "*Findings*:\n",
    "\n",
    "- The title writing style using *snake case* is changed to *lower case*, spaces are also removed,\n",
    "- All missing values have been replaced with `'unknown'`,\n",
    "- Fixed explicit and implicit duplicates."
   ]
  },
  {
   "cell_type": "markdown",
   "id": "1f705950",
   "metadata": {},
   "source": [
    "## Hypothesis Test <a id=\"test\"></a>"
   ]
  },
  {
   "cell_type": "markdown",
   "id": "30ed8e22",
   "metadata": {},
   "source": [
    "### Hypothesis 1: comparing user behavior in two cities <a id=\"1\"></a>"
   ]
  },
  {
   "cell_type": "markdown",
   "id": "903f2493",
   "metadata": {},
   "source": [
    "Based on the first hypothesis, the user from Springfield and Shelbyville have two different behaviour when they listen to music. This test will take from the data on Monday, Wednesday, and Friday."
   ]
  },
  {
   "cell_type": "code",
   "execution_count": 18,
   "id": "da1801cc",
   "metadata": {},
   "outputs": [
    {
     "name": "stdout",
     "output_type": "stream",
     "text": [
      "city\n",
      "Shelbyville    18512\n",
      "Springfield    42741\n",
      "Name: track, dtype: int64\n"
     ]
    }
   ],
   "source": [
    "# Count every music play at each city\n",
    "df_test = df_clean\n",
    "print(df_test.groupby('city')['track'].count())"
   ]
  },
  {
   "cell_type": "markdown",
   "id": "9b3ac92b",
   "metadata": {},
   "source": [
    "Springfield has more songs playing than Shelbyville. But that doesn't mean Springfield residents listen to music more often. The city is bigger, and has more users."
   ]
  },
  {
   "cell_type": "code",
   "execution_count": 19,
   "id": "3b6005b5",
   "metadata": {},
   "outputs": [
    {
     "name": "stdout",
     "output_type": "stream",
     "text": [
      "day\n",
      "Friday       21840\n",
      "Monday       21354\n",
      "Wednesday    18059\n",
      "Name: track, dtype: int64\n"
     ]
    }
   ],
   "source": [
    "# Count the track that play on each day \n",
    "print(df_test.groupby('day')['track'].count())"
   ]
  },
  {
   "cell_type": "markdown",
   "id": "ef6315f6",
   "metadata": {},
   "source": [
    "Wednesday is the quietest day overall. But if consider two cities separately, maybe it might come to a different conclusion."
   ]
  },
  {
   "cell_type": "code",
   "execution_count": 26,
   "id": "b1949ed2",
   "metadata": {},
   "outputs": [],
   "source": [
    "# Function to Count every music play at each city and day\n",
    "'''\n",
    "Definisi:\n",
    "-----------\n",
    "    Function to Count every music play at each city and day\n",
    "-----------\n",
    "    day:\n",
    "        desired day\n",
    "    city:\n",
    "        desired city\n",
    "'''\n",
    "def number_tracks(day,city):\n",
    "    \n",
    "    track_list = df_test[(df_test['day'] == day) & (df_test['city'] == city)]['user_id']\n",
    "    track_list_count = track_list.count()\n",
    "    \n",
    "    return print(track_list_count)"
   ]
  },
  {
   "cell_type": "markdown",
   "id": "c435ed30",
   "metadata": {},
   "source": [
    "Use the function six times and replace the parameter, so that it can retrive data in the two cities for each of those day."
   ]
  },
  {
   "cell_type": "code",
   "execution_count": 21,
   "id": "0365488e",
   "metadata": {},
   "outputs": [
    {
     "name": "stdout",
     "output_type": "stream",
     "text": [
      "15740\n"
     ]
    }
   ],
   "source": [
    "# Total music played in Springfield at Monday\n",
    "number_tracks ('Monday', 'Springfield')"
   ]
  },
  {
   "cell_type": "code",
   "execution_count": 22,
   "id": "e38048f8",
   "metadata": {},
   "outputs": [
    {
     "name": "stdout",
     "output_type": "stream",
     "text": [
      "5614\n"
     ]
    }
   ],
   "source": [
    "# Total music played in Shelbyville at Monday\n",
    "number_tracks ('Monday','Shelbyville')"
   ]
  },
  {
   "cell_type": "code",
   "execution_count": 23,
   "id": "fa5dff88",
   "metadata": {},
   "outputs": [
    {
     "name": "stdout",
     "output_type": "stream",
     "text": [
      "11056\n"
     ]
    }
   ],
   "source": [
    "# Total music played in Springfield at Monday\n",
    "number_tracks ('Wednesday','Springfield')"
   ]
  },
  {
   "cell_type": "code",
   "execution_count": 24,
   "id": "def222bb",
   "metadata": {},
   "outputs": [
    {
     "name": "stdout",
     "output_type": "stream",
     "text": [
      "7003\n"
     ]
    }
   ],
   "source": [
    "# Total music played in Shelbyville at Monday\n",
    "number_tracks ('Wednesday','Shelbyville')"
   ]
  },
  {
   "cell_type": "code",
   "execution_count": 25,
   "id": "2f014c81",
   "metadata": {},
   "outputs": [
    {
     "name": "stdout",
     "output_type": "stream",
     "text": [
      "15945\n"
     ]
    }
   ],
   "source": [
    "# Total music played in Springfield at Monday\n",
    "number_tracks ('Friday','Springfield')"
   ]
  },
  {
   "cell_type": "code",
   "execution_count": 26,
   "id": "a3694741",
   "metadata": {},
   "outputs": [
    {
     "name": "stdout",
     "output_type": "stream",
     "text": [
      "5895\n"
     ]
    }
   ],
   "source": [
    "# Total music played in Shelbyville at Monday\n",
    "number_tracks ('Friday','Shelbyville')"
   ]
  },
  {
   "cell_type": "code",
   "execution_count": 27,
   "id": "c2967fae",
   "metadata": {},
   "outputs": [
    {
     "name": "stdout",
     "output_type": "stream",
     "text": [
      "          city  monday  wednesday  friday\n",
      "0  Springfield   15740      11056   15945\n",
      "1  Shelbyville    5614       7003    5895\n"
     ]
    }
   ],
   "source": [
    "# Table with result\n",
    "new_data = [['Springfield', 15740, 11056, 15945],\n",
    "           ['Shelbyville', 5614, 7003, 5895]]\n",
    "\n",
    "column_names = ['city', 'monday', 'wednesday', 'friday']\n",
    "\n",
    "table = pd.DataFrame (data = new_data, columns = column_names)\n",
    "print(table)"
   ]
  },
  {
   "cell_type": "markdown",
   "id": "46412f04",
   "metadata": {},
   "source": [
    "**Tentative conclusions**\n",
    "\n",
    "*Findings*:\n",
    "\n",
    "1. In Springfield, the number of songs played peaked on Monday and Friday, while on Wednesday there was a decrease in activity.\n",
    "2. In Shelbyville, on the other hand, users listen to more music on Wednesdays. Less user activity on Mondays and Fridays."
   ]
  },
  {
   "cell_type": "markdown",
   "id": "8b197323",
   "metadata": {},
   "source": [
    "### Hypothesis 2: music at the beginning and end of the week <a id=\"2\"></a>"
   ]
  },
  {
   "cell_type": "markdown",
   "id": "3630a2bf",
   "metadata": {},
   "source": [
    "Based on the second hypothesis, on Monday morning and Friday night, the user from Springfield listened to different genres compared to the Shelbyville user."
   ]
  },
  {
   "cell_type": "code",
   "execution_count": 28,
   "id": "b06c6582",
   "metadata": {},
   "outputs": [],
   "source": [
    "# Data Frame that contain Springfield only\n",
    "spr_general = df_test[df_test['city']=='Springfield']"
   ]
  },
  {
   "cell_type": "code",
   "execution_count": 29,
   "id": "d933ca97",
   "metadata": {},
   "outputs": [],
   "source": [
    "# Data Frame that contain Shelbyville only\n",
    "shel_general = df_test[df_test['city']=='Shelbyville']"
   ]
  },
  {
   "cell_type": "code",
   "execution_count": 27,
   "id": "10f0a28b",
   "metadata": {},
   "outputs": [],
   "source": [
    "# Function that filter 15 popular genre at given time\n",
    "'''\n",
    "Definisi:\n",
    "-----------\n",
    "    Function that filter 15 popular genre at given time\n",
    "-----------\n",
    "    df1:\n",
    "        desired dataset\n",
    "    day:\n",
    "        desired day\n",
    "    time1:\n",
    "        desired start time\n",
    "    time2:\n",
    "        desired end time\n",
    "'''\n",
    "def genre_weekday(df1, day, time1, time2):\n",
    "\n",
    "    genre_df = df1[df1['day']==day]\n",
    "    genre_df = genre_df[genre_df['time'] < time2]\n",
    "    genre_df = genre_df[genre_df['time'] > time1]\n",
    "\n",
    "    genre_df_grouped = genre_df.groupby('genre')['genre'].count()\n",
    "\n",
    "    genre_df_sorted = genre_df_grouped.sort_values(ascending = False)\n",
    "\n",
    "    return genre_df_sorted[:15]"
   ]
  },
  {
   "cell_type": "markdown",
   "id": "36f85cf0",
   "metadata": {},
   "source": [
    "Compare results from the function genre_weekday() for Springfield and Shelbyville on Monday morning (from 07:00 to 11:00) and on Friday night (from 17:00 to 23:00)"
   ]
  },
  {
   "cell_type": "code",
   "execution_count": 31,
   "id": "6d1d1deb",
   "metadata": {},
   "outputs": [
    {
     "data": {
      "text/plain": [
       "genre\n",
       "pop            781\n",
       "dance          549\n",
       "electronic     480\n",
       "rock           474\n",
       "hiphop         286\n",
       "ruspop         186\n",
       "world          181\n",
       "rusrap         175\n",
       "alternative    164\n",
       "unknown        161\n",
       "classical      157\n",
       "metal          120\n",
       "jazz           100\n",
       "folk            97\n",
       "soundtrack      95\n",
       "Name: genre, dtype: int64"
      ]
     },
     "execution_count": 31,
     "metadata": {},
     "output_type": "execute_result"
    }
   ],
   "source": [
    "# Music play at monday morning from 07:00 to 11:00 in Springfield\n",
    "genre_weekday(spr_general, 'Monday', '07:00', '11:00')"
   ]
  },
  {
   "cell_type": "code",
   "execution_count": 32,
   "id": "9b70a361",
   "metadata": {},
   "outputs": [
    {
     "data": {
      "text/plain": [
       "genre\n",
       "pop            218\n",
       "dance          182\n",
       "rock           162\n",
       "electronic     147\n",
       "hiphop          80\n",
       "ruspop          64\n",
       "alternative     58\n",
       "rusrap          55\n",
       "jazz            44\n",
       "classical       40\n",
       "world           36\n",
       "rap             32\n",
       "soundtrack      31\n",
       "rnb             27\n",
       "metal           27\n",
       "Name: genre, dtype: int64"
      ]
     },
     "execution_count": 32,
     "metadata": {},
     "output_type": "execute_result"
    }
   ],
   "source": [
    "# Music play at monday morning from 07:00 to 11:00 in Shelbyville\n",
    "genre_weekday(shel_general, 'Monday', '07:00', '11:00')"
   ]
  },
  {
   "cell_type": "code",
   "execution_count": 33,
   "id": "a2c023b5",
   "metadata": {},
   "outputs": [
    {
     "data": {
      "text/plain": [
       "genre\n",
       "pop            713\n",
       "rock           517\n",
       "dance          495\n",
       "electronic     482\n",
       "hiphop         273\n",
       "world          208\n",
       "ruspop         170\n",
       "classical      163\n",
       "alternative    163\n",
       "rusrap         142\n",
       "jazz           111\n",
       "unknown        110\n",
       "soundtrack     105\n",
       "rnb             90\n",
       "metal           88\n",
       "Name: genre, dtype: int64"
      ]
     },
     "execution_count": 33,
     "metadata": {},
     "output_type": "execute_result"
    }
   ],
   "source": [
    "# Music play at monday morning from 07:00 to 11:00 in Springfield\n",
    "genre_weekday(spr_general, 'Friday', '17:00', '23:00')"
   ]
  },
  {
   "cell_type": "code",
   "execution_count": 34,
   "id": "bbe7b64b",
   "metadata": {},
   "outputs": [
    {
     "data": {
      "text/plain": [
       "genre\n",
       "pop            256\n",
       "rock           216\n",
       "electronic     216\n",
       "dance          210\n",
       "hiphop          97\n",
       "alternative     63\n",
       "jazz            61\n",
       "classical       60\n",
       "rusrap          59\n",
       "world           54\n",
       "unknown         47\n",
       "ruspop          47\n",
       "soundtrack      40\n",
       "metal           39\n",
       "rap             36\n",
       "Name: genre, dtype: int64"
      ]
     },
     "execution_count": 34,
     "metadata": {},
     "output_type": "execute_result"
    }
   ],
   "source": [
    "# Music play at monday morning from 07:00 to 11:00 in Shelbyville\n",
    "genre_weekday(shel_general, 'Friday', '17:00', '23:00')"
   ]
  },
  {
   "cell_type": "markdown",
   "id": "aa1a2d4d",
   "metadata": {},
   "source": [
    "**Tentative conclusions**\n",
    "\n",
    "*Findings*:\n",
    "\n",
    "After comparing the top 15 genres on Monday morning, the data came to the following conclusions:\n",
    "\n",
    "1. Users from Springfield and Shelbyville listen to music of the same genre. The top five genres are the same, only rock and electronic have switched places.\n",
    "\n",
    "2. In Springfield, the number of missing values was so large that the value `'unknown'` was 10th. This means that the missing values contain a sizable amount of data, which may be grounds for questioning the precision of our conclusions.\n",
    "\n",
    "For Friday night, the situation is similar. Individual genres vary quite a bit, but overall, the top 15 genres for both cities are the same.\n",
    "\n",
    "*Insights*:\n",
    "\n",
    "Thus, the second hypothesis is partially proven correct:\n",
    "\n",
    "1. Users listen to the same music at the beginning and end of the week.\n",
    "2. There is no significant difference between Springfield and Shelbyville. In both cities, pop is the most popular genre.\n",
    "\n",
    "However, the number of missing values makes this result questionable. In Springfield, there's so much that influences the top 15. If you don't ignore these values, the results might be different."
   ]
  },
  {
   "cell_type": "markdown",
   "id": "d608b8fb",
   "metadata": {},
   "source": [
    "### Hypothesis 3: genre preferences in springfield and shelbyville <a id=\"3\"></a>"
   ]
  },
  {
   "cell_type": "markdown",
   "id": "b0da6fa0",
   "metadata": {},
   "source": [
    "Shelbyville users like rap music. Springfield users are more like pop music."
   ]
  },
  {
   "cell_type": "code",
   "execution_count": 35,
   "id": "e52415bc",
   "metadata": {},
   "outputs": [],
   "source": [
    "# Group the dataframe at Springfield by column genre and count the total\n",
    "new = spr_general.groupby('genre')['genre'].count()\n",
    "spr_genres = new.sort_values(ascending=False)"
   ]
  },
  {
   "cell_type": "code",
   "execution_count": 36,
   "id": "014bc6d5",
   "metadata": {},
   "outputs": [
    {
     "data": {
      "text/plain": [
       "genre\n",
       "pop            5892\n",
       "dance          4435\n",
       "rock           3965\n",
       "electronic     3786\n",
       "hiphop         2096\n",
       "classical      1616\n",
       "world          1432\n",
       "alternative    1379\n",
       "ruspop         1372\n",
       "rusrap         1161\n",
       "Name: genre, dtype: int64"
      ]
     },
     "execution_count": 36,
     "metadata": {},
     "output_type": "execute_result"
    }
   ],
   "source": [
    "# First 10 row on spr_genres\n",
    "spr_genres.head(10)"
   ]
  },
  {
   "cell_type": "code",
   "execution_count": 37,
   "id": "eb8bed11",
   "metadata": {},
   "outputs": [],
   "source": [
    "# Group the data frame at Shelbyville by column genre and count the total\n",
    "new1 = shel_general.groupby('genre')['genre'].count()\n",
    "shel_genres = new1.sort_values(ascending=False)"
   ]
  },
  {
   "cell_type": "code",
   "execution_count": 38,
   "id": "134d1444",
   "metadata": {},
   "outputs": [
    {
     "data": {
      "text/plain": [
       "genre\n",
       "pop            2431\n",
       "dance          1932\n",
       "rock           1879\n",
       "electronic     1736\n",
       "hiphop          960\n",
       "alternative     649\n",
       "classical       646\n",
       "rusrap          564\n",
       "ruspop          538\n",
       "world           515\n",
       "Name: genre, dtype: int64"
      ]
     },
     "execution_count": 38,
     "metadata": {},
     "output_type": "execute_result"
    }
   ],
   "source": [
    "# First 10 row on shel_genres\n",
    "shel_genres.head(10)"
   ]
  },
  {
   "cell_type": "markdown",
   "id": "ea480fd8",
   "metadata": {},
   "source": [
    "**Tentative conclusions**\n",
    "\n",
    "*Findings*:\n",
    "\n",
    "The hypothesis is partially proven,\n",
    "\n",
    "1. Pop music is the most popular genre in Springfield, as one would expect.\n",
    "2. However, pop music turned out to be equally popular in both Springfield and Shelbyville, and rap music was not in the top 5 for either city."
   ]
  },
  {
   "cell_type": "markdown",
   "id": "54ba3bae",
   "metadata": {},
   "source": [
    "# General Conclusion <a id=\"conclusion\"></a>"
   ]
  },
  {
   "cell_type": "markdown",
   "id": "115b452b",
   "metadata": {},
   "source": [
    "After testing the hypothesis:\n",
    "    \n",
    "1. User activity is different on each depending on the day and city.\n",
    "2. On Monday morning, the citizen of Springfield and Shelbyville listen to different genres. It also happens on Friday night. \n",
    "3. Users from Springfield and Shelbyville have different preferences. In Springfield, they prefer pop music, while in Shelbyville, rap music has a lot of fans.\n",
    "    \n",
    "After analysing the data, the conclusion:\n",
    "\n",
    "1. User activity in Springfield and Shelbyville depends on the day, even though the city is different. \n",
    "       \n",
    "The first hypothesis is fully accepted.\n",
    "       \n",
    "2. Music preferences are not that significant on every week in Springfield and Shelbyville. There is a little different order on Monday, but: both in Springfield and Shelbyville, the citizen at most listen to pop music. \n",
    "       \n",
    "So this hypothesis cannot be accepted. It should be borne in mind that the results might have been different was it not for the missing values.\n",
    "       \n",
    "3. It turns out that the user music preferences in Springfield and Shelbyville are very similar.\n",
    "\n",
    "The third hypothesis is rejected. If there really is a difference in preference, it cannot be seen from this data."
   ]
  }
 ],
 "metadata": {
  "kernelspec": {
   "display_name": "Python 3 (ipykernel)",
   "language": "python",
   "name": "python3"
  },
  "language_info": {
   "codemirror_mode": {
    "name": "ipython",
    "version": 3
   },
   "file_extension": ".py",
   "mimetype": "text/x-python",
   "name": "python",
   "nbconvert_exporter": "python",
   "pygments_lexer": "ipython3",
   "version": "3.9.13"
  },
  "toc-autonumbering": true,
  "toc-showcode": true,
  "toc-showmarkdowntxt": true
 },
 "nbformat": 4,
 "nbformat_minor": 5
}
