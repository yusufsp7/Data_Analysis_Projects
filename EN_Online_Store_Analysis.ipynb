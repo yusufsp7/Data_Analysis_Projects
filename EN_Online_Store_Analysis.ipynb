{
 "cells": [
  {
   "cell_type": "markdown",
   "metadata": {
    "lang": "en"
   },
   "source": [
    "# Online Store Analysis"
   ]
  },
  {
   "cell_type": "markdown",
   "metadata": {
    "lang": "en"
   },
   "source": [
    "You are an analyst in a large online store. You and your marketing team have compiled a list of hypotheses to help increase revenue.\n",
    "\n",
    "<b>Objective:</b>\n",
    "   1. Prioritize hypotheses, run *A/B testing*, and analyze the results.\n",
    "\n",
    "<b>Stages:</b><a id='back'></a>\n",
    "\n",
    "1. [Data Overview](#Start)\n",
    "    - [hypotheses_us dataset](#first)\n",
    "    - [orders_us dataset](#second)\n",
    "    - [visits_us dataset](#third)\n",
    "2. [Data Pre-processing](#Pre-processing)\n",
    "    - [df_hyp dataset](#first1)\n",
    "    - [df_orders dataset](#second2)\n",
    "3. [*Exploratory Data Analysis*](#EDA)\n",
    "    - [Prioritizing the hypothesis](#1)\n",
    "    - [A/B testing analysis](#2)\n",
    "        - [Dataset preparation](#2.1)\n",
    "        - [Cumulative metric stability analysis process](#2.2)\n",
    "        - [Analyze and fix outliers](#2.3)\n",
    "4. [Hypothesis Test](#Test)\n",
    "    - [Statistical significance of conversion differences between groups (raw data)](#h1)\n",
    "    - [Statistical significance of difference in mean order size between groups (raw data)](#h2)\n",
    "    - [Statistical significance of conversion differences between groups (filtered data)](#h3)\n",
    "    - [Statistical significance of difference in mean order size between groups (filtered data)](#h4)\n",
    "5. [General Conclusion](#Conclusion)"
   ]
  },
  {
   "cell_type": "markdown",
   "metadata": {},
   "source": [
    "## Data Overview <a id=\"Start\"></a>"
   ]
  },
  {
   "cell_type": "code",
   "execution_count": 1,
   "metadata": {
    "lang": "id"
   },
   "outputs": [],
   "source": [
    "# Load all libraries\n",
    "import pandas as pd\n",
    "import numpy as np\n",
    "import datetime as dt\n",
    "import matplotlib.pyplot as plt\n",
    "import seaborn as sns\n",
    "import scipy.stats as st"
   ]
  },
  {
   "cell_type": "markdown",
   "metadata": {},
   "source": [
    "### hypotheses_us dataset <a id=\"first\"></a>"
   ]
  },
  {
   "cell_type": "code",
   "execution_count": 2,
   "metadata": {
    "lang": "id"
   },
   "outputs": [],
   "source": [
    "# Dataset\n",
    "df_hyp = pd.read_csv('Y:\\\\Online Course\\\\Practicum\\\\Jupyter Notebook\\\\8 Project\\\\hypotheses_us.csv', sep=';')"
   ]
  },
  {
   "cell_type": "code",
   "execution_count": 3,
   "metadata": {
    "lang": "id"
   },
   "outputs": [
    {
     "name": "stdout",
     "output_type": "stream",
     "text": [
      "<class 'pandas.core.frame.DataFrame'>\n",
      "RangeIndex: 9 entries, 0 to 8\n",
      "Data columns (total 5 columns):\n",
      " #   Column      Non-Null Count  Dtype \n",
      "---  ------      --------------  ----- \n",
      " 0   Hypothesis  9 non-null      object\n",
      " 1   Reach       9 non-null      int64 \n",
      " 2   Impact      9 non-null      int64 \n",
      " 3   Confidence  9 non-null      int64 \n",
      " 4   Effort      9 non-null      int64 \n",
      "dtypes: int64(4), object(1)\n",
      "memory usage: 488.0+ bytes\n"
     ]
    }
   ],
   "source": [
    "# General information\n",
    "df_hyp.info()"
   ]
  },
  {
   "cell_type": "code",
   "execution_count": 4,
   "metadata": {
    "lang": "id"
   },
   "outputs": [
    {
     "data": {
      "text/plain": [
       "(9, 5)"
      ]
     },
     "execution_count": 4,
     "metadata": {},
     "output_type": "execute_result"
    }
   ],
   "source": [
    "# Dataset size\n",
    "df_hyp.shape"
   ]
  },
  {
   "cell_type": "code",
   "execution_count": 5,
   "metadata": {},
   "outputs": [
    {
     "data": {
      "text/html": [
       "<div>\n",
       "<style scoped>\n",
       "    .dataframe tbody tr th:only-of-type {\n",
       "        vertical-align: middle;\n",
       "    }\n",
       "\n",
       "    .dataframe tbody tr th {\n",
       "        vertical-align: top;\n",
       "    }\n",
       "\n",
       "    .dataframe thead th {\n",
       "        text-align: right;\n",
       "    }\n",
       "</style>\n",
       "<table border=\"1\" class=\"dataframe\">\n",
       "  <thead>\n",
       "    <tr style=\"text-align: right;\">\n",
       "      <th></th>\n",
       "      <th>Hypothesis</th>\n",
       "      <th>Reach</th>\n",
       "      <th>Impact</th>\n",
       "      <th>Confidence</th>\n",
       "      <th>Effort</th>\n",
       "    </tr>\n",
       "  </thead>\n",
       "  <tbody>\n",
       "    <tr>\n",
       "      <th>0</th>\n",
       "      <td>Add two new channels for attracting traffic. T...</td>\n",
       "      <td>3</td>\n",
       "      <td>10</td>\n",
       "      <td>8</td>\n",
       "      <td>6</td>\n",
       "    </tr>\n",
       "    <tr>\n",
       "      <th>1</th>\n",
       "      <td>Launch your own delivery service. This will sh...</td>\n",
       "      <td>2</td>\n",
       "      <td>5</td>\n",
       "      <td>4</td>\n",
       "      <td>10</td>\n",
       "    </tr>\n",
       "    <tr>\n",
       "      <th>2</th>\n",
       "      <td>Add product recommendation blocks to the store...</td>\n",
       "      <td>8</td>\n",
       "      <td>3</td>\n",
       "      <td>7</td>\n",
       "      <td>3</td>\n",
       "    </tr>\n",
       "    <tr>\n",
       "      <th>3</th>\n",
       "      <td>Change the category structure. This will incre...</td>\n",
       "      <td>8</td>\n",
       "      <td>3</td>\n",
       "      <td>3</td>\n",
       "      <td>8</td>\n",
       "    </tr>\n",
       "    <tr>\n",
       "      <th>4</th>\n",
       "      <td>Change the background color on the main page. ...</td>\n",
       "      <td>3</td>\n",
       "      <td>1</td>\n",
       "      <td>1</td>\n",
       "      <td>1</td>\n",
       "    </tr>\n",
       "  </tbody>\n",
       "</table>\n",
       "</div>"
      ],
      "text/plain": [
       "                                          Hypothesis  Reach  Impact  \\\n",
       "0  Add two new channels for attracting traffic. T...      3      10   \n",
       "1  Launch your own delivery service. This will sh...      2       5   \n",
       "2  Add product recommendation blocks to the store...      8       3   \n",
       "3  Change the category structure. This will incre...      8       3   \n",
       "4  Change the background color on the main page. ...      3       1   \n",
       "\n",
       "   Confidence  Effort  \n",
       "0           8       6  \n",
       "1           4      10  \n",
       "2           7       3  \n",
       "3           3       8  \n",
       "4           1       1  "
      ]
     },
     "execution_count": 5,
     "metadata": {},
     "output_type": "execute_result"
    }
   ],
   "source": [
    "# Sample data\n",
    "df_hyp.head()"
   ]
  },
  {
   "cell_type": "markdown",
   "metadata": {
    "lang": "en"
   },
   "source": [
    "Documentation:\n",
    "- `Hypotheses`  - a brief description of the hypothesis\n",
    "- `Reach` - user's range, on a scale of one to ten\n",
    "- `Impact`  - the impact on users, on a scale of one to ten\n",
    "- `Confidence` - belief in a hypothesis, on a scale of one to ten\n",
    "- `Effort` - the resources needed to test a hypothesis, on a scale of one to ten. The higher the `Effort` value, the more resource intensive the test is."
   ]
  },
  {
   "cell_type": "code",
   "execution_count": 6,
   "metadata": {
    "lang": "id"
   },
   "outputs": [
    {
     "data": {
      "text/plain": [
       "0"
      ]
     },
     "execution_count": 6,
     "metadata": {},
     "output_type": "execute_result"
    }
   ],
   "source": [
    "# Checking for duplicates\n",
    "df_hyp.duplicated().sum()"
   ]
  },
  {
   "cell_type": "markdown",
   "metadata": {
    "lang": "en"
   },
   "source": [
    "The column names in this dataset need to be changed to *lower case*."
   ]
  },
  {
   "cell_type": "markdown",
   "metadata": {},
   "source": [
    "[Back to stages](#back)"
   ]
  },
  {
   "cell_type": "markdown",
   "metadata": {},
   "source": [
    "### orders_us dataset <a id=\"second\"></a>"
   ]
  },
  {
   "cell_type": "code",
   "execution_count": 7,
   "metadata": {},
   "outputs": [],
   "source": [
    "# Dataset\n",
    "df_orders = pd.read_csv(\n",
    "    'Y:\\\\Online Course\\\\Practicum\\\\Jupyter Notebook\\\\8 Project\\\\orders_us.csv',\n",
    "    parse_dates=['date']\n",
    ")"
   ]
  },
  {
   "cell_type": "code",
   "execution_count": 8,
   "metadata": {
    "lang": "id"
   },
   "outputs": [
    {
     "name": "stdout",
     "output_type": "stream",
     "text": [
      "<class 'pandas.core.frame.DataFrame'>\n",
      "RangeIndex: 1197 entries, 0 to 1196\n",
      "Data columns (total 5 columns):\n",
      " #   Column         Non-Null Count  Dtype         \n",
      "---  ------         --------------  -----         \n",
      " 0   transactionId  1197 non-null   int64         \n",
      " 1   visitorId      1197 non-null   int64         \n",
      " 2   date           1197 non-null   datetime64[ns]\n",
      " 3   revenue        1197 non-null   float64       \n",
      " 4   group          1197 non-null   object        \n",
      "dtypes: datetime64[ns](1), float64(1), int64(2), object(1)\n",
      "memory usage: 46.9+ KB\n"
     ]
    }
   ],
   "source": [
    "# General information\n",
    "df_orders.info()"
   ]
  },
  {
   "cell_type": "code",
   "execution_count": 9,
   "metadata": {
    "lang": "id"
   },
   "outputs": [
    {
     "data": {
      "text/plain": [
       "(1197, 5)"
      ]
     },
     "execution_count": 9,
     "metadata": {},
     "output_type": "execute_result"
    }
   ],
   "source": [
    "# Dataset size\n",
    "df_orders.shape"
   ]
  },
  {
   "cell_type": "code",
   "execution_count": 10,
   "metadata": {
    "lang": "id"
   },
   "outputs": [
    {
     "data": {
      "text/html": [
       "<div>\n",
       "<style scoped>\n",
       "    .dataframe tbody tr th:only-of-type {\n",
       "        vertical-align: middle;\n",
       "    }\n",
       "\n",
       "    .dataframe tbody tr th {\n",
       "        vertical-align: top;\n",
       "    }\n",
       "\n",
       "    .dataframe thead th {\n",
       "        text-align: right;\n",
       "    }\n",
       "</style>\n",
       "<table border=\"1\" class=\"dataframe\">\n",
       "  <thead>\n",
       "    <tr style=\"text-align: right;\">\n",
       "      <th></th>\n",
       "      <th>transactionId</th>\n",
       "      <th>visitorId</th>\n",
       "      <th>date</th>\n",
       "      <th>revenue</th>\n",
       "      <th>group</th>\n",
       "    </tr>\n",
       "  </thead>\n",
       "  <tbody>\n",
       "    <tr>\n",
       "      <th>0</th>\n",
       "      <td>3667963787</td>\n",
       "      <td>3312258926</td>\n",
       "      <td>2019-08-15</td>\n",
       "      <td>30.4</td>\n",
       "      <td>B</td>\n",
       "    </tr>\n",
       "    <tr>\n",
       "      <th>1</th>\n",
       "      <td>2804400009</td>\n",
       "      <td>3642806036</td>\n",
       "      <td>2019-08-15</td>\n",
       "      <td>15.2</td>\n",
       "      <td>B</td>\n",
       "    </tr>\n",
       "    <tr>\n",
       "      <th>2</th>\n",
       "      <td>2961555356</td>\n",
       "      <td>4069496402</td>\n",
       "      <td>2019-08-15</td>\n",
       "      <td>10.2</td>\n",
       "      <td>A</td>\n",
       "    </tr>\n",
       "    <tr>\n",
       "      <th>3</th>\n",
       "      <td>3797467345</td>\n",
       "      <td>1196621759</td>\n",
       "      <td>2019-08-15</td>\n",
       "      <td>155.1</td>\n",
       "      <td>B</td>\n",
       "    </tr>\n",
       "    <tr>\n",
       "      <th>4</th>\n",
       "      <td>2282983706</td>\n",
       "      <td>2322279887</td>\n",
       "      <td>2019-08-15</td>\n",
       "      <td>40.5</td>\n",
       "      <td>B</td>\n",
       "    </tr>\n",
       "  </tbody>\n",
       "</table>\n",
       "</div>"
      ],
      "text/plain": [
       "   transactionId   visitorId       date  revenue group\n",
       "0     3667963787  3312258926 2019-08-15     30.4     B\n",
       "1     2804400009  3642806036 2019-08-15     15.2     B\n",
       "2     2961555356  4069496402 2019-08-15     10.2     A\n",
       "3     3797467345  1196621759 2019-08-15    155.1     B\n",
       "4     2282983706  2322279887 2019-08-15     40.5     B"
      ]
     },
     "execution_count": 10,
     "metadata": {},
     "output_type": "execute_result"
    }
   ],
   "source": [
    "# Sample data\n",
    "df_orders.head()"
   ]
  },
  {
   "cell_type": "markdown",
   "metadata": {
    "lang": "en"
   },
   "source": [
    "Documentation:\n",
    "- `transactionId`  - order ID\n",
    "- `visitorId`  - ID of the user who made the order\n",
    "- `date` - the date the order was made\n",
    "- `revenue`  - income from orders\n",
    "- `group` - A/B test group (*test group*) to which the user belongs"
   ]
  },
  {
   "cell_type": "code",
   "execution_count": 11,
   "metadata": {
    "lang": "id"
   },
   "outputs": [
    {
     "data": {
      "text/plain": [
       "0"
      ]
     },
     "execution_count": 11,
     "metadata": {},
     "output_type": "execute_result"
    }
   ],
   "source": [
    "# Checking for duplicates\n",
    "df_orders.duplicated().sum()"
   ]
  },
  {
   "cell_type": "markdown",
   "metadata": {
    "lang": "en"
   },
   "source": [
    "The column names in this dataset also need to be changed to lower case."
   ]
  },
  {
   "cell_type": "markdown",
   "metadata": {},
   "source": [
    "[Back to stages](#back)"
   ]
  },
  {
   "cell_type": "markdown",
   "metadata": {},
   "source": [
    "### visits_us dataset <a id=\"third\"></a>"
   ]
  },
  {
   "cell_type": "code",
   "execution_count": 12,
   "metadata": {},
   "outputs": [],
   "source": [
    "# Dataset\n",
    "df_visits = pd.read_csv(\n",
    "    'Y:\\\\Online Course\\\\Practicum\\\\Jupyter Notebook\\\\8 Project\\\\visits_us.csv',\n",
    "    parse_dates=['date']\n",
    ")"
   ]
  },
  {
   "cell_type": "code",
   "execution_count": 13,
   "metadata": {
    "lang": "id"
   },
   "outputs": [
    {
     "name": "stdout",
     "output_type": "stream",
     "text": [
      "<class 'pandas.core.frame.DataFrame'>\n",
      "RangeIndex: 62 entries, 0 to 61\n",
      "Data columns (total 3 columns):\n",
      " #   Column  Non-Null Count  Dtype         \n",
      "---  ------  --------------  -----         \n",
      " 0   date    62 non-null     datetime64[ns]\n",
      " 1   group   62 non-null     object        \n",
      " 2   visits  62 non-null     int64         \n",
      "dtypes: datetime64[ns](1), int64(1), object(1)\n",
      "memory usage: 1.6+ KB\n"
     ]
    }
   ],
   "source": [
    "# General information\n",
    "df_visits.info()"
   ]
  },
  {
   "cell_type": "code",
   "execution_count": 14,
   "metadata": {
    "lang": "id"
   },
   "outputs": [
    {
     "data": {
      "text/plain": [
       "(62, 3)"
      ]
     },
     "execution_count": 14,
     "metadata": {},
     "output_type": "execute_result"
    }
   ],
   "source": [
    "# Dataset size\n",
    "df_visits.shape"
   ]
  },
  {
   "cell_type": "code",
   "execution_count": 15,
   "metadata": {},
   "outputs": [
    {
     "data": {
      "text/html": [
       "<div>\n",
       "<style scoped>\n",
       "    .dataframe tbody tr th:only-of-type {\n",
       "        vertical-align: middle;\n",
       "    }\n",
       "\n",
       "    .dataframe tbody tr th {\n",
       "        vertical-align: top;\n",
       "    }\n",
       "\n",
       "    .dataframe thead th {\n",
       "        text-align: right;\n",
       "    }\n",
       "</style>\n",
       "<table border=\"1\" class=\"dataframe\">\n",
       "  <thead>\n",
       "    <tr style=\"text-align: right;\">\n",
       "      <th></th>\n",
       "      <th>date</th>\n",
       "      <th>group</th>\n",
       "      <th>visits</th>\n",
       "    </tr>\n",
       "  </thead>\n",
       "  <tbody>\n",
       "    <tr>\n",
       "      <th>0</th>\n",
       "      <td>2019-08-01</td>\n",
       "      <td>A</td>\n",
       "      <td>719</td>\n",
       "    </tr>\n",
       "    <tr>\n",
       "      <th>1</th>\n",
       "      <td>2019-08-02</td>\n",
       "      <td>A</td>\n",
       "      <td>619</td>\n",
       "    </tr>\n",
       "    <tr>\n",
       "      <th>2</th>\n",
       "      <td>2019-08-03</td>\n",
       "      <td>A</td>\n",
       "      <td>507</td>\n",
       "    </tr>\n",
       "    <tr>\n",
       "      <th>3</th>\n",
       "      <td>2019-08-04</td>\n",
       "      <td>A</td>\n",
       "      <td>717</td>\n",
       "    </tr>\n",
       "    <tr>\n",
       "      <th>4</th>\n",
       "      <td>2019-08-05</td>\n",
       "      <td>A</td>\n",
       "      <td>756</td>\n",
       "    </tr>\n",
       "  </tbody>\n",
       "</table>\n",
       "</div>"
      ],
      "text/plain": [
       "        date group  visits\n",
       "0 2019-08-01     A     719\n",
       "1 2019-08-02     A     619\n",
       "2 2019-08-03     A     507\n",
       "3 2019-08-04     A     717\n",
       "4 2019-08-05     A     756"
      ]
     },
     "execution_count": 15,
     "metadata": {},
     "output_type": "execute_result"
    }
   ],
   "source": [
    "# Sample data\n",
    "df_visits.head()"
   ]
  },
  {
   "cell_type": "markdown",
   "metadata": {
    "lang": "en"
   },
   "source": [
    "Documentation:\n",
    "- `date` - date of visit\n",
    "- `group`  - test group (*test group*) A/B\n",
    "- `visits` - the number of visits on the specified date for the specified A/B test group"
   ]
  },
  {
   "cell_type": "code",
   "execution_count": 16,
   "metadata": {
    "lang": "id"
   },
   "outputs": [
    {
     "data": {
      "text/plain": [
       "0"
      ]
     },
     "execution_count": 16,
     "metadata": {},
     "output_type": "execute_result"
    }
   ],
   "source": [
    "# Checking for duplicates\n",
    "df_visits.duplicated().sum()"
   ]
  },
  {
   "cell_type": "markdown",
   "metadata": {
    "lang": "en"
   },
   "source": [
    "This dataset looks good and doesn't need any fixing."
   ]
  },
  {
   "cell_type": "markdown",
   "metadata": {
    "lang": "en"
   },
   "source": [
    "**Tentative conclusion**\n",
    "\n",
    "1. df_hyp and df_orders, column names that use *camel case* in the dataset need to be changed to *snake case*.\n",
    "2. df_visits does not require fixing."
   ]
  },
  {
   "cell_type": "markdown",
   "metadata": {},
   "source": [
    "[Back to stages](#back)"
   ]
  },
  {
   "cell_type": "markdown",
   "metadata": {},
   "source": [
    "## Data Pre-processing <a id=\"Pre-processing\"></a>"
   ]
  },
  {
   "cell_type": "markdown",
   "metadata": {},
   "source": [
    "### df_hyp dataset <a id=\"first1\"></a>"
   ]
  },
  {
   "cell_type": "code",
   "execution_count": 17,
   "metadata": {
    "lang": "id"
   },
   "outputs": [
    {
     "data": {
      "text/plain": [
       "Index(['Hypothesis', 'Reach', 'Impact', 'Confidence', 'Effort'], dtype='object')"
      ]
     },
     "execution_count": 17,
     "metadata": {},
     "output_type": "execute_result"
    }
   ],
   "source": [
    "# Check dataset column\n",
    "df_hyp.columns"
   ]
  },
  {
   "cell_type": "code",
   "execution_count": 18,
   "metadata": {
    "lang": "id"
   },
   "outputs": [],
   "source": [
    "# Fixed column names\n",
    "df_hyp.columns = df_hyp.columns.str.lower()"
   ]
  },
  {
   "cell_type": "code",
   "execution_count": 19,
   "metadata": {
    "lang": "id"
   },
   "outputs": [
    {
     "data": {
      "text/plain": [
       "Index(['hypothesis', 'reach', 'impact', 'confidence', 'effort'], dtype='object')"
      ]
     },
     "execution_count": 19,
     "metadata": {},
     "output_type": "execute_result"
    }
   ],
   "source": [
    "# Checking the result\n",
    "df_hyp.columns"
   ]
  },
  {
   "cell_type": "markdown",
   "metadata": {
    "lang": "en"
   },
   "source": [
    "Dataset successfully repaired."
   ]
  },
  {
   "cell_type": "markdown",
   "metadata": {},
   "source": [
    "### df_orders dataset <a id=\"second2\"></a>"
   ]
  },
  {
   "cell_type": "code",
   "execution_count": 20,
   "metadata": {
    "lang": "id"
   },
   "outputs": [
    {
     "data": {
      "text/plain": [
       "Index(['transactionId', 'visitorId', 'date', 'revenue', 'group'], dtype='object')"
      ]
     },
     "execution_count": 20,
     "metadata": {},
     "output_type": "execute_result"
    }
   ],
   "source": [
    "# Check dataset column\n",
    "df_orders.columns"
   ]
  },
  {
   "cell_type": "code",
   "execution_count": 21,
   "metadata": {},
   "outputs": [],
   "source": [
    "# Fixed column names\n",
    "df_orders.columns = df_orders.columns.str.lower()"
   ]
  },
  {
   "cell_type": "code",
   "execution_count": 22,
   "metadata": {},
   "outputs": [
    {
     "data": {
      "text/plain": [
       "Index(['transactionid', 'visitorid', 'date', 'revenue', 'group'], dtype='object')"
      ]
     },
     "execution_count": 22,
     "metadata": {},
     "output_type": "execute_result"
    }
   ],
   "source": [
    "# Checking the result\n",
    "df_orders.columns"
   ]
  },
  {
   "cell_type": "markdown",
   "metadata": {
    "lang": "en"
   },
   "source": [
    "Dataset successfully repaired."
   ]
  },
  {
   "cell_type": "markdown",
   "metadata": {
    "lang": "en"
   },
   "source": [
    "**Tentative conclusion**\n",
    "\n",
    "The database df_hyp and df_orders have been fixed from using column names *camel case* to *snake case*."
   ]
  },
  {
   "cell_type": "markdown",
   "metadata": {
    "lang": "id"
   },
   "source": [
    "[Back to stages](#back)"
   ]
  },
  {
   "cell_type": "markdown",
   "metadata": {},
   "source": [
    "## *Exploratory Data Analysis* <a id=\"EDA\"></a>"
   ]
  },
  {
   "cell_type": "markdown",
   "metadata": {},
   "source": [
    "### Prioritizing the hypothesis <a id=\"1\"></a>"
   ]
  },
  {
   "cell_type": "markdown",
   "metadata": {
    "lang": "en"
   },
   "source": [
    "The hypotheses_us.csv file contains nine hypotheses for increasing online store revenue with Reach, Impact, Confidence, and Effort predefined for each hypothesis."
   ]
  },
  {
   "cell_type": "markdown",
   "metadata": {
    "lang": "en"
   },
   "source": [
    "ICE: one of the most popular methods used to prioritize problems, consists of *Impact, Confidence, Effort*."
   ]
  },
  {
   "cell_type": "code",
   "execution_count": 23,
   "metadata": {
    "lang": "id"
   },
   "outputs": [],
   "source": [
    "# Calculate ICE\n",
    "df_hyp['ice'] =(\n",
    "    (df_hyp['impact']*df_hyp['confidence'])\n",
    "    /df_hyp['effort']\n",
    ").round(1)"
   ]
  },
  {
   "cell_type": "code",
   "execution_count": 24,
   "metadata": {
    "lang": "id"
   },
   "outputs": [
    {
     "data": {
      "text/html": [
       "<div>\n",
       "<style scoped>\n",
       "    .dataframe tbody tr th:only-of-type {\n",
       "        vertical-align: middle;\n",
       "    }\n",
       "\n",
       "    .dataframe tbody tr th {\n",
       "        vertical-align: top;\n",
       "    }\n",
       "\n",
       "    .dataframe thead th {\n",
       "        text-align: right;\n",
       "    }\n",
       "</style>\n",
       "<table border=\"1\" class=\"dataframe\">\n",
       "  <thead>\n",
       "    <tr style=\"text-align: right;\">\n",
       "      <th></th>\n",
       "      <th>hypothesis</th>\n",
       "      <th>ice</th>\n",
       "    </tr>\n",
       "  </thead>\n",
       "  <tbody>\n",
       "    <tr>\n",
       "      <th>8</th>\n",
       "      <td>Launch a promotion that gives users discounts ...</td>\n",
       "      <td>16.2</td>\n",
       "    </tr>\n",
       "    <tr>\n",
       "      <th>0</th>\n",
       "      <td>Add two new channels for attracting traffic. T...</td>\n",
       "      <td>13.3</td>\n",
       "    </tr>\n",
       "    <tr>\n",
       "      <th>7</th>\n",
       "      <td>Add a subscription form to all the main pages....</td>\n",
       "      <td>11.2</td>\n",
       "    </tr>\n",
       "    <tr>\n",
       "      <th>6</th>\n",
       "      <td>Show banners with current offers and sales on ...</td>\n",
       "      <td>8.0</td>\n",
       "    </tr>\n",
       "    <tr>\n",
       "      <th>2</th>\n",
       "      <td>Add product recommendation blocks to the store...</td>\n",
       "      <td>7.0</td>\n",
       "    </tr>\n",
       "    <tr>\n",
       "      <th>1</th>\n",
       "      <td>Launch your own delivery service. This will sh...</td>\n",
       "      <td>2.0</td>\n",
       "    </tr>\n",
       "    <tr>\n",
       "      <th>5</th>\n",
       "      <td>Add a customer review page. This will increase...</td>\n",
       "      <td>1.3</td>\n",
       "    </tr>\n",
       "    <tr>\n",
       "      <th>3</th>\n",
       "      <td>Change the category structure. This will incre...</td>\n",
       "      <td>1.1</td>\n",
       "    </tr>\n",
       "    <tr>\n",
       "      <th>4</th>\n",
       "      <td>Change the background color on the main page. ...</td>\n",
       "      <td>1.0</td>\n",
       "    </tr>\n",
       "  </tbody>\n",
       "</table>\n",
       "</div>"
      ],
      "text/plain": [
       "                                          hypothesis   ice\n",
       "8  Launch a promotion that gives users discounts ...  16.2\n",
       "0  Add two new channels for attracting traffic. T...  13.3\n",
       "7  Add a subscription form to all the main pages....  11.2\n",
       "6  Show banners with current offers and sales on ...   8.0\n",
       "2  Add product recommendation blocks to the store...   7.0\n",
       "1  Launch your own delivery service. This will sh...   2.0\n",
       "5  Add a customer review page. This will increase...   1.3\n",
       "3  Change the category structure. This will incre...   1.1\n",
       "4  Change the background color on the main page. ...   1.0"
      ]
     },
     "execution_count": 24,
     "metadata": {},
     "output_type": "execute_result"
    }
   ],
   "source": [
    "# Sorting the data\n",
    "ice = df_hyp[['hypothesis', 'ice']].sort_values(by='ice', ascending=False)\n",
    "\n",
    "# Displays the result\n",
    "ice"
   ]
  },
  {
   "cell_type": "markdown",
   "metadata": {
    "lang": "en"
   },
   "source": [
    "and there is also the RICE method,\n",
    "\n",
    "RICE: a modification of ICE, consisting of *Reach, Impact, Confidence, Effort*."
   ]
  },
  {
   "cell_type": "code",
   "execution_count": 25,
   "metadata": {},
   "outputs": [],
   "source": [
    "# Calculate RICE\n",
    "df_hyp['rice'] =(\n",
    "    (df_hyp['reach']*df_hyp['impact']*df_hyp['confidence'])\n",
    "    /df_hyp['effort']\n",
    ")"
   ]
  },
  {
   "cell_type": "code",
   "execution_count": 26,
   "metadata": {},
   "outputs": [
    {
     "data": {
      "text/html": [
       "<div>\n",
       "<style scoped>\n",
       "    .dataframe tbody tr th:only-of-type {\n",
       "        vertical-align: middle;\n",
       "    }\n",
       "\n",
       "    .dataframe tbody tr th {\n",
       "        vertical-align: top;\n",
       "    }\n",
       "\n",
       "    .dataframe thead th {\n",
       "        text-align: right;\n",
       "    }\n",
       "</style>\n",
       "<table border=\"1\" class=\"dataframe\">\n",
       "  <thead>\n",
       "    <tr style=\"text-align: right;\">\n",
       "      <th></th>\n",
       "      <th>hypothesis</th>\n",
       "      <th>rice</th>\n",
       "    </tr>\n",
       "  </thead>\n",
       "  <tbody>\n",
       "    <tr>\n",
       "      <th>7</th>\n",
       "      <td>Add a subscription form to all the main pages....</td>\n",
       "      <td>112.0</td>\n",
       "    </tr>\n",
       "    <tr>\n",
       "      <th>2</th>\n",
       "      <td>Add product recommendation blocks to the store...</td>\n",
       "      <td>56.0</td>\n",
       "    </tr>\n",
       "    <tr>\n",
       "      <th>0</th>\n",
       "      <td>Add two new channels for attracting traffic. T...</td>\n",
       "      <td>40.0</td>\n",
       "    </tr>\n",
       "    <tr>\n",
       "      <th>6</th>\n",
       "      <td>Show banners with current offers and sales on ...</td>\n",
       "      <td>40.0</td>\n",
       "    </tr>\n",
       "    <tr>\n",
       "      <th>8</th>\n",
       "      <td>Launch a promotion that gives users discounts ...</td>\n",
       "      <td>16.2</td>\n",
       "    </tr>\n",
       "    <tr>\n",
       "      <th>3</th>\n",
       "      <td>Change the category structure. This will incre...</td>\n",
       "      <td>9.0</td>\n",
       "    </tr>\n",
       "    <tr>\n",
       "      <th>1</th>\n",
       "      <td>Launch your own delivery service. This will sh...</td>\n",
       "      <td>4.0</td>\n",
       "    </tr>\n",
       "    <tr>\n",
       "      <th>5</th>\n",
       "      <td>Add a customer review page. This will increase...</td>\n",
       "      <td>4.0</td>\n",
       "    </tr>\n",
       "    <tr>\n",
       "      <th>4</th>\n",
       "      <td>Change the background color on the main page. ...</td>\n",
       "      <td>3.0</td>\n",
       "    </tr>\n",
       "  </tbody>\n",
       "</table>\n",
       "</div>"
      ],
      "text/plain": [
       "                                          hypothesis   rice\n",
       "7  Add a subscription form to all the main pages....  112.0\n",
       "2  Add product recommendation blocks to the store...   56.0\n",
       "0  Add two new channels for attracting traffic. T...   40.0\n",
       "6  Show banners with current offers and sales on ...   40.0\n",
       "8  Launch a promotion that gives users discounts ...   16.2\n",
       "3  Change the category structure. This will incre...    9.0\n",
       "1  Launch your own delivery service. This will sh...    4.0\n",
       "5  Add a customer review page. This will increase...    4.0\n",
       "4  Change the background color on the main page. ...    3.0"
      ]
     },
     "execution_count": 26,
     "metadata": {},
     "output_type": "execute_result"
    }
   ],
   "source": [
    "# Sorting the data\n",
    "rice = df_hyp[['hypothesis', 'rice']].sort_values(by='rice', ascending=False)\n",
    "\n",
    "# Displays the result\n",
    "rice"
   ]
  },
  {
   "cell_type": "markdown",
   "metadata": {
    "lang": "en"
   },
   "source": [
    "Hypothesis priority changes when RICE is implemented to replace ICE."
   ]
  },
  {
   "cell_type": "code",
   "execution_count": 27,
   "metadata": {
    "lang": "id"
   },
   "outputs": [
    {
     "data": {
      "image/png": "[encoded data removed]",
      "text/plain": [
       "<Figure size 1200x800 with 2 Axes>"
      ]
     },
     "metadata": {},
     "output_type": "display_data"
    }
   ],
   "source": [
    "# Chart size 2 rows 1 column\n",
    "fig, axes = plt.subplots(2, 1, figsize=(12, 8))\n",
    "\n",
    "# Graph of the rice dataset, row 2 column 1\n",
    "rice_plot = rice.plot(\n",
    "    kind='bar',\n",
    "    ax=axes[1]\n",
    ")\n",
    "\n",
    "# Rotate x labels\n",
    "rice_plot.set_xticklabels(rice_plot.get_xticklabels(), rotation=0) \n",
    "\n",
    "# Graph of dataset ice, row 1 column 1\n",
    "ice_plot = ice.plot(\n",
    "    kind='bar',\n",
    "    ax=axes[0]\n",
    ")\n",
    "\n",
    "# Rotate x labels\n",
    "ice_plot.set_xticklabels(ice_plot.get_xticklabels(), rotation=0)\n",
    "\n",
    "# Naming of subplots\n",
    "axes[1].set_xlabel('Hypothesis')\n",
    "axes[1].set_ylabel('RICE')\n",
    "axes[0].set_xlabel('Hypothesis')\n",
    "axes[0].set_ylabel('ICE')\n",
    "\n",
    "# Chart title\n",
    "axes[1].set_title('Hypothesis priority')\n",
    "axes[0].set_title('Hypothesis priority')\n",
    "\n",
    "# Added space between subplots\n",
    "plt.subplots_adjust(hspace=0.5)\n",
    "\n",
    "# Displays graphs\n",
    "plt.show()"
   ]
  },
  {
   "cell_type": "code",
   "execution_count": 28,
   "metadata": {
    "lang": "id"
   },
   "outputs": [
    {
     "name": "stdout",
     "output_type": "stream",
     "text": [
      "Hypothesis with index number 0:  Add two new channels for attracting traffic. This will bring 30% more users\n",
      "Hypothesis with index number 7:  Add a subscription form to all the main pages. This will help you compile a mailing list\n"
     ]
    }
   ],
   "source": [
    "# Hypothesis at indexes 0 and 7\n",
    "print('Hypothesis with index number 0: ', df_hyp['hypothesis'][0])\n",
    "print('Hypothesis with index number 7: ', df_hyp['hypothesis'][7])"
   ]
  },
  {
   "cell_type": "markdown",
   "metadata": {
    "lang": "en"
   },
   "source": [
    "**Tentative conclusion**\n",
    "\n",
    "ICE Method:\n",
    "1. Index numbers 8, 0, and 7 top priority,\n",
    "\n",
    "RICE method:\n",
    "1. index numbers 7, 2, and 0 top the hypotheses priority that need to be tested first.\n",
    "\n",
    "Based on these:\n",
    "1. Hypothesis 0: \"Add two new channels for attracting traffic. This will bring 30% more users\"\n",
    "2. Hypothesis 7: \"Add a subscription form to all the main pages. This will help you compile a mailing list\"\n",
    "3. Hypotheses 0 and 7 have a relatively promising position to be tested first"
   ]
  },
  {
   "cell_type": "markdown",
   "metadata": {},
   "source": [
    "[Back to stages](#back)"
   ]
  },
  {
   "cell_type": "markdown",
   "metadata": {},
   "source": [
    "### A/B testing analysis <a id=\"2\"></a>"
   ]
  },
  {
   "cell_type": "markdown",
   "metadata": {
    "lang": "en"
   },
   "source": [
    "df_orders and df_visits are the results of A/B testing which will then be carried out by the A/B testing analysis process of the dataset."
   ]
  },
  {
   "cell_type": "markdown",
   "metadata": {},
   "source": [
    "#### Dataset preparation<a id=\"2.1\"></a>"
   ]
  },
  {
   "cell_type": "code",
   "execution_count": 29,
   "metadata": {
    "lang": "id"
   },
   "outputs": [],
   "source": [
    "# Unique pairing groups and dates\n",
    "datesGroups = df_orders[['date', 'group']].drop_duplicates()"
   ]
  },
  {
   "cell_type": "code",
   "execution_count": 30,
   "metadata": {
    "lang": "id"
   },
   "outputs": [],
   "source": [
    "# Implement lambda functions on df_orders\n",
    "df_orders_agg = datesGroups.apply( \n",
    "    # for each x in datesGroups with conditions\n",
    "    # df_orders, np. logical_and(array1, array2)\n",
    "    # row, axis=1\n",
    "    lambda x: df_orders[np.logical_and(\n",
    "        df_orders['date'] <= x['date'],\n",
    "        df_orders['group'] == x['group'])].agg({\n",
    "            'date' : 'max',\n",
    "            'group' : 'max',\n",
    "            'transactionid' : pd.Series.nunique,\n",
    "            'visitorid' : pd.Series.nunique,\n",
    "            'revenue' : 'sum'\n",
    "}), axis=1).sort_values(by=['date','group'])"
   ]
  },
  {
   "cell_type": "code",
   "execution_count": 31,
   "metadata": {
    "lang": "id"
   },
   "outputs": [],
   "source": [
    "# Implement lambda functions on df_visits\n",
    "df_visits_agg = datesGroups.apply( \n",
    "    # for each x in datesGroups with conditions\n",
    "    # df_visits, np. logical_and(array1, array2)\n",
    "    # line, axis=1\n",
    "    lambda x: df_visits[np.logical_and(\n",
    "        df_visits['date'] <= x['date'],\n",
    "        df_visits['group'] == x['group'])].agg({\n",
    "            'date' : 'max',\n",
    "            'group' : 'max',\n",
    "            'visits' : 'sum'\n",
    "}), axis=1).sort_values(by=['date','group'])"
   ]
  },
  {
   "cell_type": "code",
   "execution_count": 32,
   "metadata": {
    "lang": "id"
   },
   "outputs": [],
   "source": [
    "# Combine datasets\n",
    "report = df_orders_agg.merge(\n",
    "    df_visits_agg,\n",
    "    left_on=['date', 'group'],\n",
    "    right_on=['date', 'group']\n",
    ")"
   ]
  },
  {
   "cell_type": "code",
   "execution_count": 33,
   "metadata": {
    "lang": "id"
   },
   "outputs": [],
   "source": [
    "# Rename column\n",
    "report.columns = ['date', 'group', 'orders', 'buyers', 'revenue', 'visitors']"
   ]
  },
  {
   "cell_type": "code",
   "execution_count": 34,
   "metadata": {},
   "outputs": [
    {
     "data": {
      "text/html": [
       "<div>\n",
       "<style scoped>\n",
       "    .dataframe tbody tr th:only-of-type {\n",
       "        vertical-align: middle;\n",
       "    }\n",
       "\n",
       "    .dataframe tbody tr th {\n",
       "        vertical-align: top;\n",
       "    }\n",
       "\n",
       "    .dataframe thead th {\n",
       "        text-align: right;\n",
       "    }\n",
       "</style>\n",
       "<table border=\"1\" class=\"dataframe\">\n",
       "  <thead>\n",
       "    <tr style=\"text-align: right;\">\n",
       "      <th></th>\n",
       "      <th>date</th>\n",
       "      <th>group</th>\n",
       "      <th>orders</th>\n",
       "      <th>buyers</th>\n",
       "      <th>revenue</th>\n",
       "      <th>visitors</th>\n",
       "    </tr>\n",
       "  </thead>\n",
       "  <tbody>\n",
       "    <tr>\n",
       "      <th>0</th>\n",
       "      <td>2019-08-01</td>\n",
       "      <td>A</td>\n",
       "      <td>24</td>\n",
       "      <td>20</td>\n",
       "      <td>2356.8</td>\n",
       "      <td>719</td>\n",
       "    </tr>\n",
       "    <tr>\n",
       "      <th>1</th>\n",
       "      <td>2019-08-01</td>\n",
       "      <td>B</td>\n",
       "      <td>21</td>\n",
       "      <td>20</td>\n",
       "      <td>1620.0</td>\n",
       "      <td>713</td>\n",
       "    </tr>\n",
       "    <tr>\n",
       "      <th>2</th>\n",
       "      <td>2019-08-02</td>\n",
       "      <td>A</td>\n",
       "      <td>44</td>\n",
       "      <td>38</td>\n",
       "      <td>3860.3</td>\n",
       "      <td>1338</td>\n",
       "    </tr>\n",
       "    <tr>\n",
       "      <th>3</th>\n",
       "      <td>2019-08-02</td>\n",
       "      <td>B</td>\n",
       "      <td>45</td>\n",
       "      <td>43</td>\n",
       "      <td>4243.8</td>\n",
       "      <td>1294</td>\n",
       "    </tr>\n",
       "    <tr>\n",
       "      <th>4</th>\n",
       "      <td>2019-08-03</td>\n",
       "      <td>A</td>\n",
       "      <td>68</td>\n",
       "      <td>62</td>\n",
       "      <td>5675.5</td>\n",
       "      <td>1845</td>\n",
       "    </tr>\n",
       "  </tbody>\n",
       "</table>\n",
       "</div>"
      ],
      "text/plain": [
       "        date group  orders  buyers  revenue  visitors\n",
       "0 2019-08-01     A      24      20   2356.8       719\n",
       "1 2019-08-01     B      21      20   1620.0       713\n",
       "2 2019-08-02     A      44      38   3860.3      1338\n",
       "3 2019-08-02     B      45      43   4243.8      1294\n",
       "4 2019-08-03     A      68      62   5675.5      1845"
      ]
     },
     "execution_count": 34,
     "metadata": {},
     "output_type": "execute_result"
    }
   ],
   "source": [
    "# Sample data\n",
    "report.head()"
   ]
  },
  {
   "cell_type": "markdown",
   "metadata": {},
   "source": [
    "[Back to stages](#back)"
   ]
  },
  {
   "cell_type": "markdown",
   "metadata": {},
   "source": [
    "#### Cumulative metric stability analysis process <a id=\"2.2\"></a>"
   ]
  },
  {
   "cell_type": "markdown",
   "metadata": {
    "lang": "en"
   },
   "source": [
    "Testing the graph can prevent the occurrence of lurking problems (*peeking problem*).\n",
    "\n",
    "Peeking problem is the act of drawing conclusions before the experiment is finished, and making decisions based on these conclusions. This can cause bias, given the potential for outlier observations.\n",
    "\n",
    "A graph of cumulative metrics will help decide whether to continue testing."
   ]
  },
  {
   "cell_type": "markdown",
   "metadata": {
    "lang": "en"
   },
   "source": [
    "##### Cumulative income by group"
   ]
  },
  {
   "cell_type": "code",
   "execution_count": 35,
   "metadata": {
    "lang": "id"
   },
   "outputs": [],
   "source": [
    "# Group A\n",
    "report_cumrev_A = report[report['group']=='A'][['date', 'revenue', 'orders']]\n",
    "\n",
    "# Group B\n",
    "report_cumrev_B = report[report['group']=='B'][['date', 'revenue', 'orders']]"
   ]
  },
  {
   "cell_type": "code",
   "execution_count": 36,
   "metadata": {
    "lang": "id"
   },
   "outputs": [
    {
     "data": {
      "image/png": "[encoded data removed]",
      "text/plain": [
       "<Figure size 1200x800 with 1 Axes>"
      ]
     },
     "metadata": {},
     "output_type": "display_data"
    }
   ],
   "source": [
    "# Size chart\n",
    "plt.figure(figsize=(12, 8))\n",
    "\n",
    "# Graph of earnings by day and group\n",
    "plt.plot(report_cumrev_A['date'], report_cumrev_A['revenue'], label='A')\n",
    "plt.plot(report_cumrev_B['date'], report_cumrev_B['revenue'], label='B')\n",
    "\n",
    "# Title\n",
    "plt.title(\"Cumulative income\")\n",
    "\n",
    "# Create names on the x,y-axis\n",
    "plt.xlabel('Date')\n",
    "plt.ylabel('Revenue')\n",
    "\n",
    "# Displays graphs and legends\n",
    "plt.legend()\n",
    "\n",
    "# Displays the result\n",
    "plt.show()"
   ]
  },
  {
   "cell_type": "markdown",
   "metadata": {
    "lang": "id"
   },
   "source": [
    "Revenue continued to increase during the test, however both groups recorded revenue gains at certain points as happened in group B.\n",
    "\n",
    "Maybe this is due to very expensive orders or orders in samples."
   ]
  },
  {
   "cell_type": "markdown",
   "metadata": {
    "lang": "en"
   },
   "source": [
    "##### Cumulative average order size by group"
   ]
  },
  {
   "cell_type": "code",
   "execution_count": 37,
   "metadata": {
    "lang": "id"
   },
   "outputs": [
    {
     "data": {
      "image/png": "[encoded data removed]",
      "text/plain": [
       "<Figure size 1200x800 with 1 Axes>"
      ]
     },
     "metadata": {},
     "output_type": "display_data"
    }
   ],
   "source": [
    "# Size chart\n",
    "plt.figure(figsize=(12, 8))\n",
    "\n",
    "# Graph of earnings by day and group\n",
    "plt.plot(report_cumrev_A['date'], report_cumrev_A['revenue']/report_cumrev_A['orders'], label='A')\n",
    "plt.plot(report_cumrev_B['date'], report_cumrev_B['revenue']/report_cumrev_B['orders'], label='B')\n",
    "\n",
    "# Title\n",
    "plt.title(\"Cumulative average order size\")\n",
    "\n",
    "# Create names on the x,y-axis\n",
    "plt.xlabel('Date')\n",
    "plt.ylabel('Order size')\n",
    "\n",
    "# Displays graphs and legends\n",
    "plt.legend()\n",
    "\n",
    "# Displays the result\n",
    "plt.show()"
   ]
  },
  {
   "cell_type": "markdown",
   "metadata": {
    "lang": "id"
   },
   "source": [
    "In the beginning, the cumulative value still fluctuated, then stabilized towards the end of the test.\n",
    "\n",
    "There was a big jump around August 17-21 for group B. And around August 5-17 for group A.\n",
    "\n",
    "This may also be due to a raise in orders or very expensive orders in samples."
   ]
  },
  {
   "cell_type": "markdown",
   "metadata": {
    "lang": "en"
   },
   "source": [
    "##### Relative difference in cumulative average order size of group B compared to group A"
   ]
  },
  {
   "cell_type": "code",
   "execution_count": 38,
   "metadata": {
    "lang": "id"
   },
   "outputs": [],
   "source": [
    "# Combine accumulative datasets\n",
    "report_cumrev_merge = report_cumrev_A.merge(\n",
    "    report_cumrev_B,\n",
    "    left_on='date',\n",
    "    right_on='date',\n",
    "    how='left',\n",
    "    suffixes=['A', 'B']\n",
    ")"
   ]
  },
  {
   "cell_type": "code",
   "execution_count": 39,
   "metadata": {
    "lang": "id"
   },
   "outputs": [
    {
     "data": {
      "image/png": "[encoded data removed]",
      "text/plain": [
       "<Figure size 1200x800 with 1 Axes>"
      ]
     },
     "metadata": {},
     "output_type": "display_data"
    }
   ],
   "source": [
    "# Size chart\n",
    "plt.figure(figsize=(12, 8))\n",
    "\n",
    "# Graph of relative differences for the average order quantity\n",
    "plt.plot(\n",
    "    report_cumrev_merge['date'],\n",
    "    (\n",
    "        (report_cumrev_merge['revenueB']/report_cumrev_merge['ordersB']) \n",
    "        / (report_cumrev_merge['revenueA']/report_cumrev_merge['ordersA'])\n",
    "    ) - 1\n",
    ")\n",
    "\n",
    "# Title\n",
    "plt.title(\"Cumulative average order size: Group B compared to Group A\")\n",
    "\n",
    "# Create names on the x,y-axis\n",
    "plt.xlabel('Date')\n",
    "plt.ylabel('Relative difference rate')\n",
    "\n",
    "# Horizontal axis\n",
    "plt.axhline(y=0, color='black', linestyle='--')\n",
    "\n",
    "# Displays graphs\n",
    "plt.show()"
   ]
  },
  {
   "cell_type": "markdown",
   "metadata": {
    "lang": "en"
   },
   "source": [
    "At some points the difference increases dramatically, indicating a large order (*outliers*)"
   ]
  },
  {
   "cell_type": "markdown",
   "metadata": {
    "lang": "en"
   },
   "source": [
    "##### Conversion rate the ratio of orders to the number of visits each day per group"
   ]
  },
  {
   "cell_type": "code",
   "execution_count": 40,
   "metadata": {
    "lang": "id"
   },
   "outputs": [],
   "source": [
    "# Calculates the cumulative ratio\n",
    "report['conversion'] = report['orders']/report['visitors']"
   ]
  },
  {
   "cell_type": "code",
   "execution_count": 41,
   "metadata": {
    "lang": "id"
   },
   "outputs": [],
   "source": [
    "# Group A\n",
    "report_cumulative_A = report[report['group']=='A']\n",
    "\n",
    "# Group B\n",
    "report_cumulative_B = report[report['group']=='B']"
   ]
  },
  {
   "cell_type": "code",
   "execution_count": 42,
   "metadata": {
    "lang": "id"
   },
   "outputs": [
    {
     "data": {
      "image/png": "[encoded data removed]",
      "text/plain": [
       "<Figure size 1200x800 with 1 Axes>"
      ]
     },
     "metadata": {},
     "output_type": "display_data"
    }
   ],
   "source": [
    "# Size chart\n",
    "plt.figure(figsize=(12, 8))\n",
    "\n",
    "# Graph of earnings by day and group\n",
    "plt.plot(report_cumulative_A['date'], report_cumulative_A['conversion'], label='A')\n",
    "plt.plot(report_cumulative_B['date'], report_cumulative_B['conversion'], label='B')\n",
    "\n",
    "# Title\n",
    "plt.title(\"Conversion rate: orders ratio to the number of visits\")\n",
    "\n",
    "# Create names on the x,y-axis\n",
    "plt.xlabel('Date')\n",
    "plt.ylabel('Conversion rate')\n",
    "\n",
    "# set the axis scale\n",
    "plt.axis([pd.to_datetime('2019-07-30'), pd.to_datetime('2019-09-01'), 0, 0.05])\n",
    "\n",
    "# Displays graphs and legends\n",
    "plt.legend()\n",
    "plt.show()"
   ]
  },
  {
   "cell_type": "markdown",
   "metadata": {
    "lang": "en"
   },
   "source": [
    "Symmetrical results like this are rarely found in experimental data, the cause could be from code bugs or indicating unreliable data.\n",
    "\n",
    "But here it is assumed that the dataset is valid and can be trusted.\n",
    "\n",
    "So following the observation, at the beginning of the test group A had a higher conversion rate than group B, but group B increased periodically and eventually it was higher than group A, both groups fluctuated around the same value before stabilizing."
   ]
  },
  {
   "cell_type": "code",
   "execution_count": 43,
   "metadata": {
    "lang": "id"
   },
   "outputs": [],
   "source": [
    "# Combine accumulative datasets\n",
    "report_cumconver_merge = report_cumulative_A[['date', 'conversion']].merge(\n",
    "    report_cumulative_B[['date', 'conversion']],\n",
    "    left_on='date',\n",
    "    right_on='date',\n",
    "    how='left',\n",
    "    suffixes=['A', 'B']\n",
    ")"
   ]
  },
  {
   "cell_type": "code",
   "execution_count": 44,
   "metadata": {
    "lang": "id"
   },
   "outputs": [
    {
     "data": {
      "image/png": "[encoded data removed]",
      "text/plain": [
       "<Figure size 1200x800 with 1 Axes>"
      ]
     },
     "metadata": {},
     "output_type": "display_data"
    }
   ],
   "source": [
    "# Size chart\n",
    "plt.figure(figsize=(12, 8))\n",
    "\n",
    "# Graph of relative differences for cumulative conversion rates\n",
    "plt.plot(\n",
    "    report_cumconver_merge['date'],\n",
    "    (\n",
    "        report_cumconver_merge['conversionB']\n",
    "        /report_cumconver_merge['conversionA']\n",
    "    ) -1\n",
    ")\n",
    "\n",
    "# Title\n",
    "plt.title(\"Relative differences for cumulative conversion rates\")\n",
    "\n",
    "# Create names on the x,y-axis\n",
    "plt.xlabel('Date')\n",
    "plt.ylabel('Conversion rate')\n",
    "\n",
    "# set the axis scale\n",
    "plt.axhline(y=0, color='black', linestyle='--')\n",
    "plt.axhline(y=0.15, color='grey', linestyle='--')\n",
    "\n",
    "# Displays graphs\n",
    "plt.show()"
   ]
  },
  {
   "cell_type": "markdown",
   "metadata": {
    "lang": "en"
   },
   "source": [
    "Group B continued to improve and stabilized around 15% higher than group A."
   ]
  },
  {
   "cell_type": "markdown",
   "metadata": {},
   "source": [
    "[Back to stages](#back)"
   ]
  },
  {
   "cell_type": "markdown",
   "metadata": {},
   "source": [
    "#### Analyze and fix outliers <a id=\"2.3\"></a>"
   ]
  },
  {
   "cell_type": "markdown",
   "metadata": {
    "lang": "en"
   },
   "source": [
    "##### Number of orders per user"
   ]
  },
  {
   "cell_type": "code",
   "execution_count": 45,
   "metadata": {
    "lang": "id"
   },
   "outputs": [],
   "source": [
    "# Separate required columns,\n",
    "# group by `visitorid` column,\n",
    "# and calculate the number of orders\n",
    "orders_users = (\n",
    "    df_orders.drop(['group', 'revenue', 'date'], axis=1)\n",
    "    .groupby('visitorid', as_index=False)\n",
    "    .agg({\n",
    "        'transactionid' : pd.Series.nunique\n",
    "    })\n",
    ")"
   ]
  },
  {
   "cell_type": "code",
   "execution_count": 46,
   "metadata": {
    "lang": "id"
   },
   "outputs": [],
   "source": [
    "# Rename column\n",
    "orders_users.columns = ['visitorid', 'orders']"
   ]
  },
  {
   "cell_type": "code",
   "execution_count": 47,
   "metadata": {
    "lang": "id"
   },
   "outputs": [
    {
     "data": {
      "text/html": [
       "<div>\n",
       "<style scoped>\n",
       "    .dataframe tbody tr th:only-of-type {\n",
       "        vertical-align: middle;\n",
       "    }\n",
       "\n",
       "    .dataframe tbody tr th {\n",
       "        vertical-align: top;\n",
       "    }\n",
       "\n",
       "    .dataframe thead th {\n",
       "        text-align: right;\n",
       "    }\n",
       "</style>\n",
       "<table border=\"1\" class=\"dataframe\">\n",
       "  <thead>\n",
       "    <tr style=\"text-align: right;\">\n",
       "      <th></th>\n",
       "      <th>visitorid</th>\n",
       "      <th>orders</th>\n",
       "    </tr>\n",
       "  </thead>\n",
       "  <tbody>\n",
       "    <tr>\n",
       "      <th>1023</th>\n",
       "      <td>4256040402</td>\n",
       "      <td>11</td>\n",
       "    </tr>\n",
       "    <tr>\n",
       "      <th>591</th>\n",
       "      <td>2458001652</td>\n",
       "      <td>11</td>\n",
       "    </tr>\n",
       "    <tr>\n",
       "      <th>569</th>\n",
       "      <td>2378935119</td>\n",
       "      <td>9</td>\n",
       "    </tr>\n",
       "    <tr>\n",
       "      <th>487</th>\n",
       "      <td>2038680547</td>\n",
       "      <td>8</td>\n",
       "    </tr>\n",
       "    <tr>\n",
       "      <th>44</th>\n",
       "      <td>199603092</td>\n",
       "      <td>5</td>\n",
       "    </tr>\n",
       "    <tr>\n",
       "      <th>744</th>\n",
       "      <td>3062433592</td>\n",
       "      <td>5</td>\n",
       "    </tr>\n",
       "    <tr>\n",
       "      <th>55</th>\n",
       "      <td>237748145</td>\n",
       "      <td>5</td>\n",
       "    </tr>\n",
       "    <tr>\n",
       "      <th>917</th>\n",
       "      <td>3803269165</td>\n",
       "      <td>5</td>\n",
       "    </tr>\n",
       "    <tr>\n",
       "      <th>299</th>\n",
       "      <td>1230306981</td>\n",
       "      <td>5</td>\n",
       "    </tr>\n",
       "    <tr>\n",
       "      <th>897</th>\n",
       "      <td>3717692402</td>\n",
       "      <td>5</td>\n",
       "    </tr>\n",
       "  </tbody>\n",
       "</table>\n",
       "</div>"
      ],
      "text/plain": [
       "       visitorid  orders\n",
       "1023  4256040402      11\n",
       "591   2458001652      11\n",
       "569   2378935119       9\n",
       "487   2038680547       8\n",
       "44     199603092       5\n",
       "744   3062433592       5\n",
       "55     237748145       5\n",
       "917   3803269165       5\n",
       "299   1230306981       5\n",
       "897   3717692402       5"
      ]
     },
     "execution_count": 47,
     "metadata": {},
     "output_type": "execute_result"
    }
   ],
   "source": [
    "# Sort data\n",
    "orders_users.sort_values(by='orders', ascending=False).head(10)"
   ]
  },
  {
   "cell_type": "code",
   "execution_count": 48,
   "metadata": {
    "lang": "id"
   },
   "outputs": [
    {
     "data": {
      "image/png": "[encoded data removed]",
      "text/plain": [
       "<Figure size 1200x800 with 1 Axes>"
      ]
     },
     "metadata": {},
     "output_type": "display_data"
    }
   ],
   "source": [
    "# Size chart\n",
    "plt.figure(figsize=(12, 8))\n",
    "\n",
    "# Graphics\n",
    "plt.hist(orders_users['orders'])\n",
    "\n",
    "# Title\n",
    "plt.title(\"Number of orders per user\")\n",
    "\n",
    "# Create names on the x,y-axis\n",
    "plt.xlabel('Orders')\n",
    "plt.ylabel('Frequency')\n",
    "\n",
    "# Displays graphs\n",
    "plt.show()"
   ]
  },
  {
   "cell_type": "markdown",
   "metadata": {
    "lang": "en"
   },
   "source": [
    "The majority make one order. But most percentage of customers place two to 4 orders."
   ]
  },
  {
   "cell_type": "code",
   "execution_count": 49,
   "metadata": {
    "lang": "id"
   },
   "outputs": [],
   "source": [
    "# Creates x-axis data based on values in the orders_users dataset\n",
    "x_values = pd.Series(range(0, len(orders_users)))"
   ]
  },
  {
   "cell_type": "code",
   "execution_count": 50,
   "metadata": {
    "lang": "id"
   },
   "outputs": [
    {
     "data": {
      "image/png": "[encoded data removed]",
      "text/plain": [
       "<Figure size 1200x800 with 1 Axes>"
      ]
     },
     "metadata": {},
     "output_type": "display_data"
    }
   ],
   "source": [
    "# Size chart\n",
    "plt.figure(figsize=(12, 8))\n",
    "\n",
    "# Graphs\n",
    "plt.scatter(x_values, orders_users['orders'])\n",
    "\n",
    "# Title\n",
    "plt.title(\"Number of orders per user\")\n",
    "\n",
    "# Create names on the x,y-axis\n",
    "plt.xlabel('Number of user')\n",
    "plt.ylabel('Orders')\n",
    "\n",
    "# Displays graphs\n",
    "plt.show()"
   ]
  },
  {
   "cell_type": "markdown",
   "metadata": {
    "lang": "en"
   },
   "source": [
    "With this graph it can be confirmed that there are indeed many users who place orders of two to four orders."
   ]
  },
  {
   "cell_type": "markdown",
   "metadata": {
    "lang": "en"
   },
   "source": [
    "##### 95th and 99th percentile number of orders per user"
   ]
  },
  {
   "cell_type": "code",
   "execution_count": 51,
   "metadata": {
    "lang": "id"
   },
   "outputs": [
    {
     "data": {
      "text/plain": [
       "array([2., 4.])"
      ]
     },
     "execution_count": 51,
     "metadata": {},
     "output_type": "execute_result"
    }
   ],
   "source": [
    "#95, and 99 percentile of orders per user\n",
    "np.percentile(orders_users['orders'], [95, 99])"
   ]
  },
  {
   "cell_type": "markdown",
   "metadata": {
    "lang": "en"
   },
   "source": [
    "As can be seen the number of orders that made more than two orders did not exceed 5% and those that made four orders did not exceed 10%.\n",
    "\n",
    "So that it can be determined that users who make more than 2 orders will be considered an anomaly (*outlier*)."
   ]
  },
  {
   "cell_type": "markdown",
   "metadata": {
    "lang": "en"
   },
   "source": [
    "##### Total order price"
   ]
  },
  {
   "cell_type": "code",
   "execution_count": 52,
   "metadata": {
    "lang": "id"
   },
   "outputs": [
    {
     "data": {
      "text/html": [
       "<div>\n",
       "<style scoped>\n",
       "    .dataframe tbody tr th:only-of-type {\n",
       "        vertical-align: middle;\n",
       "    }\n",
       "\n",
       "    .dataframe tbody tr th {\n",
       "        vertical-align: top;\n",
       "    }\n",
       "\n",
       "    .dataframe thead th {\n",
       "        text-align: right;\n",
       "    }\n",
       "</style>\n",
       "<table border=\"1\" class=\"dataframe\">\n",
       "  <thead>\n",
       "    <tr style=\"text-align: right;\">\n",
       "      <th></th>\n",
       "      <th>transactionid</th>\n",
       "      <th>visitorid</th>\n",
       "      <th>date</th>\n",
       "      <th>revenue</th>\n",
       "      <th>group</th>\n",
       "    </tr>\n",
       "  </thead>\n",
       "  <tbody>\n",
       "    <tr>\n",
       "      <th>425</th>\n",
       "      <td>590470918</td>\n",
       "      <td>1920142716</td>\n",
       "      <td>2019-08-19</td>\n",
       "      <td>19920.4</td>\n",
       "      <td>B</td>\n",
       "    </tr>\n",
       "    <tr>\n",
       "      <th>1196</th>\n",
       "      <td>3936777065</td>\n",
       "      <td>2108080724</td>\n",
       "      <td>2019-08-15</td>\n",
       "      <td>3120.1</td>\n",
       "      <td>B</td>\n",
       "    </tr>\n",
       "    <tr>\n",
       "      <th>858</th>\n",
       "      <td>192721366</td>\n",
       "      <td>1316129916</td>\n",
       "      <td>2019-08-27</td>\n",
       "      <td>1450.2</td>\n",
       "      <td>A</td>\n",
       "    </tr>\n",
       "    <tr>\n",
       "      <th>1136</th>\n",
       "      <td>666610489</td>\n",
       "      <td>1307669133</td>\n",
       "      <td>2019-08-13</td>\n",
       "      <td>1425.8</td>\n",
       "      <td>A</td>\n",
       "    </tr>\n",
       "    <tr>\n",
       "      <th>744</th>\n",
       "      <td>3668308183</td>\n",
       "      <td>888512513</td>\n",
       "      <td>2019-08-27</td>\n",
       "      <td>1335.6</td>\n",
       "      <td>B</td>\n",
       "    </tr>\n",
       "    <tr>\n",
       "      <th>662</th>\n",
       "      <td>1811671147</td>\n",
       "      <td>4266935830</td>\n",
       "      <td>2019-08-29</td>\n",
       "      <td>1220.2</td>\n",
       "      <td>A</td>\n",
       "    </tr>\n",
       "    <tr>\n",
       "      <th>682</th>\n",
       "      <td>1216533772</td>\n",
       "      <td>4266935830</td>\n",
       "      <td>2019-08-29</td>\n",
       "      <td>1220.2</td>\n",
       "      <td>B</td>\n",
       "    </tr>\n",
       "    <tr>\n",
       "      <th>743</th>\n",
       "      <td>3603576309</td>\n",
       "      <td>4133034833</td>\n",
       "      <td>2019-08-09</td>\n",
       "      <td>1050.0</td>\n",
       "      <td>A</td>\n",
       "    </tr>\n",
       "    <tr>\n",
       "      <th>1103</th>\n",
       "      <td>1348774318</td>\n",
       "      <td>1164614297</td>\n",
       "      <td>2019-08-12</td>\n",
       "      <td>1025.8</td>\n",
       "      <td>A</td>\n",
       "    </tr>\n",
       "    <tr>\n",
       "      <th>1099</th>\n",
       "      <td>316924019</td>\n",
       "      <td>148427295</td>\n",
       "      <td>2019-08-12</td>\n",
       "      <td>1015.9</td>\n",
       "      <td>A</td>\n",
       "    </tr>\n",
       "  </tbody>\n",
       "</table>\n",
       "</div>"
      ],
      "text/plain": [
       "      transactionid   visitorid       date  revenue group\n",
       "425       590470918  1920142716 2019-08-19  19920.4     B\n",
       "1196     3936777065  2108080724 2019-08-15   3120.1     B\n",
       "858       192721366  1316129916 2019-08-27   1450.2     A\n",
       "1136      666610489  1307669133 2019-08-13   1425.8     A\n",
       "744      3668308183   888512513 2019-08-27   1335.6     B\n",
       "662      1811671147  4266935830 2019-08-29   1220.2     A\n",
       "682      1216533772  4266935830 2019-08-29   1220.2     B\n",
       "743      3603576309  4133034833 2019-08-09   1050.0     A\n",
       "1103     1348774318  1164614297 2019-08-12   1025.8     A\n",
       "1099      316924019   148427295 2019-08-12   1015.9     A"
      ]
     },
     "execution_count": 52,
     "metadata": {},
     "output_type": "execute_result"
    }
   ],
   "source": [
    "# Sort datasets\n",
    "df_orders.sort_values(by='revenue', ascending=False).head(10)"
   ]
  },
  {
   "cell_type": "code",
   "execution_count": 53,
   "metadata": {
    "lang": "id"
   },
   "outputs": [
    {
     "data": {
      "image/png": "[encoded data removed]",
      "text/plain": [
       "<Figure size 1200x800 with 1 Axes>"
      ]
     },
     "metadata": {},
     "output_type": "display_data"
    }
   ],
   "source": [
    "# Size chart\n",
    "plt.figure(figsize=(12, 8))\n",
    "\n",
    "# Graphics\n",
    "plt.hist(df_orders['revenue'])\n",
    "\n",
    "# Title\n",
    "plt.title(\"Total order price\")\n",
    "\n",
    "# Create names on the x,y-axis\n",
    "plt.xlabel('Price')\n",
    "plt.ylabel('Orders')\n",
    "\n",
    "# Displays graphs\n",
    "plt.show()"
   ]
  },
  {
   "cell_type": "markdown",
   "metadata": {
    "lang": "en"
   },
   "source": [
    "The chart shows that there are orders with a total price above 2500 dollars, however most of the orders are smaller."
   ]
  },
  {
   "cell_type": "code",
   "execution_count": 54,
   "metadata": {
    "lang": "id"
   },
   "outputs": [],
   "source": [
    "# Creates x-axis data based on values in the dataset df_orders['revenue']\n",
    "x_values_orders = pd.Series(range(0, len(df_orders['revenue'])))"
   ]
  },
  {
   "cell_type": "code",
   "execution_count": 55,
   "metadata": {
    "lang": "id"
   },
   "outputs": [
    {
     "data": {
      "image/png": "[encoded data removed]",
      "text/plain": [
       "<Figure size 1200x800 with 1 Axes>"
      ]
     },
     "metadata": {},
     "output_type": "display_data"
    }
   ],
   "source": [
    "# Size chart\n",
    "plt.figure(figsize=(12, 8))\n",
    "\n",
    "# Graphics\n",
    "plt.scatter(x_values_orders, df_orders['revenue'])\n",
    "\n",
    "# Title\n",
    "plt.title(\"Total order price\")\n",
    "\n",
    "# Create names on the x,y-axis\n",
    "plt.xlabel('Orders')\n",
    "plt.ylabel('Price')\n",
    "\n",
    "# Displays graphs\n",
    "plt.show()"
   ]
  },
  {
   "cell_type": "markdown",
   "metadata": {
    "lang": "en"
   },
   "source": [
    "As you can see there are orders with a large total price."
   ]
  },
  {
   "cell_type": "markdown",
   "metadata": {
    "lang": "en"
   },
   "source": [
    "##### The 95th and 99th percentiles for the total order price"
   ]
  },
  {
   "cell_type": "code",
   "execution_count": 56,
   "metadata": {
    "lang": "id"
   },
   "outputs": [
    {
     "data": {
      "text/plain": [
       "array([435.54 , 900.904])"
      ]
     },
     "execution_count": 56,
     "metadata": {},
     "output_type": "execute_result"
    }
   ],
   "source": [
    "# 95, and 99 percentile of orders per user\n",
    "np.percentile(df_orders['revenue'], [95, 99])"
   ]
  },
  {
   "cell_type": "markdown",
   "metadata": {
    "lang": "en"
   },
   "source": [
    "As you can see the total price of orders made over 435.54 dollars does not exceed 5% and those made 900.9 dollars orders are not more than 10%.\n",
    "\n",
    "So that it can be determined that a user who placed an order with a total price of around 435.54 - 900.9 dollars would be considered an anomaly (*outlier*), let's assign more than 500 dollars to this anomaly."
   ]
  },
  {
   "cell_type": "markdown",
   "metadata": {},
   "source": [
    "[Back to stages](#back)"
   ]
  },
  {
   "cell_type": "markdown",
   "metadata": {},
   "source": [
    "## Hypothesis Test <a id=\"Test\"></a>"
   ]
  },
  {
   "cell_type": "markdown",
   "metadata": {
    "lang": "en"
   },
   "source": [
    "The hypothesis test this time will use the Mann-Whitney U test to determine the ranking of the two samples in ascending order and compare the ranking of the values that appear in the two samples.\n",
    "\n",
    "The higher the number of ranking shifts, the higher the probability of a difference in the distributions of the two samples. This makes it possible to infer the presence or absence of differences for any assigned level of significance.\n",
    "\n",
    "Nonparametric methods are helpful, as they make no guesswork about how the data is distributed. Methods like this are often used when parameters are difficult (or even impossible) to estimate due to too many outliers.\n",
    "\n",
    "This method has a p-value or probability of occurrence of values and also alpha or error limit used, if the p-value is smaller than alpha then H1 is more proven, and conversely if the p-value is greater than alpha then H0 is more proven."
   ]
  },
  {
   "cell_type": "markdown",
   "metadata": {},
   "source": [
    "### Statistical significance of conversion differences between groups (raw data) <a id=\"h1\"></a>"
   ]
  },
  {
   "cell_type": "code",
   "execution_count": 57,
   "metadata": {
    "lang": "id"
   },
   "outputs": [],
   "source": [
    "# Number of transactions by group and per user, Group A\n",
    "orders_A = df_orders[df_orders['group']=='A'].groupby('visitorid',as_index=False).agg({\n",
    "    'transactionid' : pd.Series.nunique\n",
    "})\n",
    "\n",
    "# Number of transactions by group and per user, Group B\n",
    "orders_B = df_orders[df_orders['group']=='B'].groupby('visitorid',as_index=False).agg({\n",
    "    'transactionid' : pd.Series.nunique\n",
    "})"
   ]
  },
  {
   "cell_type": "code",
   "execution_count": 58,
   "metadata": {
    "lang": "id"
   },
   "outputs": [],
   "source": [
    "# Rename column\n",
    "orders_A.columns = ['visitorid', 'orders']\n",
    "orders_B.columns = ['visitorid', 'orders']"
   ]
  },
  {
   "cell_type": "code",
   "execution_count": 59,
   "metadata": {
    "lang": "id"
   },
   "outputs": [],
   "source": [
    "# The number of orders made by users from group A, including zero\n",
    "sampleA = pd.concat([orders_A['orders'],pd.Series(0, index=np.arange(\n",
    "    df_visits[df_visits['group']=='A']['visits'].sum() - len(orders_A['orders'])\n",
    "), name='orders')],axis=0)\n",
    "\n",
    "# The number of orders made by users from group B, including zero\n",
    "sampleB = pd.concat([orders_B['orders'],pd.Series(0, index=np.arange(\n",
    "    df_visits[df_visits['group']=='B']['visits'].sum() - len(orders_B['orders'])\n",
    "), name='orders')],axis=0)"
   ]
  },
  {
   "cell_type": "markdown",
   "metadata": {
    "lang": "en"
   },
   "source": [
    "Before starting hypothesis testing, the null hypothesis (H0) and the alternative hypothesis (H1) must be determined first.\n",
    "1. H0: There is no difference in conversion between groups.\n",
    "2. H1: There are differences in conversion between groups.\n",
    "\n",
    "If H0 defines 'There is no difference' in conversion between groups, then H1 will define the opposite of H0, which tell that 'There is a difference' in conversion between groups."
   ]
  },
  {
   "cell_type": "markdown",
   "metadata": {
    "lang": "en"
   },
   "source": [
    "For now, the alpha used is 5% for all hypothesis tests carried out, why not 1%, or 10%?, Because 5% is a balanced number to avoid type-I errors, or type-II errors.\n",
    "\n",
    "Type-I error supports the alternative hypothesis (H1) when the null hypothesis (H0) is true, while type-II error does not support the null hypothesis (H0) when the alternative hypothesis (H1) is true."
   ]
  },
  {
   "cell_type": "code",
   "execution_count": 60,
   "metadata": {
    "lang": "id"
   },
   "outputs": [
    {
     "name": "stdout",
     "output_type": "stream",
     "text": [
      "p-value: 0.016792355056752608\n",
      "We reject the null hypothesis\n"
     ]
    }
   ],
   "source": [
    "# Alpha is set at 0.05\n",
    "alpha = 0.05\n",
    "\n",
    "# Mann-Whitney U test\n",
    "results = st.mannwhitneyu(sampleA, sampleB)\n",
    "\n",
    "# Displays the result\n",
    "print('p-value:', results.pvalue)\n",
    "\n",
    "# Displays results based on conditions\n",
    "if results.pvalue < alpha:\n",
    "    print('We reject the null hypothesis')\n",
    "else:\n",
    "    print('We cannot ignore the null hypothesis') "
   ]
  },
  {
   "cell_type": "code",
   "execution_count": 61,
   "metadata": {
    "lang": "id"
   },
   "outputs": [
    {
     "data": {
      "text/plain": [
       "0.138"
      ]
     },
     "execution_count": 61,
     "metadata": {},
     "output_type": "execute_result"
    }
   ],
   "source": [
    "# Relative differences in conversions between groups\n",
    "round(sampleB.mean()/sampleA.mean()-1, 3)"
   ]
  },
  {
   "cell_type": "markdown",
   "metadata": {
    "lang": "en"
   },
   "source": [
    "As explained above, because the p-value is smaller than alpha, the null hypothesis is rejected, which means there are differences in conversion between groups.\n",
    "\n",
    "And the relative difference in conversion between groups is 13.8%."
   ]
  },
  {
   "cell_type": "markdown",
   "metadata": {},
   "source": [
    "[Back to stages](#back)"
   ]
  },
  {
   "cell_type": "markdown",
   "metadata": {},
   "source": [
    "### Statistical significance of difference in mean order size between groups (raw data) <a id=\"h2\"></a>"
   ]
  },
  {
   "cell_type": "markdown",
   "metadata": {
    "lang": "en"
   },
   "source": [
    "Before starting hypothesis testing, the null hypothesis (H0) and the alternative hypothesis (H1) must be determined first.\n",
    "1. H0: There is no difference in the average order size between groups.\n",
    "2. H1: There is a difference in the average order size between groups.\n",
    "\n",
    "If H0 defines 'There is no difference' in the average order size between groups, then H1 will define the opposite of H0, which tell that 'There is a difference' in the average order size between groups."
   ]
  },
  {
   "cell_type": "code",
   "execution_count": 62,
   "metadata": {
    "lang": "id"
   },
   "outputs": [
    {
     "name": "stdout",
     "output_type": "stream",
     "text": [
      "p-value: 0.6915246773264736\n",
      "We cannot ignore the null hypothesis\n"
     ]
    }
   ],
   "source": [
    " # Alpha is set at 0.05\n",
    "alpha = 0.05\n",
    "\n",
    "# Mann-Whitney U test\n",
    "results = (st.mannwhitneyu(\n",
    "    df_orders[df_orders['group']=='A']['revenue'],\n",
    "    df_orders[df_orders['group']=='B']['revenue'])\n",
    ")\n",
    "\n",
    "# Displays the result\n",
    "print('p-value:', results.pvalue)\n",
    "\n",
    "# Displays results based on conditions\n",
    "if results.pvalue < alpha:\n",
    "    print('We reject the null hypothesis')\n",
    "else:\n",
    "    print('We cannot ignore the null hypothesis') "
   ]
  },
  {
   "cell_type": "code",
   "execution_count": 63,
   "metadata": {
    "lang": "id"
   },
   "outputs": [
    {
     "data": {
      "text/plain": [
       "0.252"
      ]
     },
     "execution_count": 63,
     "metadata": {},
     "output_type": "execute_result"
    }
   ],
   "source": [
    "# Difference in average order size between groups\n",
    "round(\n",
    "    (df_orders[df_orders['group']=='B']['revenue'].mean()/\n",
    "     df_orders[df_orders['group']=='A']['revenue'].mean()) -1 \n",
    ", 3)"
   ]
  },
  {
   "cell_type": "markdown",
   "metadata": {
    "lang": "en"
   },
   "source": [
    "As seen, because the p-value is greater than alpha, the null hypothesis cannot be ignored, which means that there is no difference in the average order size between groups.\n",
    "\n",
    "And the difference in average order size between groups was 25.2%."
   ]
  },
  {
   "cell_type": "markdown",
   "metadata": {},
   "source": [
    "[Back to stages](#back)"
   ]
  },
  {
   "cell_type": "markdown",
   "metadata": {},
   "source": [
    "### Statistical significance of conversion differences between groups (filtered data) <a id=\"h3\"></a>"
   ]
  },
  {
   "cell_type": "code",
   "execution_count": 64,
   "metadata": {
    "lang": "id"
   },
   "outputs": [],
   "source": [
    "# Users who made more than 2 orders\n",
    "users_orders_count = pd.concat([\n",
    "    orders_A[orders_A['orders'] > 2]['visitorid'],\n",
    "    orders_B[orders_B['orders'] > 2]['visitorid']],\n",
    "    axis = 0\n",
    ")"
   ]
  },
  {
   "cell_type": "code",
   "execution_count": 65,
   "metadata": {
    "lang": "id"
   },
   "outputs": [],
   "source": [
    "# Users who spend more than 500000\n",
    "users_orders_expense = df_orders[df_orders['revenue'] > 50000]['visitorid']"
   ]
  },
  {
   "cell_type": "code",
   "execution_count": 66,
   "metadata": {
    "lang": "id"
   },
   "outputs": [
    {
     "data": {
      "text/plain": [
       "18    199603092\n",
       "23    237748145\n",
       "37    249864742\n",
       "68    457167155\n",
       "68    611059232\n",
       "Name: visitorid, dtype: int64"
      ]
     },
     "execution_count": 66,
     "metadata": {},
     "output_type": "execute_result"
    }
   ],
   "source": [
    "# Merge series columns\n",
    "abnormal_users = (\n",
    "    pd.concat([users_orders_count, users_orders_expense],axis = 0)\n",
    "    .drop_duplicates()\n",
    "    .sort_values()\n",
    ")\n",
    "\n",
    "# Displays the result\n",
    "abnormal_users.head()"
   ]
  },
  {
   "cell_type": "code",
   "execution_count": 67,
   "metadata": {
    "lang": "id"
   },
   "outputs": [
    {
     "data": {
      "text/plain": [
       "(20,)"
      ]
     },
     "execution_count": 67,
     "metadata": {},
     "output_type": "execute_result"
    }
   ],
   "source": [
    "# Dataset size\n",
    "abnormal_users.shape"
   ]
  },
  {
   "cell_type": "code",
   "execution_count": 68,
   "metadata": {
    "lang": "id"
   },
   "outputs": [],
   "source": [
    "# Filter sample A\n",
    "sampleA_filt = pd.concat([orders_A[np.logical_not(orders_A['visitorid'].isin(abnormal_users))]['orders'],pd.Series(0, index=np.arange(\n",
    "    df_visits[df_visits['group']=='A']['visits'].sum() - len(orders_A['orders'])\n",
    "),name='orders')],axis=0)\n",
    "\n",
    "\n",
    "# Filter sample B\n",
    "sampleB_filt = pd.concat([orders_B[np.logical_not(orders_B['visitorid'].isin(abnormal_users))]['orders'],pd.Series(0, index=np.arange(\n",
    "    df_visits[df_visits['group']=='B']['visits'].sum() - len(orders_B['orders'])\n",
    "),name='orders')],axis=0)"
   ]
  },
  {
   "cell_type": "markdown",
   "metadata": {
    "lang": "en"
   },
   "source": [
    "Before starting hypothesis testing, the null hypothesis (H0) and the alternative hypothesis (H1) must be determined first.\n",
    "1. H0: There is no difference in conversion between groups.\n",
    "2. H1: There are differences in conversion between groups.\n",
    "\n",
    "If H0 defines 'There is no difference' in conversion between groups, then H1 will define the opposite of H0, which tell that 'There is a difference' in conversion between groups."
   ]
  },
  {
   "cell_type": "code",
   "execution_count": 69,
   "metadata": {
    "lang": "id"
   },
   "outputs": [
    {
     "name": "stdout",
     "output_type": "stream",
     "text": [
      "p-value: 0.011549354609175194\n",
      "We reject the null hypothesis\n"
     ]
    }
   ],
   "source": [
    "# Alpha is set at 0.05\n",
    "alpha = 0.05\n",
    "\n",
    "# Mann-Whitney U test\n",
    "results = st.mannwhitneyu(sampleA_filt, sampleB_filt)\n",
    "\n",
    "# Displays the result\n",
    "print('p-value:', results.pvalue)\n",
    "\n",
    "# Displays results based on conditions\n",
    "if results.pvalue < alpha:\n",
    "    print('We reject the null hypothesis')\n",
    "else:\n",
    "    print('We cannot ignore the null hypothesis')  "
   ]
  },
  {
   "cell_type": "code",
   "execution_count": 70,
   "metadata": {
    "lang": "id"
   },
   "outputs": [
    {
     "data": {
      "text/plain": [
       "0.17"
      ]
     },
     "execution_count": 70,
     "metadata": {},
     "output_type": "execute_result"
    }
   ],
   "source": [
    "# Relative difference in conversions between groups after filtering\n",
    "round(sampleB_filt.mean()/sampleA_filt.mean()-1, 3)"
   ]
  },
  {
   "cell_type": "markdown",
   "metadata": {
    "lang": "en"
   },
   "source": [
    "As seen, because the p-value is smaller than alpha, the null hypothesis is rejected, which means that there are differences in conversion between groups.\n",
    "\n",
    "And the relative difference in conversion between groups is 17%."
   ]
  },
  {
   "cell_type": "markdown",
   "metadata": {},
   "source": [
    "[Back to stages](#back)"
   ]
  },
  {
   "cell_type": "markdown",
   "metadata": {},
   "source": [
    "### Statistical significance of difference in mean order size between groups (filtered data) <a id=\"h4\"></a>"
   ]
  },
  {
   "cell_type": "markdown",
   "metadata": {
    "lang": "en"
   },
   "source": [
    "Before starting hypothesis testing, the null hypothesis (H0) and the alternative hypothesis (H1) must be determined first.\n",
    "1. H0: There is no difference in the average order size between groups.\n",
    "2. H1: There is a difference in the average order size between groups.\n",
    "\n",
    "If H0 defines 'There is no difference' in the average order size between groups, then H1 will define the opposite of H0, which tell that 'There is a difference' in the average order size between groups."
   ]
  },
  {
   "cell_type": "code",
   "execution_count": 71,
   "metadata": {
    "lang": "id"
   },
   "outputs": [
    {
     "name": "stdout",
     "output_type": "stream",
     "text": [
      "p-value: 0.7057054773124258\n",
      "We cannot ignore the null hypothesis\n"
     ]
    }
   ],
   "source": [
    "# Alpha is set at 0.05\n",
    "alpha = 0.05\n",
    "\n",
    "# Mann-Whitney U test\n",
    "results = st.mannwhitneyu(\n",
    "    df_orders[np.logical_and(\n",
    "        df_orders['group']=='A',\n",
    "        np.logical_not(df_orders['visitorid'].isin(abnormal_users)))]['revenue'],\n",
    "    df_orders[np.logical_and(\n",
    "        df_orders['group']=='B',\n",
    "        np.logical_not(df_orders['visitorid'].isin(abnormal_users)))]['revenue'])\n",
    "\n",
    "# Displays the result\n",
    "print('p-value:', results.pvalue)\n",
    "\n",
    "# Displays results based on conditions\n",
    "if results.pvalue < alpha:\n",
    "    print('We reject the null hypothesis')\n",
    "else:\n",
    "    print('We cannot ignore the null hypothesis') "
   ]
  },
  {
   "cell_type": "code",
   "execution_count": 72,
   "metadata": {
    "lang": "id"
   },
   "outputs": [
    {
     "data": {
      "text/plain": [
       "0.228"
      ]
     },
     "execution_count": 72,
     "metadata": {},
     "output_type": "execute_result"
    }
   ],
   "source": [
    "# Difference in average order size between groups after filtering\n",
    "round(\n",
    "    df_orders[np.logical_and(df_orders['group']=='B',np.logical_not(df_orders['visitorid'].isin(abnormal_users)))]['revenue'].mean()/\n",
    "    df_orders[np.logical_and(\n",
    "        df_orders['group']=='A',\n",
    "        np.logical_not(df_orders['visitorid'].isin(abnormal_users)))]['revenue'].mean() - 1, 3)"
   ]
  },
  {
   "cell_type": "markdown",
   "metadata": {
    "lang": "en"
   },
   "source": [
    "As seen, because the p-value is greater than alpha, the null hypothesis cannot be ignored, which means that there is no difference in the average order size between groups.\n",
    "\n",
    "And the difference in average order size between groups was 22.8%."
   ]
  },
  {
   "cell_type": "markdown",
   "metadata": {
    "lang": "en"
   },
   "source": [
    "**Tentative conclusion**\n",
    "\n",
    "The following facts are obtained from the results of hypothesis testing:\n",
    "1. Both the raw and filtered data showed statistically significant differences in conversion between groups\n",
    "2. Neither the raw data nor the filtered data showed statistically significant differences in average order size between groups\n",
    "3. The graph showing the difference in conversion between groups shows that the results of group B are better, and do not show a significant increase\n",
    "4. The graph showing the difference in average order size between groups shows that group B's results are getting better day by day."
   ]
  },
  {
   "cell_type": "markdown",
   "metadata": {
    "lang": "en"
   },
   "source": [
    "**Decision based on test results**\n",
    "\n",
    "Based on the results of statistical tests, the following possible decisions can be made:\n",
    "\n",
    "Stopped testing, and considered one of the groups as the leader as shown the probability that group B is better than group A in terms of average order size."
   ]
  },
  {
   "cell_type": "markdown",
   "metadata": {},
   "source": [
    "[Back to stages](#back)"
   ]
  },
  {
   "cell_type": "markdown",
   "metadata": {},
   "source": [
    "## General Conclusion <a id=\"Conclusion\"></a>"
   ]
  },
  {
   "cell_type": "markdown",
   "metadata": {
    "lang": "en"
   },
   "source": [
    "After checking the dataset, making improvements and conducting analysis, here are the results:\n",
    "\n",
    "In the hypothesis priority section:\n",
    "- Hypotheses 0 and 7 have a relatively promising position to be tested first\n",
    "\n",
    "Then on hypothesis testing:\n",
    "- The final decision is to stop testing, and consider group B to be the leader based on the probabilities shown."
   ]
  },
  {
   "cell_type": "markdown",
   "metadata": {},
   "source": [
    "[Back to stages](#back)"
   ]
  }
 ],
 "metadata": {
  "kernelspec": {
   "display_name": "Python 3 (ipykernel)",
   "language": "python",
   "name": "python3"
  },
  "language_info": {
   "codemirror_mode": {
    "name": "ipython",
    "version": 3
   },
   "file_extension": ".py",
   "mimetype": "text/x-python",
   "name": "python",
   "nbconvert_exporter": "python",
   "pygments_lexer": "ipython3",
   "version": "3.9.13"
  },
  "nbTranslate": {
   "displayLangs": [
    "*"
   ],
   "hotkey": "alt-t",
   "langInMainMenu": true,
   "sourceLang": "id",
   "targetLang": "en",
   "useGoogleTranslate": true
  },
  "toc": {
   "base_numbering": 1,
   "nav_menu": {},
   "number_sections": true,
   "sideBar": true,
   "skip_h1_title": true,
   "title_cell": "Table of Contents",
   "title_sidebar": "Contents",
   "toc_cell": false,
   "toc_position": {
    "height": "calc(100% - 180px)",
    "left": "10px",
    "top": "150px",
    "width": "307.2px"
   },
   "toc_section_display": true,
   "toc_window_display": true
  },
  "varInspector": {
   "cols": {
    "lenName": 16,
    "lenType": 16,
    "lenVar": 40
   },
   "kernels_config": {
    "python": {
     "delete_cmd_postfix": "",
     "delete_cmd_prefix": "del ",
     "library": "var_list.py",
     "varRefreshCmd": "print(var_dic_list())"
    },
    "r": {
     "delete_cmd_postfix": ") ",
     "delete_cmd_prefix": "rm(",
     "library": "var_list.r",
     "varRefreshCmd": "cat(var_dic_list()) "
    }
   },
   "types_to_exclude": [
    "module",
    "function",
    "builtin_function_or_method",
    "instance",
    "_Feature"
   ],
   "window_display": false
  }
 },
 "nbformat": 4,
 "nbformat_minor": 4
}
