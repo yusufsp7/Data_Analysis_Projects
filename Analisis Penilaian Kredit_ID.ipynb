{
 "cells": [
  {
   "cell_type": "markdown",
   "metadata": {},
   "source": [
    "# Analisis Penilaian Kredit"
   ]
  },
  {
   "cell_type": "markdown",
   "metadata": {},
   "source": [
    "Proyek ini akan mencari tahu pengaruh status perkawinan seorang nasabah dan jumlah anak yang dimilikinya terhadap probabilitas gagal bayar dalam pelunasan pinjaman. Pihak bank sudah memiliki beberapa data mengenai kelayakan kredit nasabah.\n",
    "\n",
    "Laporan ini akan dipertimbangkan pada saat membuat penilaian kredit untuk calon nasabah. Penilaian kredit digunakan untuk mengevaluasi kemampuan calon peminjam untuk melunasi pinjaman mereka."
   ]
  },
  {
   "cell_type": "markdown",
   "metadata": {},
   "source": [
    "<b>Hipotesis:</b>\n",
    "    \n",
    "   1. Terdapat korelasi antara memiliki anak dengan melakukan pelunasan  tepat waktu\n",
    "   2. Terdapat korelasi antara status keluarga dengan pelunasan tepat waktu\n",
    "   3. Terdapat korelasi antara tingkat pendapatan dengan membayar kembali tepat waktu\n",
    "   4. Tujuan kredit memengaruhi tingkat gagal bayar\n",
    "\n",
    "<b>Tahapan:</b>\n",
    "\n",
    "1. [Ikhtisar Data](#Mulai)\n",
    "    - [Kemungkinan penyebab hilangnya nilai dalam data](#penyebab)\n",
    "2. [Pra-pemprosesan Data](#pra-pemrosesan)\n",
    "    - [Memeriksa tiap kolom](#kolom)\n",
    "    - [Nilai duplikat](#duplikat)\n",
    "    - [Nilai-nilai yang hilang](#missing)\n",
    "3. [Pengkategorian Data](#kategori)\n",
    "    - [Tipe kolom kategorik](#kategorik)\n",
    "    - [Tipe kolom numerik](#numerik)\n",
    "4. [Menguji Hipotesis](#Test)\n",
    "    - [Hipotesis 1: korelasi antara memiliki anak dengan melakukan pelunasan tepat waktu](#1)\n",
    "    - [Hipotesis 2: korelasi antara status keluarga dengan pelunasan tepat waktu](#2)\n",
    "    - [Hipotesis 3: korelasi antara tingkat pendapatan dengan membayar kembali tepat waktu](#3)\n",
    "    - [Hipotesis 4: bagaimana tujuan kredit memengaruhi tingkat gagal bayar](#4)\n",
    "5. [Kesimpulan Umum](#Kesimpulan)"
   ]
  },
  {
   "cell_type": "markdown",
   "metadata": {},
   "source": [
    "## Ikhtisar Data <a id=\"Mulai\"></a>"
   ]
  },
  {
   "cell_type": "code",
   "execution_count": 2,
   "metadata": {},
   "outputs": [],
   "source": [
    "# Memuat library\n",
    "import pandas as pd"
   ]
  },
  {
   "cell_type": "code",
   "execution_count": 3,
   "metadata": {},
   "outputs": [],
   "source": [
    "# Dataset\n",
    "df = pd.read_csv('Y:\\\\Online Course\\\\Practicum\\\\Jupyter Notebook\\\\2 Project\\\\credit_scoring_eng.csv')"
   ]
  },
  {
   "cell_type": "code",
   "execution_count": 4,
   "metadata": {},
   "outputs": [
    {
     "name": "stdout",
     "output_type": "stream",
     "text": [
      "<class 'pandas.core.frame.DataFrame'>\n",
      "RangeIndex: 21525 entries, 0 to 21524\n",
      "Data columns (total 12 columns):\n",
      " #   Column            Non-Null Count  Dtype  \n",
      "---  ------            --------------  -----  \n",
      " 0   children          21525 non-null  int64  \n",
      " 1   days_employed     19351 non-null  float64\n",
      " 2   dob_years         21525 non-null  int64  \n",
      " 3   education         21525 non-null  object \n",
      " 4   education_id      21525 non-null  int64  \n",
      " 5   family_status     21525 non-null  object \n",
      " 6   family_status_id  21525 non-null  int64  \n",
      " 7   gender            21525 non-null  object \n",
      " 8   income_type       21525 non-null  object \n",
      " 9   debt              21525 non-null  int64  \n",
      " 10  total_income      19351 non-null  float64\n",
      " 11  purpose           21525 non-null  object \n",
      "dtypes: float64(2), int64(5), object(5)\n",
      "memory usage: 2.0+ MB\n"
     ]
    }
   ],
   "source": [
    "# Informasi umum dataset\n",
    "df.info()"
   ]
  },
  {
   "cell_type": "code",
   "execution_count": 5,
   "metadata": {},
   "outputs": [
    {
     "data": {
      "text/plain": [
       "(21525, 12)"
      ]
     },
     "execution_count": 5,
     "metadata": {},
     "output_type": "execute_result"
    }
   ],
   "source": [
    "# Ukuran dataset\n",
    "df.shape"
   ]
  },
  {
   "cell_type": "code",
   "execution_count": 6,
   "metadata": {
    "scrolled": true
   },
   "outputs": [
    {
     "data": {
      "text/html": [
       "<div>\n",
       "<style scoped>\n",
       "    .dataframe tbody tr th:only-of-type {\n",
       "        vertical-align: middle;\n",
       "    }\n",
       "\n",
       "    .dataframe tbody tr th {\n",
       "        vertical-align: top;\n",
       "    }\n",
       "\n",
       "    .dataframe thead th {\n",
       "        text-align: right;\n",
       "    }\n",
       "</style>\n",
       "<table border=\"1\" class=\"dataframe\">\n",
       "  <thead>\n",
       "    <tr style=\"text-align: right;\">\n",
       "      <th></th>\n",
       "      <th>children</th>\n",
       "      <th>days_employed</th>\n",
       "      <th>dob_years</th>\n",
       "      <th>education</th>\n",
       "      <th>education_id</th>\n",
       "      <th>family_status</th>\n",
       "      <th>family_status_id</th>\n",
       "      <th>gender</th>\n",
       "      <th>income_type</th>\n",
       "      <th>debt</th>\n",
       "      <th>total_income</th>\n",
       "      <th>purpose</th>\n",
       "    </tr>\n",
       "  </thead>\n",
       "  <tbody>\n",
       "    <tr>\n",
       "      <th>0</th>\n",
       "      <td>1</td>\n",
       "      <td>-8437.673028</td>\n",
       "      <td>42</td>\n",
       "      <td>bachelor's degree</td>\n",
       "      <td>0</td>\n",
       "      <td>married</td>\n",
       "      <td>0</td>\n",
       "      <td>F</td>\n",
       "      <td>employee</td>\n",
       "      <td>0</td>\n",
       "      <td>40620.102</td>\n",
       "      <td>purchase of the house</td>\n",
       "    </tr>\n",
       "    <tr>\n",
       "      <th>1</th>\n",
       "      <td>1</td>\n",
       "      <td>-4024.803754</td>\n",
       "      <td>36</td>\n",
       "      <td>secondary education</td>\n",
       "      <td>1</td>\n",
       "      <td>married</td>\n",
       "      <td>0</td>\n",
       "      <td>F</td>\n",
       "      <td>employee</td>\n",
       "      <td>0</td>\n",
       "      <td>17932.802</td>\n",
       "      <td>car purchase</td>\n",
       "    </tr>\n",
       "    <tr>\n",
       "      <th>2</th>\n",
       "      <td>0</td>\n",
       "      <td>-5623.422610</td>\n",
       "      <td>33</td>\n",
       "      <td>Secondary Education</td>\n",
       "      <td>1</td>\n",
       "      <td>married</td>\n",
       "      <td>0</td>\n",
       "      <td>M</td>\n",
       "      <td>employee</td>\n",
       "      <td>0</td>\n",
       "      <td>23341.752</td>\n",
       "      <td>purchase of the house</td>\n",
       "    </tr>\n",
       "    <tr>\n",
       "      <th>3</th>\n",
       "      <td>3</td>\n",
       "      <td>-4124.747207</td>\n",
       "      <td>32</td>\n",
       "      <td>secondary education</td>\n",
       "      <td>1</td>\n",
       "      <td>married</td>\n",
       "      <td>0</td>\n",
       "      <td>M</td>\n",
       "      <td>employee</td>\n",
       "      <td>0</td>\n",
       "      <td>42820.568</td>\n",
       "      <td>supplementary education</td>\n",
       "    </tr>\n",
       "    <tr>\n",
       "      <th>4</th>\n",
       "      <td>0</td>\n",
       "      <td>340266.072047</td>\n",
       "      <td>53</td>\n",
       "      <td>secondary education</td>\n",
       "      <td>1</td>\n",
       "      <td>civil partnership</td>\n",
       "      <td>1</td>\n",
       "      <td>F</td>\n",
       "      <td>retiree</td>\n",
       "      <td>0</td>\n",
       "      <td>25378.572</td>\n",
       "      <td>to have a wedding</td>\n",
       "    </tr>\n",
       "    <tr>\n",
       "      <th>5</th>\n",
       "      <td>0</td>\n",
       "      <td>-926.185831</td>\n",
       "      <td>27</td>\n",
       "      <td>bachelor's degree</td>\n",
       "      <td>0</td>\n",
       "      <td>civil partnership</td>\n",
       "      <td>1</td>\n",
       "      <td>M</td>\n",
       "      <td>business</td>\n",
       "      <td>0</td>\n",
       "      <td>40922.170</td>\n",
       "      <td>purchase of the house</td>\n",
       "    </tr>\n",
       "    <tr>\n",
       "      <th>6</th>\n",
       "      <td>0</td>\n",
       "      <td>-2879.202052</td>\n",
       "      <td>43</td>\n",
       "      <td>bachelor's degree</td>\n",
       "      <td>0</td>\n",
       "      <td>married</td>\n",
       "      <td>0</td>\n",
       "      <td>F</td>\n",
       "      <td>business</td>\n",
       "      <td>0</td>\n",
       "      <td>38484.156</td>\n",
       "      <td>housing transactions</td>\n",
       "    </tr>\n",
       "    <tr>\n",
       "      <th>7</th>\n",
       "      <td>0</td>\n",
       "      <td>-152.779569</td>\n",
       "      <td>50</td>\n",
       "      <td>SECONDARY EDUCATION</td>\n",
       "      <td>1</td>\n",
       "      <td>married</td>\n",
       "      <td>0</td>\n",
       "      <td>M</td>\n",
       "      <td>employee</td>\n",
       "      <td>0</td>\n",
       "      <td>21731.829</td>\n",
       "      <td>education</td>\n",
       "    </tr>\n",
       "    <tr>\n",
       "      <th>8</th>\n",
       "      <td>2</td>\n",
       "      <td>-6929.865299</td>\n",
       "      <td>35</td>\n",
       "      <td>BACHELOR'S DEGREE</td>\n",
       "      <td>0</td>\n",
       "      <td>civil partnership</td>\n",
       "      <td>1</td>\n",
       "      <td>F</td>\n",
       "      <td>employee</td>\n",
       "      <td>0</td>\n",
       "      <td>15337.093</td>\n",
       "      <td>having a wedding</td>\n",
       "    </tr>\n",
       "    <tr>\n",
       "      <th>9</th>\n",
       "      <td>0</td>\n",
       "      <td>-2188.756445</td>\n",
       "      <td>41</td>\n",
       "      <td>secondary education</td>\n",
       "      <td>1</td>\n",
       "      <td>married</td>\n",
       "      <td>0</td>\n",
       "      <td>M</td>\n",
       "      <td>employee</td>\n",
       "      <td>0</td>\n",
       "      <td>23108.150</td>\n",
       "      <td>purchase of the house for my family</td>\n",
       "    </tr>\n",
       "  </tbody>\n",
       "</table>\n",
       "</div>"
      ],
      "text/plain": [
       "   children  days_employed  dob_years            education  education_id  \\\n",
       "0         1   -8437.673028         42    bachelor's degree             0   \n",
       "1         1   -4024.803754         36  secondary education             1   \n",
       "2         0   -5623.422610         33  Secondary Education             1   \n",
       "3         3   -4124.747207         32  secondary education             1   \n",
       "4         0  340266.072047         53  secondary education             1   \n",
       "5         0    -926.185831         27    bachelor's degree             0   \n",
       "6         0   -2879.202052         43    bachelor's degree             0   \n",
       "7         0    -152.779569         50  SECONDARY EDUCATION             1   \n",
       "8         2   -6929.865299         35    BACHELOR'S DEGREE             0   \n",
       "9         0   -2188.756445         41  secondary education             1   \n",
       "\n",
       "       family_status  family_status_id gender income_type  debt  total_income  \\\n",
       "0            married                 0      F    employee     0     40620.102   \n",
       "1            married                 0      F    employee     0     17932.802   \n",
       "2            married                 0      M    employee     0     23341.752   \n",
       "3            married                 0      M    employee     0     42820.568   \n",
       "4  civil partnership                 1      F     retiree     0     25378.572   \n",
       "5  civil partnership                 1      M    business     0     40922.170   \n",
       "6            married                 0      F    business     0     38484.156   \n",
       "7            married                 0      M    employee     0     21731.829   \n",
       "8  civil partnership                 1      F    employee     0     15337.093   \n",
       "9            married                 0      M    employee     0     23108.150   \n",
       "\n",
       "                               purpose  \n",
       "0                purchase of the house  \n",
       "1                         car purchase  \n",
       "2                purchase of the house  \n",
       "3              supplementary education  \n",
       "4                    to have a wedding  \n",
       "5                purchase of the house  \n",
       "6                 housing transactions  \n",
       "7                            education  \n",
       "8                     having a wedding  \n",
       "9  purchase of the house for my family  "
      ]
     },
     "execution_count": 6,
     "metadata": {},
     "output_type": "execute_result"
    }
   ],
   "source": [
    "# Sampel data\n",
    "df.head(10)"
   ]
  },
  {
   "cell_type": "markdown",
   "metadata": {},
   "source": [
    "Dokumentasi:\n",
    "- `children` - jumlah anak dalam keluarga\n",
    "- `days_employed` - pengalaman kerja nasabah dalam hari\n",
    "- `dob_years` - usia nasabah dalam tahun\n",
    "- `education` - tingkat pendidikan nasabah\n",
    "- `education_id` - pengidentifikasi untuk tingkat pendidikan nasabah\n",
    "- `family_status` - pengidentifikasi untuk status perkawinan nasabah\n",
    "- `family_status_id` - tanda pengenal status perkawinan\n",
    "- `gender` - jenis kelamin nasabah\n",
    "- `income_type` - jenis pekerjaan\n",
    "- `debt` - apakah nasabah memiliki hutang pembayaran pinjaman\n",
    "- `total_income` - pendapatan bulanan\n",
    "- `purpose` - tujuan mendapatkan pinjaman\n",
    "- `age_group` - kategori usia\n",
    "- `purpose_group` - kategori tujuan pinjaman\n",
    "- `total_income_group` - kategori pendapatan"
   ]
  },
  {
   "cell_type": "code",
   "execution_count": 7,
   "metadata": {
    "scrolled": true
   },
   "outputs": [
    {
     "data": {
      "text/html": [
       "<div>\n",
       "<style scoped>\n",
       "    .dataframe tbody tr th:only-of-type {\n",
       "        vertical-align: middle;\n",
       "    }\n",
       "\n",
       "    .dataframe tbody tr th {\n",
       "        vertical-align: top;\n",
       "    }\n",
       "\n",
       "    .dataframe thead th {\n",
       "        text-align: right;\n",
       "    }\n",
       "</style>\n",
       "<table border=\"1\" class=\"dataframe\">\n",
       "  <thead>\n",
       "    <tr style=\"text-align: right;\">\n",
       "      <th></th>\n",
       "      <th>children</th>\n",
       "      <th>days_employed</th>\n",
       "      <th>dob_years</th>\n",
       "      <th>education</th>\n",
       "      <th>education_id</th>\n",
       "      <th>family_status</th>\n",
       "      <th>family_status_id</th>\n",
       "      <th>gender</th>\n",
       "      <th>income_type</th>\n",
       "      <th>debt</th>\n",
       "      <th>total_income</th>\n",
       "      <th>purpose</th>\n",
       "    </tr>\n",
       "  </thead>\n",
       "  <tbody>\n",
       "    <tr>\n",
       "      <th>12</th>\n",
       "      <td>0</td>\n",
       "      <td>NaN</td>\n",
       "      <td>65</td>\n",
       "      <td>secondary education</td>\n",
       "      <td>1</td>\n",
       "      <td>civil partnership</td>\n",
       "      <td>1</td>\n",
       "      <td>M</td>\n",
       "      <td>retiree</td>\n",
       "      <td>0</td>\n",
       "      <td>NaN</td>\n",
       "      <td>to have a wedding</td>\n",
       "    </tr>\n",
       "    <tr>\n",
       "      <th>26</th>\n",
       "      <td>0</td>\n",
       "      <td>NaN</td>\n",
       "      <td>41</td>\n",
       "      <td>secondary education</td>\n",
       "      <td>1</td>\n",
       "      <td>married</td>\n",
       "      <td>0</td>\n",
       "      <td>M</td>\n",
       "      <td>civil servant</td>\n",
       "      <td>0</td>\n",
       "      <td>NaN</td>\n",
       "      <td>education</td>\n",
       "    </tr>\n",
       "    <tr>\n",
       "      <th>29</th>\n",
       "      <td>0</td>\n",
       "      <td>NaN</td>\n",
       "      <td>63</td>\n",
       "      <td>secondary education</td>\n",
       "      <td>1</td>\n",
       "      <td>unmarried</td>\n",
       "      <td>4</td>\n",
       "      <td>F</td>\n",
       "      <td>retiree</td>\n",
       "      <td>0</td>\n",
       "      <td>NaN</td>\n",
       "      <td>building a real estate</td>\n",
       "    </tr>\n",
       "    <tr>\n",
       "      <th>41</th>\n",
       "      <td>0</td>\n",
       "      <td>NaN</td>\n",
       "      <td>50</td>\n",
       "      <td>secondary education</td>\n",
       "      <td>1</td>\n",
       "      <td>married</td>\n",
       "      <td>0</td>\n",
       "      <td>F</td>\n",
       "      <td>civil servant</td>\n",
       "      <td>0</td>\n",
       "      <td>NaN</td>\n",
       "      <td>second-hand car purchase</td>\n",
       "    </tr>\n",
       "    <tr>\n",
       "      <th>55</th>\n",
       "      <td>0</td>\n",
       "      <td>NaN</td>\n",
       "      <td>54</td>\n",
       "      <td>secondary education</td>\n",
       "      <td>1</td>\n",
       "      <td>civil partnership</td>\n",
       "      <td>1</td>\n",
       "      <td>F</td>\n",
       "      <td>retiree</td>\n",
       "      <td>1</td>\n",
       "      <td>NaN</td>\n",
       "      <td>to have a wedding</td>\n",
       "    </tr>\n",
       "    <tr>\n",
       "      <th>...</th>\n",
       "      <td>...</td>\n",
       "      <td>...</td>\n",
       "      <td>...</td>\n",
       "      <td>...</td>\n",
       "      <td>...</td>\n",
       "      <td>...</td>\n",
       "      <td>...</td>\n",
       "      <td>...</td>\n",
       "      <td>...</td>\n",
       "      <td>...</td>\n",
       "      <td>...</td>\n",
       "      <td>...</td>\n",
       "    </tr>\n",
       "    <tr>\n",
       "      <th>21489</th>\n",
       "      <td>2</td>\n",
       "      <td>NaN</td>\n",
       "      <td>47</td>\n",
       "      <td>Secondary Education</td>\n",
       "      <td>1</td>\n",
       "      <td>married</td>\n",
       "      <td>0</td>\n",
       "      <td>M</td>\n",
       "      <td>business</td>\n",
       "      <td>0</td>\n",
       "      <td>NaN</td>\n",
       "      <td>purchase of a car</td>\n",
       "    </tr>\n",
       "    <tr>\n",
       "      <th>21495</th>\n",
       "      <td>1</td>\n",
       "      <td>NaN</td>\n",
       "      <td>50</td>\n",
       "      <td>secondary education</td>\n",
       "      <td>1</td>\n",
       "      <td>civil partnership</td>\n",
       "      <td>1</td>\n",
       "      <td>F</td>\n",
       "      <td>employee</td>\n",
       "      <td>0</td>\n",
       "      <td>NaN</td>\n",
       "      <td>wedding ceremony</td>\n",
       "    </tr>\n",
       "    <tr>\n",
       "      <th>21497</th>\n",
       "      <td>0</td>\n",
       "      <td>NaN</td>\n",
       "      <td>48</td>\n",
       "      <td>BACHELOR'S DEGREE</td>\n",
       "      <td>0</td>\n",
       "      <td>married</td>\n",
       "      <td>0</td>\n",
       "      <td>F</td>\n",
       "      <td>business</td>\n",
       "      <td>0</td>\n",
       "      <td>NaN</td>\n",
       "      <td>building a property</td>\n",
       "    </tr>\n",
       "    <tr>\n",
       "      <th>21502</th>\n",
       "      <td>1</td>\n",
       "      <td>NaN</td>\n",
       "      <td>42</td>\n",
       "      <td>secondary education</td>\n",
       "      <td>1</td>\n",
       "      <td>married</td>\n",
       "      <td>0</td>\n",
       "      <td>F</td>\n",
       "      <td>employee</td>\n",
       "      <td>0</td>\n",
       "      <td>NaN</td>\n",
       "      <td>building a real estate</td>\n",
       "    </tr>\n",
       "    <tr>\n",
       "      <th>21510</th>\n",
       "      <td>2</td>\n",
       "      <td>NaN</td>\n",
       "      <td>28</td>\n",
       "      <td>secondary education</td>\n",
       "      <td>1</td>\n",
       "      <td>married</td>\n",
       "      <td>0</td>\n",
       "      <td>F</td>\n",
       "      <td>employee</td>\n",
       "      <td>0</td>\n",
       "      <td>NaN</td>\n",
       "      <td>car purchase</td>\n",
       "    </tr>\n",
       "  </tbody>\n",
       "</table>\n",
       "<p>2174 rows × 12 columns</p>\n",
       "</div>"
      ],
      "text/plain": [
       "       children  days_employed  dob_years            education  education_id  \\\n",
       "12            0            NaN         65  secondary education             1   \n",
       "26            0            NaN         41  secondary education             1   \n",
       "29            0            NaN         63  secondary education             1   \n",
       "41            0            NaN         50  secondary education             1   \n",
       "55            0            NaN         54  secondary education             1   \n",
       "...         ...            ...        ...                  ...           ...   \n",
       "21489         2            NaN         47  Secondary Education             1   \n",
       "21495         1            NaN         50  secondary education             1   \n",
       "21497         0            NaN         48    BACHELOR'S DEGREE             0   \n",
       "21502         1            NaN         42  secondary education             1   \n",
       "21510         2            NaN         28  secondary education             1   \n",
       "\n",
       "           family_status  family_status_id gender    income_type  debt  \\\n",
       "12     civil partnership                 1      M        retiree     0   \n",
       "26               married                 0      M  civil servant     0   \n",
       "29             unmarried                 4      F        retiree     0   \n",
       "41               married                 0      F  civil servant     0   \n",
       "55     civil partnership                 1      F        retiree     1   \n",
       "...                  ...               ...    ...            ...   ...   \n",
       "21489            married                 0      M       business     0   \n",
       "21495  civil partnership                 1      F       employee     0   \n",
       "21497            married                 0      F       business     0   \n",
       "21502            married                 0      F       employee     0   \n",
       "21510            married                 0      F       employee     0   \n",
       "\n",
       "       total_income                   purpose  \n",
       "12              NaN         to have a wedding  \n",
       "26              NaN                 education  \n",
       "29              NaN    building a real estate  \n",
       "41              NaN  second-hand car purchase  \n",
       "55              NaN         to have a wedding  \n",
       "...             ...                       ...  \n",
       "21489           NaN         purchase of a car  \n",
       "21495           NaN          wedding ceremony  \n",
       "21497           NaN       building a property  \n",
       "21502           NaN    building a real estate  \n",
       "21510           NaN              car purchase  \n",
       "\n",
       "[2174 rows x 12 columns]"
      ]
     },
     "execution_count": 7,
     "metadata": {},
     "output_type": "execute_result"
    }
   ],
   "source": [
    "# Filter nilai yang hilang pada kolom `days_employed`\n",
    "df.loc[df['days_employed'].isna()]"
   ]
  },
  {
   "cell_type": "code",
   "execution_count": 8,
   "metadata": {},
   "outputs": [],
   "source": [
    "# Filter nilai yang hilang pada kolom `days_employed` dan `total_income`\n",
    "df_null = df.loc[(df['days_employed'].isna()) & (df['total_income'].isna())]"
   ]
  },
  {
   "cell_type": "code",
   "execution_count": 9,
   "metadata": {},
   "outputs": [
    {
     "data": {
      "text/plain": [
       "children               0\n",
       "days_employed       2174\n",
       "dob_years              0\n",
       "education              0\n",
       "education_id           0\n",
       "family_status          0\n",
       "family_status_id       0\n",
       "gender                 0\n",
       "income_type            0\n",
       "debt                   0\n",
       "total_income        2174\n",
       "purpose                0\n",
       "dtype: int64"
      ]
     },
     "execution_count": 9,
     "metadata": {},
     "output_type": "execute_result"
    }
   ],
   "source": [
    "# Melihat jumlah baris dalam tabel yang telah difilter\n",
    "df_null.isna().sum()"
   ]
  },
  {
   "cell_type": "code",
   "execution_count": 10,
   "metadata": {},
   "outputs": [
    {
     "data": {
      "text/plain": [
       "children               0\n",
       "days_employed       2174\n",
       "dob_years              0\n",
       "education              0\n",
       "education_id           0\n",
       "family_status          0\n",
       "family_status_id       0\n",
       "gender                 0\n",
       "income_type            0\n",
       "debt                   0\n",
       "total_income        2174\n",
       "purpose                0\n",
       "dtype: int64"
      ]
     },
     "execution_count": 10,
     "metadata": {},
     "output_type": "execute_result"
    }
   ],
   "source": [
    "# Melihat jumlah baris dalam keseluruhan dataset\n",
    "df.isna().sum()"
   ]
  },
  {
   "cell_type": "markdown",
   "metadata": {},
   "source": [
    "Seperti yang terlihat, jumlah nilai yang hilang di semua baris sama dengan nilai yang hilang pada kolom yang sudah difilter, ini menunjukkan bahwa nilai yang hilang tampak simetris.\n",
    "    \n",
    "Bisa juga dilakukan analisa yang lebih dalam, untuk melihat nilai yang hilang simetris atau tidak dengan melihat nilai *mean, median, dan modus* seperti berikut:"
   ]
  },
  {
   "cell_type": "code",
   "execution_count": 11,
   "metadata": {},
   "outputs": [
    {
     "data": {
      "text/html": [
       "<div>\n",
       "<style scoped>\n",
       "    .dataframe tbody tr th:only-of-type {\n",
       "        vertical-align: middle;\n",
       "    }\n",
       "\n",
       "    .dataframe tbody tr th {\n",
       "        vertical-align: top;\n",
       "    }\n",
       "\n",
       "    .dataframe thead th {\n",
       "        text-align: right;\n",
       "    }\n",
       "</style>\n",
       "<table border=\"1\" class=\"dataframe\">\n",
       "  <thead>\n",
       "    <tr style=\"text-align: right;\">\n",
       "      <th></th>\n",
       "      <th>children</th>\n",
       "      <th>days_employed</th>\n",
       "      <th>dob_years</th>\n",
       "      <th>education_id</th>\n",
       "      <th>family_status_id</th>\n",
       "      <th>debt</th>\n",
       "      <th>total_income</th>\n",
       "    </tr>\n",
       "  </thead>\n",
       "  <tbody>\n",
       "    <tr>\n",
       "      <th>count</th>\n",
       "      <td>21525.000000</td>\n",
       "      <td>19351.000000</td>\n",
       "      <td>21525.000000</td>\n",
       "      <td>21525.000000</td>\n",
       "      <td>21525.000000</td>\n",
       "      <td>21525.000000</td>\n",
       "      <td>19351.000000</td>\n",
       "    </tr>\n",
       "    <tr>\n",
       "      <th>mean</th>\n",
       "      <td>0.538908</td>\n",
       "      <td>63046.497661</td>\n",
       "      <td>43.293380</td>\n",
       "      <td>0.817236</td>\n",
       "      <td>0.972544</td>\n",
       "      <td>0.080883</td>\n",
       "      <td>26787.568355</td>\n",
       "    </tr>\n",
       "    <tr>\n",
       "      <th>std</th>\n",
       "      <td>1.381587</td>\n",
       "      <td>140827.311974</td>\n",
       "      <td>12.574584</td>\n",
       "      <td>0.548138</td>\n",
       "      <td>1.420324</td>\n",
       "      <td>0.272661</td>\n",
       "      <td>16475.450632</td>\n",
       "    </tr>\n",
       "    <tr>\n",
       "      <th>min</th>\n",
       "      <td>-1.000000</td>\n",
       "      <td>-18388.949901</td>\n",
       "      <td>0.000000</td>\n",
       "      <td>0.000000</td>\n",
       "      <td>0.000000</td>\n",
       "      <td>0.000000</td>\n",
       "      <td>3306.762000</td>\n",
       "    </tr>\n",
       "    <tr>\n",
       "      <th>25%</th>\n",
       "      <td>0.000000</td>\n",
       "      <td>-2747.423625</td>\n",
       "      <td>33.000000</td>\n",
       "      <td>1.000000</td>\n",
       "      <td>0.000000</td>\n",
       "      <td>0.000000</td>\n",
       "      <td>16488.504500</td>\n",
       "    </tr>\n",
       "    <tr>\n",
       "      <th>50%</th>\n",
       "      <td>0.000000</td>\n",
       "      <td>-1203.369529</td>\n",
       "      <td>42.000000</td>\n",
       "      <td>1.000000</td>\n",
       "      <td>0.000000</td>\n",
       "      <td>0.000000</td>\n",
       "      <td>23202.870000</td>\n",
       "    </tr>\n",
       "    <tr>\n",
       "      <th>75%</th>\n",
       "      <td>1.000000</td>\n",
       "      <td>-291.095954</td>\n",
       "      <td>53.000000</td>\n",
       "      <td>1.000000</td>\n",
       "      <td>1.000000</td>\n",
       "      <td>0.000000</td>\n",
       "      <td>32549.611000</td>\n",
       "    </tr>\n",
       "    <tr>\n",
       "      <th>max</th>\n",
       "      <td>20.000000</td>\n",
       "      <td>401755.400475</td>\n",
       "      <td>75.000000</td>\n",
       "      <td>4.000000</td>\n",
       "      <td>4.000000</td>\n",
       "      <td>1.000000</td>\n",
       "      <td>362496.645000</td>\n",
       "    </tr>\n",
       "  </tbody>\n",
       "</table>\n",
       "</div>"
      ],
      "text/plain": [
       "           children  days_employed     dob_years  education_id  \\\n",
       "count  21525.000000   19351.000000  21525.000000  21525.000000   \n",
       "mean       0.538908   63046.497661     43.293380      0.817236   \n",
       "std        1.381587  140827.311974     12.574584      0.548138   \n",
       "min       -1.000000  -18388.949901      0.000000      0.000000   \n",
       "25%        0.000000   -2747.423625     33.000000      1.000000   \n",
       "50%        0.000000   -1203.369529     42.000000      1.000000   \n",
       "75%        1.000000    -291.095954     53.000000      1.000000   \n",
       "max       20.000000  401755.400475     75.000000      4.000000   \n",
       "\n",
       "       family_status_id          debt   total_income  \n",
       "count      21525.000000  21525.000000   19351.000000  \n",
       "mean           0.972544      0.080883   26787.568355  \n",
       "std            1.420324      0.272661   16475.450632  \n",
       "min            0.000000      0.000000    3306.762000  \n",
       "25%            0.000000      0.000000   16488.504500  \n",
       "50%            0.000000      0.000000   23202.870000  \n",
       "75%            1.000000      0.000000   32549.611000  \n",
       "max            4.000000      1.000000  362496.645000  "
      ]
     },
     "execution_count": 11,
     "metadata": {},
     "output_type": "execute_result"
    }
   ],
   "source": [
    "# Melihat deskripsi dari dataset untuk mengetahui dataset memiliki distribusi simetris atau tidak\n",
    "df.describe()"
   ]
  },
  {
   "cell_type": "code",
   "execution_count": 12,
   "metadata": {},
   "outputs": [
    {
     "data": {
      "text/plain": [
       "{'Mean': 0.5389082462253194, 'Median': 0.0, 'Mode': 0}"
      ]
     },
     "execution_count": 12,
     "metadata": {},
     "output_type": "execute_result"
    }
   ],
   "source": [
    "# Melihat nilai mean, median, mode dari lewat sebuah kolom\n",
    "# untuk menentukan nilai yang hilang simetris atau tidak\n",
    "CentralTendacy = {}\n",
    "CentralTendacy['Mean'] = df['children'].mean()\n",
    "CentralTendacy['Median'] = df['children'].median()\n",
    "CentralTendacy['Mode'] = df['children'].mode()[0]\n",
    "\n",
    "CentralTendacy"
   ]
  },
  {
   "cell_type": "markdown",
   "metadata": {},
   "source": [
    "Distribusi data akan dianggap simetris jika memiliki nilai *mean, median,* dan *modus* yang hampir sama.\n",
    "\n",
    "Seperti deskripsi dari dataset dan juga pada kolom children, nilai *mean,  median, modus* tidak terlalu jauh, jadi dapat disimpulkan dataset memiliki distribusi data yang simetris yang berarti tidak ada *outlier*."
   ]
  },
  {
   "cell_type": "code",
   "execution_count": 13,
   "metadata": {},
   "outputs": [
    {
     "data": {
      "text/plain": [
       "10.099883855981417"
      ]
     },
     "execution_count": 13,
     "metadata": {},
     "output_type": "execute_result"
    }
   ],
   "source": [
    "# Persentase nilai yang hilang dibandingkan dengan keseluruhan dataset\n",
    "(len(df_null)/len(df)) * 100"
   ]
  },
  {
   "cell_type": "markdown",
   "metadata": {},
   "source": [
    "Persentase sekitar 10% lebih, menunjukkan bahwa nilai yang hilang cukup besar. Jadi nilai ini perlu di tangani lebih lanjut dengan mengisi nilai tersebut."
   ]
  },
  {
   "cell_type": "markdown",
   "metadata": {},
   "source": [
    "### Kemungkinan penyebab hilangnya nilai dalam data <a id=\"penyebab\"></a>"
   ]
  },
  {
   "cell_type": "code",
   "execution_count": 14,
   "metadata": {},
   "outputs": [
    {
     "data": {
      "text/plain": [
       "employee         1105\n",
       "business          508\n",
       "retiree           413\n",
       "civil servant     147\n",
       "entrepreneur        1\n",
       "Name: income_type, dtype: int64"
      ]
     },
     "execution_count": 14,
     "metadata": {},
     "output_type": "execute_result"
    }
   ],
   "source": [
    "# Memeriksa dataset dengan nasabah yang tidak memiliki data tentang karakteristik yang teridentifikasi \n",
    "# dan kolom dengan nilai yang hilang\n",
    "df_null['income_type'].value_counts()"
   ]
  },
  {
   "cell_type": "code",
   "execution_count": 15,
   "metadata": {},
   "outputs": [
    {
     "data": {
      "text/plain": [
       "employee                       11119\n",
       "business                        5085\n",
       "retiree                         3856\n",
       "civil servant                   1459\n",
       "unemployed                         2\n",
       "entrepreneur                       2\n",
       "student                            1\n",
       "paternity / maternity leave        1\n",
       "Name: income_type, dtype: int64"
      ]
     },
     "execution_count": 15,
     "metadata": {},
     "output_type": "execute_result"
    }
   ],
   "source": [
    "# Membandingkan dengan dataset\n",
    "df['income_type'].value_counts()"
   ]
  },
  {
   "cell_type": "markdown",
   "metadata": {},
   "source": [
    "Jika dilihat dari karakteristik jenis pendapatan nasabah, pada kolom `'income_type'` yang difilter menunjukkan 5 jenis nilai."
   ]
  },
  {
   "cell_type": "code",
   "execution_count": 16,
   "metadata": {},
   "outputs": [
    {
     "data": {
      "text/plain": [
       "secondary education    1408\n",
       "bachelor's degree       496\n",
       "SECONDARY EDUCATION      67\n",
       "Secondary Education      65\n",
       "some college             55\n",
       "Bachelor's Degree        25\n",
       "BACHELOR'S DEGREE        23\n",
       "primary education        19\n",
       "Some College              7\n",
       "SOME COLLEGE              7\n",
       "Primary Education         1\n",
       "PRIMARY EDUCATION         1\n",
       "Name: education, dtype: int64"
      ]
     },
     "execution_count": 16,
     "metadata": {},
     "output_type": "execute_result"
    }
   ],
   "source": [
    "# karakteristik lainnya seperti tingkat pendidikan nasabah\n",
    "df_null['education'].value_counts()"
   ]
  },
  {
   "cell_type": "code",
   "execution_count": 17,
   "metadata": {},
   "outputs": [
    {
     "data": {
      "text/plain": [
       "secondary education    13750\n",
       "bachelor's degree       4718\n",
       "SECONDARY EDUCATION      772\n",
       "Secondary Education      711\n",
       "some college             668\n",
       "BACHELOR'S DEGREE        274\n",
       "Bachelor's Degree        268\n",
       "primary education        250\n",
       "Some College              47\n",
       "SOME COLLEGE              29\n",
       "PRIMARY EDUCATION         17\n",
       "Primary Education         15\n",
       "graduate degree            4\n",
       "Graduate Degree            1\n",
       "GRADUATE DEGREE            1\n",
       "Name: education, dtype: int64"
      ]
     },
     "execution_count": 17,
     "metadata": {},
     "output_type": "execute_result"
    }
   ],
   "source": [
    "# dibandingkan dengan dataset\n",
    "df['education'].value_counts()"
   ]
  },
  {
   "cell_type": "code",
   "execution_count": 18,
   "metadata": {
    "scrolled": true
   },
   "outputs": [
    {
     "data": {
      "text/plain": [
       "F    1484\n",
       "M     690\n",
       "Name: gender, dtype: int64"
      ]
     },
     "execution_count": 18,
     "metadata": {},
     "output_type": "execute_result"
    }
   ],
   "source": [
    "# karakteristik lainnya seperti jenis kelamin nasabah\n",
    "df_null['gender'].value_counts()"
   ]
  },
  {
   "cell_type": "code",
   "execution_count": 19,
   "metadata": {},
   "outputs": [
    {
     "data": {
      "text/plain": [
       "F      14236\n",
       "M       7288\n",
       "XNA        1\n",
       "Name: gender, dtype: int64"
      ]
     },
     "execution_count": 19,
     "metadata": {},
     "output_type": "execute_result"
    }
   ],
   "source": [
    "# dibandingkan dengan dataset\n",
    "df['gender'].value_counts()"
   ]
  },
  {
   "cell_type": "markdown",
   "metadata": {},
   "source": [
    "**Kesimpulan sementara**\n",
    "\n",
    "*Findings*:\n",
    "1. Terdapat kejanggalan pada kolom `days_employed` yang kemungkinan bernilai positif, \n",
    "2. Kolom `education`, dan `purpose` terdapat nilai yang memiliki makna sama namun ditulis dengan beberapa cara,\n",
    "3. Nilai yang hilang:\n",
    "    - Kemungkinan tidak ada *outlier* pada kolom yang terdapat nilai yang hilang,\n",
    "    - Terlihat jumlah baris dalam tabel yang telah difilter sesuai dengan jumlah nilai yang hilang, ini artinya ketika kolom `'days_employed'` memiliki nilai `NaN` di kolom `'total income'` juga ada nilai `NaN` yang menunjukkan bahwa nilai yang hilang tampak simetris,\n",
    "    - Terdapat perbedaaan jika dilihat dari jenis nilai, pada kolom `'income_type'` yang difilter menunjukkan 5 jenis nilai, sedangkan *dataset* memiliki 8 jenis nilai. Namun belum bisa disimpulkan bahwa nilai ini acak atau terdapat pola,\n",
    "    - Terdapat perbedaaan jenis nilai juga pada karakteristik tingkat pendidikan nasabah, pada kolom `'education'` yang difilter terdapat 12 jenis nilai, sedangkan pada *dataset* memiliki 15 jenis nilai\n",
    "    - Terdapat perbedaaan jenis nilai juga pada karakteristik jenis kelamin nasabah, pada kolom `'gender'` yang difilter terdapat 2 jenis nilai, sedangkan pada *dataset* memiliki 3 jenis nilai."
   ]
  },
  {
   "cell_type": "markdown",
   "metadata": {},
   "source": [
    "## Pra-pemrosesan Data <a id=\"pra-pemrosesan\"></a>"
   ]
  },
  {
   "cell_type": "code",
   "execution_count": 20,
   "metadata": {},
   "outputs": [],
   "source": [
    "# Checkpoint variabel\n",
    "df_edit = df"
   ]
  },
  {
   "cell_type": "markdown",
   "metadata": {},
   "source": [
    "### Memeriksa tiap kolom <a id=\"kolom\"></a>"
   ]
  },
  {
   "cell_type": "markdown",
   "metadata": {},
   "source": [
    "#### Kolom `'education'`."
   ]
  },
  {
   "cell_type": "code",
   "execution_count": 21,
   "metadata": {},
   "outputs": [
    {
     "data": {
      "text/plain": [
       "array([\"bachelor's degree\", 'secondary education', 'Secondary Education',\n",
       "       'SECONDARY EDUCATION', \"BACHELOR'S DEGREE\", 'some college',\n",
       "       'primary education', \"Bachelor's Degree\", 'SOME COLLEGE',\n",
       "       'Some College', 'PRIMARY EDUCATION', 'Primary Education',\n",
       "       'Graduate Degree', 'GRADUATE DEGREE', 'graduate degree'],\n",
       "      dtype=object)"
      ]
     },
     "execution_count": 21,
     "metadata": {},
     "output_type": "execute_result"
    }
   ],
   "source": [
    "# Nilai unik kolom pendidikan\n",
    "df_edit['education'].unique()"
   ]
  },
  {
   "cell_type": "code",
   "execution_count": 22,
   "metadata": {
    "scrolled": true
   },
   "outputs": [],
   "source": [
    "# Memperbaiki nilai\n",
    "df_edit['education'] = df_edit['education'].str.lower()"
   ]
  },
  {
   "cell_type": "code",
   "execution_count": 23,
   "metadata": {},
   "outputs": [
    {
     "data": {
      "text/plain": [
       "array([\"bachelor's degree\", 'secondary education', 'some college',\n",
       "       'primary education', 'graduate degree'], dtype=object)"
      ]
     },
     "execution_count": 23,
     "metadata": {},
     "output_type": "execute_result"
    }
   ],
   "source": [
    "# Memeriksa hasilnya\n",
    "df_edit['education'].unique()"
   ]
  },
  {
   "cell_type": "markdown",
   "metadata": {},
   "source": [
    "Ada beberapa jenis nilai yang memiliki makna yang sama namun ditulis berbeda, jadi bisa diperbaiki agar bisa membuat jenis nilai tersebut memiliki makna yang berbeda satu sama lainnya."
   ]
  },
  {
   "cell_type": "markdown",
   "metadata": {},
   "source": [
    "#### Kolom `children`."
   ]
  },
  {
   "cell_type": "code",
   "execution_count": 24,
   "metadata": {},
   "outputs": [
    {
     "data": {
      "text/plain": [
       " 0     14149\n",
       " 1      4818\n",
       " 2      2055\n",
       " 3       330\n",
       " 20       76\n",
       "-1        47\n",
       " 4        41\n",
       " 5         9\n",
       "Name: children, dtype: int64"
      ]
     },
     "execution_count": 24,
     "metadata": {},
     "output_type": "execute_result"
    }
   ],
   "source": [
    "# Distribusi nilai pada kolom `children`\n",
    "df_edit['children'].value_counts()"
   ]
  },
  {
   "cell_type": "markdown",
   "metadata": {},
   "source": [
    "Terdapat 47 baris di kolom `'children'` yang memiliki nilai -1 dan 76 baris yang memiliki nilai 20, normalnya tidak ada orang yang memiliki 20 anak atau bahkan -1 anak."
   ]
  },
  {
   "cell_type": "markdown",
   "metadata": {},
   "source": [
    "Ada dua opsi untuk memperbaiki nilai ini, dihapus, atau diperbaiki nilainya. Bisa diputuskan setelah melihat persentasenya terhadap keseluruhan dataset."
   ]
  },
  {
   "cell_type": "code",
   "execution_count": 25,
   "metadata": {},
   "outputs": [
    {
     "name": "stdout",
     "output_type": "stream",
     "text": [
      "0.3530778164924506\n",
      "0.2183507549361208\n"
     ]
    }
   ],
   "source": [
    "# Persentase nilai dibandingkan dengan keseluruhan dataset\n",
    "print(len(df_edit.loc[df_edit['children']==20])/len(df)*100)\n",
    "print(len(df_edit.loc[df_edit['children']==-1])/len(df)*100)"
   ]
  },
  {
   "cell_type": "markdown",
   "metadata": {},
   "source": [
    "Seperti yang dilihat sangat persentasenya sangat sedikit, jadi nilainya bisa dihapus/diperbaiki. Karena nilainya masih masih memungkinkan untuk bisa diperbaiki, maka lebih baik dilakukan perbaikan daripada melakukan penghapusan."
   ]
  },
  {
   "cell_type": "code",
   "execution_count": 26,
   "metadata": {},
   "outputs": [],
   "source": [
    "# Memperbaiki dataset\n",
    "df_edit.loc[df_edit['children']==20, 'children'] = 2\n",
    "df_edit.loc[df_edit['children']==-1, 'children'] = 1"
   ]
  },
  {
   "cell_type": "code",
   "execution_count": 27,
   "metadata": {},
   "outputs": [
    {
     "data": {
      "text/plain": [
       "0    14149\n",
       "1     4865\n",
       "2     2131\n",
       "3      330\n",
       "4       41\n",
       "5        9\n",
       "Name: children, dtype: int64"
      ]
     },
     "execution_count": 27,
     "metadata": {},
     "output_type": "execute_result"
    }
   ],
   "source": [
    "# Memeriksa hasilnya\n",
    "df_edit['children'].value_counts()"
   ]
  },
  {
   "cell_type": "markdown",
   "metadata": {},
   "source": [
    "Kolom `'children'` sudah diberbaiki dengan mengganti nilai 20 menjadi 2 dan -1 menjadi 1."
   ]
  },
  {
   "cell_type": "markdown",
   "metadata": {},
   "source": [
    "#### Kolom `days_employed`."
   ]
  },
  {
   "cell_type": "code",
   "execution_count": 100,
   "metadata": {
    "scrolled": true
   },
   "outputs": [
    {
     "data": {
      "text/plain": [
       "6.379736     0.049878\n",
       "5.788341     0.023370\n",
       "36.431115    0.017937\n",
       "36.000000    0.011896\n",
       "37.000000    0.011381\n",
       "               ...   \n",
       "1.838577     0.000047\n",
       "5.534585     0.000047\n",
       "3.533909     0.000047\n",
       "1.219963     0.000047\n",
       "5.437007     0.000047\n",
       "Name: days_employed, Length: 15883, dtype: float64"
      ]
     },
     "execution_count": 100,
     "metadata": {},
     "output_type": "execute_result"
    }
   ],
   "source": [
    "# Mencari data yang bermasalah di `days_employed`\n",
    "df_edit['days_employed'].value_counts(normalize=True)"
   ]
  },
  {
   "cell_type": "markdown",
   "metadata": {},
   "source": [
    "Terdapat masalah di kolom `'days_employed'` yang menunjukkan nilai negatif, dimana normalnya lama seseorang bekerja akan dicatat dalam nilai positif."
   ]
  },
  {
   "cell_type": "code",
   "execution_count": 29,
   "metadata": {},
   "outputs": [
    {
     "data": {
      "text/plain": [
       "count    19351.000000\n",
       "mean       172.730131\n",
       "std        385.828252\n",
       "min        -50.380685\n",
       "25%         -7.527188\n",
       "50%         -3.296903\n",
       "75%         -0.797523\n",
       "max       1100.699727\n",
       "Name: days_employed, dtype: float64"
      ]
     },
     "execution_count": 29,
     "metadata": {},
     "output_type": "execute_result"
    }
   ],
   "source": [
    "# Mengkonversikan nilai pada kolom 'days_employed' menjadi per tahun\n",
    "df_edit['days_employed'] = df_edit['days_employed'] / 365\n",
    "df_edit['days_employed'].describe()"
   ]
  },
  {
   "cell_type": "markdown",
   "metadata": {},
   "source": [
    "Seperti yang terlihat terdapat nilai yang menunjukkan seseorang nasabah yang bekerja hingga 1100 tahun lebih, normalnya ini tidak terjadi. Di 45 negara bagian menunjukkan bahwa rata-rata seseorang yang pensiun dari pekerjaan mereka pada umur 62 dan 65, dan untuk usia pensiun tersebut mereka memiliki masa kerja sekitar 42 tahun. Tidak mendekati 48 atau 52 tahun."
   ]
  },
  {
   "cell_type": "code",
   "execution_count": 30,
   "metadata": {
    "scrolled": true
   },
   "outputs": [
    {
     "name": "stdout",
     "output_type": "stream",
     "text": [
      "73.89547038327527\n",
      "16.004645760743323\n"
     ]
    }
   ],
   "source": [
    "# Menghitung persentase nilai negatif\n",
    "print(len(df_edit.loc[df['days_employed']<0])/len(df) *100)\n",
    "\n",
    "# dan lama bekerja yang tidak normal\n",
    "print(len(df_edit.loc[df_edit['days_employed']>42])/len(df) *100)"
   ]
  },
  {
   "cell_type": "markdown",
   "metadata": {},
   "source": [
    "Mengingat persentase data yang bermasalah sangat banyak jadi baris yang bermasalah ini tidak bisa dihapus, harus diperbaiki, dan menyarankan untuk mengecek ulang pada saat proses pengambilan data."
   ]
  },
  {
   "cell_type": "code",
   "execution_count": 31,
   "metadata": {},
   "outputs": [],
   "source": [
    "# Memperbaiki dataset\n",
    "# misal seseorang mulai bekerja pada usia 23\n",
    "value_replace = df_edit.loc[df_edit['days_employed']>42, 'dob_years'] - 23\n",
    "df_edit.loc[df_edit['days_employed']>42, 'days_employed'] = value_replace"
   ]
  },
  {
   "cell_type": "code",
   "execution_count": 32,
   "metadata": {},
   "outputs": [
    {
     "data": {
      "text/plain": [
       "25       44.0\n",
       "35       45.0\n",
       "128      44.0\n",
       "150      48.0\n",
       "168      44.0\n",
       "         ... \n",
       "21405    43.0\n",
       "21419    44.0\n",
       "21450    44.0\n",
       "21504    45.0\n",
       "21521    44.0\n",
       "Name: days_employed, Length: 565, dtype: float64"
      ]
     },
     "execution_count": 32,
     "metadata": {},
     "output_type": "execute_result"
    }
   ],
   "source": [
    "# Memeriksa hasilnya\n",
    "df_edit.loc[df_edit['days_employed']>42, 'days_employed']"
   ]
  },
  {
   "cell_type": "code",
   "execution_count": 33,
   "metadata": {},
   "outputs": [],
   "source": [
    "# Memperbaiki nilai yang bermasalah, untuk nilai negatif\n",
    "df_edit['days_employed'] = abs(df_edit['days_employed'])"
   ]
  },
  {
   "cell_type": "code",
   "execution_count": 34,
   "metadata": {
    "scrolled": true
   },
   "outputs": [
    {
     "data": {
      "text/html": [
       "<div>\n",
       "<style scoped>\n",
       "    .dataframe tbody tr th:only-of-type {\n",
       "        vertical-align: middle;\n",
       "    }\n",
       "\n",
       "    .dataframe tbody tr th {\n",
       "        vertical-align: top;\n",
       "    }\n",
       "\n",
       "    .dataframe thead th {\n",
       "        text-align: right;\n",
       "    }\n",
       "</style>\n",
       "<table border=\"1\" class=\"dataframe\">\n",
       "  <thead>\n",
       "    <tr style=\"text-align: right;\">\n",
       "      <th></th>\n",
       "      <th>children</th>\n",
       "      <th>days_employed</th>\n",
       "      <th>dob_years</th>\n",
       "      <th>education</th>\n",
       "      <th>education_id</th>\n",
       "      <th>family_status</th>\n",
       "      <th>family_status_id</th>\n",
       "      <th>gender</th>\n",
       "      <th>income_type</th>\n",
       "      <th>debt</th>\n",
       "      <th>total_income</th>\n",
       "      <th>purpose</th>\n",
       "    </tr>\n",
       "  </thead>\n",
       "  <tbody>\n",
       "  </tbody>\n",
       "</table>\n",
       "</div>"
      ],
      "text/plain": [
       "Empty DataFrame\n",
       "Columns: [children, days_employed, dob_years, education, education_id, family_status, family_status_id, gender, income_type, debt, total_income, purpose]\n",
       "Index: []"
      ]
     },
     "execution_count": 34,
     "metadata": {},
     "output_type": "execute_result"
    }
   ],
   "source": [
    "# Memeriksa hasilnya\n",
    "df_edit[df_edit['days_employed']<0]"
   ]
  },
  {
   "cell_type": "markdown",
   "metadata": {},
   "source": [
    "Seperti yang terlihat kolom `'days_employed'` sudah diperbaiki dengan merubah semua nilai yang kelihatan tidak normal, menggantinya dengan memasukkan nilai dari kolom `'dob_years'` dikurangi usia seseorang mulai bekerja. Juga merubah semua nilai negatif ke positif"
   ]
  },
  {
   "cell_type": "markdown",
   "metadata": {},
   "source": [
    "#### Data pada kolom `'dob_years'`."
   ]
  },
  {
   "cell_type": "code",
   "execution_count": 35,
   "metadata": {
    "scrolled": true
   },
   "outputs": [
    {
     "data": {
      "text/plain": [
       "35    617\n",
       "40    609\n",
       "41    607\n",
       "34    603\n",
       "38    598\n",
       "42    597\n",
       "33    581\n",
       "39    573\n",
       "31    560\n",
       "36    555\n",
       "44    547\n",
       "29    545\n",
       "30    540\n",
       "48    538\n",
       "37    537\n",
       "50    514\n",
       "43    513\n",
       "32    510\n",
       "49    508\n",
       "28    503\n",
       "45    497\n",
       "27    493\n",
       "56    487\n",
       "52    484\n",
       "47    480\n",
       "54    479\n",
       "46    475\n",
       "58    461\n",
       "57    460\n",
       "53    459\n",
       "51    448\n",
       "59    444\n",
       "55    443\n",
       "26    408\n",
       "60    377\n",
       "25    357\n",
       "61    355\n",
       "62    352\n",
       "63    269\n",
       "64    265\n",
       "24    264\n",
       "23    254\n",
       "65    194\n",
       "22    183\n",
       "66    183\n",
       "67    167\n",
       "21    111\n",
       "0     101\n",
       "68     99\n",
       "69     85\n",
       "70     65\n",
       "71     58\n",
       "20     51\n",
       "72     33\n",
       "19     14\n",
       "73      8\n",
       "74      6\n",
       "75      1\n",
       "Name: dob_years, dtype: int64"
      ]
     },
     "execution_count": 35,
     "metadata": {},
     "output_type": "execute_result"
    }
   ],
   "source": [
    "# Memeriksa kolom `dob_years`\n",
    "df_edit['dob_years'].value_counts()"
   ]
  },
  {
   "cell_type": "markdown",
   "metadata": {},
   "source": [
    "Seperti yang terlihat terdapat 101 baris yang memiliki nilai 0, normalnya tidak ada usia dengan nilai 0."
   ]
  },
  {
   "cell_type": "code",
   "execution_count": 36,
   "metadata": {},
   "outputs": [
    {
     "data": {
      "text/plain": [
       "0.4692218350754936"
      ]
     },
     "execution_count": 36,
     "metadata": {},
     "output_type": "execute_result"
    }
   ],
   "source": [
    "# Menghitung persentasenya\n",
    "len(df_edit.loc[df_edit['dob_years']==0])/len(df)*100"
   ]
  },
  {
   "cell_type": "markdown",
   "metadata": {},
   "source": [
    "Karena persentsenya sangat kecil dan tidak memungkinkan untuk nilai ini diperbaiki jadi nilainya bisa dihapus."
   ]
  },
  {
   "cell_type": "code",
   "execution_count": 37,
   "metadata": {},
   "outputs": [],
   "source": [
    "# Memperbaiki dataset\n",
    "index_drop = df_edit[df_edit['dob_years']==0].index\n",
    "df_edit.drop(index_drop , inplace=True)"
   ]
  },
  {
   "cell_type": "code",
   "execution_count": 38,
   "metadata": {},
   "outputs": [
    {
     "data": {
      "text/html": [
       "<div>\n",
       "<style scoped>\n",
       "    .dataframe tbody tr th:only-of-type {\n",
       "        vertical-align: middle;\n",
       "    }\n",
       "\n",
       "    .dataframe tbody tr th {\n",
       "        vertical-align: top;\n",
       "    }\n",
       "\n",
       "    .dataframe thead th {\n",
       "        text-align: right;\n",
       "    }\n",
       "</style>\n",
       "<table border=\"1\" class=\"dataframe\">\n",
       "  <thead>\n",
       "    <tr style=\"text-align: right;\">\n",
       "      <th></th>\n",
       "      <th>children</th>\n",
       "      <th>days_employed</th>\n",
       "      <th>dob_years</th>\n",
       "      <th>education</th>\n",
       "      <th>education_id</th>\n",
       "      <th>family_status</th>\n",
       "      <th>family_status_id</th>\n",
       "      <th>gender</th>\n",
       "      <th>income_type</th>\n",
       "      <th>debt</th>\n",
       "      <th>total_income</th>\n",
       "      <th>purpose</th>\n",
       "    </tr>\n",
       "  </thead>\n",
       "  <tbody>\n",
       "  </tbody>\n",
       "</table>\n",
       "</div>"
      ],
      "text/plain": [
       "Empty DataFrame\n",
       "Columns: [children, days_employed, dob_years, education, education_id, family_status, family_status_id, gender, income_type, debt, total_income, purpose]\n",
       "Index: []"
      ]
     },
     "execution_count": 38,
     "metadata": {},
     "output_type": "execute_result"
    }
   ],
   "source": [
    "# Memeriksa hasilnya\n",
    "df_edit.loc[df_edit['dob_years']==0]"
   ]
  },
  {
   "cell_type": "markdown",
   "metadata": {},
   "source": [
    "Kolom `'dob_years'` sudah berhasil diperbaiki dengan menghapus setiap baris dengan nilai 0."
   ]
  },
  {
   "cell_type": "markdown",
   "metadata": {},
   "source": [
    "#### Kolom `family_status`."
   ]
  },
  {
   "cell_type": "code",
   "execution_count": 39,
   "metadata": {
    "scrolled": true
   },
   "outputs": [
    {
     "data": {
      "text/plain": [
       "married              12331\n",
       "civil partnership     4156\n",
       "unmarried             2797\n",
       "divorced              1185\n",
       "widow / widower        955\n",
       "Name: family_status, dtype: int64"
      ]
     },
     "execution_count": 39,
     "metadata": {},
     "output_type": "execute_result"
    }
   ],
   "source": [
    "# Memeriksa kolom `family_status`\n",
    "df_edit['family_status'].value_counts()"
   ]
  },
  {
   "cell_type": "markdown",
   "metadata": {},
   "source": [
    "Seperti yang dilihat tidak ada masalah pada kolom ini."
   ]
  },
  {
   "cell_type": "markdown",
   "metadata": {},
   "source": [
    "#### Kolom `gender`."
   ]
  },
  {
   "cell_type": "code",
   "execution_count": 40,
   "metadata": {},
   "outputs": [
    {
     "data": {
      "text/plain": [
       "F      14164\n",
       "M       7259\n",
       "XNA        1\n",
       "Name: gender, dtype: int64"
      ]
     },
     "execution_count": 40,
     "metadata": {},
     "output_type": "execute_result"
    }
   ],
   "source": [
    "# Memeriksa kolom `gender`\n",
    "df_edit['gender'].value_counts()"
   ]
  },
  {
   "cell_type": "markdown",
   "metadata": {},
   "source": [
    "Terdapat nilai `XNA` yang tidak seharusnya ada pada kolom `'gender'`, normalnya jenis kelamin akan diisi antara pria atau wanita. Dikarenakan hanya terdapat 1 baris yang memiliki nilai `XNA`, jadi baris tersebut bisa dihapus."
   ]
  },
  {
   "cell_type": "code",
   "execution_count": 41,
   "metadata": {},
   "outputs": [
    {
     "data": {
      "text/html": [
       "<div>\n",
       "<style scoped>\n",
       "    .dataframe tbody tr th:only-of-type {\n",
       "        vertical-align: middle;\n",
       "    }\n",
       "\n",
       "    .dataframe tbody tr th {\n",
       "        vertical-align: top;\n",
       "    }\n",
       "\n",
       "    .dataframe thead th {\n",
       "        text-align: right;\n",
       "    }\n",
       "</style>\n",
       "<table border=\"1\" class=\"dataframe\">\n",
       "  <thead>\n",
       "    <tr style=\"text-align: right;\">\n",
       "      <th></th>\n",
       "      <th>children</th>\n",
       "      <th>days_employed</th>\n",
       "      <th>dob_years</th>\n",
       "      <th>education</th>\n",
       "      <th>education_id</th>\n",
       "      <th>family_status</th>\n",
       "      <th>family_status_id</th>\n",
       "      <th>gender</th>\n",
       "      <th>income_type</th>\n",
       "      <th>debt</th>\n",
       "      <th>total_income</th>\n",
       "      <th>purpose</th>\n",
       "    </tr>\n",
       "  </thead>\n",
       "  <tbody>\n",
       "    <tr>\n",
       "      <th>10701</th>\n",
       "      <td>0</td>\n",
       "      <td>6.461919</td>\n",
       "      <td>24</td>\n",
       "      <td>some college</td>\n",
       "      <td>2</td>\n",
       "      <td>civil partnership</td>\n",
       "      <td>1</td>\n",
       "      <td>XNA</td>\n",
       "      <td>business</td>\n",
       "      <td>0</td>\n",
       "      <td>32624.825</td>\n",
       "      <td>buy real estate</td>\n",
       "    </tr>\n",
       "  </tbody>\n",
       "</table>\n",
       "</div>"
      ],
      "text/plain": [
       "       children  days_employed  dob_years     education  education_id  \\\n",
       "10701         0       6.461919         24  some college             2   \n",
       "\n",
       "           family_status  family_status_id gender income_type  debt  \\\n",
       "10701  civil partnership                 1    XNA    business     0   \n",
       "\n",
       "       total_income          purpose  \n",
       "10701     32624.825  buy real estate  "
      ]
     },
     "execution_count": 41,
     "metadata": {},
     "output_type": "execute_result"
    }
   ],
   "source": [
    "# Mencari data XNA\n",
    "df_edit.loc[df_edit['gender']=='XNA']"
   ]
  },
  {
   "cell_type": "code",
   "execution_count": 42,
   "metadata": {},
   "outputs": [],
   "source": [
    "# Menghapus baris\n",
    "df_edit.drop(10701, axis=0, inplace=True)"
   ]
  },
  {
   "cell_type": "code",
   "execution_count": 43,
   "metadata": {
    "scrolled": true
   },
   "outputs": [
    {
     "data": {
      "text/plain": [
       "F    14164\n",
       "M     7259\n",
       "Name: gender, dtype: int64"
      ]
     },
     "execution_count": 43,
     "metadata": {},
     "output_type": "execute_result"
    }
   ],
   "source": [
    "# Memeriksa hasilnya\n",
    "df_edit['gender'].value_counts()"
   ]
  },
  {
   "cell_type": "markdown",
   "metadata": {},
   "source": [
    "Seperti yang terlihat kolom `'gender'` sudah berhasil diperbaiki dengan menghapus baris yang memiliki nilai `XNA` berdasarkan *index* yang dimiliki baris tersebut."
   ]
  },
  {
   "cell_type": "markdown",
   "metadata": {},
   "source": [
    "#### Kolom `income_type`."
   ]
  },
  {
   "cell_type": "code",
   "execution_count": 44,
   "metadata": {},
   "outputs": [
    {
     "data": {
      "text/plain": [
       "employee                       11064\n",
       "business                        5064\n",
       "retiree                         3836\n",
       "civil servant                   1453\n",
       "unemployed                         2\n",
       "entrepreneur                       2\n",
       "student                            1\n",
       "paternity / maternity leave        1\n",
       "Name: income_type, dtype: int64"
      ]
     },
     "execution_count": 44,
     "metadata": {},
     "output_type": "execute_result"
    }
   ],
   "source": [
    "# Memeriksa kolom `income_type`\n",
    "df_edit['income_type'].value_counts()"
   ]
  },
  {
   "cell_type": "markdown",
   "metadata": {},
   "source": [
    "Seperti yang dilihat tidak ada masalah pada kolom ini."
   ]
  },
  {
   "cell_type": "markdown",
   "metadata": {},
   "source": [
    "### Nilai duplikat <a id=\"duplikat\"></a>"
   ]
  },
  {
   "cell_type": "code",
   "execution_count": 45,
   "metadata": {},
   "outputs": [
    {
     "data": {
      "text/html": [
       "<div>\n",
       "<style scoped>\n",
       "    .dataframe tbody tr th:only-of-type {\n",
       "        vertical-align: middle;\n",
       "    }\n",
       "\n",
       "    .dataframe tbody tr th {\n",
       "        vertical-align: top;\n",
       "    }\n",
       "\n",
       "    .dataframe thead th {\n",
       "        text-align: right;\n",
       "    }\n",
       "</style>\n",
       "<table border=\"1\" class=\"dataframe\">\n",
       "  <thead>\n",
       "    <tr style=\"text-align: right;\">\n",
       "      <th></th>\n",
       "      <th>children</th>\n",
       "      <th>days_employed</th>\n",
       "      <th>dob_years</th>\n",
       "      <th>education</th>\n",
       "      <th>education_id</th>\n",
       "      <th>family_status</th>\n",
       "      <th>family_status_id</th>\n",
       "      <th>gender</th>\n",
       "      <th>income_type</th>\n",
       "      <th>debt</th>\n",
       "      <th>total_income</th>\n",
       "      <th>purpose</th>\n",
       "    </tr>\n",
       "  </thead>\n",
       "  <tbody>\n",
       "    <tr>\n",
       "      <th>2849</th>\n",
       "      <td>0</td>\n",
       "      <td>NaN</td>\n",
       "      <td>41</td>\n",
       "      <td>secondary education</td>\n",
       "      <td>1</td>\n",
       "      <td>married</td>\n",
       "      <td>0</td>\n",
       "      <td>F</td>\n",
       "      <td>employee</td>\n",
       "      <td>0</td>\n",
       "      <td>NaN</td>\n",
       "      <td>purchase of the house for my family</td>\n",
       "    </tr>\n",
       "    <tr>\n",
       "      <th>3290</th>\n",
       "      <td>0</td>\n",
       "      <td>NaN</td>\n",
       "      <td>58</td>\n",
       "      <td>secondary education</td>\n",
       "      <td>1</td>\n",
       "      <td>civil partnership</td>\n",
       "      <td>1</td>\n",
       "      <td>F</td>\n",
       "      <td>retiree</td>\n",
       "      <td>0</td>\n",
       "      <td>NaN</td>\n",
       "      <td>to have a wedding</td>\n",
       "    </tr>\n",
       "    <tr>\n",
       "      <th>4182</th>\n",
       "      <td>1</td>\n",
       "      <td>NaN</td>\n",
       "      <td>34</td>\n",
       "      <td>bachelor's degree</td>\n",
       "      <td>0</td>\n",
       "      <td>civil partnership</td>\n",
       "      <td>1</td>\n",
       "      <td>F</td>\n",
       "      <td>employee</td>\n",
       "      <td>0</td>\n",
       "      <td>NaN</td>\n",
       "      <td>wedding ceremony</td>\n",
       "    </tr>\n",
       "    <tr>\n",
       "      <th>4851</th>\n",
       "      <td>0</td>\n",
       "      <td>NaN</td>\n",
       "      <td>60</td>\n",
       "      <td>secondary education</td>\n",
       "      <td>1</td>\n",
       "      <td>civil partnership</td>\n",
       "      <td>1</td>\n",
       "      <td>F</td>\n",
       "      <td>retiree</td>\n",
       "      <td>0</td>\n",
       "      <td>NaN</td>\n",
       "      <td>wedding ceremony</td>\n",
       "    </tr>\n",
       "    <tr>\n",
       "      <th>5557</th>\n",
       "      <td>0</td>\n",
       "      <td>NaN</td>\n",
       "      <td>58</td>\n",
       "      <td>secondary education</td>\n",
       "      <td>1</td>\n",
       "      <td>civil partnership</td>\n",
       "      <td>1</td>\n",
       "      <td>F</td>\n",
       "      <td>retiree</td>\n",
       "      <td>0</td>\n",
       "      <td>NaN</td>\n",
       "      <td>to have a wedding</td>\n",
       "    </tr>\n",
       "    <tr>\n",
       "      <th>...</th>\n",
       "      <td>...</td>\n",
       "      <td>...</td>\n",
       "      <td>...</td>\n",
       "      <td>...</td>\n",
       "      <td>...</td>\n",
       "      <td>...</td>\n",
       "      <td>...</td>\n",
       "      <td>...</td>\n",
       "      <td>...</td>\n",
       "      <td>...</td>\n",
       "      <td>...</td>\n",
       "      <td>...</td>\n",
       "    </tr>\n",
       "    <tr>\n",
       "      <th>20702</th>\n",
       "      <td>0</td>\n",
       "      <td>NaN</td>\n",
       "      <td>64</td>\n",
       "      <td>secondary education</td>\n",
       "      <td>1</td>\n",
       "      <td>married</td>\n",
       "      <td>0</td>\n",
       "      <td>F</td>\n",
       "      <td>retiree</td>\n",
       "      <td>0</td>\n",
       "      <td>NaN</td>\n",
       "      <td>supplementary education</td>\n",
       "    </tr>\n",
       "    <tr>\n",
       "      <th>21032</th>\n",
       "      <td>0</td>\n",
       "      <td>NaN</td>\n",
       "      <td>60</td>\n",
       "      <td>secondary education</td>\n",
       "      <td>1</td>\n",
       "      <td>married</td>\n",
       "      <td>0</td>\n",
       "      <td>F</td>\n",
       "      <td>retiree</td>\n",
       "      <td>0</td>\n",
       "      <td>NaN</td>\n",
       "      <td>to become educated</td>\n",
       "    </tr>\n",
       "    <tr>\n",
       "      <th>21132</th>\n",
       "      <td>0</td>\n",
       "      <td>NaN</td>\n",
       "      <td>47</td>\n",
       "      <td>secondary education</td>\n",
       "      <td>1</td>\n",
       "      <td>married</td>\n",
       "      <td>0</td>\n",
       "      <td>F</td>\n",
       "      <td>employee</td>\n",
       "      <td>0</td>\n",
       "      <td>NaN</td>\n",
       "      <td>housing renovation</td>\n",
       "    </tr>\n",
       "    <tr>\n",
       "      <th>21281</th>\n",
       "      <td>1</td>\n",
       "      <td>NaN</td>\n",
       "      <td>30</td>\n",
       "      <td>bachelor's degree</td>\n",
       "      <td>0</td>\n",
       "      <td>married</td>\n",
       "      <td>0</td>\n",
       "      <td>F</td>\n",
       "      <td>employee</td>\n",
       "      <td>0</td>\n",
       "      <td>NaN</td>\n",
       "      <td>buy commercial real estate</td>\n",
       "    </tr>\n",
       "    <tr>\n",
       "      <th>21415</th>\n",
       "      <td>0</td>\n",
       "      <td>NaN</td>\n",
       "      <td>54</td>\n",
       "      <td>secondary education</td>\n",
       "      <td>1</td>\n",
       "      <td>married</td>\n",
       "      <td>0</td>\n",
       "      <td>F</td>\n",
       "      <td>retiree</td>\n",
       "      <td>0</td>\n",
       "      <td>NaN</td>\n",
       "      <td>housing transactions</td>\n",
       "    </tr>\n",
       "  </tbody>\n",
       "</table>\n",
       "<p>71 rows × 12 columns</p>\n",
       "</div>"
      ],
      "text/plain": [
       "       children  days_employed  dob_years            education  education_id  \\\n",
       "2849          0            NaN         41  secondary education             1   \n",
       "3290          0            NaN         58  secondary education             1   \n",
       "4182          1            NaN         34    bachelor's degree             0   \n",
       "4851          0            NaN         60  secondary education             1   \n",
       "5557          0            NaN         58  secondary education             1   \n",
       "...         ...            ...        ...                  ...           ...   \n",
       "20702         0            NaN         64  secondary education             1   \n",
       "21032         0            NaN         60  secondary education             1   \n",
       "21132         0            NaN         47  secondary education             1   \n",
       "21281         1            NaN         30    bachelor's degree             0   \n",
       "21415         0            NaN         54  secondary education             1   \n",
       "\n",
       "           family_status  family_status_id gender income_type  debt  \\\n",
       "2849             married                 0      F    employee     0   \n",
       "3290   civil partnership                 1      F     retiree     0   \n",
       "4182   civil partnership                 1      F    employee     0   \n",
       "4851   civil partnership                 1      F     retiree     0   \n",
       "5557   civil partnership                 1      F     retiree     0   \n",
       "...                  ...               ...    ...         ...   ...   \n",
       "20702            married                 0      F     retiree     0   \n",
       "21032            married                 0      F     retiree     0   \n",
       "21132            married                 0      F    employee     0   \n",
       "21281            married                 0      F    employee     0   \n",
       "21415            married                 0      F     retiree     0   \n",
       "\n",
       "       total_income                              purpose  \n",
       "2849            NaN  purchase of the house for my family  \n",
       "3290            NaN                    to have a wedding  \n",
       "4182            NaN                     wedding ceremony  \n",
       "4851            NaN                     wedding ceremony  \n",
       "5557            NaN                    to have a wedding  \n",
       "...             ...                                  ...  \n",
       "20702           NaN              supplementary education  \n",
       "21032           NaN                   to become educated  \n",
       "21132           NaN                   housing renovation  \n",
       "21281           NaN           buy commercial real estate  \n",
       "21415           NaN                 housing transactions  \n",
       "\n",
       "[71 rows x 12 columns]"
      ]
     },
     "execution_count": 45,
     "metadata": {},
     "output_type": "execute_result"
    }
   ],
   "source": [
    "# Memeriksa duplikat\n",
    "df_edit.loc[df_edit.duplicated()]"
   ]
  },
  {
   "cell_type": "markdown",
   "metadata": {},
   "source": [
    "Terdapat 71 baris yang memiliki nilai yang terduplikat."
   ]
  },
  {
   "cell_type": "code",
   "execution_count": 46,
   "metadata": {},
   "outputs": [
    {
     "data": {
      "text/plain": [
       "0.33141950240395834"
      ]
     },
     "execution_count": 46,
     "metadata": {},
     "output_type": "execute_result"
    }
   ],
   "source": [
    "# Persentase nilai duplikat terhadap seluruh dataset\n",
    "len(df_edit.loc[df_edit.duplicated()])/len(df)*100"
   ]
  },
  {
   "cell_type": "markdown",
   "metadata": {},
   "source": [
    "Karena persentasenya sedikit, jadi baris yang terduplikat bisa dihapus."
   ]
  },
  {
   "cell_type": "code",
   "execution_count": 47,
   "metadata": {},
   "outputs": [],
   "source": [
    "# Memperbaiki dataset\n",
    "df_edit = df_edit.drop_duplicates().reset_index(drop=True)"
   ]
  },
  {
   "cell_type": "code",
   "execution_count": 48,
   "metadata": {},
   "outputs": [
    {
     "data": {
      "text/plain": [
       "0"
      ]
     },
     "execution_count": 48,
     "metadata": {},
     "output_type": "execute_result"
    }
   ],
   "source": [
    "# Memeriksa hasilnya\n",
    "df_edit.duplicated().sum()"
   ]
  },
  {
   "cell_type": "code",
   "execution_count": 49,
   "metadata": {},
   "outputs": [
    {
     "name": "stdout",
     "output_type": "stream",
     "text": [
      "Shape: (21352, 12)\n"
     ]
    }
   ],
   "source": [
    "# Memeriksa ukuran dataset yang sekarang setelah manipulasi pertama yang dilakukan\n",
    "print('Shape:',df_edit.shape)"
   ]
  },
  {
   "cell_type": "markdown",
   "metadata": {},
   "source": [
    "**Kesimpulan sementara**\n",
    "\n",
    "Sebelumnya *dataset* memiliki 21525 baris, dengan 12.\n",
    "\n",
    "Setelah dilakukan pengecekan dan memperbaiki apa yang harus diperbaiki, *dataset* baru memeliki ukuran 21352 baris dengan 12 kolom."
   ]
  },
  {
   "cell_type": "code",
   "execution_count": 50,
   "metadata": {},
   "outputs": [],
   "source": [
    "# Checkpoint variabel\n",
    "df_clean = df_edit"
   ]
  },
  {
   "cell_type": "code",
   "execution_count": 51,
   "metadata": {},
   "outputs": [
    {
     "data": {
      "text/plain": [
       "0.8037166085946574"
      ]
     },
     "execution_count": 51,
     "metadata": {},
     "output_type": "execute_result"
    }
   ],
   "source": [
    "# Persentase perubahan yang dilakukan setelah melakukan perbaikan\n",
    "((21525-21352)/21525)*100"
   ]
  },
  {
   "cell_type": "markdown",
   "metadata": {},
   "source": [
    "Persentase perubahan *dataset* awal ke *dataset* baru menunjukkan persentase yang kecil, sekitar 0.8%."
   ]
  },
  {
   "cell_type": "markdown",
   "metadata": {},
   "source": [
    "### Nilai-nilai yang hilang <a id=\"duplikat\"></a>"
   ]
  },
  {
   "cell_type": "markdown",
   "metadata": {},
   "source": [
    "#### Kolom `'total_income'`."
   ]
  },
  {
   "cell_type": "markdown",
   "metadata": {},
   "source": [
    "Pada kolom `'total_income'` terdapat nilai yang hilang yang perlu diisi karena persentase yang besar seperti yang dijelaskan diatas. \n",
    "\n",
    "Dan karena kolom ini memiliki tipe kuantitatif, jadi bisa nilai yang hilang bisa diisi dengan *mean* atau *median*."
   ]
  },
  {
   "cell_type": "code",
   "execution_count": 52,
   "metadata": {},
   "outputs": [],
   "source": [
    "# Fungsi untuk menghitung kategori usia\n",
    "'''\n",
    "Definisi:\n",
    "-----------\n",
    "    Fungsi untuk menghitung kategori usia\n",
    "-----------\n",
    "    age:\n",
    "        umur yang diinginkan\n",
    "'''\n",
    "def age_group(age):\n",
    "    try:\n",
    "        if age <= 19:\n",
    "            return 'child'\n",
    "        elif 20 <= age <= 30:\n",
    "            return 'young'\n",
    "        elif 31 <= age <= 45:\n",
    "            return 'adult'\n",
    "        else:\n",
    "            return 'old'\n",
    "    except:\n",
    "        return 'Unidentified'"
   ]
  },
  {
   "cell_type": "code",
   "execution_count": 53,
   "metadata": {},
   "outputs": [
    {
     "name": "stdout",
     "output_type": "stream",
     "text": [
      "child\n",
      "young\n",
      "adult\n",
      "old\n",
      "Unidentified\n"
     ]
    }
   ],
   "source": [
    "# Pengujian fungsi\n",
    "print(age_group(17))\n",
    "print(age_group(30))\n",
    "print(age_group(45))\n",
    "print(age_group(70))\n",
    "print(age_group('70'))"
   ]
  },
  {
   "cell_type": "code",
   "execution_count": 54,
   "metadata": {},
   "outputs": [],
   "source": [
    "# Menerapkan fungsi dan membuat kolom baru\n",
    "df_clean['age_group'] = df_clean['dob_years'].apply(age_group)"
   ]
  },
  {
   "cell_type": "code",
   "execution_count": 55,
   "metadata": {},
   "outputs": [
    {
     "data": {
      "text/plain": [
       "array(['adult', 'old', 'young', 'child'], dtype=object)"
      ]
     },
     "execution_count": 55,
     "metadata": {},
     "output_type": "execute_result"
    }
   ],
   "source": [
    "# Memeriksa hasilnya\n",
    "df_clean['age_group'].unique()"
   ]
  },
  {
   "cell_type": "markdown",
   "metadata": {},
   "source": [
    "Memeriksa faktor-faktor yang kemungkinan bergantung pada pendapatan. Untuk mengetahui apakah harus menggunakan nilai *mean* atau *median* untuk mengganti nilai yang hilang."
   ]
  },
  {
   "cell_type": "code",
   "execution_count": 56,
   "metadata": {
    "scrolled": true
   },
   "outputs": [
    {
     "data": {
      "text/html": [
       "<div>\n",
       "<style scoped>\n",
       "    .dataframe tbody tr th:only-of-type {\n",
       "        vertical-align: middle;\n",
       "    }\n",
       "\n",
       "    .dataframe tbody tr th {\n",
       "        vertical-align: top;\n",
       "    }\n",
       "\n",
       "    .dataframe thead th {\n",
       "        text-align: right;\n",
       "    }\n",
       "</style>\n",
       "<table border=\"1\" class=\"dataframe\">\n",
       "  <thead>\n",
       "    <tr style=\"text-align: right;\">\n",
       "      <th></th>\n",
       "      <th>children</th>\n",
       "      <th>days_employed</th>\n",
       "      <th>dob_years</th>\n",
       "      <th>education</th>\n",
       "      <th>education_id</th>\n",
       "      <th>family_status</th>\n",
       "      <th>family_status_id</th>\n",
       "      <th>gender</th>\n",
       "      <th>income_type</th>\n",
       "      <th>debt</th>\n",
       "      <th>total_income</th>\n",
       "      <th>purpose</th>\n",
       "      <th>age_group</th>\n",
       "    </tr>\n",
       "  </thead>\n",
       "  <tbody>\n",
       "    <tr>\n",
       "      <th>0</th>\n",
       "      <td>1</td>\n",
       "      <td>23.116912</td>\n",
       "      <td>42</td>\n",
       "      <td>bachelor's degree</td>\n",
       "      <td>0</td>\n",
       "      <td>married</td>\n",
       "      <td>0</td>\n",
       "      <td>F</td>\n",
       "      <td>employee</td>\n",
       "      <td>0</td>\n",
       "      <td>40620.102</td>\n",
       "      <td>purchase of the house</td>\n",
       "      <td>adult</td>\n",
       "    </tr>\n",
       "    <tr>\n",
       "      <th>1</th>\n",
       "      <td>1</td>\n",
       "      <td>11.026860</td>\n",
       "      <td>36</td>\n",
       "      <td>secondary education</td>\n",
       "      <td>1</td>\n",
       "      <td>married</td>\n",
       "      <td>0</td>\n",
       "      <td>F</td>\n",
       "      <td>employee</td>\n",
       "      <td>0</td>\n",
       "      <td>17932.802</td>\n",
       "      <td>car purchase</td>\n",
       "      <td>adult</td>\n",
       "    </tr>\n",
       "    <tr>\n",
       "      <th>2</th>\n",
       "      <td>0</td>\n",
       "      <td>15.406637</td>\n",
       "      <td>33</td>\n",
       "      <td>secondary education</td>\n",
       "      <td>1</td>\n",
       "      <td>married</td>\n",
       "      <td>0</td>\n",
       "      <td>M</td>\n",
       "      <td>employee</td>\n",
       "      <td>0</td>\n",
       "      <td>23341.752</td>\n",
       "      <td>purchase of the house</td>\n",
       "      <td>adult</td>\n",
       "    </tr>\n",
       "    <tr>\n",
       "      <th>3</th>\n",
       "      <td>3</td>\n",
       "      <td>11.300677</td>\n",
       "      <td>32</td>\n",
       "      <td>secondary education</td>\n",
       "      <td>1</td>\n",
       "      <td>married</td>\n",
       "      <td>0</td>\n",
       "      <td>M</td>\n",
       "      <td>employee</td>\n",
       "      <td>0</td>\n",
       "      <td>42820.568</td>\n",
       "      <td>supplementary education</td>\n",
       "      <td>adult</td>\n",
       "    </tr>\n",
       "    <tr>\n",
       "      <th>4</th>\n",
       "      <td>0</td>\n",
       "      <td>30.000000</td>\n",
       "      <td>53</td>\n",
       "      <td>secondary education</td>\n",
       "      <td>1</td>\n",
       "      <td>civil partnership</td>\n",
       "      <td>1</td>\n",
       "      <td>F</td>\n",
       "      <td>retiree</td>\n",
       "      <td>0</td>\n",
       "      <td>25378.572</td>\n",
       "      <td>to have a wedding</td>\n",
       "      <td>old</td>\n",
       "    </tr>\n",
       "    <tr>\n",
       "      <th>5</th>\n",
       "      <td>0</td>\n",
       "      <td>2.537495</td>\n",
       "      <td>27</td>\n",
       "      <td>bachelor's degree</td>\n",
       "      <td>0</td>\n",
       "      <td>civil partnership</td>\n",
       "      <td>1</td>\n",
       "      <td>M</td>\n",
       "      <td>business</td>\n",
       "      <td>0</td>\n",
       "      <td>40922.170</td>\n",
       "      <td>purchase of the house</td>\n",
       "      <td>young</td>\n",
       "    </tr>\n",
       "    <tr>\n",
       "      <th>6</th>\n",
       "      <td>0</td>\n",
       "      <td>7.888225</td>\n",
       "      <td>43</td>\n",
       "      <td>bachelor's degree</td>\n",
       "      <td>0</td>\n",
       "      <td>married</td>\n",
       "      <td>0</td>\n",
       "      <td>F</td>\n",
       "      <td>business</td>\n",
       "      <td>0</td>\n",
       "      <td>38484.156</td>\n",
       "      <td>housing transactions</td>\n",
       "      <td>adult</td>\n",
       "    </tr>\n",
       "    <tr>\n",
       "      <th>7</th>\n",
       "      <td>0</td>\n",
       "      <td>0.418574</td>\n",
       "      <td>50</td>\n",
       "      <td>secondary education</td>\n",
       "      <td>1</td>\n",
       "      <td>married</td>\n",
       "      <td>0</td>\n",
       "      <td>M</td>\n",
       "      <td>employee</td>\n",
       "      <td>0</td>\n",
       "      <td>21731.829</td>\n",
       "      <td>education</td>\n",
       "      <td>old</td>\n",
       "    </tr>\n",
       "    <tr>\n",
       "      <th>8</th>\n",
       "      <td>2</td>\n",
       "      <td>18.985932</td>\n",
       "      <td>35</td>\n",
       "      <td>bachelor's degree</td>\n",
       "      <td>0</td>\n",
       "      <td>civil partnership</td>\n",
       "      <td>1</td>\n",
       "      <td>F</td>\n",
       "      <td>employee</td>\n",
       "      <td>0</td>\n",
       "      <td>15337.093</td>\n",
       "      <td>having a wedding</td>\n",
       "      <td>adult</td>\n",
       "    </tr>\n",
       "    <tr>\n",
       "      <th>9</th>\n",
       "      <td>0</td>\n",
       "      <td>5.996593</td>\n",
       "      <td>41</td>\n",
       "      <td>secondary education</td>\n",
       "      <td>1</td>\n",
       "      <td>married</td>\n",
       "      <td>0</td>\n",
       "      <td>M</td>\n",
       "      <td>employee</td>\n",
       "      <td>0</td>\n",
       "      <td>23108.150</td>\n",
       "      <td>purchase of the house for my family</td>\n",
       "      <td>adult</td>\n",
       "    </tr>\n",
       "  </tbody>\n",
       "</table>\n",
       "</div>"
      ],
      "text/plain": [
       "   children  days_employed  dob_years            education  education_id  \\\n",
       "0         1      23.116912         42    bachelor's degree             0   \n",
       "1         1      11.026860         36  secondary education             1   \n",
       "2         0      15.406637         33  secondary education             1   \n",
       "3         3      11.300677         32  secondary education             1   \n",
       "4         0      30.000000         53  secondary education             1   \n",
       "5         0       2.537495         27    bachelor's degree             0   \n",
       "6         0       7.888225         43    bachelor's degree             0   \n",
       "7         0       0.418574         50  secondary education             1   \n",
       "8         2      18.985932         35    bachelor's degree             0   \n",
       "9         0       5.996593         41  secondary education             1   \n",
       "\n",
       "       family_status  family_status_id gender income_type  debt  total_income  \\\n",
       "0            married                 0      F    employee     0     40620.102   \n",
       "1            married                 0      F    employee     0     17932.802   \n",
       "2            married                 0      M    employee     0     23341.752   \n",
       "3            married                 0      M    employee     0     42820.568   \n",
       "4  civil partnership                 1      F     retiree     0     25378.572   \n",
       "5  civil partnership                 1      M    business     0     40922.170   \n",
       "6            married                 0      F    business     0     38484.156   \n",
       "7            married                 0      M    employee     0     21731.829   \n",
       "8  civil partnership                 1      F    employee     0     15337.093   \n",
       "9            married                 0      M    employee     0     23108.150   \n",
       "\n",
       "                               purpose age_group  \n",
       "0                purchase of the house     adult  \n",
       "1                         car purchase     adult  \n",
       "2                purchase of the house     adult  \n",
       "3              supplementary education     adult  \n",
       "4                    to have a wedding       old  \n",
       "5                purchase of the house     young  \n",
       "6                 housing transactions     adult  \n",
       "7                            education       old  \n",
       "8                     having a wedding     adult  \n",
       "9  purchase of the house for my family     adult  "
      ]
     },
     "execution_count": 56,
     "metadata": {},
     "output_type": "execute_result"
    }
   ],
   "source": [
    "# Filter tanpa nilai yang hilang\n",
    "df_notnull = df_clean[df_clean['total_income'].notnull()]\n",
    "\n",
    "# Sampel data\n",
    "df_notnull.head(10)"
   ]
  },
  {
   "cell_type": "code",
   "execution_count": 57,
   "metadata": {},
   "outputs": [
    {
     "data": {
      "text/plain": [
       "education\n",
       "bachelor's degree      33172.428387\n",
       "graduate degree        27960.024667\n",
       "primary education      21144.882211\n",
       "secondary education    24600.353617\n",
       "some college           29035.057865\n",
       "Name: total_income, dtype: float64"
      ]
     },
     "execution_count": 57,
     "metadata": {},
     "output_type": "execute_result"
    }
   ],
   "source": [
    "# Nilai rata-rata untuk pendapatan berdasarkan agg kolom `education`\n",
    "df_notnull.groupby('education')['total_income'].mean()"
   ]
  },
  {
   "cell_type": "code",
   "execution_count": 58,
   "metadata": {
    "scrolled": true
   },
   "outputs": [
    {
     "data": {
      "text/plain": [
       "education\n",
       "bachelor's degree      28054.5310\n",
       "graduate degree        25161.5835\n",
       "primary education      18741.9760\n",
       "secondary education    21839.4075\n",
       "some college           25608.7945\n",
       "Name: total_income, dtype: float64"
      ]
     },
     "execution_count": 58,
     "metadata": {},
     "output_type": "execute_result"
    }
   ],
   "source": [
    "# Nilai median untuk pendapatan berdasarkan agg kolom `education`\n",
    "df_notnull.groupby('education')['total_income'].median()"
   ]
  },
  {
   "cell_type": "code",
   "execution_count": 59,
   "metadata": {},
   "outputs": [
    {
     "data": {
      "text/plain": [
       "income_type\n",
       "business                       32397.307219\n",
       "civil servant                  27361.316126\n",
       "employee                       25824.679592\n",
       "entrepreneur                   79866.103000\n",
       "paternity / maternity leave     8612.661000\n",
       "retiree                        21939.310393\n",
       "student                        15712.260000\n",
       "unemployed                     21014.360500\n",
       "Name: total_income, dtype: float64"
      ]
     },
     "execution_count": 59,
     "metadata": {},
     "output_type": "execute_result"
    }
   ],
   "source": [
    "# Rata-rata pada faktor lain\n",
    "df_notnull.groupby('income_type')['total_income'].mean()"
   ]
  },
  {
   "cell_type": "code",
   "execution_count": 60,
   "metadata": {},
   "outputs": [
    {
     "data": {
      "text/plain": [
       "income_type\n",
       "business                       27563.0285\n",
       "civil servant                  24083.5065\n",
       "employee                       22815.1035\n",
       "entrepreneur                   79866.1030\n",
       "paternity / maternity leave     8612.6610\n",
       "retiree                        18969.1490\n",
       "student                        15712.2600\n",
       "unemployed                     21014.3605\n",
       "Name: total_income, dtype: float64"
      ]
     },
     "execution_count": 60,
     "metadata": {},
     "output_type": "execute_result"
    }
   ],
   "source": [
    "# Median pada faktor lain\n",
    "df_notnull.groupby('income_type')['total_income'].median()"
   ]
  },
  {
   "cell_type": "code",
   "execution_count": 61,
   "metadata": {},
   "outputs": [
    {
     "data": {
      "text/plain": [
       "gender\n",
       "F    24664.752169\n",
       "M    30905.772981\n",
       "Name: total_income, dtype: float64"
      ]
     },
     "execution_count": 61,
     "metadata": {},
     "output_type": "execute_result"
    }
   ],
   "source": [
    "# Rata-rata pada faktor lain\n",
    "df_notnull.groupby('gender')['total_income'].mean()"
   ]
  },
  {
   "cell_type": "code",
   "execution_count": 62,
   "metadata": {
    "scrolled": true
   },
   "outputs": [
    {
     "data": {
      "text/plain": [
       "gender\n",
       "F    21469.0015\n",
       "M    26819.5670\n",
       "Name: total_income, dtype: float64"
      ]
     },
     "execution_count": 62,
     "metadata": {},
     "output_type": "execute_result"
    }
   ],
   "source": [
    "# Median pada faktor lain\n",
    "df_notnull.groupby('gender')['total_income'].median()"
   ]
  },
  {
   "cell_type": "markdown",
   "metadata": {},
   "source": [
    "Jika distribusi datanya simetris maka bisa menggunakan nilai *median/mean*, namun jika distribusi data tidak simetris maka bisa menggunakan nilai *median*. \n",
    "\n",
    "Seperti yang terlihat pada nilai *median* dan *mean* masing-masing faktor, distribusi datanya simetris, jadi nilai yang hilang bisa diisi menggunakan *median/mean*. Dalam hal ini *mean* dipilih karena distribusi data simetris, yang berarti tidak ada *outlier*."
   ]
  },
  {
   "cell_type": "code",
   "execution_count": 63,
   "metadata": {},
   "outputs": [],
   "source": [
    "# Fungsi untuk mengisi nilai yang hilang\n",
    "'''\n",
    "Definisi:\n",
    "-----------\n",
    "    Fungsi ini untuk mengisi nilai yang hilang berdasarkan kondisi dari kolom lain\n",
    "-----------\n",
    "    data:\n",
    "        data yang diinginkan\n",
    "    agg_column:\n",
    "        Kondisi kolom lain yang ingin dibandingkan\n",
    "    value_column:\n",
    "        kolom yang akan diisi (berisi nilai yang hilang)\n",
    "    button:\n",
    "        1 berarti nilai yang hilang diisi dengan median\n",
    "        2 berarti nilai yang hilang diisi dengan mean\n",
    "        3 berarti nilai yang hilang diisi dengan mode/modus\n",
    "'''\n",
    "def fill_missing_value(data, agg_column, value_column, button=1):\n",
    "    \n",
    "    # Tombol untuk mengganti mean/median\n",
    "    if button == 1:\n",
    "        grouped_values = data.groupby(agg_column)[value_column].median().reset_index()\n",
    "    elif button == 2:\n",
    "        grouped_values = data.groupby(agg_column)[value_column].mean().reset_index()\n",
    "    else:\n",
    "        grouped_values = data.groupby(agg_column)[value_column].apply(pd.Series.mode).reset_index()\n",
    "    \n",
    "    # Jumlah baris pada kolom yang dikelompokkan\n",
    "    size = len(grouped_values)\n",
    "    \n",
    "    # Memasukkan nilai yang hilang kedalam dataset\n",
    "    for i in range(size):\n",
    "        group = grouped_values[agg_column][i]\n",
    "        value = grouped_values[value_column][i]\n",
    "        data.loc[ (data[agg_column]==group) & (data[value_column].isna()), value_column ] = value\n",
    "    return data"
   ]
  },
  {
   "cell_type": "code",
   "execution_count": 64,
   "metadata": {},
   "outputs": [
    {
     "data": {
      "text/html": [
       "<div>\n",
       "<style scoped>\n",
       "    .dataframe tbody tr th:only-of-type {\n",
       "        vertical-align: middle;\n",
       "    }\n",
       "\n",
       "    .dataframe tbody tr th {\n",
       "        vertical-align: top;\n",
       "    }\n",
       "\n",
       "    .dataframe thead th {\n",
       "        text-align: right;\n",
       "    }\n",
       "</style>\n",
       "<table border=\"1\" class=\"dataframe\">\n",
       "  <thead>\n",
       "    <tr style=\"text-align: right;\">\n",
       "      <th></th>\n",
       "      <th>total_income</th>\n",
       "    </tr>\n",
       "  </thead>\n",
       "  <tbody>\n",
       "    <tr>\n",
       "      <th>0</th>\n",
       "      <td>40620.102</td>\n",
       "    </tr>\n",
       "    <tr>\n",
       "      <th>1</th>\n",
       "      <td>17932.802</td>\n",
       "    </tr>\n",
       "    <tr>\n",
       "      <th>2</th>\n",
       "      <td>23341.752</td>\n",
       "    </tr>\n",
       "    <tr>\n",
       "      <th>3</th>\n",
       "      <td>42820.568</td>\n",
       "    </tr>\n",
       "    <tr>\n",
       "      <th>4</th>\n",
       "      <td>25378.572</td>\n",
       "    </tr>\n",
       "    <tr>\n",
       "      <th>...</th>\n",
       "      <td>...</td>\n",
       "    </tr>\n",
       "    <tr>\n",
       "      <th>21347</th>\n",
       "      <td>35966.698</td>\n",
       "    </tr>\n",
       "    <tr>\n",
       "      <th>21348</th>\n",
       "      <td>24959.969</td>\n",
       "    </tr>\n",
       "    <tr>\n",
       "      <th>21349</th>\n",
       "      <td>14347.610</td>\n",
       "    </tr>\n",
       "    <tr>\n",
       "      <th>21350</th>\n",
       "      <td>39054.888</td>\n",
       "    </tr>\n",
       "    <tr>\n",
       "      <th>21351</th>\n",
       "      <td>13127.587</td>\n",
       "    </tr>\n",
       "  </tbody>\n",
       "</table>\n",
       "<p>21352 rows × 1 columns</p>\n",
       "</div>"
      ],
      "text/plain": [
       "       total_income\n",
       "0         40620.102\n",
       "1         17932.802\n",
       "2         23341.752\n",
       "3         42820.568\n",
       "4         25378.572\n",
       "...             ...\n",
       "21347     35966.698\n",
       "21348     24959.969\n",
       "21349     14347.610\n",
       "21350     39054.888\n",
       "21351     13127.587\n",
       "\n",
       "[21352 rows x 1 columns]"
      ]
     },
     "execution_count": 64,
     "metadata": {},
     "output_type": "execute_result"
    }
   ],
   "source": [
    "# Memeriksa kolom `total_income`\n",
    "df_clean[['total_income']]"
   ]
  },
  {
   "cell_type": "code",
   "execution_count": 65,
   "metadata": {},
   "outputs": [],
   "source": [
    "# Menerapkan fungsi\n",
    "df_clean = fill_missing_value(data=df_clean, agg_column='income_type', value_column='total_income', button=2)"
   ]
  },
  {
   "cell_type": "code",
   "execution_count": 66,
   "metadata": {},
   "outputs": [
    {
     "data": {
      "text/plain": [
       "children               0\n",
       "days_employed       2093\n",
       "dob_years              0\n",
       "education              0\n",
       "education_id           0\n",
       "family_status          0\n",
       "family_status_id       0\n",
       "gender                 0\n",
       "income_type            0\n",
       "debt                   0\n",
       "total_income           0\n",
       "purpose                0\n",
       "age_group              0\n",
       "dtype: int64"
      ]
     },
     "execution_count": 66,
     "metadata": {},
     "output_type": "execute_result"
    }
   ],
   "source": [
    "# Memeriksa hasilnya\n",
    "df_clean.isna().sum()"
   ]
  },
  {
   "cell_type": "code",
   "execution_count": 67,
   "metadata": {
    "scrolled": true,
    "tags": []
   },
   "outputs": [
    {
     "data": {
      "text/plain": [
       "[3306.762,\n",
       " 3392.845,\n",
       " 3418.824,\n",
       " 3471.216,\n",
       " 3503.298,\n",
       " 3595.641,\n",
       " 3815.153,\n",
       " 3913.227,\n",
       " 4036.463,\n",
       " 4049.374,\n",
       " 4212.77,\n",
       " 4245.348,\n",
       " 4386.4,\n",
       " 4444.179,\n",
       " 4465.254,\n",
       " 4494.861,\n",
       " 4592.45,\n",
       " 4650.812,\n",
       " 4664.644,\n",
       " 4672.012,\n",
       " 4708.271,\n",
       " 4759.97,\n",
       " 4812.103,\n",
       " 4818.545999999999,\n",
       " 4860.001,\n",
       " 4919.749,\n",
       " 5002.295,\n",
       " 5028.623,\n",
       " 5029.439,\n",
       " 5037.321,\n",
       " 5045.56,\n",
       " 5053.838,\n",
       " 5090.55,\n",
       " 5112.186,\n",
       " 5137.573,\n",
       " 5148.514,\n",
       " 5167.9940000000015,\n",
       " 5168.082,\n",
       " 5172.669,\n",
       " 5195.285,\n",
       " 5208.353,\n",
       " 5217.0340000000015,\n",
       " 5220.544,\n",
       " 5259.254,\n",
       " 5274.611,\n",
       " 5288.165,\n",
       " 5290.465,\n",
       " 5330.769,\n",
       " 5331.621,\n",
       " 5335.014,\n",
       " 5402.85,\n",
       " 5409.738,\n",
       " 5430.683000000001,\n",
       " 5443.908,\n",
       " 5452.4940000000015,\n",
       " 5461.996,\n",
       " 5464.092,\n",
       " 5478.583000000001,\n",
       " 5490.018,\n",
       " 5496.834,\n",
       " 5514.581,\n",
       " 5515.539000000002,\n",
       " 5529.334,\n",
       " 5531.2040000000015,\n",
       " 5562.874,\n",
       " 5577.521,\n",
       " 5579.965,\n",
       " 5591.44,\n",
       " 5604.991999999998,\n",
       " 5622.0790000000015,\n",
       " 5630.865,\n",
       " 5639.846,\n",
       " 5651.584,\n",
       " 5703.853,\n",
       " 5768.392,\n",
       " 5772.8780000000015,\n",
       " 5801.651,\n",
       " 5803.271,\n",
       " 5820.374,\n",
       " 5826.733,\n",
       " 5831.255,\n",
       " 5837.099,\n",
       " 5863.853,\n",
       " 5876.366999999998,\n",
       " 5885.856,\n",
       " 5905.745,\n",
       " 5968.521,\n",
       " 5979.176,\n",
       " 5982.694,\n",
       " 6017.603,\n",
       " 6023.274,\n",
       " 6027.214,\n",
       " 6029.458000000001,\n",
       " 6037.916,\n",
       " 6042.769,\n",
       " 6066.085,\n",
       " 6067.147,\n",
       " 6067.397,\n",
       " 6124.012,\n",
       " 6141.791,\n",
       " 6157.545999999999,\n",
       " 6167.401,\n",
       " 6183.627,\n",
       " 6185.945,\n",
       " 6187.263000000001,\n",
       " 6208.323,\n",
       " 6227.21,\n",
       " 6239.686,\n",
       " 6242.321,\n",
       " 6253.313,\n",
       " 6257.265,\n",
       " 6261.519,\n",
       " 6264.531999999998,\n",
       " 6264.665,\n",
       " 6286.894,\n",
       " 6290.377,\n",
       " 6295.399,\n",
       " 6301.408,\n",
       " 6305.036999999998,\n",
       " 6316.23,\n",
       " 6322.163000000001,\n",
       " 6330.524,\n",
       " 6354.569,\n",
       " 6369.195,\n",
       " 6420.49,\n",
       " 6427.379,\n",
       " 6431.765,\n",
       " 6434.8690000000015,\n",
       " 6442.342,\n",
       " 6487.946,\n",
       " 6514.588000000002,\n",
       " 6528.385,\n",
       " 6537.880999999999,\n",
       " 6542.581,\n",
       " 6548.851,\n",
       " 6550.432,\n",
       " 6557.178000000001,\n",
       " 6564.906,\n",
       " 6567.414000000002,\n",
       " 6574.414000000002,\n",
       " 6593.551,\n",
       " 6604.913000000001,\n",
       " 6605.21,\n",
       " 6611.845,\n",
       " 6625.892,\n",
       " 6634.772,\n",
       " 6637.729,\n",
       " 6646.607,\n",
       " 6649.353,\n",
       " 6666.741,\n",
       " 6689.661,\n",
       " 6701.803000000001,\n",
       " 6703.261,\n",
       " 6704.075,\n",
       " 6709.151,\n",
       " 6730.584,\n",
       " 6731.343000000002,\n",
       " 6734.609,\n",
       " 6744.18,\n",
       " 6747.052,\n",
       " 6751.776999999999,\n",
       " 6753.853,\n",
       " 6754.893,\n",
       " 6757.274,\n",
       " 6764.879,\n",
       " 6766.734,\n",
       " 6770.851,\n",
       " 6771.186,\n",
       " 6774.802,\n",
       " 6789.2930000000015,\n",
       " 6825.629,\n",
       " 6832.725,\n",
       " 6844.451999999998,\n",
       " 6845.201,\n",
       " 6851.051,\n",
       " 6857.654,\n",
       " 6857.978,\n",
       " 6858.682,\n",
       " 6866.453,\n",
       " 6868.19,\n",
       " 6868.368,\n",
       " 6886.538000000001,\n",
       " 6890.73,\n",
       " 6900.637,\n",
       " 6904.632,\n",
       " 6906.651,\n",
       " 6930.52,\n",
       " 6931.656999999998,\n",
       " 6945.621999999999,\n",
       " 6961.438,\n",
       " 6961.638000000001,\n",
       " 6966.223000000001,\n",
       " 6975.773,\n",
       " 6994.401,\n",
       " 6995.833000000001,\n",
       " 7005.825,\n",
       " 7028.751,\n",
       " 7034.877,\n",
       " 7073.155,\n",
       " 7077.915,\n",
       " 7086.267,\n",
       " 7105.919,\n",
       " 7117.498000000001,\n",
       " 7132.445,\n",
       " 7134.689,\n",
       " 7151.145,\n",
       " 7151.297,\n",
       " 7154.823,\n",
       " 7155.03,\n",
       " 7157.482,\n",
       " 7162.598000000001,\n",
       " 7175.371,\n",
       " 7180.439,\n",
       " 7191.755,\n",
       " 7197.573,\n",
       " 7199.874,\n",
       " 7205.312,\n",
       " 7214.326999999998,\n",
       " 7225.524,\n",
       " 7227.155,\n",
       " 7240.0059999999985,\n",
       " 7240.223000000001,\n",
       " 7241.453,\n",
       " 7259.2440000000015,\n",
       " 7264.550999999998,\n",
       " 7265.278,\n",
       " 7272.395,\n",
       " 7277.896,\n",
       " 7286.736999999999,\n",
       " 7292.9090000000015,\n",
       " 7304.674,\n",
       " 7323.363,\n",
       " 7327.981,\n",
       " 7334.035,\n",
       " 7341.274,\n",
       " 7349.507,\n",
       " 7365.89,\n",
       " 7366.366999999998,\n",
       " 7375.78,\n",
       " 7383.236,\n",
       " 7388.226,\n",
       " 7391.353,\n",
       " 7399.364,\n",
       " 7402.649,\n",
       " 7404.766,\n",
       " 7415.092,\n",
       " 7422.205,\n",
       " 7433.092,\n",
       " 7434.175999999998,\n",
       " 7435.709,\n",
       " 7441.7959999999985,\n",
       " 7451.482,\n",
       " 7453.63,\n",
       " 7472.661999999998,\n",
       " 7482.1190000000015,\n",
       " 7488.858,\n",
       " 7520.864,\n",
       " 7540.3409999999985,\n",
       " 7547.183000000001,\n",
       " 7548.861999999999,\n",
       " 7548.964,\n",
       " 7561.809,\n",
       " 7565.268,\n",
       " 7572.936,\n",
       " 7578.588000000002,\n",
       " 7580.581,\n",
       " 7581.018,\n",
       " 7582.23,\n",
       " 7583.27,\n",
       " 7586.471,\n",
       " 7586.866,\n",
       " 7593.276999999999,\n",
       " 7597.196,\n",
       " 7599.559,\n",
       " 7605.863,\n",
       " 7615.566,\n",
       " 7625.653,\n",
       " 7632.026999999999,\n",
       " 7642.623,\n",
       " 7644.045,\n",
       " 7646.149,\n",
       " 7651.768,\n",
       " 7656.482,\n",
       " 7659.414000000002,\n",
       " 7660.710999999998,\n",
       " 7660.946999999999,\n",
       " 7681.2559999999985,\n",
       " 7683.118,\n",
       " 7685.186,\n",
       " 7697.143,\n",
       " 7697.661,\n",
       " 7698.01,\n",
       " 7710.874,\n",
       " 7712.028,\n",
       " 7718.29,\n",
       " 7718.772,\n",
       " 7725.831,\n",
       " 7727.371,\n",
       " 7727.476,\n",
       " 7735.389,\n",
       " 7737.235,\n",
       " 7740.834,\n",
       " 7745.574,\n",
       " 7754.358,\n",
       " 7755.578,\n",
       " 7757.068,\n",
       " 7764.299,\n",
       " 7764.336999999998,\n",
       " 7766.383000000002,\n",
       " 7771.774,\n",
       " 7772.395,\n",
       " 7773.486999999999,\n",
       " 7777.42,\n",
       " 7780.778,\n",
       " 7782.166999999998,\n",
       " 7787.566,\n",
       " 7789.81,\n",
       " 7797.513000000001,\n",
       " 7798.248,\n",
       " 7799.196,\n",
       " 7803.663,\n",
       " 7812.005,\n",
       " 7822.828,\n",
       " 7826.522,\n",
       " 7828.0030000000015,\n",
       " 7829.433000000001,\n",
       " 7833.555,\n",
       " 7833.795,\n",
       " 7836.017,\n",
       " 7840.161,\n",
       " 7844.7159999999985,\n",
       " 7845.451999999998,\n",
       " 7850.343000000002,\n",
       " 7855.54,\n",
       " 7860.81,\n",
       " 7862.656,\n",
       " 7863.603,\n",
       " 7874.9659999999985,\n",
       " 7876.010999999998,\n",
       " 7882.236999999999,\n",
       " 7882.948,\n",
       " 7888.85,\n",
       " 7890.931,\n",
       " 7894.071,\n",
       " 7895.78,\n",
       " 7897.656,\n",
       " 7907.044,\n",
       " 7910.731,\n",
       " 7914.227,\n",
       " 7914.873,\n",
       " 7925.919,\n",
       " 7926.2559999999985,\n",
       " 7941.232,\n",
       " 7941.472,\n",
       " 7943.741999999998,\n",
       " 7947.001999999998,\n",
       " 7948.4659999999985,\n",
       " 7958.201,\n",
       " 7958.536,\n",
       " 7958.852,\n",
       " 7968.343000000002,\n",
       " 7968.848000000001,\n",
       " 7973.876999999998,\n",
       " 7978.384,\n",
       " 7979.6190000000015,\n",
       " 7982.215,\n",
       " 7988.785,\n",
       " 7996.8780000000015,\n",
       " 7997.883000000002,\n",
       " 7999.371,\n",
       " 8004.154,\n",
       " 8015.655,\n",
       " 8021.723000000001,\n",
       " 8023.875,\n",
       " 8025.727,\n",
       " 8030.755,\n",
       " 8042.76,\n",
       " 8054.156999999998,\n",
       " 8064.835,\n",
       " 8072.144,\n",
       " 8072.196999999999,\n",
       " 8072.573,\n",
       " 8074.093000000002,\n",
       " 8074.979,\n",
       " 8083.467,\n",
       " 8087.795,\n",
       " 8093.481,\n",
       " 8094.861,\n",
       " 8098.985,\n",
       " 8107.303000000001,\n",
       " 8112.177,\n",
       " 8121.52,\n",
       " 8126.783,\n",
       " 8128.550999999998,\n",
       " 8129.411,\n",
       " 8134.4209999999985,\n",
       " 8136.0340000000015,\n",
       " 8136.258000000002,\n",
       " 8136.274,\n",
       " 8140.71,\n",
       " 8153.959,\n",
       " 8154.029,\n",
       " 8155.094,\n",
       " 8157.6280000000015,\n",
       " 8159.172,\n",
       " 8160.416,\n",
       " 8162.357,\n",
       " 8163.589,\n",
       " 8168.094,\n",
       " 8168.392,\n",
       " 8172.688,\n",
       " 8178.799,\n",
       " 8182.9090000000015,\n",
       " 8184.071999999999,\n",
       " 8186.023,\n",
       " 8189.61,\n",
       " 8190.53,\n",
       " 8196.335,\n",
       " 8198.235,\n",
       " 8198.739,\n",
       " 8199.59,\n",
       " 8203.737,\n",
       " 8207.823,\n",
       " 8209.097,\n",
       " 8214.076,\n",
       " 8229.904,\n",
       " 8231.177,\n",
       " 8231.966,\n",
       " 8232.164,\n",
       " 8234.199,\n",
       " 8237.966,\n",
       " 8243.363000000001,\n",
       " 8243.728000000001,\n",
       " 8255.157,\n",
       " 8255.81,\n",
       " 8259.862,\n",
       " 8274.47,\n",
       " 8279.112,\n",
       " 8282.714,\n",
       " 8293.454,\n",
       " 8293.705,\n",
       " 8302.171,\n",
       " 8311.304,\n",
       " 8314.21,\n",
       " 8319.232,\n",
       " 8319.808,\n",
       " 8320.6,\n",
       " 8324.883,\n",
       " 8324.949,\n",
       " 8339.044,\n",
       " 8347.992,\n",
       " 8348.851,\n",
       " 8352.197,\n",
       " 8353.164,\n",
       " 8365.966999999999,\n",
       " 8371.021,\n",
       " 8371.266,\n",
       " 8375.071,\n",
       " 8376.360999999999,\n",
       " 8376.92,\n",
       " 8384.917,\n",
       " 8386.739,\n",
       " 8388.329,\n",
       " 8389.58,\n",
       " 8390.546,\n",
       " 8393.761,\n",
       " 8395.11,\n",
       " 8396.332,\n",
       " 8404.257,\n",
       " 8416.589,\n",
       " 8438.872,\n",
       " 8439.428,\n",
       " 8448.568000000001,\n",
       " 8453.127,\n",
       " 8457.309000000001,\n",
       " 8459.679,\n",
       " 8460.209,\n",
       " 8462.315,\n",
       " 8468.389000000001,\n",
       " 8469.247,\n",
       " 8470.271999999999,\n",
       " 8471.098,\n",
       " 8471.347,\n",
       " 8473.41,\n",
       " 8483.559000000001,\n",
       " 8486.503,\n",
       " 8487.341,\n",
       " 8493.794,\n",
       " 8495.926,\n",
       " 8505.835,\n",
       " 8512.091,\n",
       " 8514.371,\n",
       " 8523.607,\n",
       " 8532.328000000001,\n",
       " 8537.142,\n",
       " 8538.125,\n",
       " 8538.716999999999,\n",
       " 8545.226999999999,\n",
       " 8545.862,\n",
       " 8546.684000000001,\n",
       " 8547.997,\n",
       " 8548.648000000001,\n",
       " 8556.219000000001,\n",
       " 8561.061,\n",
       " 8570.972,\n",
       " 8577.948,\n",
       " 8592.287,\n",
       " 8596.723,\n",
       " 8598.879,\n",
       " 8600.277,\n",
       " 8601.655999999999,\n",
       " 8607.267,\n",
       " 8609.246,\n",
       " 8612.661,\n",
       " 8613.205,\n",
       " 8617.214,\n",
       " 8619.706,\n",
       " 8620.065,\n",
       " 8625.894,\n",
       " 8627.354,\n",
       " 8632.582,\n",
       " 8635.452,\n",
       " 8639.908000000001,\n",
       " 8641.282,\n",
       " 8643.091,\n",
       " 8648.266,\n",
       " 8650.449,\n",
       " 8653.954,\n",
       " 8654.133,\n",
       " 8659.403,\n",
       " 8659.769,\n",
       " 8662.721,\n",
       " 8668.663,\n",
       " 8670.671,\n",
       " 8673.509,\n",
       " 8674.212,\n",
       " 8675.506,\n",
       " 8677.451,\n",
       " 8678.712,\n",
       " 8680.25,\n",
       " 8680.525,\n",
       " 8684.231,\n",
       " 8688.555,\n",
       " 8691.072,\n",
       " 8691.234,\n",
       " 8692.165,\n",
       " 8696.499,\n",
       " 8696.693000000001,\n",
       " 8702.576,\n",
       " 8705.030999999999,\n",
       " 8705.929,\n",
       " 8706.475,\n",
       " 8706.805,\n",
       " 8706.902,\n",
       " 8708.896,\n",
       " 8720.888,\n",
       " 8724.224,\n",
       " 8735.003,\n",
       " 8739.726999999999,\n",
       " 8757.815999999999,\n",
       " 8760.759,\n",
       " 8760.863000000001,\n",
       " 8764.996,\n",
       " 8765.302,\n",
       " 8767.534,\n",
       " 8772.203000000001,\n",
       " 8774.978000000001,\n",
       " 8777.038,\n",
       " 8778.47,\n",
       " 8779.761999999999,\n",
       " 8781.25,\n",
       " 8785.565999999999,\n",
       " 8788.169,\n",
       " 8788.626,\n",
       " 8788.985999999999,\n",
       " 8795.385,\n",
       " 8802.244,\n",
       " 8804.584,\n",
       " 8806.834,\n",
       " 8807.117,\n",
       " 8807.219000000001,\n",
       " 8808.546999999999,\n",
       " 8810.593,\n",
       " 8811.515,\n",
       " 8813.099,\n",
       " 8813.565,\n",
       " 8814.678,\n",
       " 8818.041,\n",
       " 8821.593,\n",
       " 8828.192,\n",
       " 8838.158000000001,\n",
       " 8843.222,\n",
       " 8847.009,\n",
       " 8851.09,\n",
       " 8857.308,\n",
       " 8858.293,\n",
       " 8859.203000000001,\n",
       " 8862.065,\n",
       " 8862.145,\n",
       " 8862.25,\n",
       " 8867.08,\n",
       " 8867.155,\n",
       " 8868.062,\n",
       " 8869.47,\n",
       " 8873.755,\n",
       " 8876.017,\n",
       " 8887.987,\n",
       " 8889.382,\n",
       " 8889.817,\n",
       " 8890.061,\n",
       " 8893.518,\n",
       " 8895.421999999999,\n",
       " 8895.596,\n",
       " 8905.229,\n",
       " 8906.845,\n",
       " 8911.41,\n",
       " 8919.823,\n",
       " 8921.287,\n",
       " 8938.22,\n",
       " 8938.692,\n",
       " 8939.633,\n",
       " 8941.85,\n",
       " 8953.542,\n",
       " 8965.132,\n",
       " 8971.844000000001,\n",
       " 8974.005,\n",
       " 8977.624,\n",
       " 8980.323,\n",
       " 8982.005,\n",
       " 8987.072,\n",
       " 8987.315,\n",
       " 8988.221,\n",
       " 9004.962,\n",
       " 9019.09,\n",
       " 9023.078,\n",
       " 9024.307,\n",
       " 9024.393,\n",
       " 9030.921,\n",
       " 9034.326,\n",
       " 9034.445,\n",
       " 9042.657,\n",
       " 9043.052,\n",
       " 9045.182,\n",
       " 9045.861,\n",
       " 9057.31,\n",
       " 9057.967,\n",
       " 9060.414,\n",
       " 9063.313,\n",
       " 9065.139,\n",
       " 9071.237,\n",
       " 9074.223,\n",
       " 9075.274,\n",
       " 9082.743,\n",
       " 9091.493,\n",
       " 9091.804,\n",
       " 9092.382,\n",
       " 9094.353,\n",
       " 9097.503,\n",
       " 9100.663,\n",
       " 9102.823,\n",
       " 9104.231,\n",
       " 9107.736,\n",
       " 9107.739,\n",
       " 9107.873,\n",
       " 9113.664,\n",
       " 9121.731,\n",
       " 9124.97,\n",
       " 9128.451,\n",
       " 9129.974,\n",
       " 9135.619,\n",
       " 9137.86,\n",
       " 9147.012,\n",
       " 9147.787,\n",
       " 9148.751,\n",
       " 9154.054,\n",
       " 9154.337,\n",
       " 9154.399,\n",
       " 9156.449,\n",
       " 9161.936,\n",
       " 9172.47,\n",
       " 9172.738,\n",
       " 9182.441,\n",
       " 9189.389,\n",
       " 9191.57,\n",
       " 9192.549,\n",
       " 9196.012,\n",
       " 9200.016,\n",
       " 9201.289,\n",
       " 9201.524,\n",
       " 9201.897,\n",
       " 9206.703,\n",
       " 9206.834,\n",
       " 9214.315,\n",
       " 9216.557,\n",
       " 9217.12,\n",
       " 9217.697,\n",
       " 9222.473,\n",
       " 9222.873,\n",
       " 9225.487,\n",
       " 9229.407,\n",
       " 9232.4,\n",
       " 9235.216,\n",
       " 9241.485,\n",
       " 9246.183,\n",
       " 9251.547,\n",
       " 9259.435,\n",
       " 9264.44,\n",
       " 9270.942,\n",
       " 9273.96,\n",
       " 9287.188,\n",
       " 9291.173,\n",
       " 9291.258,\n",
       " 9291.797,\n",
       " 9292.747,\n",
       " 9296.966,\n",
       " 9301.678,\n",
       " 9302.11,\n",
       " 9308.953,\n",
       " 9310.3,\n",
       " 9315.768,\n",
       " 9326.92,\n",
       " 9332.336,\n",
       " 9333.515,\n",
       " 9342.22,\n",
       " 9344.647,\n",
       " 9347.581,\n",
       " 9348.68,\n",
       " 9352.721,\n",
       " 9353.668,\n",
       " 9356.77,\n",
       " 9356.967,\n",
       " 9364.764,\n",
       " 9365.88,\n",
       " 9367.94,\n",
       " 9369.601,\n",
       " 9371.943,\n",
       " 9377.765,\n",
       " 9378.625,\n",
       " 9382.862,\n",
       " 9385.917,\n",
       " 9387.92,\n",
       " 9396.234,\n",
       " 9397.149,\n",
       " 9401.076,\n",
       " 9401.771,\n",
       " 9405.41,\n",
       " 9409.91,\n",
       " 9413.504,\n",
       " 9414.536,\n",
       " 9418.629,\n",
       " 9421.143,\n",
       " 9426.066,\n",
       " 9428.73,\n",
       " 9438.972,\n",
       " 9439.292,\n",
       " 9439.838,\n",
       " 9442.406,\n",
       " 9454.151,\n",
       " 9459.851,\n",
       " 9463.566,\n",
       " 9466.843,\n",
       " 9468.616,\n",
       " 9469.592,\n",
       " 9469.796,\n",
       " 9473.969,\n",
       " 9483.167,\n",
       " 9491.761,\n",
       " 9497.638,\n",
       " 9498.503,\n",
       " 9500.807,\n",
       " 9501.919,\n",
       " 9502.306,\n",
       " 9514.677,\n",
       " 9517.34,\n",
       " 9521.968,\n",
       " 9522.99,\n",
       " 9525.822,\n",
       " 9528.126,\n",
       " 9532.217,\n",
       " 9534.07,\n",
       " 9545.726,\n",
       " 9549.388,\n",
       " 9550.749,\n",
       " 9552.343,\n",
       " 9552.381,\n",
       " 9554.916,\n",
       " 9554.981,\n",
       " 9556.879,\n",
       " 9563.753,\n",
       " 9572.307,\n",
       " 9572.346,\n",
       " 9577.48,\n",
       " 9579.136,\n",
       " 9579.657,\n",
       " 9586.125,\n",
       " 9588.307,\n",
       " 9589.269,\n",
       " 9591.219,\n",
       " 9591.824,\n",
       " 9593.119,\n",
       " 9594.625,\n",
       " 9598.112,\n",
       " 9601.986,\n",
       " 9606.294,\n",
       " 9608.492,\n",
       " 9608.615,\n",
       " 9609.198,\n",
       " 9609.215,\n",
       " 9610.248,\n",
       " 9614.879,\n",
       " 9615.919,\n",
       " 9618.714,\n",
       " 9626.664,\n",
       " 9627.053,\n",
       " 9627.961,\n",
       " 9628.688,\n",
       " 9629.969,\n",
       " 9634.735,\n",
       " 9649.542,\n",
       " 9649.84,\n",
       " 9651.991,\n",
       " 9665.221,\n",
       " 9667.859,\n",
       " 9668.263,\n",
       " 9671.633,\n",
       " 9673.184,\n",
       " 9683.011,\n",
       " 9684.573,\n",
       " 9687.837,\n",
       " 9693.913,\n",
       " 9700.675,\n",
       " 9701.368,\n",
       " 9701.662,\n",
       " 9710.311,\n",
       " 9710.78,\n",
       " 9712.563,\n",
       " 9722.895,\n",
       " 9723.147,\n",
       " 9731.527,\n",
       " 9736.096,\n",
       " 9737.635,\n",
       " 9738.8,\n",
       " 9746.35,\n",
       " 9748.79,\n",
       " 9755.713,\n",
       " 9757.902,\n",
       " 9762.824,\n",
       " 9764.076,\n",
       " 9781.049,\n",
       " 9781.051,\n",
       " 9782.386,\n",
       " 9787.809,\n",
       " 9788.898,\n",
       " 9794.076,\n",
       " 9797.809,\n",
       " 9800.376,\n",
       " 9806.992,\n",
       " 9809.491,\n",
       " 9811.692,\n",
       " 9814.84,\n",
       " 9816.437,\n",
       " 9822.17,\n",
       " 9823.039,\n",
       " 9826.636,\n",
       " 9830.631,\n",
       " 9830.74,\n",
       " 9832.891,\n",
       " 9840.587,\n",
       " 9841.484,\n",
       " 9843.992,\n",
       " 9858.406,\n",
       " 9860.482,\n",
       " 9860.925,\n",
       " 9861.738,\n",
       " 9863.48,\n",
       " 9863.493,\n",
       " 9863.746,\n",
       " 9867.297,\n",
       " 9875.698,\n",
       " 9875.888,\n",
       " 9879.29,\n",
       " 9880.457,\n",
       " 9886.936,\n",
       " 9888.551,\n",
       " 9893.691,\n",
       " 9893.711,\n",
       " 9893.924,\n",
       " 9899.078,\n",
       " 9901.415,\n",
       " 9902.905,\n",
       " 9903.982,\n",
       " 9906.358,\n",
       " 9911.007,\n",
       " 9911.881,\n",
       " 9914.341,\n",
       " 9920.223,\n",
       " 9923.431,\n",
       " 9940.303,\n",
       " 9941.149,\n",
       " 9941.919,\n",
       " 9942.045,\n",
       " 9943.02,\n",
       " 9943.48,\n",
       " 9944.631,\n",
       " 9944.645,\n",
       " 9948.497,\n",
       " 9954.932,\n",
       " 9961.687,\n",
       " 9965.884,\n",
       " 9976.01,\n",
       " 9978.046,\n",
       " 9979.291,\n",
       " 9981.058,\n",
       " 9984.011,\n",
       " 9988.06,\n",
       " 9988.629,\n",
       " 9992.14,\n",
       " 9992.615,\n",
       " 9993.31,\n",
       " 9995.396,\n",
       " 9996.183,\n",
       " 10000.392,\n",
       " 10001.459,\n",
       " 10004.303,\n",
       " 10006.857,\n",
       " 10011.361,\n",
       " 10013.861,\n",
       " 10022.261,\n",
       " 10028.085,\n",
       " 10035.876,\n",
       " 10037.939,\n",
       " 10046.605,\n",
       " 10048.878,\n",
       " 10049.334,\n",
       " 10051.604,\n",
       " 10055.43,\n",
       " 10060.709,\n",
       " 10061.48,\n",
       " 10066.611,\n",
       " 10067.108,\n",
       " 10072.077,\n",
       " 10074.983,\n",
       " 10075.345,\n",
       " 10077.567,\n",
       " 10079.223,\n",
       " 10081.358,\n",
       " 10084.722,\n",
       " 10085.365,\n",
       " 10087.689,\n",
       " 10090.037,\n",
       " 10095.142,\n",
       " 10097.085,\n",
       " 10097.172,\n",
       " 10102.701,\n",
       " 10105.798,\n",
       " 10108.235,\n",
       " 10114.716,\n",
       " 10120.562,\n",
       " 10126.141,\n",
       " 10127.222,\n",
       " 10127.944,\n",
       " 10129.066,\n",
       " 10130.36,\n",
       " 10132.951,\n",
       " 10134.333,\n",
       " 10137.058,\n",
       " 10137.273,\n",
       " 10140.055,\n",
       " 10141.989,\n",
       " 10142.797,\n",
       " 10144.536,\n",
       " 10146.226,\n",
       " 10147.76,\n",
       " 10148.051,\n",
       " 10148.965,\n",
       " 10150.899,\n",
       " 10151.267,\n",
       " 10161.308,\n",
       " 10161.765,\n",
       " 10161.907,\n",
       " 10166.417,\n",
       " 10167.767,\n",
       " 10167.784,\n",
       " 10167.95,\n",
       " 10168.324,\n",
       " 10170.101,\n",
       " 10171.943,\n",
       " 10172.602,\n",
       " 10172.617,\n",
       " 10173.088,\n",
       " 10175.058,\n",
       " 10175.915,\n",
       " 10176.089,\n",
       " 10179.555,\n",
       " 10180.821,\n",
       " 10183.898,\n",
       " 10185.404,\n",
       " 10186.761,\n",
       " 10187.837,\n",
       " 10195.058,\n",
       " ...]"
      ]
     },
     "execution_count": 67,
     "metadata": {},
     "output_type": "execute_result"
    }
   ],
   "source": [
    "# Memeriksa kemungkinan kesalahan yang lain\n",
    "sorted(df_clean['total_income'].unique())"
   ]
  },
  {
   "cell_type": "code",
   "execution_count": 68,
   "metadata": {},
   "outputs": [],
   "source": [
    "# Memperbaiki dataset\n",
    "df_clean['total_income'] = round(df_clean['total_income'], 2)"
   ]
  },
  {
   "cell_type": "code",
   "execution_count": 69,
   "metadata": {},
   "outputs": [
    {
     "name": "stdout",
     "output_type": "stream",
     "text": [
      "<class 'pandas.core.frame.DataFrame'>\n",
      "RangeIndex: 21352 entries, 0 to 21351\n",
      "Data columns (total 13 columns):\n",
      " #   Column            Non-Null Count  Dtype  \n",
      "---  ------            --------------  -----  \n",
      " 0   children          21352 non-null  int64  \n",
      " 1   days_employed     19259 non-null  float64\n",
      " 2   dob_years         21352 non-null  int64  \n",
      " 3   education         21352 non-null  object \n",
      " 4   education_id      21352 non-null  int64  \n",
      " 5   family_status     21352 non-null  object \n",
      " 6   family_status_id  21352 non-null  int64  \n",
      " 7   gender            21352 non-null  object \n",
      " 8   income_type       21352 non-null  object \n",
      " 9   debt              21352 non-null  int64  \n",
      " 10  total_income      21352 non-null  float64\n",
      " 11  purpose           21352 non-null  object \n",
      " 12  age_group         21352 non-null  object \n",
      "dtypes: float64(2), int64(5), object(6)\n",
      "memory usage: 2.1+ MB\n"
     ]
    }
   ],
   "source": [
    "# Meriksa jumlah entri dataset\n",
    "df_clean.info()"
   ]
  },
  {
   "cell_type": "markdown",
   "metadata": {},
   "source": [
    "Nilai yang hilang pada kolom `'total_income'`berhasil di perbaiki, menggantinya dengan nilai *mean* yang dimiliki kolom `'total_income'`."
   ]
  },
  {
   "cell_type": "markdown",
   "metadata": {},
   "source": [
    "#### Kolom `'days_employed'`."
   ]
  },
  {
   "cell_type": "code",
   "execution_count": 70,
   "metadata": {
    "pycharm": {
     "name": "#%%\n"
    }
   },
   "outputs": [
    {
     "data": {
      "text/plain": [
       "age_group\n",
       "adult     4.769766\n",
       "child     1.984911\n",
       "old      16.059749\n",
       "young     2.875400\n",
       "Name: days_employed, dtype: float64"
      ]
     },
     "execution_count": 70,
     "metadata": {},
     "output_type": "execute_result"
    }
   ],
   "source": [
    "# Distribusi median dari `days_employed` berdasarkan agg kolom `age_group`\n",
    "df_notnull.groupby('age_group')['days_employed'].median()"
   ]
  },
  {
   "cell_type": "code",
   "execution_count": 71,
   "metadata": {},
   "outputs": [
    {
     "data": {
      "text/plain": [
       "age_group\n",
       "adult     6.352219\n",
       "child     1.736104\n",
       "old      20.223445\n",
       "young     3.511801\n",
       "Name: days_employed, dtype: float64"
      ]
     },
     "execution_count": 71,
     "metadata": {},
     "output_type": "execute_result"
    }
   ],
   "source": [
    "# Distribusi rata-rata dari `days_employed` berdasarkan agg kolom `age_group`\n",
    "df_notnull.groupby('age_group')['days_employed'].mean()"
   ]
  },
  {
   "cell_type": "code",
   "execution_count": 72,
   "metadata": {},
   "outputs": [
    {
     "data": {
      "text/plain": [
       "income_type\n",
       "business                        5.788341\n",
       "civil servant                   9.283585\n",
       "employee                        6.379736\n",
       "entrepreneur                    1.426981\n",
       "paternity / maternity leave     9.032219\n",
       "retiree                        36.431115\n",
       "student                         1.585621\n",
       "unemployed                     15.000000\n",
       "Name: days_employed, dtype: float64"
      ]
     },
     "execution_count": 72,
     "metadata": {},
     "output_type": "execute_result"
    }
   ],
   "source": [
    "# Rata-rata pada parameter lain\n",
    "df_notnull.groupby('income_type')['days_employed'].mean()"
   ]
  },
  {
   "cell_type": "code",
   "execution_count": 73,
   "metadata": {},
   "outputs": [
    {
     "data": {
      "text/plain": [
       "income_type\n",
       "business                        4.241123\n",
       "civil servant                   7.324397\n",
       "employee                        4.317994\n",
       "entrepreneur                    1.426981\n",
       "paternity / maternity leave     9.032219\n",
       "retiree                        37.000000\n",
       "student                         1.585621\n",
       "unemployed                     15.000000\n",
       "Name: days_employed, dtype: float64"
      ]
     },
     "execution_count": 73,
     "metadata": {},
     "output_type": "execute_result"
    }
   ],
   "source": [
    "# Median pada parameter lain\n",
    "df_notnull.groupby('income_type')['days_employed'].median()"
   ]
  },
  {
   "cell_type": "code",
   "execution_count": 74,
   "metadata": {},
   "outputs": [
    {
     "data": {
      "text/plain": [
       "family_status\n",
       "civil partnership    10.778576\n",
       "divorced             12.047446\n",
       "married              11.711988\n",
       "unmarried             8.925047\n",
       "widow / widower      25.036825\n",
       "Name: days_employed, dtype: float64"
      ]
     },
     "execution_count": 74,
     "metadata": {},
     "output_type": "execute_result"
    }
   ],
   "source": [
    "# Rata-rata pada parameter lain\n",
    "df_notnull.groupby('family_status')['days_employed'].mean()"
   ]
  },
  {
   "cell_type": "code",
   "execution_count": 75,
   "metadata": {},
   "outputs": [
    {
     "data": {
      "text/plain": [
       "family_status\n",
       "civil partnership    10.778576\n",
       "divorced             12.047446\n",
       "married              11.711988\n",
       "unmarried             8.925047\n",
       "widow / widower      25.036825\n",
       "Name: days_employed, dtype: float64"
      ]
     },
     "execution_count": 75,
     "metadata": {},
     "output_type": "execute_result"
    }
   ],
   "source": [
    "# Median pada parameter lain\n",
    "df_notnull.groupby('family_status')['days_employed'].mean()"
   ]
  },
  {
   "cell_type": "markdown",
   "metadata": {},
   "source": [
    "Seperti yang sudah dibahas sebelumnya pada kolom `'total_income'`. Jika distribusi datanya simetris maka bisa menggunakan nilai *median/mean*, namun jika distribusi data tidak simetris maka bisa menggunakan nilai *median*.\n",
    "    \n",
    "Dan yang terlihat pada nilai *median* dan *mean* masing-masing parameter, distribusi datanya tidak simetris, jadi nilai yang hilang bisa diisi menggunakan *median*, karena nilai *median* akan lebih *robust* terhadap *outlier*."
   ]
  },
  {
   "cell_type": "code",
   "execution_count": 76,
   "metadata": {},
   "outputs": [],
   "source": [
    "# Ganti nilai yang hilang\n",
    "df_clean = fill_missing_value(data=df_clean, agg_column='income_type', value_column='days_employed', button=2)"
   ]
  },
  {
   "cell_type": "code",
   "execution_count": 77,
   "metadata": {},
   "outputs": [
    {
     "data": {
      "text/plain": [
       "children            0\n",
       "days_employed       0\n",
       "dob_years           0\n",
       "education           0\n",
       "education_id        0\n",
       "family_status       0\n",
       "family_status_id    0\n",
       "gender              0\n",
       "income_type         0\n",
       "debt                0\n",
       "total_income        0\n",
       "purpose             0\n",
       "age_group           0\n",
       "dtype: int64"
      ]
     },
     "execution_count": 77,
     "metadata": {},
     "output_type": "execute_result"
    }
   ],
   "source": [
    "# Memeriksa semua kolom\n",
    "df_clean.isna().sum()"
   ]
  },
  {
   "cell_type": "markdown",
   "metadata": {},
   "source": [
    "Nilai yang hilang pada kolom `'days_employed'` berhasil di perbaiki, menggantinya dengan nilai median yang dimiliki kolom `'days_employed'`."
   ]
  },
  {
   "cell_type": "markdown",
   "metadata": {},
   "source": [
    "### Pengkategorian Data <a id=\"kategori\"></a>"
   ]
  },
  {
   "cell_type": "markdown",
   "metadata": {},
   "source": [
    "Dikarenakan ada beberapa dari kolom `'purpose'` memiliki makna yang sama tapi menggunakan beberapa kata yang berbeda, jadi bisa dilakukan pengkategorian untuk memudahkan pengecekan."
   ]
  },
  {
   "cell_type": "code",
   "execution_count": 78,
   "metadata": {},
   "outputs": [],
   "source": [
    "# Checkpoint variable\n",
    "df_category = df_clean"
   ]
  },
  {
   "cell_type": "markdown",
   "metadata": {},
   "source": [
    "#### Tipe kolom kategorik <a id=\"kategorik\"></a>"
   ]
  },
  {
   "cell_type": "code",
   "execution_count": 79,
   "metadata": {
    "scrolled": true
   },
   "outputs": [
    {
     "data": {
      "text/html": [
       "<div>\n",
       "<style scoped>\n",
       "    .dataframe tbody tr th:only-of-type {\n",
       "        vertical-align: middle;\n",
       "    }\n",
       "\n",
       "    .dataframe tbody tr th {\n",
       "        vertical-align: top;\n",
       "    }\n",
       "\n",
       "    .dataframe thead th {\n",
       "        text-align: right;\n",
       "    }\n",
       "</style>\n",
       "<table border=\"1\" class=\"dataframe\">\n",
       "  <thead>\n",
       "    <tr style=\"text-align: right;\">\n",
       "      <th></th>\n",
       "      <th>purpose</th>\n",
       "    </tr>\n",
       "  </thead>\n",
       "  <tbody>\n",
       "    <tr>\n",
       "      <th>0</th>\n",
       "      <td>purchase of the house</td>\n",
       "    </tr>\n",
       "    <tr>\n",
       "      <th>1</th>\n",
       "      <td>car purchase</td>\n",
       "    </tr>\n",
       "    <tr>\n",
       "      <th>2</th>\n",
       "      <td>purchase of the house</td>\n",
       "    </tr>\n",
       "    <tr>\n",
       "      <th>3</th>\n",
       "      <td>supplementary education</td>\n",
       "    </tr>\n",
       "    <tr>\n",
       "      <th>4</th>\n",
       "      <td>to have a wedding</td>\n",
       "    </tr>\n",
       "    <tr>\n",
       "      <th>...</th>\n",
       "      <td>...</td>\n",
       "    </tr>\n",
       "    <tr>\n",
       "      <th>21347</th>\n",
       "      <td>housing transactions</td>\n",
       "    </tr>\n",
       "    <tr>\n",
       "      <th>21348</th>\n",
       "      <td>purchase of a car</td>\n",
       "    </tr>\n",
       "    <tr>\n",
       "      <th>21349</th>\n",
       "      <td>property</td>\n",
       "    </tr>\n",
       "    <tr>\n",
       "      <th>21350</th>\n",
       "      <td>buying my own car</td>\n",
       "    </tr>\n",
       "    <tr>\n",
       "      <th>21351</th>\n",
       "      <td>to buy a car</td>\n",
       "    </tr>\n",
       "  </tbody>\n",
       "</table>\n",
       "<p>21352 rows × 1 columns</p>\n",
       "</div>"
      ],
      "text/plain": [
       "                       purpose\n",
       "0        purchase of the house\n",
       "1                 car purchase\n",
       "2        purchase of the house\n",
       "3      supplementary education\n",
       "4            to have a wedding\n",
       "...                        ...\n",
       "21347     housing transactions\n",
       "21348        purchase of a car\n",
       "21349                 property\n",
       "21350        buying my own car\n",
       "21351             to buy a car\n",
       "\n",
       "[21352 rows x 1 columns]"
      ]
     },
     "execution_count": 79,
     "metadata": {},
     "output_type": "execute_result"
    }
   ],
   "source": [
    "# Menampilkan nilai data yang dipilih untuk pengkategorian\n",
    "# Proses pertama mencakup data teks\n",
    "df_category[['purpose']]"
   ]
  },
  {
   "cell_type": "code",
   "execution_count": 80,
   "metadata": {},
   "outputs": [
    {
     "data": {
      "text/plain": [
       "['building a property',\n",
       " 'building a real estate',\n",
       " 'buy commercial real estate',\n",
       " 'buy real estate',\n",
       " 'buy residential real estate',\n",
       " 'buying a second-hand car',\n",
       " 'buying my own car',\n",
       " 'buying property for renting out',\n",
       " 'car',\n",
       " 'car purchase',\n",
       " 'cars',\n",
       " 'construction of own property',\n",
       " 'education',\n",
       " 'getting an education',\n",
       " 'getting higher education',\n",
       " 'going to university',\n",
       " 'having a wedding',\n",
       " 'housing',\n",
       " 'housing renovation',\n",
       " 'housing transactions',\n",
       " 'profile education',\n",
       " 'property',\n",
       " 'purchase of a car',\n",
       " 'purchase of my own house',\n",
       " 'purchase of the house',\n",
       " 'purchase of the house for my family',\n",
       " 'real estate transactions',\n",
       " 'second-hand car purchase',\n",
       " 'supplementary education',\n",
       " 'to become educated',\n",
       " 'to buy a car',\n",
       " 'to get a supplementary education',\n",
       " 'to have a wedding',\n",
       " 'to own a car',\n",
       " 'transactions with commercial real estate',\n",
       " 'transactions with my real estate',\n",
       " 'university education',\n",
       " 'wedding ceremony']"
      ]
     },
     "execution_count": 80,
     "metadata": {},
     "output_type": "execute_result"
    }
   ],
   "source": [
    "# Memeriksa nilai unik\n",
    "sorted(df_category['purpose'].unique())"
   ]
  },
  {
   "cell_type": "markdown",
   "metadata": {},
   "source": [
    "Seperti yang terlihat pada kolom `'purpose'` terdapat beberapa makna yang sama namun ditulis berbeda yang menjadikan beberapa nilai unik."
   ]
  },
  {
   "cell_type": "code",
   "execution_count": 81,
   "metadata": {},
   "outputs": [
    {
     "data": {
      "text/html": [
       "<div>\n",
       "<style scoped>\n",
       "    .dataframe tbody tr th:only-of-type {\n",
       "        vertical-align: middle;\n",
       "    }\n",
       "\n",
       "    .dataframe tbody tr th {\n",
       "        vertical-align: top;\n",
       "    }\n",
       "\n",
       "    .dataframe thead th {\n",
       "        text-align: right;\n",
       "    }\n",
       "</style>\n",
       "<table border=\"1\" class=\"dataframe\">\n",
       "  <thead>\n",
       "    <tr style=\"text-align: right;\">\n",
       "      <th></th>\n",
       "      <th>children</th>\n",
       "      <th>days_employed</th>\n",
       "      <th>dob_years</th>\n",
       "      <th>education</th>\n",
       "      <th>education_id</th>\n",
       "      <th>family_status</th>\n",
       "      <th>family_status_id</th>\n",
       "      <th>gender</th>\n",
       "      <th>income_type</th>\n",
       "      <th>debt</th>\n",
       "      <th>total_income</th>\n",
       "      <th>purpose</th>\n",
       "      <th>age_group</th>\n",
       "      <th>purpose_group</th>\n",
       "    </tr>\n",
       "  </thead>\n",
       "  <tbody>\n",
       "    <tr>\n",
       "      <th>0</th>\n",
       "      <td>1</td>\n",
       "      <td>23.116912</td>\n",
       "      <td>42</td>\n",
       "      <td>bachelor's degree</td>\n",
       "      <td>0</td>\n",
       "      <td>married</td>\n",
       "      <td>0</td>\n",
       "      <td>F</td>\n",
       "      <td>employee</td>\n",
       "      <td>0</td>\n",
       "      <td>40620.10</td>\n",
       "      <td>purchase of the house</td>\n",
       "      <td>adult</td>\n",
       "      <td>purchase of the house</td>\n",
       "    </tr>\n",
       "    <tr>\n",
       "      <th>1</th>\n",
       "      <td>1</td>\n",
       "      <td>11.026860</td>\n",
       "      <td>36</td>\n",
       "      <td>secondary education</td>\n",
       "      <td>1</td>\n",
       "      <td>married</td>\n",
       "      <td>0</td>\n",
       "      <td>F</td>\n",
       "      <td>employee</td>\n",
       "      <td>0</td>\n",
       "      <td>17932.80</td>\n",
       "      <td>car purchase</td>\n",
       "      <td>adult</td>\n",
       "      <td>car purchase</td>\n",
       "    </tr>\n",
       "    <tr>\n",
       "      <th>2</th>\n",
       "      <td>0</td>\n",
       "      <td>15.406637</td>\n",
       "      <td>33</td>\n",
       "      <td>secondary education</td>\n",
       "      <td>1</td>\n",
       "      <td>married</td>\n",
       "      <td>0</td>\n",
       "      <td>M</td>\n",
       "      <td>employee</td>\n",
       "      <td>0</td>\n",
       "      <td>23341.75</td>\n",
       "      <td>purchase of the house</td>\n",
       "      <td>adult</td>\n",
       "      <td>purchase of the house</td>\n",
       "    </tr>\n",
       "    <tr>\n",
       "      <th>3</th>\n",
       "      <td>3</td>\n",
       "      <td>11.300677</td>\n",
       "      <td>32</td>\n",
       "      <td>secondary education</td>\n",
       "      <td>1</td>\n",
       "      <td>married</td>\n",
       "      <td>0</td>\n",
       "      <td>M</td>\n",
       "      <td>employee</td>\n",
       "      <td>0</td>\n",
       "      <td>42820.57</td>\n",
       "      <td>supplementary education</td>\n",
       "      <td>adult</td>\n",
       "      <td>supplementary education</td>\n",
       "    </tr>\n",
       "    <tr>\n",
       "      <th>4</th>\n",
       "      <td>0</td>\n",
       "      <td>30.000000</td>\n",
       "      <td>53</td>\n",
       "      <td>secondary education</td>\n",
       "      <td>1</td>\n",
       "      <td>civil partnership</td>\n",
       "      <td>1</td>\n",
       "      <td>F</td>\n",
       "      <td>retiree</td>\n",
       "      <td>0</td>\n",
       "      <td>25378.57</td>\n",
       "      <td>to have a wedding</td>\n",
       "      <td>old</td>\n",
       "      <td>to have a wedding</td>\n",
       "    </tr>\n",
       "    <tr>\n",
       "      <th>...</th>\n",
       "      <td>...</td>\n",
       "      <td>...</td>\n",
       "      <td>...</td>\n",
       "      <td>...</td>\n",
       "      <td>...</td>\n",
       "      <td>...</td>\n",
       "      <td>...</td>\n",
       "      <td>...</td>\n",
       "      <td>...</td>\n",
       "      <td>...</td>\n",
       "      <td>...</td>\n",
       "      <td>...</td>\n",
       "      <td>...</td>\n",
       "      <td>...</td>\n",
       "    </tr>\n",
       "    <tr>\n",
       "      <th>21347</th>\n",
       "      <td>1</td>\n",
       "      <td>12.409087</td>\n",
       "      <td>43</td>\n",
       "      <td>secondary education</td>\n",
       "      <td>1</td>\n",
       "      <td>civil partnership</td>\n",
       "      <td>1</td>\n",
       "      <td>F</td>\n",
       "      <td>business</td>\n",
       "      <td>0</td>\n",
       "      <td>35966.70</td>\n",
       "      <td>housing transactions</td>\n",
       "      <td>adult</td>\n",
       "      <td>housing transactions</td>\n",
       "    </tr>\n",
       "    <tr>\n",
       "      <th>21348</th>\n",
       "      <td>0</td>\n",
       "      <td>44.000000</td>\n",
       "      <td>67</td>\n",
       "      <td>secondary education</td>\n",
       "      <td>1</td>\n",
       "      <td>married</td>\n",
       "      <td>0</td>\n",
       "      <td>F</td>\n",
       "      <td>retiree</td>\n",
       "      <td>0</td>\n",
       "      <td>24959.97</td>\n",
       "      <td>purchase of a car</td>\n",
       "      <td>old</td>\n",
       "      <td>purchase of a car</td>\n",
       "    </tr>\n",
       "    <tr>\n",
       "      <th>21349</th>\n",
       "      <td>1</td>\n",
       "      <td>5.789991</td>\n",
       "      <td>38</td>\n",
       "      <td>secondary education</td>\n",
       "      <td>1</td>\n",
       "      <td>civil partnership</td>\n",
       "      <td>1</td>\n",
       "      <td>M</td>\n",
       "      <td>employee</td>\n",
       "      <td>1</td>\n",
       "      <td>14347.61</td>\n",
       "      <td>property</td>\n",
       "      <td>adult</td>\n",
       "      <td>property</td>\n",
       "    </tr>\n",
       "    <tr>\n",
       "      <th>21350</th>\n",
       "      <td>3</td>\n",
       "      <td>8.527347</td>\n",
       "      <td>38</td>\n",
       "      <td>secondary education</td>\n",
       "      <td>1</td>\n",
       "      <td>married</td>\n",
       "      <td>0</td>\n",
       "      <td>M</td>\n",
       "      <td>employee</td>\n",
       "      <td>1</td>\n",
       "      <td>39054.89</td>\n",
       "      <td>buying my own car</td>\n",
       "      <td>adult</td>\n",
       "      <td>buying my own car</td>\n",
       "    </tr>\n",
       "    <tr>\n",
       "      <th>21351</th>\n",
       "      <td>2</td>\n",
       "      <td>5.437007</td>\n",
       "      <td>40</td>\n",
       "      <td>secondary education</td>\n",
       "      <td>1</td>\n",
       "      <td>married</td>\n",
       "      <td>0</td>\n",
       "      <td>F</td>\n",
       "      <td>employee</td>\n",
       "      <td>0</td>\n",
       "      <td>13127.59</td>\n",
       "      <td>to buy a car</td>\n",
       "      <td>adult</td>\n",
       "      <td>to buy a car</td>\n",
       "    </tr>\n",
       "  </tbody>\n",
       "</table>\n",
       "<p>21352 rows × 14 columns</p>\n",
       "</div>"
      ],
      "text/plain": [
       "       children  days_employed  dob_years            education  education_id  \\\n",
       "0             1      23.116912         42    bachelor's degree             0   \n",
       "1             1      11.026860         36  secondary education             1   \n",
       "2             0      15.406637         33  secondary education             1   \n",
       "3             3      11.300677         32  secondary education             1   \n",
       "4             0      30.000000         53  secondary education             1   \n",
       "...         ...            ...        ...                  ...           ...   \n",
       "21347         1      12.409087         43  secondary education             1   \n",
       "21348         0      44.000000         67  secondary education             1   \n",
       "21349         1       5.789991         38  secondary education             1   \n",
       "21350         3       8.527347         38  secondary education             1   \n",
       "21351         2       5.437007         40  secondary education             1   \n",
       "\n",
       "           family_status  family_status_id gender income_type  debt  \\\n",
       "0                married                 0      F    employee     0   \n",
       "1                married                 0      F    employee     0   \n",
       "2                married                 0      M    employee     0   \n",
       "3                married                 0      M    employee     0   \n",
       "4      civil partnership                 1      F     retiree     0   \n",
       "...                  ...               ...    ...         ...   ...   \n",
       "21347  civil partnership                 1      F    business     0   \n",
       "21348            married                 0      F     retiree     0   \n",
       "21349  civil partnership                 1      M    employee     1   \n",
       "21350            married                 0      M    employee     1   \n",
       "21351            married                 0      F    employee     0   \n",
       "\n",
       "       total_income                  purpose age_group  \\\n",
       "0          40620.10    purchase of the house     adult   \n",
       "1          17932.80             car purchase     adult   \n",
       "2          23341.75    purchase of the house     adult   \n",
       "3          42820.57  supplementary education     adult   \n",
       "4          25378.57        to have a wedding       old   \n",
       "...             ...                      ...       ...   \n",
       "21347      35966.70     housing transactions     adult   \n",
       "21348      24959.97        purchase of a car       old   \n",
       "21349      14347.61                 property     adult   \n",
       "21350      39054.89        buying my own car     adult   \n",
       "21351      13127.59             to buy a car     adult   \n",
       "\n",
       "                 purpose_group  \n",
       "0        purchase of the house  \n",
       "1                 car purchase  \n",
       "2        purchase of the house  \n",
       "3      supplementary education  \n",
       "4            to have a wedding  \n",
       "...                        ...  \n",
       "21347     housing transactions  \n",
       "21348        purchase of a car  \n",
       "21349                 property  \n",
       "21350        buying my own car  \n",
       "21351             to buy a car  \n",
       "\n",
       "[21352 rows x 14 columns]"
      ]
     },
     "execution_count": 81,
     "metadata": {},
     "output_type": "execute_result"
    }
   ],
   "source": [
    "# Membuat kolom baru \n",
    "df_category['purpose_group'] = df_category['purpose']\n",
    "df_category"
   ]
  },
  {
   "cell_type": "code",
   "execution_count": 82,
   "metadata": {},
   "outputs": [],
   "source": [
    "# Fungsi untuk mengategorikan data berdasarkan topik umum\n",
    "'''\n",
    "Definisi:\n",
    "-----------\n",
    "    Fungsi untuk mengategorikan data berdasarkan topik umum\n",
    "-----------\n",
    "    dtframe:\n",
    "        data yang diinginkan\n",
    "    column_name:\n",
    "        Kolom yang diinginkan\n",
    "    str_pattern:\n",
    "        string yang dicari\n",
    "    define_str:\n",
    "        string yang akan menggantikan\n",
    "'''\n",
    "def string_group (dtframe, column_name, str_pattern, define_str):\n",
    "    \n",
    "    str_filt = str_pattern\n",
    "    dtframe.loc[dtframe[column_name].str.contains(str_filt, regex=True), column_name] = define_str\n",
    "    \n",
    "    return dtframe"
   ]
  },
  {
   "cell_type": "code",
   "execution_count": 83,
   "metadata": {},
   "outputs": [
    {
     "data": {
      "text/plain": [
       "['buying a second-hand car',\n",
       " 'buying my own car',\n",
       " 'car',\n",
       " 'car purchase',\n",
       " 'cars',\n",
       " 'education',\n",
       " 'getting an education',\n",
       " 'getting higher education',\n",
       " 'going to university',\n",
       " 'having a wedding',\n",
       " 'housing',\n",
       " 'housing renovation',\n",
       " 'housing transactions',\n",
       " 'profile education',\n",
       " 'purchase of a car',\n",
       " 'purchase of my own house',\n",
       " 'purchase of the house',\n",
       " 'purchase of the house for my family',\n",
       " 'real estate/property',\n",
       " 'second-hand car purchase',\n",
       " 'supplementary education',\n",
       " 'to become educated',\n",
       " 'to buy a car',\n",
       " 'to get a supplementary education',\n",
       " 'to have a wedding',\n",
       " 'to own a car',\n",
       " 'university education',\n",
       " 'wedding ceremony']"
      ]
     },
     "execution_count": 83,
     "metadata": {},
     "output_type": "execute_result"
    }
   ],
   "source": [
    "# Memeriksa fungsi\n",
    "test = string_group (dtframe = df_category, column_name = 'purpose_group', str_pattern = 'real|property', define_str = 'real estate/property')\n",
    "sorted(test['purpose_group'].unique())"
   ]
  },
  {
   "cell_type": "code",
   "execution_count": 84,
   "metadata": {},
   "outputs": [],
   "source": [
    "# Menjalankan fungsi pada kolom baru yang telah dibuat\n",
    "df_category = string_group (dtframe = df_category, column_name = 'purpose_group', str_pattern = 'hou|real|property', define_str = 'real estate/property/house')\n",
    "df_category = string_group (dtframe = df_category, column_name = 'purpose_group', str_pattern = 'car', define_str = 'car')\n",
    "df_category = string_group (dtframe = df_category, column_name = 'purpose_group', str_pattern = 'edu|uni', define_str = 'education')\n",
    "df_category = string_group (dtframe = df_category, column_name = 'purpose_group', str_pattern = 'wed', define_str = 'wedding')"
   ]
  },
  {
   "cell_type": "code",
   "execution_count": 85,
   "metadata": {},
   "outputs": [
    {
     "data": {
      "text/plain": [
       "real estate/property/house    10763\n",
       "car                            4284\n",
       "education                      3995\n",
       "wedding                        2310\n",
       "Name: purpose_group, dtype: int64"
      ]
     },
     "execution_count": 85,
     "metadata": {},
     "output_type": "execute_result"
    }
   ],
   "source": [
    "# Menghitung nilai pada kolom baru\n",
    "df_category['purpose_group'].value_counts()"
   ]
  },
  {
   "cell_type": "markdown",
   "metadata": {},
   "source": [
    "Pengkategorian di kolom `'purpose'` berhasil dilakukan dan memasukkan nilainya pada kolom baru bernama `'purpose_group'`."
   ]
  },
  {
   "cell_type": "markdown",
   "metadata": {},
   "source": [
    "#### Tipe kolom numerik <a id=\"numerik\"></a>"
   ]
  },
  {
   "cell_type": "code",
   "execution_count": 86,
   "metadata": {},
   "outputs": [
    {
     "data": {
      "text/plain": [
       "0    40620.10\n",
       "1    17932.80\n",
       "2    23341.75\n",
       "3    42820.57\n",
       "4    25378.57\n",
       "5    40922.17\n",
       "6    38484.16\n",
       "7    21731.83\n",
       "8    15337.09\n",
       "9    23108.15\n",
       "Name: total_income, dtype: float64"
      ]
     },
     "execution_count": 86,
     "metadata": {},
     "output_type": "execute_result"
    }
   ],
   "source": [
    "# Melihat semua data numerik yang dipilih untuk pengkategorian\n",
    "df_category['total_income'].head(10)"
   ]
  },
  {
   "cell_type": "code",
   "execution_count": 87,
   "metadata": {},
   "outputs": [
    {
     "data": {
      "text/plain": [
       "count     21352.000000\n",
       "mean      26795.979981\n",
       "std       15707.677378\n",
       "min        3306.760000\n",
       "25%       17223.822500\n",
       "50%       24291.745000\n",
       "75%       32397.310000\n",
       "max      362496.640000\n",
       "Name: total_income, dtype: float64"
      ]
     },
     "execution_count": 87,
     "metadata": {},
     "output_type": "execute_result"
    }
   ],
   "source": [
    "# Mendapatkan kesimpulan statistik untuk kolomnya\n",
    "df_category['total_income'].describe()"
   ]
  },
  {
   "cell_type": "markdown",
   "metadata": {},
   "source": [
    "Terlihat pada kolom `'total_income'` memiliki beberapa rentang yang bisa digunakan untuk pengkategorian agar memudahkan untuk melakukan pengecekan."
   ]
  },
  {
   "cell_type": "code",
   "execution_count": 88,
   "metadata": {},
   "outputs": [],
   "source": [
    "# Fungsi yang melakukan pengkategorian menjadi kelompok numerik yang berbeda berdasarkan rentang\n",
    "'''\n",
    "Definisi:\n",
    "-----------\n",
    "    Fungsi yang melakukan pengkategorian menjadi kelompok numerik yang berbeda berdasarkan rentang\n",
    "-----------\n",
    "    value:\n",
    "        nilai yang akan dikategorikan\n",
    "'''\n",
    "def number_group(value):\n",
    "    \n",
    "    try:\n",
    "        if 0 <= value <= 10000:\n",
    "            return 'very low'\n",
    "        elif 10001 <= value <= 15000:\n",
    "            return 'low'\n",
    "        elif 15001 <= value <= 25000:\n",
    "            return 'middle'\n",
    "        else:\n",
    "            return 'high'\n",
    "    \n",
    "    except:\n",
    "        return 'unidentified'"
   ]
  },
  {
   "cell_type": "code",
   "execution_count": 89,
   "metadata": {},
   "outputs": [
    {
     "name": "stdout",
     "output_type": "stream",
     "text": [
      "very low\n",
      "low\n",
      "middle\n",
      "high\n",
      "unidentified\n"
     ]
    }
   ],
   "source": [
    "# Melakukan pengujian untuk melihat apakah fungsi bekerja atau tidak\n",
    "print(number_group(5000))\n",
    "print(number_group(15000))\n",
    "print(number_group(25000))\n",
    "print(number_group(70000))\n",
    "print(number_group('5000'))"
   ]
  },
  {
   "cell_type": "code",
   "execution_count": 90,
   "metadata": {},
   "outputs": [],
   "source": [
    "# Menerapkan fungsi\n",
    "df_category['total_income_group'] = df_category['total_income'].apply(number_group)"
   ]
  },
  {
   "cell_type": "code",
   "execution_count": 91,
   "metadata": {
    "scrolled": true
   },
   "outputs": [
    {
     "data": {
      "text/plain": [
       "high        10272\n",
       "middle       7358\n",
       "low          2801\n",
       "very low      921\n",
       "Name: total_income_group, dtype: int64"
      ]
     },
     "execution_count": 91,
     "metadata": {},
     "output_type": "execute_result"
    }
   ],
   "source": [
    "# Melihat hasilnya\n",
    "df_category['total_income_group'].value_counts()"
   ]
  },
  {
   "cell_type": "code",
   "execution_count": 92,
   "metadata": {},
   "outputs": [],
   "source": [
    "# Checkpoint variable\n",
    "df_final = df_category"
   ]
  },
  {
   "cell_type": "markdown",
   "metadata": {},
   "source": [
    "Pengkategorian di kolom `'total_income_group'` berhasil dilakukan dan memasukkan nilainya pada kolom baru bernama `'total_income_group'`."
   ]
  },
  {
   "cell_type": "markdown",
   "metadata": {},
   "source": [
    "## Menguji Hipotesis <a id=\"Test\"></a>"
   ]
  },
  {
   "cell_type": "markdown",
   "metadata": {},
   "source": [
    "### Hipotesis 1: Korelasi antara memiliki anak dengan melakukan pelunasan tepat waktu <a id=\"1\"></a>"
   ]
  },
  {
   "cell_type": "code",
   "execution_count": 93,
   "metadata": {},
   "outputs": [
    {
     "data": {
      "text/html": [
       "<div>\n",
       "<style scoped>\n",
       "    .dataframe tbody tr th:only-of-type {\n",
       "        vertical-align: middle;\n",
       "    }\n",
       "\n",
       "    .dataframe tbody tr th {\n",
       "        vertical-align: top;\n",
       "    }\n",
       "\n",
       "    .dataframe thead th {\n",
       "        text-align: right;\n",
       "    }\n",
       "</style>\n",
       "<table border=\"1\" class=\"dataframe\">\n",
       "  <thead>\n",
       "    <tr style=\"text-align: right;\">\n",
       "      <th></th>\n",
       "      <th>children</th>\n",
       "      <th>debt</th>\n",
       "    </tr>\n",
       "  </thead>\n",
       "  <tbody>\n",
       "    <tr>\n",
       "      <th>0</th>\n",
       "      <td>1</td>\n",
       "      <td>0</td>\n",
       "    </tr>\n",
       "    <tr>\n",
       "      <th>1</th>\n",
       "      <td>1</td>\n",
       "      <td>0</td>\n",
       "    </tr>\n",
       "    <tr>\n",
       "      <th>2</th>\n",
       "      <td>0</td>\n",
       "      <td>0</td>\n",
       "    </tr>\n",
       "    <tr>\n",
       "      <th>3</th>\n",
       "      <td>3</td>\n",
       "      <td>0</td>\n",
       "    </tr>\n",
       "    <tr>\n",
       "      <th>4</th>\n",
       "      <td>0</td>\n",
       "      <td>0</td>\n",
       "    </tr>\n",
       "    <tr>\n",
       "      <th>...</th>\n",
       "      <td>...</td>\n",
       "      <td>...</td>\n",
       "    </tr>\n",
       "    <tr>\n",
       "      <th>21347</th>\n",
       "      <td>1</td>\n",
       "      <td>0</td>\n",
       "    </tr>\n",
       "    <tr>\n",
       "      <th>21348</th>\n",
       "      <td>0</td>\n",
       "      <td>0</td>\n",
       "    </tr>\n",
       "    <tr>\n",
       "      <th>21349</th>\n",
       "      <td>1</td>\n",
       "      <td>1</td>\n",
       "    </tr>\n",
       "    <tr>\n",
       "      <th>21350</th>\n",
       "      <td>3</td>\n",
       "      <td>1</td>\n",
       "    </tr>\n",
       "    <tr>\n",
       "      <th>21351</th>\n",
       "      <td>2</td>\n",
       "      <td>0</td>\n",
       "    </tr>\n",
       "  </tbody>\n",
       "</table>\n",
       "<p>21352 rows × 2 columns</p>\n",
       "</div>"
      ],
      "text/plain": [
       "       children  debt\n",
       "0             1     0\n",
       "1             1     0\n",
       "2             0     0\n",
       "3             3     0\n",
       "4             0     0\n",
       "...         ...   ...\n",
       "21347         1     0\n",
       "21348         0     0\n",
       "21349         1     1\n",
       "21350         3     1\n",
       "21351         2     0\n",
       "\n",
       "[21352 rows x 2 columns]"
      ]
     },
     "execution_count": 93,
     "metadata": {},
     "output_type": "execute_result"
    }
   ],
   "source": [
    "# Meriksa data anak dan data pelunasan tepat waktu\n",
    "df_final[['children', 'debt']]"
   ]
  },
  {
   "cell_type": "code",
   "execution_count": 94,
   "metadata": {},
   "outputs": [
    {
     "data": {
      "text/plain": [
       "children  debt\n",
       "0         0       12963\n",
       "          1        1058\n",
       "1         0        4397\n",
       "          1         442\n",
       "2         0        1912\n",
       "          1         202\n",
       "3         0         301\n",
       "          1          27\n",
       "4         0          37\n",
       "          1           4\n",
       "5         0           9\n",
       "dtype: int64"
      ]
     },
     "execution_count": 94,
     "metadata": {},
     "output_type": "execute_result"
    }
   ],
   "source": [
    "# Menghitung gagal bayar berdasarkan jumlah anak\n",
    "df_final.groupby(['children', 'debt']).size()"
   ]
  },
  {
   "cell_type": "markdown",
   "metadata": {},
   "source": [
    "**Kesimpulan sementara**\n",
    "\n",
    "*Findings*:\n",
    "\n",
    "1. Seperti yang terlihat nasabah yang tidak memiliki anak cenderung melunasi pinjaman, \n",
    "2. Semakin banyak jumlah anak maka kemungkinan melunasi pinjaman akan semakin sedikit."
   ]
  },
  {
   "cell_type": "markdown",
   "metadata": {},
   "source": [
    "### Hipotesis 2: Korelasi antara status keluarga dengan pelunasan tepat waktu <a id=\"2\"></a>"
   ]
  },
  {
   "cell_type": "code",
   "execution_count": 95,
   "metadata": {},
   "outputs": [
    {
     "data": {
      "text/html": [
       "<div>\n",
       "<style scoped>\n",
       "    .dataframe tbody tr th:only-of-type {\n",
       "        vertical-align: middle;\n",
       "    }\n",
       "\n",
       "    .dataframe tbody tr th {\n",
       "        vertical-align: top;\n",
       "    }\n",
       "\n",
       "    .dataframe thead th {\n",
       "        text-align: right;\n",
       "    }\n",
       "</style>\n",
       "<table border=\"1\" class=\"dataframe\">\n",
       "  <thead>\n",
       "    <tr style=\"text-align: right;\">\n",
       "      <th></th>\n",
       "      <th>family_status</th>\n",
       "      <th>debt</th>\n",
       "    </tr>\n",
       "  </thead>\n",
       "  <tbody>\n",
       "    <tr>\n",
       "      <th>0</th>\n",
       "      <td>married</td>\n",
       "      <td>0</td>\n",
       "    </tr>\n",
       "    <tr>\n",
       "      <th>1</th>\n",
       "      <td>married</td>\n",
       "      <td>0</td>\n",
       "    </tr>\n",
       "    <tr>\n",
       "      <th>2</th>\n",
       "      <td>married</td>\n",
       "      <td>0</td>\n",
       "    </tr>\n",
       "    <tr>\n",
       "      <th>3</th>\n",
       "      <td>married</td>\n",
       "      <td>0</td>\n",
       "    </tr>\n",
       "    <tr>\n",
       "      <th>4</th>\n",
       "      <td>civil partnership</td>\n",
       "      <td>0</td>\n",
       "    </tr>\n",
       "    <tr>\n",
       "      <th>...</th>\n",
       "      <td>...</td>\n",
       "      <td>...</td>\n",
       "    </tr>\n",
       "    <tr>\n",
       "      <th>21347</th>\n",
       "      <td>civil partnership</td>\n",
       "      <td>0</td>\n",
       "    </tr>\n",
       "    <tr>\n",
       "      <th>21348</th>\n",
       "      <td>married</td>\n",
       "      <td>0</td>\n",
       "    </tr>\n",
       "    <tr>\n",
       "      <th>21349</th>\n",
       "      <td>civil partnership</td>\n",
       "      <td>1</td>\n",
       "    </tr>\n",
       "    <tr>\n",
       "      <th>21350</th>\n",
       "      <td>married</td>\n",
       "      <td>1</td>\n",
       "    </tr>\n",
       "    <tr>\n",
       "      <th>21351</th>\n",
       "      <td>married</td>\n",
       "      <td>0</td>\n",
       "    </tr>\n",
       "  </tbody>\n",
       "</table>\n",
       "<p>21352 rows × 2 columns</p>\n",
       "</div>"
      ],
      "text/plain": [
       "           family_status  debt\n",
       "0                married     0\n",
       "1                married     0\n",
       "2                married     0\n",
       "3                married     0\n",
       "4      civil partnership     0\n",
       "...                  ...   ...\n",
       "21347  civil partnership     0\n",
       "21348            married     0\n",
       "21349  civil partnership     1\n",
       "21350            married     1\n",
       "21351            married     0\n",
       "\n",
       "[21352 rows x 2 columns]"
      ]
     },
     "execution_count": 95,
     "metadata": {},
     "output_type": "execute_result"
    }
   ],
   "source": [
    "# Memeriksa data status keluarga dan pelunasan tepat waktu\n",
    "df_final[['family_status', 'debt']]"
   ]
  },
  {
   "cell_type": "code",
   "execution_count": 96,
   "metadata": {},
   "outputs": [
    {
     "data": {
      "text/plain": [
       "family_status      debt\n",
       "civil partnership  0        3743\n",
       "                   1         386\n",
       "divorced           0        1100\n",
       "                   1          85\n",
       "married            0       11363\n",
       "                   1         927\n",
       "unmarried          0        2521\n",
       "                   1         273\n",
       "widow / widower    0         892\n",
       "                   1          62\n",
       "dtype: int64"
      ]
     },
     "execution_count": 96,
     "metadata": {},
     "output_type": "execute_result"
    }
   ],
   "source": [
    "# Menghitung gagal bayar berdasarkan status keluarga\n",
    "df_final.groupby(['family_status', 'debt']).size()"
   ]
  },
  {
   "cell_type": "markdown",
   "metadata": {},
   "source": [
    "**Kesimpulan sementara**\n",
    "\n",
    "*Findings*:\n",
    "\n",
    "1. Terlihat nasabah yang memiliki status `married` memiliki kemungkinan melunasi pinjaman lebih banyak dibandingkan status perkawinan yang lain."
   ]
  },
  {
   "cell_type": "markdown",
   "metadata": {},
   "source": [
    "### Hipotesis 3: Korelasi antara tingkat pendapatan dengan membayar kembali tepat waktu <a id=\"3\"></a>"
   ]
  },
  {
   "cell_type": "code",
   "execution_count": 97,
   "metadata": {},
   "outputs": [
    {
     "data": {
      "text/html": [
       "<div>\n",
       "<style scoped>\n",
       "    .dataframe tbody tr th:only-of-type {\n",
       "        vertical-align: middle;\n",
       "    }\n",
       "\n",
       "    .dataframe tbody tr th {\n",
       "        vertical-align: top;\n",
       "    }\n",
       "\n",
       "    .dataframe thead th {\n",
       "        text-align: right;\n",
       "    }\n",
       "</style>\n",
       "<table border=\"1\" class=\"dataframe\">\n",
       "  <thead>\n",
       "    <tr style=\"text-align: right;\">\n",
       "      <th></th>\n",
       "      <th>total_income</th>\n",
       "      <th>total_income_group</th>\n",
       "      <th>debt</th>\n",
       "    </tr>\n",
       "  </thead>\n",
       "  <tbody>\n",
       "    <tr>\n",
       "      <th>0</th>\n",
       "      <td>40620.10</td>\n",
       "      <td>high</td>\n",
       "      <td>0</td>\n",
       "    </tr>\n",
       "    <tr>\n",
       "      <th>1</th>\n",
       "      <td>17932.80</td>\n",
       "      <td>middle</td>\n",
       "      <td>0</td>\n",
       "    </tr>\n",
       "    <tr>\n",
       "      <th>2</th>\n",
       "      <td>23341.75</td>\n",
       "      <td>middle</td>\n",
       "      <td>0</td>\n",
       "    </tr>\n",
       "    <tr>\n",
       "      <th>3</th>\n",
       "      <td>42820.57</td>\n",
       "      <td>high</td>\n",
       "      <td>0</td>\n",
       "    </tr>\n",
       "    <tr>\n",
       "      <th>4</th>\n",
       "      <td>25378.57</td>\n",
       "      <td>high</td>\n",
       "      <td>0</td>\n",
       "    </tr>\n",
       "    <tr>\n",
       "      <th>...</th>\n",
       "      <td>...</td>\n",
       "      <td>...</td>\n",
       "      <td>...</td>\n",
       "    </tr>\n",
       "    <tr>\n",
       "      <th>21347</th>\n",
       "      <td>35966.70</td>\n",
       "      <td>high</td>\n",
       "      <td>0</td>\n",
       "    </tr>\n",
       "    <tr>\n",
       "      <th>21348</th>\n",
       "      <td>24959.97</td>\n",
       "      <td>middle</td>\n",
       "      <td>0</td>\n",
       "    </tr>\n",
       "    <tr>\n",
       "      <th>21349</th>\n",
       "      <td>14347.61</td>\n",
       "      <td>low</td>\n",
       "      <td>1</td>\n",
       "    </tr>\n",
       "    <tr>\n",
       "      <th>21350</th>\n",
       "      <td>39054.89</td>\n",
       "      <td>high</td>\n",
       "      <td>1</td>\n",
       "    </tr>\n",
       "    <tr>\n",
       "      <th>21351</th>\n",
       "      <td>13127.59</td>\n",
       "      <td>low</td>\n",
       "      <td>0</td>\n",
       "    </tr>\n",
       "  </tbody>\n",
       "</table>\n",
       "<p>21352 rows × 3 columns</p>\n",
       "</div>"
      ],
      "text/plain": [
       "       total_income total_income_group  debt\n",
       "0          40620.10               high     0\n",
       "1          17932.80             middle     0\n",
       "2          23341.75             middle     0\n",
       "3          42820.57               high     0\n",
       "4          25378.57               high     0\n",
       "...             ...                ...   ...\n",
       "21347      35966.70               high     0\n",
       "21348      24959.97             middle     0\n",
       "21349      14347.61                low     1\n",
       "21350      39054.89               high     1\n",
       "21351      13127.59                low     0\n",
       "\n",
       "[21352 rows x 3 columns]"
      ]
     },
     "execution_count": 97,
     "metadata": {},
     "output_type": "execute_result"
    }
   ],
   "source": [
    "# Memeriksa data tingkat pendapatan dan pelunasan tepat waktu\n",
    "df_clean[['total_income', 'total_income_group', 'debt']]"
   ]
  },
  {
   "cell_type": "code",
   "execution_count": 98,
   "metadata": {},
   "outputs": [
    {
     "data": {
      "text/plain": [
       "total_income_group  debt\n",
       "high                0       9465\n",
       "                    1        807\n",
       "low                 0       2562\n",
       "                    1        239\n",
       "middle              0       6729\n",
       "                    1        629\n",
       "very low            0        863\n",
       "                    1         58\n",
       "dtype: int64"
      ]
     },
     "execution_count": 98,
     "metadata": {},
     "output_type": "execute_result"
    }
   ],
   "source": [
    "# Menghitung gagal bayar berdasarkan tingkat pendapatan\n",
    "df_final.groupby(['total_income_group', 'debt']).size()"
   ]
  },
  {
   "cell_type": "markdown",
   "metadata": {},
   "source": [
    "**Kesimpulan sementara**\n",
    "\n",
    "*Findings*:\n",
    "\n",
    "1. Terlihat nasabah di tiap kriteria memiliki kemungkinan tinggi untuk melunasi pinjaman."
   ]
  },
  {
   "cell_type": "markdown",
   "metadata": {},
   "source": [
    "### Hipotesis 4: Bagaimana tujuan kredit memengaruhi tingkat gagal bayar <a id=\"4\"></a>"
   ]
  },
  {
   "cell_type": "code",
   "execution_count": 99,
   "metadata": {},
   "outputs": [
    {
     "data": {
      "text/plain": [
       "purpose_group               debt\n",
       "car                         0       3884\n",
       "                            1        400\n",
       "education                   0       3625\n",
       "                            1        370\n",
       "real estate/property/house  0       9984\n",
       "                            1        779\n",
       "wedding                     0       2126\n",
       "                            1        184\n",
       "dtype: int64"
      ]
     },
     "execution_count": 99,
     "metadata": {},
     "output_type": "execute_result"
    }
   ],
   "source": [
    "# Menghitung gagal bayar berdasarkan tujuan kredit\n",
    "df_final.groupby(['purpose_group', 'debt']).size()"
   ]
  },
  {
   "cell_type": "markdown",
   "metadata": {},
   "source": [
    "**Kesimpulan sementara**\n",
    "\n",
    "*Findings*:\n",
    "\n",
    "1. Nasabah yang mempunyai tujuan peminjaman untuk *real estate/property/house* menjadi yang terbanyak untuk melunasi pinjaman."
   ]
  },
  {
   "cell_type": "markdown",
   "metadata": {},
   "source": [
    "# Kesimpulan umum <a id=\"Kesimpulan\"></a>\n",
    "\n",
    "Setelah menguji tiga hipotesis berikut:\n",
    "\n",
    "1. Terdapat korelasi antara memiliki anak dengan melakukan pelunasan tepat waktu\n",
    "2. Terdapat korelasi antara status keluarga dengan pelunasan tepat waktu\n",
    "3. Terdapat korelasi antara tingkat pendapatan dengan membayar kembali tepat waktu\n",
    "4. Tujuan kredit memengaruhi tingkat gagal bayar\n",
    "\n",
    "Setelah menganalisis data, dapat disimpulkan:\n",
    "\n",
    "1. Terdapat korelasi antara memiliki anak dengan melakukan pelunasan tepat waktu, semakin banyak anak yang dimiliki nasabah semakin kecil kemungkinan nasabah tersebut melakukan pelunasan tepat pada waktunya.\n",
    "\n",
    "Hipotesis pertama dapat diterima sepenuhnya.\n",
    "\n",
    "2. Terdapat korelasi antara status keluarga dengan pelunasan tepat waktu, nasabah yang memiliki status sudah menikah memiliki kemungkinan pelunasan yang tinggi, dibandingkan dengan status yang lain.\n",
    "\n",
    "Hipotesis kedua dapat diterima sepenuhnya. Perlu diingat nasabah dengan status sudah menikah juga memiliki tingkat gagal yang tinggi \n",
    "\n",
    "3. Tingkat pendapatan tidak terlalu berpengaruh dengan membayar pinjaman tepat waktu, dari keseluruhan kategori, rata-rata dapat membayar pinjaman.\n",
    "\n",
    "Hipotesis ketiga tidak diterima.\n",
    "\n",
    "4. Tujuan kredit tidak terlalu memengaruhi tingkat gagal bayar, dari keseluruhan kategori, rata-rata dapat melakukan pembayaran dari pinjaman.\n",
    "\n",
    "Hipotesis keempat tidak diterima."
   ]
  }
 ],
 "metadata": {
  "ExecuteTimeLog": [
   {
    "duration": 2741,
    "start_time": "2021-10-21T01:08:49.480Z"
   },
   {
    "duration": 52,
    "start_time": "2021-10-21T01:08:53.315Z"
   },
   {
    "duration": 49,
    "start_time": "2021-10-21T01:08:57.432Z"
   },
   {
    "duration": 70,
    "start_time": "2021-10-21T01:09:07.706Z"
   }
  ],
  "kernelspec": {
   "display_name": "Python 3 (ipykernel)",
   "language": "python",
   "name": "python3"
  },
  "language_info": {
   "codemirror_mode": {
    "name": "ipython",
    "version": 3
   },
   "file_extension": ".py",
   "mimetype": "text/x-python",
   "name": "python",
   "nbconvert_exporter": "python",
   "pygments_lexer": "ipython3",
   "version": "3.9.13"
  },
  "nbTranslate": {
   "displayLangs": [
    "*"
   ],
   "hotkey": "alt-t",
   "langInMainMenu": true,
   "sourceLang": "en",
   "targetLang": "fr",
   "useGoogleTranslate": true
  },
  "toc": {
   "base_numbering": 1,
   "nav_menu": {},
   "number_sections": true,
   "sideBar": true,
   "skip_h1_title": true,
   "title_cell": "Table of Contents",
   "title_sidebar": "Contents",
   "toc_cell": false,
   "toc_position": {},
   "toc_section_display": true,
   "toc_window_display": false
  },
  "toc-autonumbering": true,
  "varInspector": {
   "cols": {
    "lenName": 16,
    "lenType": 16,
    "lenVar": 40
   },
   "kernels_config": {
    "python": {
     "delete_cmd_postfix": "",
     "delete_cmd_prefix": "del ",
     "library": "var_list.py",
     "varRefreshCmd": "print(var_dic_list())"
    },
    "r": {
     "delete_cmd_postfix": ") ",
     "delete_cmd_prefix": "rm(",
     "library": "var_list.r",
     "varRefreshCmd": "cat(var_dic_list()) "
    }
   },
   "types_to_exclude": [
    "module",
    "function",
    "builtin_function_or_method",
    "instance",
    "_Feature"
   ],
   "window_display": false
  },
  "vscode": {
   "interpreter": {
    "hash": "ef1728426330606e01c1da091626d7dbd7604032247e9790b44969d857c4f729"
   }
  }
 },
 "nbformat": 4,
 "nbformat_minor": 4
}
