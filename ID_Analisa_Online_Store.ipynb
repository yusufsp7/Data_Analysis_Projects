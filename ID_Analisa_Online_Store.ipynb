{
 "cells": [
  {
   "cell_type": "markdown",
   "metadata": {},
   "source": [
    "# Analsisa Online Store"
   ]
  },
  {
   "cell_type": "markdown",
   "metadata": {},
   "source": [
    "Anda adalah seorang analis di sebuah toko daring besar. Anda bersama tim pemasaran telah menyusun daftar hipotesis untuk membantu meningkatkan pendapatan.\n",
    "\n",
    "<b>Objektif:</b>\n",
    "   1. Memprioritaskan hipotesis, menjalankan *A/B testing*, dan menganalisis hasilnya.\n",
    "\n",
    "<b>Tahapan:</b><a id='back'></a>\n",
    "\n",
    "1. [Ikhtisar Data](#Mulai)\n",
    "    - [Dataset hypotheses_us](#pertama)\n",
    "    - [Dataset orders_us](#kedua)\n",
    "    - [Dataset visits_us](#ketiga)\n",
    "2. [Pra-pemprosesan Data](#Pra-pemrosesan)\n",
    "    - [Dataset df_hyp](#pertama1)\n",
    "    - [Dataset df_orders](#kedua2)\n",
    "3. [*Exploratory Data Analysis*](#EDA)\n",
    "    - [Memprioritaskan hipotesis](#1)\n",
    "    - [Analisis A/B testing](#2)\n",
    "        - [Mempersiapkan dataset](#2.1)\n",
    "        - [Proses analisa stabilitas metrik kumulatif](#2.2)\n",
    "        - [Menganalisa dan memperbaiki outlier](#2.3)\n",
    "4. [Menguji Hipotesis](#Test)\n",
    "    - [Signifikansi statistik perbedaan konversi antar kelompok (data mentah)](#h1)\n",
    "    - [Signifikansi statistik perbedaan ukuran pesanan rata-rata antar kelompok (data mentah)](#h2)\n",
    "    - [Signifikansi statistik perbedaan konversi antar kelompok (data yang difilter)](#h3)\n",
    "    - [Signifikansi statistik perbedaan ukuran pesanan rata-rata antar kelompok (data yang difilter)](#h4)\n",
    "5. [Kesimpulan Umum](#Kesimpulan)"
   ]
  },
  {
   "cell_type": "markdown",
   "metadata": {},
   "source": [
    "## Ikhtisar Data <a id=\"Mulai\"></a>"
   ]
  },
  {
   "cell_type": "code",
   "execution_count": 1,
   "metadata": {},
   "outputs": [],
   "source": [
    "# Memuat semua library\n",
    "import pandas as pd\n",
    "import numpy as np\n",
    "import datetime as dt\n",
    "import matplotlib.pyplot as plt\n",
    "import seaborn as sns\n",
    "import scipy.stats as st"
   ]
  },
  {
   "cell_type": "markdown",
   "metadata": {},
   "source": [
    "### Dataset hypotheses_us <a id=\"pertama\"></a>"
   ]
  },
  {
   "cell_type": "code",
   "execution_count": 2,
   "metadata": {},
   "outputs": [],
   "source": [
    "# Dataset\n",
    "df_hyp = pd.read_csv('Y:\\\\Online Course\\\\Practicum\\\\Jupyter Notebook\\\\8 Project\\\\hypotheses_us.csv', sep=';')"
   ]
  },
  {
   "cell_type": "code",
   "execution_count": 3,
   "metadata": {},
   "outputs": [
    {
     "name": "stdout",
     "output_type": "stream",
     "text": [
      "<class 'pandas.core.frame.DataFrame'>\n",
      "RangeIndex: 9 entries, 0 to 8\n",
      "Data columns (total 5 columns):\n",
      " #   Column      Non-Null Count  Dtype \n",
      "---  ------      --------------  ----- \n",
      " 0   Hypothesis  9 non-null      object\n",
      " 1   Reach       9 non-null      int64 \n",
      " 2   Impact      9 non-null      int64 \n",
      " 3   Confidence  9 non-null      int64 \n",
      " 4   Effort      9 non-null      int64 \n",
      "dtypes: int64(4), object(1)\n",
      "memory usage: 488.0+ bytes\n"
     ]
    }
   ],
   "source": [
    "# Informasi umum\n",
    "df_hyp.info()"
   ]
  },
  {
   "cell_type": "code",
   "execution_count": 4,
   "metadata": {},
   "outputs": [
    {
     "data": {
      "text/plain": [
       "(9, 5)"
      ]
     },
     "execution_count": 4,
     "metadata": {},
     "output_type": "execute_result"
    }
   ],
   "source": [
    "# Ukuran dataset\n",
    "df_hyp.shape"
   ]
  },
  {
   "cell_type": "code",
   "execution_count": 5,
   "metadata": {},
   "outputs": [
    {
     "data": {
      "text/html": [
       "<div>\n",
       "<style scoped>\n",
       "    .dataframe tbody tr th:only-of-type {\n",
       "        vertical-align: middle;\n",
       "    }\n",
       "\n",
       "    .dataframe tbody tr th {\n",
       "        vertical-align: top;\n",
       "    }\n",
       "\n",
       "    .dataframe thead th {\n",
       "        text-align: right;\n",
       "    }\n",
       "</style>\n",
       "<table border=\"1\" class=\"dataframe\">\n",
       "  <thead>\n",
       "    <tr style=\"text-align: right;\">\n",
       "      <th></th>\n",
       "      <th>Hypothesis</th>\n",
       "      <th>Reach</th>\n",
       "      <th>Impact</th>\n",
       "      <th>Confidence</th>\n",
       "      <th>Effort</th>\n",
       "    </tr>\n",
       "  </thead>\n",
       "  <tbody>\n",
       "    <tr>\n",
       "      <th>0</th>\n",
       "      <td>Add two new channels for attracting traffic. T...</td>\n",
       "      <td>3</td>\n",
       "      <td>10</td>\n",
       "      <td>8</td>\n",
       "      <td>6</td>\n",
       "    </tr>\n",
       "    <tr>\n",
       "      <th>1</th>\n",
       "      <td>Launch your own delivery service. This will sh...</td>\n",
       "      <td>2</td>\n",
       "      <td>5</td>\n",
       "      <td>4</td>\n",
       "      <td>10</td>\n",
       "    </tr>\n",
       "    <tr>\n",
       "      <th>2</th>\n",
       "      <td>Add product recommendation blocks to the store...</td>\n",
       "      <td>8</td>\n",
       "      <td>3</td>\n",
       "      <td>7</td>\n",
       "      <td>3</td>\n",
       "    </tr>\n",
       "    <tr>\n",
       "      <th>3</th>\n",
       "      <td>Change the category structure. This will incre...</td>\n",
       "      <td>8</td>\n",
       "      <td>3</td>\n",
       "      <td>3</td>\n",
       "      <td>8</td>\n",
       "    </tr>\n",
       "    <tr>\n",
       "      <th>4</th>\n",
       "      <td>Change the background color on the main page. ...</td>\n",
       "      <td>3</td>\n",
       "      <td>1</td>\n",
       "      <td>1</td>\n",
       "      <td>1</td>\n",
       "    </tr>\n",
       "  </tbody>\n",
       "</table>\n",
       "</div>"
      ],
      "text/plain": [
       "                                          Hypothesis  Reach  Impact  \\\n",
       "0  Add two new channels for attracting traffic. T...      3      10   \n",
       "1  Launch your own delivery service. This will sh...      2       5   \n",
       "2  Add product recommendation blocks to the store...      8       3   \n",
       "3  Change the category structure. This will incre...      8       3   \n",
       "4  Change the background color on the main page. ...      3       1   \n",
       "\n",
       "   Confidence  Effort  \n",
       "0           8       6  \n",
       "1           4      10  \n",
       "2           7       3  \n",
       "3           3       8  \n",
       "4           1       1  "
      ]
     },
     "execution_count": 5,
     "metadata": {},
     "output_type": "execute_result"
    }
   ],
   "source": [
    "# Sampel data\n",
    "df_hyp.head()"
   ]
  },
  {
   "cell_type": "markdown",
   "metadata": {},
   "source": [
    "Dokumentasi:\n",
    "- `Hypotheses` - deskripsi singkat tentang hipotesis\n",
    "- `Reach` - jangkauan pengguna, dalam skala satu hingga sepuluh\n",
    "- `Impact` - dampak terhadap pengguna, dalam skala satu hingga sepuluh\n",
    "- `Confidence` - keyakinan pada hipotesis, dalam skala satu sampai sepuluh\n",
    "- `Effort` - sumber daya yang diperlukan untuk menguji hipotesis, dalam skala satu sampai sepuluh. Semakin tinggi nilai `Effort`, semakin intensif sumber daya pengujiannya."
   ]
  },
  {
   "cell_type": "code",
   "execution_count": 6,
   "metadata": {},
   "outputs": [
    {
     "data": {
      "text/plain": [
       "0"
      ]
     },
     "execution_count": 6,
     "metadata": {},
     "output_type": "execute_result"
    }
   ],
   "source": [
    "# Memeriksa duplikat\n",
    "df_hyp.duplicated().sum()"
   ]
  },
  {
   "cell_type": "markdown",
   "metadata": {},
   "source": [
    "Penamaan kolom dalam dataset ini perlu dirubah ke *lower case*."
   ]
  },
  {
   "cell_type": "markdown",
   "metadata": {},
   "source": [
    "[Kembali ke tahapan](#back)"
   ]
  },
  {
   "cell_type": "markdown",
   "metadata": {},
   "source": [
    "### Dataset orders_us <a id=\"kedua\"></a>"
   ]
  },
  {
   "cell_type": "code",
   "execution_count": 7,
   "metadata": {},
   "outputs": [],
   "source": [
    "# Dataset\n",
    "df_orders = pd.read_csv(\n",
    "    'Y:\\\\Online Course\\\\Practicum\\\\Jupyter Notebook\\\\8 Project\\\\orders_us.csv',\n",
    "    parse_dates=['date']\n",
    ")"
   ]
  },
  {
   "cell_type": "code",
   "execution_count": 8,
   "metadata": {},
   "outputs": [
    {
     "name": "stdout",
     "output_type": "stream",
     "text": [
      "<class 'pandas.core.frame.DataFrame'>\n",
      "RangeIndex: 1197 entries, 0 to 1196\n",
      "Data columns (total 5 columns):\n",
      " #   Column         Non-Null Count  Dtype         \n",
      "---  ------         --------------  -----         \n",
      " 0   transactionId  1197 non-null   int64         \n",
      " 1   visitorId      1197 non-null   int64         \n",
      " 2   date           1197 non-null   datetime64[ns]\n",
      " 3   revenue        1197 non-null   float64       \n",
      " 4   group          1197 non-null   object        \n",
      "dtypes: datetime64[ns](1), float64(1), int64(2), object(1)\n",
      "memory usage: 46.9+ KB\n"
     ]
    }
   ],
   "source": [
    "# Informasi umum\n",
    "df_orders.info()"
   ]
  },
  {
   "cell_type": "code",
   "execution_count": 9,
   "metadata": {},
   "outputs": [
    {
     "data": {
      "text/plain": [
       "(1197, 5)"
      ]
     },
     "execution_count": 9,
     "metadata": {},
     "output_type": "execute_result"
    }
   ],
   "source": [
    "# Ukuran dataset\n",
    "df_orders.shape"
   ]
  },
  {
   "cell_type": "code",
   "execution_count": 10,
   "metadata": {},
   "outputs": [
    {
     "data": {
      "text/html": [
       "<div>\n",
       "<style scoped>\n",
       "    .dataframe tbody tr th:only-of-type {\n",
       "        vertical-align: middle;\n",
       "    }\n",
       "\n",
       "    .dataframe tbody tr th {\n",
       "        vertical-align: top;\n",
       "    }\n",
       "\n",
       "    .dataframe thead th {\n",
       "        text-align: right;\n",
       "    }\n",
       "</style>\n",
       "<table border=\"1\" class=\"dataframe\">\n",
       "  <thead>\n",
       "    <tr style=\"text-align: right;\">\n",
       "      <th></th>\n",
       "      <th>transactionId</th>\n",
       "      <th>visitorId</th>\n",
       "      <th>date</th>\n",
       "      <th>revenue</th>\n",
       "      <th>group</th>\n",
       "    </tr>\n",
       "  </thead>\n",
       "  <tbody>\n",
       "    <tr>\n",
       "      <th>0</th>\n",
       "      <td>3667963787</td>\n",
       "      <td>3312258926</td>\n",
       "      <td>2019-08-15</td>\n",
       "      <td>30.4</td>\n",
       "      <td>B</td>\n",
       "    </tr>\n",
       "    <tr>\n",
       "      <th>1</th>\n",
       "      <td>2804400009</td>\n",
       "      <td>3642806036</td>\n",
       "      <td>2019-08-15</td>\n",
       "      <td>15.2</td>\n",
       "      <td>B</td>\n",
       "    </tr>\n",
       "    <tr>\n",
       "      <th>2</th>\n",
       "      <td>2961555356</td>\n",
       "      <td>4069496402</td>\n",
       "      <td>2019-08-15</td>\n",
       "      <td>10.2</td>\n",
       "      <td>A</td>\n",
       "    </tr>\n",
       "    <tr>\n",
       "      <th>3</th>\n",
       "      <td>3797467345</td>\n",
       "      <td>1196621759</td>\n",
       "      <td>2019-08-15</td>\n",
       "      <td>155.1</td>\n",
       "      <td>B</td>\n",
       "    </tr>\n",
       "    <tr>\n",
       "      <th>4</th>\n",
       "      <td>2282983706</td>\n",
       "      <td>2322279887</td>\n",
       "      <td>2019-08-15</td>\n",
       "      <td>40.5</td>\n",
       "      <td>B</td>\n",
       "    </tr>\n",
       "  </tbody>\n",
       "</table>\n",
       "</div>"
      ],
      "text/plain": [
       "   transactionId   visitorId       date  revenue group\n",
       "0     3667963787  3312258926 2019-08-15     30.4     B\n",
       "1     2804400009  3642806036 2019-08-15     15.2     B\n",
       "2     2961555356  4069496402 2019-08-15     10.2     A\n",
       "3     3797467345  1196621759 2019-08-15    155.1     B\n",
       "4     2282983706  2322279887 2019-08-15     40.5     B"
      ]
     },
     "execution_count": 10,
     "metadata": {},
     "output_type": "execute_result"
    }
   ],
   "source": [
    "# Sampel data\n",
    "df_orders.head()"
   ]
  },
  {
   "cell_type": "markdown",
   "metadata": {},
   "source": [
    "Dokumentasi:\n",
    "- `transactionId` - ID pesanan\n",
    "- `visitorId` - ID pengguna yang membuat pesanan\n",
    "- `date` - tanggal dibuatnya pesanan\n",
    "- `revenue` - pendapatan dari pesanan\n",
    "- `group` - kelompok uji (*test group*) A/B tempat pengguna berada"
   ]
  },
  {
   "cell_type": "code",
   "execution_count": 11,
   "metadata": {},
   "outputs": [
    {
     "data": {
      "text/plain": [
       "0"
      ]
     },
     "execution_count": 11,
     "metadata": {},
     "output_type": "execute_result"
    }
   ],
   "source": [
    "# Memeriksa duplikat\n",
    "df_orders.duplicated().sum()"
   ]
  },
  {
   "cell_type": "markdown",
   "metadata": {},
   "source": [
    "Penamaan kolom dalam dataset ini juga perlu dirubah ke lower case."
   ]
  },
  {
   "cell_type": "markdown",
   "metadata": {},
   "source": [
    "[Kembali ke tahapan](#back)"
   ]
  },
  {
   "cell_type": "markdown",
   "metadata": {},
   "source": [
    "### Dataset visits_us <a id=\"ketiga\"></a>"
   ]
  },
  {
   "cell_type": "code",
   "execution_count": 12,
   "metadata": {},
   "outputs": [],
   "source": [
    "# Dataset\n",
    "df_visits = pd.read_csv(\n",
    "    'Y:\\\\Online Course\\\\Practicum\\\\Jupyter Notebook\\\\8 Project\\\\visits_us.csv',\n",
    "    parse_dates=['date']\n",
    ")"
   ]
  },
  {
   "cell_type": "code",
   "execution_count": 13,
   "metadata": {},
   "outputs": [
    {
     "name": "stdout",
     "output_type": "stream",
     "text": [
      "<class 'pandas.core.frame.DataFrame'>\n",
      "RangeIndex: 62 entries, 0 to 61\n",
      "Data columns (total 3 columns):\n",
      " #   Column  Non-Null Count  Dtype         \n",
      "---  ------  --------------  -----         \n",
      " 0   date    62 non-null     datetime64[ns]\n",
      " 1   group   62 non-null     object        \n",
      " 2   visits  62 non-null     int64         \n",
      "dtypes: datetime64[ns](1), int64(1), object(1)\n",
      "memory usage: 1.6+ KB\n"
     ]
    }
   ],
   "source": [
    "# Informasi umum\n",
    "df_visits.info()"
   ]
  },
  {
   "cell_type": "code",
   "execution_count": 14,
   "metadata": {},
   "outputs": [
    {
     "data": {
      "text/plain": [
       "(62, 3)"
      ]
     },
     "execution_count": 14,
     "metadata": {},
     "output_type": "execute_result"
    }
   ],
   "source": [
    "# Ukuran dataset\n",
    "df_visits.shape"
   ]
  },
  {
   "cell_type": "code",
   "execution_count": 15,
   "metadata": {},
   "outputs": [
    {
     "data": {
      "text/html": [
       "<div>\n",
       "<style scoped>\n",
       "    .dataframe tbody tr th:only-of-type {\n",
       "        vertical-align: middle;\n",
       "    }\n",
       "\n",
       "    .dataframe tbody tr th {\n",
       "        vertical-align: top;\n",
       "    }\n",
       "\n",
       "    .dataframe thead th {\n",
       "        text-align: right;\n",
       "    }\n",
       "</style>\n",
       "<table border=\"1\" class=\"dataframe\">\n",
       "  <thead>\n",
       "    <tr style=\"text-align: right;\">\n",
       "      <th></th>\n",
       "      <th>date</th>\n",
       "      <th>group</th>\n",
       "      <th>visits</th>\n",
       "    </tr>\n",
       "  </thead>\n",
       "  <tbody>\n",
       "    <tr>\n",
       "      <th>0</th>\n",
       "      <td>2019-08-01</td>\n",
       "      <td>A</td>\n",
       "      <td>719</td>\n",
       "    </tr>\n",
       "    <tr>\n",
       "      <th>1</th>\n",
       "      <td>2019-08-02</td>\n",
       "      <td>A</td>\n",
       "      <td>619</td>\n",
       "    </tr>\n",
       "    <tr>\n",
       "      <th>2</th>\n",
       "      <td>2019-08-03</td>\n",
       "      <td>A</td>\n",
       "      <td>507</td>\n",
       "    </tr>\n",
       "    <tr>\n",
       "      <th>3</th>\n",
       "      <td>2019-08-04</td>\n",
       "      <td>A</td>\n",
       "      <td>717</td>\n",
       "    </tr>\n",
       "    <tr>\n",
       "      <th>4</th>\n",
       "      <td>2019-08-05</td>\n",
       "      <td>A</td>\n",
       "      <td>756</td>\n",
       "    </tr>\n",
       "  </tbody>\n",
       "</table>\n",
       "</div>"
      ],
      "text/plain": [
       "        date group  visits\n",
       "0 2019-08-01     A     719\n",
       "1 2019-08-02     A     619\n",
       "2 2019-08-03     A     507\n",
       "3 2019-08-04     A     717\n",
       "4 2019-08-05     A     756"
      ]
     },
     "execution_count": 15,
     "metadata": {},
     "output_type": "execute_result"
    }
   ],
   "source": [
    "# Sampel data\n",
    "df_visits.head()"
   ]
  },
  {
   "cell_type": "markdown",
   "metadata": {},
   "source": [
    "Dokumentasi:\n",
    "- `date` - tanggal kunjungan\n",
    "- `group` - kelompok uji (*test group*) A/B\n",
    "- `visits` - jumlah kunjungan pada tanggal yang ditentukan untuk kelompok uji A/B yang ditentukan"
   ]
  },
  {
   "cell_type": "code",
   "execution_count": 16,
   "metadata": {},
   "outputs": [
    {
     "data": {
      "text/plain": [
       "0"
      ]
     },
     "execution_count": 16,
     "metadata": {},
     "output_type": "execute_result"
    }
   ],
   "source": [
    "# Memeriksa duplikat\n",
    "df_visits.duplicated().sum()"
   ]
  },
  {
   "cell_type": "markdown",
   "metadata": {},
   "source": [
    "Dataset ini tampak bagus dan tidak memerlukan perbaikan."
   ]
  },
  {
   "cell_type": "markdown",
   "metadata": {},
   "source": [
    "**Kesimpulan sementara**\n",
    "\n",
    "1. df_hyp dan df_orders, penamaan kolom yang menggunakan *camel case* dalam dataset perlu dirubah menjadi *snake case*. \n",
    "2. df_visits tidak memerlukan perbaikan."
   ]
  },
  {
   "cell_type": "markdown",
   "metadata": {},
   "source": [
    "[Kembali ke tahapan](#back)"
   ]
  },
  {
   "cell_type": "markdown",
   "metadata": {},
   "source": [
    "## Pra-pemprosesan Data <a id=\"Pra-pemrosesan\"></a>"
   ]
  },
  {
   "cell_type": "markdown",
   "metadata": {},
   "source": [
    "### Dataset df_hyp <a id=\"pertama1\"></a>"
   ]
  },
  {
   "cell_type": "code",
   "execution_count": 17,
   "metadata": {},
   "outputs": [
    {
     "data": {
      "text/plain": [
       "Index(['Hypothesis', 'Reach', 'Impact', 'Confidence', 'Effort'], dtype='object')"
      ]
     },
     "execution_count": 17,
     "metadata": {},
     "output_type": "execute_result"
    }
   ],
   "source": [
    "# Memeriksa kolom dataset\n",
    "df_hyp.columns"
   ]
  },
  {
   "cell_type": "code",
   "execution_count": 18,
   "metadata": {},
   "outputs": [],
   "source": [
    "# Memperbaiki nama kolom\n",
    "df_hyp.columns = df_hyp.columns.str.lower()"
   ]
  },
  {
   "cell_type": "code",
   "execution_count": 19,
   "metadata": {},
   "outputs": [
    {
     "data": {
      "text/plain": [
       "Index(['hypothesis', 'reach', 'impact', 'confidence', 'effort'], dtype='object')"
      ]
     },
     "execution_count": 19,
     "metadata": {},
     "output_type": "execute_result"
    }
   ],
   "source": [
    "# Memeriksa hasilnya\n",
    "df_hyp.columns"
   ]
  },
  {
   "cell_type": "markdown",
   "metadata": {},
   "source": [
    "Dataset berhasil diperbaiki."
   ]
  },
  {
   "cell_type": "markdown",
   "metadata": {},
   "source": [
    "### Dataset df_orders <a id=\"kedua2\"></a>"
   ]
  },
  {
   "cell_type": "code",
   "execution_count": 20,
   "metadata": {},
   "outputs": [
    {
     "data": {
      "text/plain": [
       "Index(['transactionId', 'visitorId', 'date', 'revenue', 'group'], dtype='object')"
      ]
     },
     "execution_count": 20,
     "metadata": {},
     "output_type": "execute_result"
    }
   ],
   "source": [
    "# Memeriksa kolom dataset\n",
    "df_orders.columns"
   ]
  },
  {
   "cell_type": "code",
   "execution_count": 21,
   "metadata": {},
   "outputs": [],
   "source": [
    "# Memperbaiki nama kolom\n",
    "df_orders.columns = df_orders.columns.str.lower()"
   ]
  },
  {
   "cell_type": "code",
   "execution_count": 22,
   "metadata": {},
   "outputs": [
    {
     "data": {
      "text/plain": [
       "Index(['transactionid', 'visitorid', 'date', 'revenue', 'group'], dtype='object')"
      ]
     },
     "execution_count": 22,
     "metadata": {},
     "output_type": "execute_result"
    }
   ],
   "source": [
    "# Memeriksa hasilnya\n",
    "df_orders.columns"
   ]
  },
  {
   "cell_type": "markdown",
   "metadata": {},
   "source": [
    "Dataset berhasil diperbaiki."
   ]
  },
  {
   "cell_type": "markdown",
   "metadata": {},
   "source": [
    "**Kesimpulan sementara**\n",
    "\n",
    "Datase yang df_hyp dan df_orders sudah diperbaiki dari penggunaan nama kolom *camel case* menjadi *snake case*."
   ]
  },
  {
   "cell_type": "markdown",
   "metadata": {},
   "source": [
    "[Kembali ke tahapan](#back)"
   ]
  },
  {
   "cell_type": "markdown",
   "metadata": {},
   "source": [
    "## *Exploratory Data Analysis* <a id=\"EDA\"></a>"
   ]
  },
  {
   "cell_type": "markdown",
   "metadata": {},
   "source": [
    "### Memprioritaskan hipotesis <a id=\"1\"></a>"
   ]
  },
  {
   "cell_type": "markdown",
   "metadata": {},
   "source": [
    "File hypotheses_us.csv memuat sembilan hipotesis untuk meningkatkan pendapatan toko daring dengan Reach, Impact, Confidence, dan Effort yang sudah ditentukan untuk masing-masing hipotesis."
   ]
  },
  {
   "cell_type": "markdown",
   "metadata": {},
   "source": [
    "ICE: salah satu metode paling populer yang digunakan untuk memprioritaskan masalah, terdiri dari *Impact, Confidence, Effort*."
   ]
  },
  {
   "cell_type": "code",
   "execution_count": 23,
   "metadata": {},
   "outputs": [],
   "source": [
    "# Menghitung ICE\n",
    "df_hyp['ice'] =(\n",
    "    (df_hyp['impact']*df_hyp['confidence'])\n",
    "    /df_hyp['effort']\n",
    ").round(1)"
   ]
  },
  {
   "cell_type": "code",
   "execution_count": 24,
   "metadata": {},
   "outputs": [
    {
     "data": {
      "text/html": [
       "<div>\n",
       "<style scoped>\n",
       "    .dataframe tbody tr th:only-of-type {\n",
       "        vertical-align: middle;\n",
       "    }\n",
       "\n",
       "    .dataframe tbody tr th {\n",
       "        vertical-align: top;\n",
       "    }\n",
       "\n",
       "    .dataframe thead th {\n",
       "        text-align: right;\n",
       "    }\n",
       "</style>\n",
       "<table border=\"1\" class=\"dataframe\">\n",
       "  <thead>\n",
       "    <tr style=\"text-align: right;\">\n",
       "      <th></th>\n",
       "      <th>hypothesis</th>\n",
       "      <th>ice</th>\n",
       "    </tr>\n",
       "  </thead>\n",
       "  <tbody>\n",
       "    <tr>\n",
       "      <th>8</th>\n",
       "      <td>Launch a promotion that gives users discounts ...</td>\n",
       "      <td>16.2</td>\n",
       "    </tr>\n",
       "    <tr>\n",
       "      <th>0</th>\n",
       "      <td>Add two new channels for attracting traffic. T...</td>\n",
       "      <td>13.3</td>\n",
       "    </tr>\n",
       "    <tr>\n",
       "      <th>7</th>\n",
       "      <td>Add a subscription form to all the main pages....</td>\n",
       "      <td>11.2</td>\n",
       "    </tr>\n",
       "    <tr>\n",
       "      <th>6</th>\n",
       "      <td>Show banners with current offers and sales on ...</td>\n",
       "      <td>8.0</td>\n",
       "    </tr>\n",
       "    <tr>\n",
       "      <th>2</th>\n",
       "      <td>Add product recommendation blocks to the store...</td>\n",
       "      <td>7.0</td>\n",
       "    </tr>\n",
       "    <tr>\n",
       "      <th>1</th>\n",
       "      <td>Launch your own delivery service. This will sh...</td>\n",
       "      <td>2.0</td>\n",
       "    </tr>\n",
       "    <tr>\n",
       "      <th>5</th>\n",
       "      <td>Add a customer review page. This will increase...</td>\n",
       "      <td>1.3</td>\n",
       "    </tr>\n",
       "    <tr>\n",
       "      <th>3</th>\n",
       "      <td>Change the category structure. This will incre...</td>\n",
       "      <td>1.1</td>\n",
       "    </tr>\n",
       "    <tr>\n",
       "      <th>4</th>\n",
       "      <td>Change the background color on the main page. ...</td>\n",
       "      <td>1.0</td>\n",
       "    </tr>\n",
       "  </tbody>\n",
       "</table>\n",
       "</div>"
      ],
      "text/plain": [
       "                                          hypothesis   ice\n",
       "8  Launch a promotion that gives users discounts ...  16.2\n",
       "0  Add two new channels for attracting traffic. T...  13.3\n",
       "7  Add a subscription form to all the main pages....  11.2\n",
       "6  Show banners with current offers and sales on ...   8.0\n",
       "2  Add product recommendation blocks to the store...   7.0\n",
       "1  Launch your own delivery service. This will sh...   2.0\n",
       "5  Add a customer review page. This will increase...   1.3\n",
       "3  Change the category structure. This will incre...   1.1\n",
       "4  Change the background color on the main page. ...   1.0"
      ]
     },
     "execution_count": 24,
     "metadata": {},
     "output_type": "execute_result"
    }
   ],
   "source": [
    "# Mengurutkan data\n",
    "ice = df_hyp[['hypothesis', 'ice']].sort_values(by='ice', ascending=False)\n",
    "\n",
    "# Menampilkan hasilnya\n",
    "ice"
   ]
  },
  {
   "cell_type": "markdown",
   "metadata": {},
   "source": [
    "dan ada juga metode RICE,\n",
    "\n",
    "RICE: modifikasi dari ICE, terdiri dari *Reach, Impact, Confidence, Effort*."
   ]
  },
  {
   "cell_type": "code",
   "execution_count": 25,
   "metadata": {},
   "outputs": [],
   "source": [
    "# Menghitung RICE\n",
    "df_hyp['rice'] =(\n",
    "    (df_hyp['reach']*df_hyp['impact']*df_hyp['confidence'])\n",
    "    /df_hyp['effort']\n",
    ")"
   ]
  },
  {
   "cell_type": "code",
   "execution_count": 26,
   "metadata": {},
   "outputs": [
    {
     "data": {
      "text/html": [
       "<div>\n",
       "<style scoped>\n",
       "    .dataframe tbody tr th:only-of-type {\n",
       "        vertical-align: middle;\n",
       "    }\n",
       "\n",
       "    .dataframe tbody tr th {\n",
       "        vertical-align: top;\n",
       "    }\n",
       "\n",
       "    .dataframe thead th {\n",
       "        text-align: right;\n",
       "    }\n",
       "</style>\n",
       "<table border=\"1\" class=\"dataframe\">\n",
       "  <thead>\n",
       "    <tr style=\"text-align: right;\">\n",
       "      <th></th>\n",
       "      <th>hypothesis</th>\n",
       "      <th>rice</th>\n",
       "    </tr>\n",
       "  </thead>\n",
       "  <tbody>\n",
       "    <tr>\n",
       "      <th>7</th>\n",
       "      <td>Add a subscription form to all the main pages....</td>\n",
       "      <td>112.0</td>\n",
       "    </tr>\n",
       "    <tr>\n",
       "      <th>2</th>\n",
       "      <td>Add product recommendation blocks to the store...</td>\n",
       "      <td>56.0</td>\n",
       "    </tr>\n",
       "    <tr>\n",
       "      <th>0</th>\n",
       "      <td>Add two new channels for attracting traffic. T...</td>\n",
       "      <td>40.0</td>\n",
       "    </tr>\n",
       "    <tr>\n",
       "      <th>6</th>\n",
       "      <td>Show banners with current offers and sales on ...</td>\n",
       "      <td>40.0</td>\n",
       "    </tr>\n",
       "    <tr>\n",
       "      <th>8</th>\n",
       "      <td>Launch a promotion that gives users discounts ...</td>\n",
       "      <td>16.2</td>\n",
       "    </tr>\n",
       "    <tr>\n",
       "      <th>3</th>\n",
       "      <td>Change the category structure. This will incre...</td>\n",
       "      <td>9.0</td>\n",
       "    </tr>\n",
       "    <tr>\n",
       "      <th>1</th>\n",
       "      <td>Launch your own delivery service. This will sh...</td>\n",
       "      <td>4.0</td>\n",
       "    </tr>\n",
       "    <tr>\n",
       "      <th>5</th>\n",
       "      <td>Add a customer review page. This will increase...</td>\n",
       "      <td>4.0</td>\n",
       "    </tr>\n",
       "    <tr>\n",
       "      <th>4</th>\n",
       "      <td>Change the background color on the main page. ...</td>\n",
       "      <td>3.0</td>\n",
       "    </tr>\n",
       "  </tbody>\n",
       "</table>\n",
       "</div>"
      ],
      "text/plain": [
       "                                          hypothesis   rice\n",
       "7  Add a subscription form to all the main pages....  112.0\n",
       "2  Add product recommendation blocks to the store...   56.0\n",
       "0  Add two new channels for attracting traffic. T...   40.0\n",
       "6  Show banners with current offers and sales on ...   40.0\n",
       "8  Launch a promotion that gives users discounts ...   16.2\n",
       "3  Change the category structure. This will incre...    9.0\n",
       "1  Launch your own delivery service. This will sh...    4.0\n",
       "5  Add a customer review page. This will increase...    4.0\n",
       "4  Change the background color on the main page. ...    3.0"
      ]
     },
     "execution_count": 26,
     "metadata": {},
     "output_type": "execute_result"
    }
   ],
   "source": [
    "# Mengurutkan data\n",
    "rice = df_hyp[['hypothesis', 'rice']].sort_values(by='rice', ascending=False)\n",
    "\n",
    "# Menampilkan hasilnya\n",
    "rice"
   ]
  },
  {
   "cell_type": "markdown",
   "metadata": {},
   "source": [
    "Perubahan prioritas hipotesis saat RICE diterapkan untuk menggantikan ICE."
   ]
  },
  {
   "cell_type": "code",
   "execution_count": 27,
   "metadata": {},
   "outputs": [
    {
     "data": {
      "image/png": "[encoded data removed]",
      "text/plain": [
       "<Figure size 1200x800 with 2 Axes>"
      ]
     },
     "metadata": {},
     "output_type": "display_data"
    }
   ],
   "source": [
    "# Ukuran grafik 2 baris 1 kolom\n",
    "fig, axes = plt.subplots(2, 1, figsize=(12, 8))\n",
    "\n",
    "# Grafik dari dataset rice, baris 2 kolom 1\n",
    "rice_plot = rice.plot(\n",
    "    kind='bar',\n",
    "    ax=axes[1]\n",
    ")\n",
    "\n",
    "# Memutar label x\n",
    "rice_plot.set_xticklabels(rice_plot.get_xticklabels(), rotation=0) \n",
    "\n",
    "# Grafik dari dataset ice, baris 1 kolom 1\n",
    "ice_plot = ice.plot(\n",
    "    kind='bar',\n",
    "    ax=axes[0]\n",
    ")\n",
    "\n",
    "# Memutar label x\n",
    "ice_plot.set_xticklabels(ice_plot.get_xticklabels(), rotation=0)\n",
    "\n",
    "# Penamaan subplot\n",
    "axes[1].set_xlabel('Hipotesis')\n",
    "axes[1].set_ylabel('RICE')\n",
    "axes[0].set_xlabel('Hipotesis')\n",
    "axes[0].set_ylabel('ICE')\n",
    "\n",
    "# Judul grafik\n",
    "axes[1].set_title('Prioritas hipotesis')\n",
    "axes[0].set_title('Prioritas hipotesis')\n",
    "\n",
    "# Menambahkan ruang antara subplot\n",
    "plt.subplots_adjust(hspace=0.5)\n",
    "\n",
    "# Menampilkan grafik\n",
    "plt.show()"
   ]
  },
  {
   "cell_type": "code",
   "execution_count": 28,
   "metadata": {},
   "outputs": [
    {
     "name": "stdout",
     "output_type": "stream",
     "text": [
      "Hipotesis dengan index nomor 0:  Add two new channels for attracting traffic. This will bring 30% more users\n",
      "Hipotesis dengan index nomor 7:  Add a subscription form to all the main pages. This will help you compile a mailing list\n"
     ]
    }
   ],
   "source": [
    "# Hipotesis pada index 0 dan 7\n",
    "print('Hipotesis dengan index nomor 0: ', df_hyp['hypothesis'][0])\n",
    "print('Hipotesis dengan index nomor 7: ', df_hyp['hypothesis'][7])"
   ]
  },
  {
   "cell_type": "markdown",
   "metadata": {},
   "source": [
    "**Kesimpulan sementara**\n",
    "\n",
    "Metode ICE:\n",
    "1. Index nomor 8, 0, dan 7 memuncaki prioritas,\n",
    "\n",
    "Metode RICE:\n",
    "1. index nomor 7, 2, dan 0 memuncaki prioritas hipotesis yang perlu diuji terlebih dahulu.\n",
    "\n",
    "Berdasarkan hal tersebut:\n",
    "1. Hipotesis 0: \"Add two new channels for attracting traffic. This will bring 30% more users\"\n",
    "2. Hipotesis 7: \"Add a subscription form to all the main pages. This will help you compile a mailing list\"\n",
    "3. Hipotesis 0 dan 7 mememiliki posisi relatif yang menjanjikan untuk diuji terlebih dahulu\n"
   ]
  },
  {
   "cell_type": "markdown",
   "metadata": {},
   "source": [
    "[Kembali ke tahapan](#back)"
   ]
  },
  {
   "cell_type": "markdown",
   "metadata": {},
   "source": [
    "### Analisis A/B testing <a id=\"2\"></a>"
   ]
  },
  {
   "cell_type": "markdown",
   "metadata": {},
   "source": [
    "df_orders dan df_visits merupakan hasil dari A/B testing yang selanjutnya akan dilakukan proses analisa A/B testing dari dataset tersebut."
   ]
  },
  {
   "cell_type": "markdown",
   "metadata": {},
   "source": [
    "#### Mempersiapkan dataset <a id=\"2.1\"></a>"
   ]
  },
  {
   "cell_type": "code",
   "execution_count": 29,
   "metadata": {},
   "outputs": [],
   "source": [
    "# Kelompok dan tanggal berpasangan yang unik\n",
    "datesGroups = df_orders[['date', 'group']].drop_duplicates()"
   ]
  },
  {
   "cell_type": "code",
   "execution_count": 30,
   "metadata": {},
   "outputs": [],
   "source": [
    "# Menerapkan fungsi lambda pada df_orders\n",
    "df_orders_agg = datesGroups.apply( \n",
    "    # Untuk setiap x di datesGroups dengan kondisi\n",
    "    # df_orders, np.logical_and(array1, array2)\n",
    "    # baris, axis=1\n",
    "    lambda x: df_orders[np.logical_and(\n",
    "        df_orders['date'] <= x['date'],\n",
    "        df_orders['group'] == x['group'])].agg({\n",
    "            'date' : 'max',\n",
    "            'group' : 'max',\n",
    "            'transactionid' : pd.Series.nunique,\n",
    "            'visitorid' : pd.Series.nunique,\n",
    "            'revenue' : 'sum'\n",
    "}), axis=1).sort_values(by=['date','group'])"
   ]
  },
  {
   "cell_type": "code",
   "execution_count": 31,
   "metadata": {},
   "outputs": [],
   "source": [
    "# Menerapkan fungsi lambda pada df_visits\n",
    "df_visits_agg = datesGroups.apply( \n",
    "    # Untuk setiap x di datesGroups dengan kondisi\n",
    "    # df_visits, np.logical_and(array1, array2)\n",
    "    # baris, axis=1\n",
    "    lambda x: df_visits[np.logical_and(\n",
    "        df_visits['date'] <= x['date'],\n",
    "        df_visits['group'] == x['group'])].agg({\n",
    "            'date' : 'max',\n",
    "            'group' : 'max',\n",
    "            'visits' : 'sum'\n",
    "}), axis=1).sort_values(by=['date','group'])"
   ]
  },
  {
   "cell_type": "code",
   "execution_count": 32,
   "metadata": {},
   "outputs": [],
   "source": [
    "# Menggabungkan dataset\n",
    "report = df_orders_agg.merge(\n",
    "    df_visits_agg,\n",
    "    left_on=['date', 'group'],\n",
    "    right_on=['date', 'group']\n",
    ")"
   ]
  },
  {
   "cell_type": "code",
   "execution_count": 33,
   "metadata": {},
   "outputs": [],
   "source": [
    "# Merubah nama kolom\n",
    "report.columns = ['date', 'group', 'orders', 'buyers', 'revenue', 'visitors']"
   ]
  },
  {
   "cell_type": "code",
   "execution_count": 34,
   "metadata": {},
   "outputs": [
    {
     "data": {
      "text/html": [
       "<div>\n",
       "<style scoped>\n",
       "    .dataframe tbody tr th:only-of-type {\n",
       "        vertical-align: middle;\n",
       "    }\n",
       "\n",
       "    .dataframe tbody tr th {\n",
       "        vertical-align: top;\n",
       "    }\n",
       "\n",
       "    .dataframe thead th {\n",
       "        text-align: right;\n",
       "    }\n",
       "</style>\n",
       "<table border=\"1\" class=\"dataframe\">\n",
       "  <thead>\n",
       "    <tr style=\"text-align: right;\">\n",
       "      <th></th>\n",
       "      <th>date</th>\n",
       "      <th>group</th>\n",
       "      <th>orders</th>\n",
       "      <th>buyers</th>\n",
       "      <th>revenue</th>\n",
       "      <th>visitors</th>\n",
       "    </tr>\n",
       "  </thead>\n",
       "  <tbody>\n",
       "    <tr>\n",
       "      <th>0</th>\n",
       "      <td>2019-08-01</td>\n",
       "      <td>A</td>\n",
       "      <td>24</td>\n",
       "      <td>20</td>\n",
       "      <td>2356.8</td>\n",
       "      <td>719</td>\n",
       "    </tr>\n",
       "    <tr>\n",
       "      <th>1</th>\n",
       "      <td>2019-08-01</td>\n",
       "      <td>B</td>\n",
       "      <td>21</td>\n",
       "      <td>20</td>\n",
       "      <td>1620.0</td>\n",
       "      <td>713</td>\n",
       "    </tr>\n",
       "    <tr>\n",
       "      <th>2</th>\n",
       "      <td>2019-08-02</td>\n",
       "      <td>A</td>\n",
       "      <td>44</td>\n",
       "      <td>38</td>\n",
       "      <td>3860.3</td>\n",
       "      <td>1338</td>\n",
       "    </tr>\n",
       "    <tr>\n",
       "      <th>3</th>\n",
       "      <td>2019-08-02</td>\n",
       "      <td>B</td>\n",
       "      <td>45</td>\n",
       "      <td>43</td>\n",
       "      <td>4243.8</td>\n",
       "      <td>1294</td>\n",
       "    </tr>\n",
       "    <tr>\n",
       "      <th>4</th>\n",
       "      <td>2019-08-03</td>\n",
       "      <td>A</td>\n",
       "      <td>68</td>\n",
       "      <td>62</td>\n",
       "      <td>5675.5</td>\n",
       "      <td>1845</td>\n",
       "    </tr>\n",
       "  </tbody>\n",
       "</table>\n",
       "</div>"
      ],
      "text/plain": [
       "        date group  orders  buyers  revenue  visitors\n",
       "0 2019-08-01     A      24      20   2356.8       719\n",
       "1 2019-08-01     B      21      20   1620.0       713\n",
       "2 2019-08-02     A      44      38   3860.3      1338\n",
       "3 2019-08-02     B      45      43   4243.8      1294\n",
       "4 2019-08-03     A      68      62   5675.5      1845"
      ]
     },
     "execution_count": 34,
     "metadata": {},
     "output_type": "execute_result"
    }
   ],
   "source": [
    "# Sampel data\n",
    "report.head()"
   ]
  },
  {
   "cell_type": "markdown",
   "metadata": {},
   "source": [
    "[Kembali ke tahapan](#back)"
   ]
  },
  {
   "cell_type": "markdown",
   "metadata": {},
   "source": [
    "#### Proses analisa stabilitas metrik kumulatif <a id=\"2.2\"></a>"
   ]
  },
  {
   "cell_type": "markdown",
   "metadata": {},
   "source": [
    "Menguji grafik dapat mencegah terjadinya masalah yang mengintai (*peeking problem*).\n",
    "\n",
    "Peeking problem adalah tindakan menarik kesimpulan sebelum eksperimen selesai, dan membuat keputusan berdasarkan kesimpulan tersebut. Hal ini bisa menyebabkan bias, mengingat adanya potensi pengamatan yang outlier.\n",
    "\n",
    "Grafik metrik kumulatif akan membantu memutuskan apakah perlu melanjutkan pengujian."
   ]
  },
  {
   "cell_type": "markdown",
   "metadata": {},
   "source": [
    "##### Pendapatan kumulatif berdasarkan kelompok"
   ]
  },
  {
   "cell_type": "code",
   "execution_count": 35,
   "metadata": {},
   "outputs": [],
   "source": [
    "# Kelompok A\n",
    "report_cumrev_A = report[report['group']=='A'][['date', 'revenue', 'orders']]\n",
    "\n",
    "# Kelompok B\n",
    "report_cumrev_B = report[report['group']=='B'][['date', 'revenue', 'orders']]"
   ]
  },
  {
   "cell_type": "code",
   "execution_count": 36,
   "metadata": {},
   "outputs": [
    {
     "data": {
      "image/png": "[encoded data removed]",
      "text/plain": [
       "<Figure size 1200x800 with 1 Axes>"
      ]
     },
     "metadata": {},
     "output_type": "display_data"
    }
   ],
   "source": [
    "# Ukuran grafik\n",
    "plt.figure(figsize=(12, 8))\n",
    "\n",
    "# Grafik pendapatan berdasarkan hari dan kelompok\n",
    "plt.plot(report_cumrev_A['date'], report_cumrev_A['revenue'], label='A')\n",
    "plt.plot(report_cumrev_B['date'], report_cumrev_B['revenue'], label='B')\n",
    "\n",
    "# Judul\n",
    "plt.title(\"Pendapatan Kumulatif\")\n",
    "\n",
    "# Penamaan pada x,y-axis\n",
    "plt.xlabel('Tanggal')\n",
    "plt.ylabel('Pendapatan')\n",
    "\n",
    "# Menampilkan grafik dan legend\n",
    "plt.legend()\n",
    "\n",
    "# Menampilkan hasilnya\n",
    "plt.show()"
   ]
  },
  {
   "cell_type": "markdown",
   "metadata": {},
   "source": [
    "Pendapatan terus meningkat selama pengujian, namun demikian kedua kelompok mencatatkan lonjakan pendapatan pada titik-titik tertentu seperti yang terjadi pada grup B.\n",
    "\n",
    "Mungkin ini dikarenakan adanya lonjakan pesanan atau pesanan yang sangat mahal dalam sampel."
   ]
  },
  {
   "cell_type": "markdown",
   "metadata": {},
   "source": [
    "##### Ukuran pesanan rata-rata kumulatif berdasarkan kelompok"
   ]
  },
  {
   "cell_type": "code",
   "execution_count": 37,
   "metadata": {},
   "outputs": [
    {
     "data": {
      "image/png": "[encoded data removed]",
      "text/plain": [
       "<Figure size 1200x800 with 1 Axes>"
      ]
     },
     "metadata": {},
     "output_type": "display_data"
    }
   ],
   "source": [
    "# Ukuran grafik\n",
    "plt.figure(figsize=(12, 8))\n",
    "\n",
    "# Grafik pendapatan berdasarkan hari dan kelompok\n",
    "plt.plot(report_cumrev_A['date'], report_cumrev_A['revenue']/report_cumrev_A['orders'], label='A')\n",
    "plt.plot(report_cumrev_B['date'], report_cumrev_B['revenue']/report_cumrev_B['orders'], label='B')\n",
    "\n",
    "# Judul\n",
    "plt.title(\"Ukuran pesanan rata-rata kumulatif\")\n",
    "\n",
    "# Penamaan pada x,y-axis\n",
    "plt.xlabel('Tanggal')\n",
    "plt.ylabel('Ukuran pesanan')\n",
    "\n",
    "# Menampilkan grafik dan legend\n",
    "plt.legend()\n",
    "\n",
    "# Menampilkan hasilnya\n",
    "plt.show()"
   ]
  },
  {
   "cell_type": "markdown",
   "metadata": {},
   "source": [
    "Di awal nilai kumulatif masih berfluktuasi, kemudian baru stabil menjelang akhir pengujian.\n",
    "\n",
    "Terjadi lonjakan yang cukup besar sekitar tanggal 17-21 Agustus pada grup B. Dan sekitar tanggal 5-17 Agustus untuk grup A.\n",
    "\n",
    "Mungkin ini juga dikarenakan adanya lonjakan pesanan atau pesanan yang sangat mahal dalam sampel."
   ]
  },
  {
   "cell_type": "markdown",
   "metadata": {},
   "source": [
    "##### Perbedaan relatif ukuran pesanan rata-rata kumulatif kelompok B dibandingkan kelompok A"
   ]
  },
  {
   "cell_type": "code",
   "execution_count": 38,
   "metadata": {},
   "outputs": [],
   "source": [
    "# Menggabungkan dataset akumulatif\n",
    "report_cumrev_merge = report_cumrev_A.merge(\n",
    "    report_cumrev_B,\n",
    "    left_on='date',\n",
    "    right_on='date',\n",
    "    how='left',\n",
    "    suffixes=['A', 'B']\n",
    ")"
   ]
  },
  {
   "cell_type": "code",
   "execution_count": 39,
   "metadata": {},
   "outputs": [
    {
     "data": {
      "image/png": "[encoded data removed]",
      "text/plain": [
       "<Figure size 1200x800 with 1 Axes>"
      ]
     },
     "metadata": {},
     "output_type": "display_data"
    }
   ],
   "source": [
    "# Ukuran grafik\n",
    "plt.figure(figsize=(12, 8))\n",
    "\n",
    "# Grafik perbedaan relatif untuk jumlah pesanan rata-rata\n",
    "plt.plot(\n",
    "    report_cumrev_merge['date'],\n",
    "    (\n",
    "        (report_cumrev_merge['revenueB']/report_cumrev_merge['ordersB']) \n",
    "        / (report_cumrev_merge['revenueA']/report_cumrev_merge['ordersA'])\n",
    "    ) - 1\n",
    ")\n",
    "\n",
    "# Judul\n",
    "plt.title(\"Ukuran pesanan rata-rata kumulatif: Grup B dibandingkan Grup A\")\n",
    "\n",
    "# Penamaan pada x,y-axis\n",
    "plt.xlabel('Tanggal')\n",
    "plt.ylabel('Rasio ukuran pesanan')\n",
    "\n",
    "# Sumbu horizontal\n",
    "plt.axhline(y=0, color='black', linestyle='--')\n",
    "\n",
    "# Menampilkan grafik\n",
    "plt.show()"
   ]
  },
  {
   "cell_type": "markdown",
   "metadata": {
    "lang": "en"
   },
   "source": [
    "Dibeberapa titik perbedaan meningkat secara dramatis, ini menunjukkan pesanan berukuran besar (*outlier*)"
   ]
  },
  {
   "cell_type": "markdown",
   "metadata": {},
   "source": [
    "##### Tingkat konversi rasio pesanan terhadap jumlah kunjungan setiap hari setiap kelompok"
   ]
  },
  {
   "cell_type": "code",
   "execution_count": 40,
   "metadata": {},
   "outputs": [],
   "source": [
    "# Menghitung rasio kumulatif\n",
    "report['conversion'] = report['orders']/report['visitors']"
   ]
  },
  {
   "cell_type": "code",
   "execution_count": 41,
   "metadata": {},
   "outputs": [],
   "source": [
    "# Kelompok A\n",
    "report_cumulative_A = report[report['group']=='A']\n",
    "\n",
    "# Kelompok B\n",
    "report_cumulative_B = report[report['group']=='B']"
   ]
  },
  {
   "cell_type": "code",
   "execution_count": 42,
   "metadata": {},
   "outputs": [
    {
     "data": {
      "image/png": "[encoded data removed]",
      "text/plain": [
       "<Figure size 1200x800 with 1 Axes>"
      ]
     },
     "metadata": {},
     "output_type": "display_data"
    }
   ],
   "source": [
    "# Ukuran grafik\n",
    "plt.figure(figsize=(12, 8))\n",
    "\n",
    "# Grafik pendapatan berdasarkan hari dan kelompok\n",
    "plt.plot(report_cumulative_A['date'], report_cumulative_A['conversion'], label='A')\n",
    "plt.plot(report_cumulative_B['date'], report_cumulative_B['conversion'], label='B')\n",
    "\n",
    "# Judul\n",
    "plt.title(\"Tingkat konversi: rasio pesanan terhadap jumlah kunjungan\")\n",
    "\n",
    "# Penamaan pada x,y-axis\n",
    "plt.xlabel('Tanggal')\n",
    "plt.ylabel('Tingkat rasio')\n",
    "\n",
    "# mengatur skala sumbu\n",
    "plt.axis([pd.to_datetime('2019-07-30'), pd.to_datetime('2019-09-01'), 0, 0.05])\n",
    "\n",
    "# Menampilkan grafik dan legend\n",
    "plt.legend()\n",
    "plt.show()"
   ]
  },
  {
   "cell_type": "markdown",
   "metadata": {},
   "source": [
    "Hasil yang simetris seperti ini jarang dijumpai dalam data experimental, penyebabnya bisa dari bug kode atau menandakan data yang tidak dapat dipercaya. \n",
    "\n",
    "Namun disini diasumsikan jika dataset valid dan bisa dipercaya.\n",
    "\n",
    "Jadi berikut observasinya, pada awal pengujian grup A memiliki tingkat konversi lebih tinggi dari grup B, namun grup B meningkat secara berkalan dan akhirnya lebih tinggi dari grup A, kedua kelompok berfluktuasi di sekitar nilai yang sama sebelum menjadi stabil."
   ]
  },
  {
   "cell_type": "code",
   "execution_count": 43,
   "metadata": {},
   "outputs": [],
   "source": [
    "# Menggabungkan dataset akumulatif\n",
    "report_cumconver_merge = report_cumulative_A[['date', 'conversion']].merge(\n",
    "    report_cumulative_B[['date', 'conversion']],\n",
    "    left_on='date',\n",
    "    right_on='date',\n",
    "    how='left',\n",
    "    suffixes=['A', 'B']\n",
    ")"
   ]
  },
  {
   "cell_type": "code",
   "execution_count": 44,
   "metadata": {},
   "outputs": [
    {
     "data": {
      "image/png": "[encoded data removed]",
      "text/plain": [
       "<Figure size 1200x800 with 1 Axes>"
      ]
     },
     "metadata": {},
     "output_type": "display_data"
    }
   ],
   "source": [
    "# Ukuran grafik\n",
    "plt.figure(figsize=(12, 8))\n",
    "\n",
    "# Grafik perbedaan relatif untuk tingkat koversi kumulatif\n",
    "plt.plot(\n",
    "    report_cumconver_merge['date'],\n",
    "    (\n",
    "        report_cumconver_merge['conversionB']\n",
    "        /report_cumconver_merge['conversionA']\n",
    "    ) -1\n",
    ")\n",
    "\n",
    "# Judul\n",
    "plt.title(\"Perbedaan relatif untuk tingkat koversi kumulatif\")\n",
    "\n",
    "# Penamaan pada x,y-axis\n",
    "plt.xlabel('Tanggal')\n",
    "plt.ylabel('Tingkat rasio')\n",
    "\n",
    "# mengatur skala sumbu\n",
    "plt.axhline(y=0, color='black', linestyle='--')\n",
    "plt.axhline(y=0.15, color='grey', linestyle='--')\n",
    "\n",
    "# Menampilkan grafik\n",
    "plt.show()"
   ]
  },
  {
   "cell_type": "markdown",
   "metadata": {},
   "source": [
    "Grup B terus meningkat dan mencapai titik stabil disekitar 15% lebih tinggi dari grup A."
   ]
  },
  {
   "cell_type": "markdown",
   "metadata": {},
   "source": [
    "[Kembali ke tahapan](#back)"
   ]
  },
  {
   "cell_type": "markdown",
   "metadata": {},
   "source": [
    "#### Menganalisa dan memperbaiki outlier <a id=\"2.3\"></a>"
   ]
  },
  {
   "cell_type": "markdown",
   "metadata": {},
   "source": [
    "##### Jumlah pesanan per pengguna"
   ]
  },
  {
   "cell_type": "code",
   "execution_count": 45,
   "metadata": {},
   "outputs": [],
   "source": [
    "# Memisahkan kolom yang dibutuhkan,\n",
    "# mengelompokkan berdasarkan kolom `visitorid`,\n",
    "# dan menghitung jumlah pesanan\n",
    "orders_users = (\n",
    "    df_orders.drop(['group', 'revenue', 'date'], axis=1)\n",
    "    .groupby('visitorid', as_index=False)\n",
    "    .agg({\n",
    "        'transactionid' : pd.Series.nunique\n",
    "    })\n",
    ")"
   ]
  },
  {
   "cell_type": "code",
   "execution_count": 46,
   "metadata": {},
   "outputs": [],
   "source": [
    "# Merubah nama kolom\n",
    "orders_users.columns = ['visitorid', 'orders']"
   ]
  },
  {
   "cell_type": "code",
   "execution_count": 47,
   "metadata": {},
   "outputs": [
    {
     "data": {
      "text/html": [
       "<div>\n",
       "<style scoped>\n",
       "    .dataframe tbody tr th:only-of-type {\n",
       "        vertical-align: middle;\n",
       "    }\n",
       "\n",
       "    .dataframe tbody tr th {\n",
       "        vertical-align: top;\n",
       "    }\n",
       "\n",
       "    .dataframe thead th {\n",
       "        text-align: right;\n",
       "    }\n",
       "</style>\n",
       "<table border=\"1\" class=\"dataframe\">\n",
       "  <thead>\n",
       "    <tr style=\"text-align: right;\">\n",
       "      <th></th>\n",
       "      <th>visitorid</th>\n",
       "      <th>orders</th>\n",
       "    </tr>\n",
       "  </thead>\n",
       "  <tbody>\n",
       "    <tr>\n",
       "      <th>1023</th>\n",
       "      <td>4256040402</td>\n",
       "      <td>11</td>\n",
       "    </tr>\n",
       "    <tr>\n",
       "      <th>591</th>\n",
       "      <td>2458001652</td>\n",
       "      <td>11</td>\n",
       "    </tr>\n",
       "    <tr>\n",
       "      <th>569</th>\n",
       "      <td>2378935119</td>\n",
       "      <td>9</td>\n",
       "    </tr>\n",
       "    <tr>\n",
       "      <th>487</th>\n",
       "      <td>2038680547</td>\n",
       "      <td>8</td>\n",
       "    </tr>\n",
       "    <tr>\n",
       "      <th>44</th>\n",
       "      <td>199603092</td>\n",
       "      <td>5</td>\n",
       "    </tr>\n",
       "    <tr>\n",
       "      <th>744</th>\n",
       "      <td>3062433592</td>\n",
       "      <td>5</td>\n",
       "    </tr>\n",
       "    <tr>\n",
       "      <th>55</th>\n",
       "      <td>237748145</td>\n",
       "      <td>5</td>\n",
       "    </tr>\n",
       "    <tr>\n",
       "      <th>917</th>\n",
       "      <td>3803269165</td>\n",
       "      <td>5</td>\n",
       "    </tr>\n",
       "    <tr>\n",
       "      <th>299</th>\n",
       "      <td>1230306981</td>\n",
       "      <td>5</td>\n",
       "    </tr>\n",
       "    <tr>\n",
       "      <th>897</th>\n",
       "      <td>3717692402</td>\n",
       "      <td>5</td>\n",
       "    </tr>\n",
       "  </tbody>\n",
       "</table>\n",
       "</div>"
      ],
      "text/plain": [
       "       visitorid  orders\n",
       "1023  4256040402      11\n",
       "591   2458001652      11\n",
       "569   2378935119       9\n",
       "487   2038680547       8\n",
       "44     199603092       5\n",
       "744   3062433592       5\n",
       "55     237748145       5\n",
       "917   3803269165       5\n",
       "299   1230306981       5\n",
       "897   3717692402       5"
      ]
     },
     "execution_count": 47,
     "metadata": {},
     "output_type": "execute_result"
    }
   ],
   "source": [
    "# Mengurutkan data \n",
    "orders_users.sort_values(by='orders', ascending=False).head(10)"
   ]
  },
  {
   "cell_type": "code",
   "execution_count": 48,
   "metadata": {},
   "outputs": [
    {
     "data": {
      "image/png": "[encoded data removed]",
      "text/plain": [
       "<Figure size 1200x800 with 1 Axes>"
      ]
     },
     "metadata": {},
     "output_type": "display_data"
    }
   ],
   "source": [
    "# Ukuran grafik\n",
    "plt.figure(figsize=(12, 8))\n",
    "\n",
    "# Grafik\n",
    "plt.hist(orders_users['orders'])\n",
    "\n",
    "# Judul\n",
    "plt.title(\"Jumlah pesanan per perpengguna\")\n",
    "\n",
    "# Penamaan pada x,y-axis\n",
    "plt.xlabel('Pesanan')\n",
    "plt.ylabel('Frekuensi')\n",
    "\n",
    "# Menampilkan grafik\n",
    "plt.show()"
   ]
  },
  {
   "cell_type": "markdown",
   "metadata": {},
   "source": [
    "Mayoritas melakukan satu pesanan. Namun sebagian besar persentase pelanggan melakukan dua hingga 4 pesanan."
   ]
  },
  {
   "cell_type": "code",
   "execution_count": 49,
   "metadata": {},
   "outputs": [],
   "source": [
    "# Membuat data sumbu x berdasarkan nilai pada dataset orders_users\n",
    "x_values = pd.Series(range(0, len(orders_users)))"
   ]
  },
  {
   "cell_type": "code",
   "execution_count": 50,
   "metadata": {},
   "outputs": [
    {
     "data": {
      "image/png": "[encoded data removed]",
      "text/plain": [
       "<Figure size 1200x800 with 1 Axes>"
      ]
     },
     "metadata": {},
     "output_type": "display_data"
    }
   ],
   "source": [
    "# Ukuran grafik\n",
    "plt.figure(figsize=(12, 8))\n",
    "\n",
    "# Grafik\n",
    "plt.scatter(x_values, orders_users['orders'])\n",
    "\n",
    "# Judul\n",
    "plt.title(\"Jumlah pesanan per perpengguna\")\n",
    "\n",
    "# Penamaan pada x,y-axis\n",
    "plt.xlabel('Jumlah pengguna')\n",
    "plt.ylabel('Pesanan')\n",
    "\n",
    "# Menampilkan grafik\n",
    "plt.show()"
   ]
  },
  {
   "cell_type": "markdown",
   "metadata": {},
   "source": [
    "Dengan grafik ini dapat dikonfirmasi bahwa memang terdapat banyak pengguna yang melakukan pesanan dua hingga empat pesanan."
   ]
  },
  {
   "cell_type": "markdown",
   "metadata": {},
   "source": [
    "##### Persentil ke-95 dan ke-99  jumlah pesanan per pengguna"
   ]
  },
  {
   "cell_type": "code",
   "execution_count": 51,
   "metadata": {},
   "outputs": [
    {
     "data": {
      "text/plain": [
       "array([2., 4.])"
      ]
     },
     "execution_count": 51,
     "metadata": {},
     "output_type": "execute_result"
    }
   ],
   "source": [
    "# 95, dand 99 percentil jumlah pesanan per pengguna\n",
    "np.percentile(orders_users['orders'], [95, 99])"
   ]
  },
  {
   "cell_type": "markdown",
   "metadata": {},
   "source": [
    "Seperti yang terlihat jumlah pesanan yang membuat lebih dari dua pesanan tidak melampaui 5% dan yang membuat empat pesanan tidak lebih dari 10%.\n",
    "\n",
    "Sehingga dapat ditetapkan pengguna yang melakukan lebih dari 2 pesanan akan dianggap anomali (*outlier*)."
   ]
  },
  {
   "cell_type": "markdown",
   "metadata": {},
   "source": [
    "##### Total harga pesanan"
   ]
  },
  {
   "cell_type": "code",
   "execution_count": 52,
   "metadata": {},
   "outputs": [
    {
     "data": {
      "text/html": [
       "<div>\n",
       "<style scoped>\n",
       "    .dataframe tbody tr th:only-of-type {\n",
       "        vertical-align: middle;\n",
       "    }\n",
       "\n",
       "    .dataframe tbody tr th {\n",
       "        vertical-align: top;\n",
       "    }\n",
       "\n",
       "    .dataframe thead th {\n",
       "        text-align: right;\n",
       "    }\n",
       "</style>\n",
       "<table border=\"1\" class=\"dataframe\">\n",
       "  <thead>\n",
       "    <tr style=\"text-align: right;\">\n",
       "      <th></th>\n",
       "      <th>transactionid</th>\n",
       "      <th>visitorid</th>\n",
       "      <th>date</th>\n",
       "      <th>revenue</th>\n",
       "      <th>group</th>\n",
       "    </tr>\n",
       "  </thead>\n",
       "  <tbody>\n",
       "    <tr>\n",
       "      <th>425</th>\n",
       "      <td>590470918</td>\n",
       "      <td>1920142716</td>\n",
       "      <td>2019-08-19</td>\n",
       "      <td>19920.4</td>\n",
       "      <td>B</td>\n",
       "    </tr>\n",
       "    <tr>\n",
       "      <th>1196</th>\n",
       "      <td>3936777065</td>\n",
       "      <td>2108080724</td>\n",
       "      <td>2019-08-15</td>\n",
       "      <td>3120.1</td>\n",
       "      <td>B</td>\n",
       "    </tr>\n",
       "    <tr>\n",
       "      <th>858</th>\n",
       "      <td>192721366</td>\n",
       "      <td>1316129916</td>\n",
       "      <td>2019-08-27</td>\n",
       "      <td>1450.2</td>\n",
       "      <td>A</td>\n",
       "    </tr>\n",
       "    <tr>\n",
       "      <th>1136</th>\n",
       "      <td>666610489</td>\n",
       "      <td>1307669133</td>\n",
       "      <td>2019-08-13</td>\n",
       "      <td>1425.8</td>\n",
       "      <td>A</td>\n",
       "    </tr>\n",
       "    <tr>\n",
       "      <th>744</th>\n",
       "      <td>3668308183</td>\n",
       "      <td>888512513</td>\n",
       "      <td>2019-08-27</td>\n",
       "      <td>1335.6</td>\n",
       "      <td>B</td>\n",
       "    </tr>\n",
       "    <tr>\n",
       "      <th>662</th>\n",
       "      <td>1811671147</td>\n",
       "      <td>4266935830</td>\n",
       "      <td>2019-08-29</td>\n",
       "      <td>1220.2</td>\n",
       "      <td>A</td>\n",
       "    </tr>\n",
       "    <tr>\n",
       "      <th>682</th>\n",
       "      <td>1216533772</td>\n",
       "      <td>4266935830</td>\n",
       "      <td>2019-08-29</td>\n",
       "      <td>1220.2</td>\n",
       "      <td>B</td>\n",
       "    </tr>\n",
       "    <tr>\n",
       "      <th>743</th>\n",
       "      <td>3603576309</td>\n",
       "      <td>4133034833</td>\n",
       "      <td>2019-08-09</td>\n",
       "      <td>1050.0</td>\n",
       "      <td>A</td>\n",
       "    </tr>\n",
       "    <tr>\n",
       "      <th>1103</th>\n",
       "      <td>1348774318</td>\n",
       "      <td>1164614297</td>\n",
       "      <td>2019-08-12</td>\n",
       "      <td>1025.8</td>\n",
       "      <td>A</td>\n",
       "    </tr>\n",
       "    <tr>\n",
       "      <th>1099</th>\n",
       "      <td>316924019</td>\n",
       "      <td>148427295</td>\n",
       "      <td>2019-08-12</td>\n",
       "      <td>1015.9</td>\n",
       "      <td>A</td>\n",
       "    </tr>\n",
       "  </tbody>\n",
       "</table>\n",
       "</div>"
      ],
      "text/plain": [
       "      transactionid   visitorid       date  revenue group\n",
       "425       590470918  1920142716 2019-08-19  19920.4     B\n",
       "1196     3936777065  2108080724 2019-08-15   3120.1     B\n",
       "858       192721366  1316129916 2019-08-27   1450.2     A\n",
       "1136      666610489  1307669133 2019-08-13   1425.8     A\n",
       "744      3668308183   888512513 2019-08-27   1335.6     B\n",
       "662      1811671147  4266935830 2019-08-29   1220.2     A\n",
       "682      1216533772  4266935830 2019-08-29   1220.2     B\n",
       "743      3603576309  4133034833 2019-08-09   1050.0     A\n",
       "1103     1348774318  1164614297 2019-08-12   1025.8     A\n",
       "1099      316924019   148427295 2019-08-12   1015.9     A"
      ]
     },
     "execution_count": 52,
     "metadata": {},
     "output_type": "execute_result"
    }
   ],
   "source": [
    "# Mengurutkan dataset\n",
    "df_orders.sort_values(by='revenue', ascending=False).head(10)"
   ]
  },
  {
   "cell_type": "code",
   "execution_count": 53,
   "metadata": {},
   "outputs": [
    {
     "data": {
      "image/png": "[encoded data removed]",
      "text/plain": [
       "<Figure size 1200x800 with 1 Axes>"
      ]
     },
     "metadata": {},
     "output_type": "display_data"
    }
   ],
   "source": [
    "# Ukuran grafik\n",
    "plt.figure(figsize=(12, 8))\n",
    "\n",
    "# Grafik\n",
    "plt.hist(df_orders['revenue'])\n",
    "\n",
    "# Judul\n",
    "plt.title(\"Total harga pesanan\")\n",
    "\n",
    "# Penamaan pada x,y-axis\n",
    "plt.xlabel('Harga')\n",
    "plt.ylabel('Pesanan')\n",
    "\n",
    "# Menampilkan grafik\n",
    "plt.show()"
   ]
  },
  {
   "cell_type": "markdown",
   "metadata": {},
   "source": [
    "Grafik tersebut menunjukkan ada pesanan dengan total harga diatas 2500 dolar, meski demikian sebagian besar pesanan berukuran lebih kecil."
   ]
  },
  {
   "cell_type": "code",
   "execution_count": 54,
   "metadata": {},
   "outputs": [],
   "source": [
    "# Membuat data sumbu x berdasarkan nilai pada dataset df_orders['revenue']\n",
    "x_values_orders = pd.Series(range(0, len(df_orders['revenue'])))"
   ]
  },
  {
   "cell_type": "code",
   "execution_count": 55,
   "metadata": {},
   "outputs": [
    {
     "data": {
      "image/png": "[encoded data removed]",
      "text/plain": [
       "<Figure size 1200x800 with 1 Axes>"
      ]
     },
     "metadata": {},
     "output_type": "display_data"
    }
   ],
   "source": [
    "# Ukuran grafik\n",
    "plt.figure(figsize=(12, 8))\n",
    "\n",
    "# Grafik\n",
    "plt.scatter(x_values_orders, df_orders['revenue'])\n",
    "\n",
    "# Judul\n",
    "plt.title(\"Total harga pesanan\")\n",
    "\n",
    "# Penamaan pada x,y-axis\n",
    "plt.xlabel('Pesanan')\n",
    "plt.ylabel('Harga')\n",
    "\n",
    "# Menampilkan grafik\n",
    "plt.show()"
   ]
  },
  {
   "cell_type": "markdown",
   "metadata": {},
   "source": [
    "Seperti yang terlihat terdapat pesanan dengan total harga yang besar."
   ]
  },
  {
   "cell_type": "markdown",
   "metadata": {},
   "source": [
    "##### Persentil ke-95 dan ke-99 untuk total harga pesanan"
   ]
  },
  {
   "cell_type": "code",
   "execution_count": 56,
   "metadata": {},
   "outputs": [
    {
     "data": {
      "text/plain": [
       "array([435.54 , 900.904])"
      ]
     },
     "execution_count": 56,
     "metadata": {},
     "output_type": "execute_result"
    }
   ],
   "source": [
    "# 95, dand 99 percentil jumlah pesanan per pengguna\n",
    "np.percentile(df_orders['revenue'], [95, 99])"
   ]
  },
  {
   "cell_type": "markdown",
   "metadata": {},
   "source": [
    "Seperti yang terlihat jumlah total harga pesanan yang dibuat lebih dari 435.54 dolar tidak melampaui 5% dan yang membuat 900.9 dolar pesanan tidak lebih dari 10%.\n",
    "\n",
    "Sehingga dapat ditetapkan pengguna yang melakukan pesanan dengan total harga sekitar 435.54 - 900.9 dolar akan dianggap anomali (*outlier*), mari tetapkan lebih dari 500 dolar untuk anomali ini."
   ]
  },
  {
   "cell_type": "markdown",
   "metadata": {},
   "source": [
    "[Kembali ke tahapan](#back)"
   ]
  },
  {
   "cell_type": "markdown",
   "metadata": {},
   "source": [
    "## Menguji Hipotesis <a id=\"Test\"></a>"
   ]
  },
  {
   "cell_type": "markdown",
   "metadata": {},
   "source": [
    "Uji hipotesis kali ini akan menggunakan pengujian Mann-Whitney U untuk menentukan peringkat dua sampel dalam urutan naik dan membandingkan peringkat nilai yang muncul di kedua sampel.\n",
    "\n",
    "Semakin tinggi jumlah pergeseran peringkat, semakin tinggi probabilitas perbedaan distribusi dari kedua sampel tersebut. Hal ini memungkinkan untuk menyimpulkan ada atau tidak adanya perbedaan untuk tingkat signifikansi apa pun yang ditetapkan.\n",
    "\n",
    "Metode nonparametrik sangatlah membantu, mengingat metode tersebut tidak membuat dugaan tentang bagaimana data didistribusikan. Metode seperti ini sering digunakan ketika parameter sulit (atau bahkan tidak mungkin) untuk diperkirakan akibat terlalu banyaknya outlier.\n",
    "\n",
    "Metode ini memiliki nilai p-value atau probabilitas kemunculan nilai dan juga alpha atau batas error yang digunakan, jika p-value lebih kecil dari alpha maka H1 semakin terbukti, dan sebaliknya jika p-value lebih besar dari alpha maka H0 semakin terbukti."
   ]
  },
  {
   "cell_type": "markdown",
   "metadata": {},
   "source": [
    "### Signifikansi statistik perbedaan konversi antar kelompok (data mentah) <a id=\"h1\"></a>"
   ]
  },
  {
   "cell_type": "code",
   "execution_count": 57,
   "metadata": {},
   "outputs": [],
   "source": [
    "# Jumlah transaksi berdasarkan grup dan per pengguna, Grup A\n",
    "orders_A = df_orders[df_orders['group']=='A'].groupby('visitorid',as_index=False).agg({\n",
    "    'transactionid' : pd.Series.nunique\n",
    "})\n",
    "\n",
    "# Jumlah transaksi berdasarkan grup dan per pengguna, Grup B\n",
    "orders_B = df_orders[df_orders['group']=='B'].groupby('visitorid',as_index=False).agg({\n",
    "    'transactionid' : pd.Series.nunique\n",
    "})"
   ]
  },
  {
   "cell_type": "code",
   "execution_count": 58,
   "metadata": {},
   "outputs": [],
   "source": [
    "# Merubah nama kolom\n",
    "orders_A.columns = ['visitorid', 'orders']\n",
    "orders_B.columns = ['visitorid', 'orders']"
   ]
  },
  {
   "cell_type": "code",
   "execution_count": 59,
   "metadata": {},
   "outputs": [],
   "source": [
    "# Jumlah pesanan yang dibuat oleh pengguna dari grup A, termasuk nol\n",
    "sampleA = pd.concat([orders_A['orders'],pd.Series(0, index=np.arange(\n",
    "    df_visits[df_visits['group']=='A']['visits'].sum() - len(orders_A['orders'])\n",
    "), name='orders')],axis=0)\n",
    "\n",
    "# Jumlah pesanan yang dibuat oleh pengguna dari grup B, termasuk nol\n",
    "sampleB = pd.concat([orders_B['orders'],pd.Series(0, index=np.arange(\n",
    "    df_visits[df_visits['group']=='B']['visits'].sum() - len(orders_B['orders'])\n",
    "), name='orders')],axis=0)"
   ]
  },
  {
   "cell_type": "markdown",
   "metadata": {},
   "source": [
    "Sebelum memulai pengujian hipotesis, hipotesis nol (H0) dan hipotesis alternatif (H1) harus ditentukan terlebih dahulu.\n",
    "1. H0: Tidak terdapat perbedaan konversi antar kelompok.\n",
    "2. H1: Terdapat perbedaan konversi antar kelompok.\n",
    "\n",
    "Jika H0 mendefinisikan 'Tidak terdapat perbedaan' konversi antar kelompok, maka H1 akan mendefinisikan kebalikan dari H0 yaitu 'Terdapat perbedaan' konversi antar kelompok."
   ]
  },
  {
   "cell_type": "markdown",
   "metadata": {},
   "source": [
    "Untuk saat ini alpha yang digunakan adalah 5% untuk semua uji hipotesis yang dilakukan, kenapa tidak 1%, atau 10%?, karena 5% adalah angka yang seimbang untuk menghindari type-I error, atau type-II error.\n",
    "\n",
    "Type-I error mendukung hipotesis alternatif (H1) saat hipotesis nol (H0) benar, sedangakan type-II error tidak mendukung hipotesis nol (H0) disaat hipotesis alternatif (H1) benar."
   ]
  },
  {
   "cell_type": "code",
   "execution_count": 60,
   "metadata": {},
   "outputs": [
    {
     "name": "stdout",
     "output_type": "stream",
     "text": [
      "p-value: 0.016792355056752608\n",
      "Kita menolak hipotesis nol\n"
     ]
    }
   ],
   "source": [
    "# Alpha ditentukan 0.05\n",
    "alpha = 0.05\n",
    "\n",
    "# Mann-Whitney U test\n",
    "results = st.mannwhitneyu(sampleA, sampleB)\n",
    "\n",
    "# Menampilkan hasilnya\n",
    "print('p-value:', results.pvalue)\n",
    "\n",
    "# Menampilkan hasilnya berdasarkan kondisi\n",
    "if results.pvalue < alpha:\n",
    "    print('Kita menolak hipotesis nol')\n",
    "else:\n",
    "    print('Kita tidak bisa mengabaikan hipotesis nol') "
   ]
  },
  {
   "cell_type": "code",
   "execution_count": 61,
   "metadata": {},
   "outputs": [
    {
     "data": {
      "text/plain": [
       "0.138"
      ]
     },
     "execution_count": 61,
     "metadata": {},
     "output_type": "execute_result"
    }
   ],
   "source": [
    "# Perbedaan relatif konversi antar kelompok\n",
    "round(sampleB.mean()/sampleA.mean()-1, 3)"
   ]
  },
  {
   "cell_type": "markdown",
   "metadata": {},
   "source": [
    "Seperti yang dijelaskan diatas, karena nilai p-value lebih kecil dari alpha maka hipotesis nol ditolak, yang berarti terdapat perbedaan konversi antar kelompok.\n",
    "\n",
    "Dan perbedaan relatif konversi antar kelompokknya sebesar 13.8%."
   ]
  },
  {
   "cell_type": "markdown",
   "metadata": {},
   "source": [
    "[Kembali ke tahapan](#back)"
   ]
  },
  {
   "cell_type": "markdown",
   "metadata": {},
   "source": [
    "### Signifikansi statistik perbedaan ukuran pesanan rata-rata antar kelompok (data mentah) <a id=\"h2\"></a>"
   ]
  },
  {
   "cell_type": "markdown",
   "metadata": {},
   "source": [
    "Sebelum memulai pengujian hipotesis, hipotesis nol (H0) dan hipotesis alternatif (H1) harus ditentukan terlebih dahulu.\n",
    "1. H0: Tidak terdapat perbedaan ukuran pesanan rata-rata antar kelompok.\n",
    "2. H1: Terdapat perbedaan ukuran pesanan rata-rata antar kelompok.\n",
    "\n",
    "Jika H0 mendefinisikan 'Tidak terdapat perbedaan' ukuran pesanan rata-rata antar kelompok, maka H1 akan mendefinisikan kebalikan dari H0 yaitu 'Terdapat perbedaan' ukuran pesanan rata-rata antar kelompok."
   ]
  },
  {
   "cell_type": "code",
   "execution_count": 62,
   "metadata": {},
   "outputs": [
    {
     "name": "stdout",
     "output_type": "stream",
     "text": [
      "p-value: 0.6915246773264736\n",
      "Kita tidak bisa mengabaikan hipotesis nol\n"
     ]
    }
   ],
   "source": [
    " # Alpha ditentukan 0.05\n",
    "alpha = 0.05\n",
    "\n",
    "# Mann-Whitney U test\n",
    "results = (st.mannwhitneyu(\n",
    "    df_orders[df_orders['group']=='A']['revenue'],\n",
    "    df_orders[df_orders['group']=='B']['revenue'])\n",
    ")\n",
    "\n",
    "# Menampilkan hasilnya\n",
    "print('p-value:', results.pvalue)\n",
    "\n",
    "# Menampilkan hasilnya berdasarkan kondisi\n",
    "if results.pvalue < alpha:\n",
    "    print('Kita menolak hipotesis nol')\n",
    "else:\n",
    "    print('Kita tidak bisa mengabaikan hipotesis nol') "
   ]
  },
  {
   "cell_type": "code",
   "execution_count": 63,
   "metadata": {},
   "outputs": [
    {
     "data": {
      "text/plain": [
       "0.252"
      ]
     },
     "execution_count": 63,
     "metadata": {},
     "output_type": "execute_result"
    }
   ],
   "source": [
    "# Perbedaan ukuran pesanan rata-rata antar kelompok\n",
    "round(\n",
    "    (df_orders[df_orders['group']=='B']['revenue'].mean()/\n",
    "     df_orders[df_orders['group']=='A']['revenue'].mean()) -1 \n",
    ", 3)"
   ]
  },
  {
   "cell_type": "markdown",
   "metadata": {},
   "source": [
    "Seperti yang terlihat karena nilai p-value lebih besar dari alpha maka hipotesis nol tidak bisa diabaikan, yang berarti tidak terdapat perbedaan ukuran pesanan rata-rata antar kelompok.\n",
    "\n",
    "Dan perbedaan ukuran pesanan rata-rata antar kelompokknya sebesar 25.2%."
   ]
  },
  {
   "cell_type": "markdown",
   "metadata": {},
   "source": [
    "[Kembali ke tahapan](#back)"
   ]
  },
  {
   "cell_type": "markdown",
   "metadata": {},
   "source": [
    "### Signifikansi statistik perbedaan konversi antar kelompok (data yang difilter) <a id=\"h3\"></a>"
   ]
  },
  {
   "cell_type": "code",
   "execution_count": 64,
   "metadata": {},
   "outputs": [],
   "source": [
    "# Pengguna yang melakukan lebih dari 2 pesanan\n",
    "users_orders_count = pd.concat([\n",
    "    orders_A[orders_A['orders'] > 2]['visitorid'],\n",
    "    orders_B[orders_B['orders'] > 2]['visitorid']],\n",
    "    axis = 0\n",
    ")"
   ]
  },
  {
   "cell_type": "code",
   "execution_count": 65,
   "metadata": {},
   "outputs": [],
   "source": [
    "# Pengguna yang menghabiskan biaya lebih dari 500000\n",
    "users_orders_expense = df_orders[df_orders['revenue'] > 50000]['visitorid']"
   ]
  },
  {
   "cell_type": "code",
   "execution_count": 66,
   "metadata": {},
   "outputs": [
    {
     "data": {
      "text/plain": [
       "18    199603092\n",
       "23    237748145\n",
       "37    249864742\n",
       "68    457167155\n",
       "68    611059232\n",
       "Name: visitorid, dtype: int64"
      ]
     },
     "execution_count": 66,
     "metadata": {},
     "output_type": "execute_result"
    }
   ],
   "source": [
    "# Menggabungkan kolom series\n",
    "abnormal_users = (\n",
    "    pd.concat([users_orders_count, users_orders_expense],axis = 0)\n",
    "    .drop_duplicates()\n",
    "    .sort_values()\n",
    ")\n",
    "\n",
    "# Menampilkan hasilnya\n",
    "abnormal_users.head()"
   ]
  },
  {
   "cell_type": "code",
   "execution_count": 67,
   "metadata": {},
   "outputs": [
    {
     "data": {
      "text/plain": [
       "(20,)"
      ]
     },
     "execution_count": 67,
     "metadata": {},
     "output_type": "execute_result"
    }
   ],
   "source": [
    "# Ukuran dataset\n",
    "abnormal_users.shape"
   ]
  },
  {
   "cell_type": "code",
   "execution_count": 68,
   "metadata": {},
   "outputs": [],
   "source": [
    "# Filter sampel A\n",
    "sampleA_filt = pd.concat([orders_A[np.logical_not(orders_A['visitorid'].isin(abnormal_users))]['orders'],pd.Series(0, index=np.arange(\n",
    "    df_visits[df_visits['group']=='A']['visits'].sum() - len(orders_A['orders'])\n",
    "),name='orders')],axis=0)\n",
    "\n",
    "\n",
    "# Filter sampel B\n",
    "sampleB_filt = pd.concat([orders_B[np.logical_not(orders_B['visitorid'].isin(abnormal_users))]['orders'],pd.Series(0, index=np.arange(\n",
    "    df_visits[df_visits['group']=='B']['visits'].sum() - len(orders_B['orders'])\n",
    "),name='orders')],axis=0)"
   ]
  },
  {
   "cell_type": "markdown",
   "metadata": {},
   "source": [
    "Sebelum memulai pengujian hipotesis, hipotesis nol (H0) dan hipotesis alternatif (H1) harus ditentukan terlebih dahulu.\n",
    "1. H0: Tidak terdapat perbedaan konversi antar kelompok.\n",
    "2. H1: Terdapat perbedaan konversi antar kelompok.\n",
    "\n",
    "Jika H0 mendefinisikan 'Tidak terdapat perbedaan' konversi antar kelompok, maka H1 akan mendefinisikan kebalikan dari H0 yaitu 'Terdapat perbedaan' konversi antar kelompok."
   ]
  },
  {
   "cell_type": "code",
   "execution_count": 69,
   "metadata": {},
   "outputs": [
    {
     "name": "stdout",
     "output_type": "stream",
     "text": [
      "p-value: 0.011549354609175194\n",
      "Kita menolak hipotesis nol\n"
     ]
    }
   ],
   "source": [
    "# Alpha ditentukan 0.05\n",
    "alpha = 0.05\n",
    "\n",
    "# Mann-Whitney U test\n",
    "results = st.mannwhitneyu(sampleA_filt, sampleB_filt)\n",
    "\n",
    "# Menampilkan hasilnya\n",
    "print('p-value:', results.pvalue)\n",
    "\n",
    "# Menampilkan hasilnya berdasarkan kondisi\n",
    "if results.pvalue < alpha:\n",
    "    print('Kita menolak hipotesis nol')\n",
    "else:\n",
    "    print('Kita tidak bisa mengabaikan hipotesis nol')  "
   ]
  },
  {
   "cell_type": "code",
   "execution_count": 70,
   "metadata": {},
   "outputs": [
    {
     "data": {
      "text/plain": [
       "0.17"
      ]
     },
     "execution_count": 70,
     "metadata": {},
     "output_type": "execute_result"
    }
   ],
   "source": [
    "# Perbedaan relatif konversi antar kelompok setelah difilter\n",
    "round(sampleB_filt.mean()/sampleA_filt.mean()-1, 3)"
   ]
  },
  {
   "cell_type": "markdown",
   "metadata": {},
   "source": [
    "Seperti yang terlihat karena nilai p-value lebih kecil dari alpha maka hipotesis nol ditolak, yang berarti terdapat perbedaan konversi antar kelompok.\n",
    "\n",
    "Dan perbedaan relatif konversi antar kelompokknya sebesar 17%."
   ]
  },
  {
   "cell_type": "markdown",
   "metadata": {},
   "source": [
    "[Kembali ke tahapan](#back)"
   ]
  },
  {
   "cell_type": "markdown",
   "metadata": {},
   "source": [
    "### Signifikansi statistik perbedaan ukuran pesanan rata-rata antar kelompok (data yang difilter) <a id=\"h4\"></a>"
   ]
  },
  {
   "cell_type": "markdown",
   "metadata": {},
   "source": [
    "Sebelum memulai pengujian hipotesis, hipotesis nol (H0) dan hipotesis alternatif (H1) harus ditentukan terlebih dahulu.\n",
    "1. H0: Tidak terdapat perbedaan ukuran pesanan rata-rata antar kelompok.\n",
    "2. H1: Terdapat perbedaan ukuran pesanan rata-rata antar kelompok.\n",
    "\n",
    "Jika H0 mendefinisikan 'Tidak terdapat perbedaan' ukuran pesanan rata-rata antar kelompok, maka H1 akan mendefinisikan kebalikan dari H0 yaitu 'Terdapat perbedaan' ukuran pesanan rata-rata antar kelompok."
   ]
  },
  {
   "cell_type": "code",
   "execution_count": 71,
   "metadata": {},
   "outputs": [
    {
     "name": "stdout",
     "output_type": "stream",
     "text": [
      "p-value: 0.7057054773124258\n",
      "Kita tidak bisa mengabaikan hipotesis nol\n"
     ]
    }
   ],
   "source": [
    "# Alpha ditentukan 0.05\n",
    "alpha = 0.05\n",
    "\n",
    "# Mann-Whitney U test\n",
    "results = st.mannwhitneyu(\n",
    "    df_orders[np.logical_and(\n",
    "        df_orders['group']=='A',\n",
    "        np.logical_not(df_orders['visitorid'].isin(abnormal_users)))]['revenue'],\n",
    "    df_orders[np.logical_and(\n",
    "        df_orders['group']=='B',\n",
    "        np.logical_not(df_orders['visitorid'].isin(abnormal_users)))]['revenue'])\n",
    "\n",
    "# Menampilkan hasilnya\n",
    "print('p-value:', results.pvalue)\n",
    "\n",
    "# Menampilkan hasilnya berdasarkan kondisi\n",
    "if results.pvalue < alpha:\n",
    "    print('Kita menolak hipotesis nol')\n",
    "else:\n",
    "    print('Kita tidak bisa mengabaikan hipotesis nol') "
   ]
  },
  {
   "cell_type": "code",
   "execution_count": 72,
   "metadata": {},
   "outputs": [
    {
     "data": {
      "text/plain": [
       "0.228"
      ]
     },
     "execution_count": 72,
     "metadata": {},
     "output_type": "execute_result"
    }
   ],
   "source": [
    "# Perbedaan ukuran pesanan rata-rata antar kelompok setelah difilter\n",
    "round(\n",
    "    df_orders[np.logical_and(df_orders['group']=='B',np.logical_not(df_orders['visitorid'].isin(abnormal_users)))]['revenue'].mean()/\n",
    "    df_orders[np.logical_and(\n",
    "        df_orders['group']=='A',\n",
    "        np.logical_not(df_orders['visitorid'].isin(abnormal_users)))]['revenue'].mean() - 1, 3)"
   ]
  },
  {
   "cell_type": "markdown",
   "metadata": {},
   "source": [
    "Seperti yang terlihat karena nilai p-value lebih besar dari alpha maka hipotesis nol tidak bisa diabaikan, yang berarti tidak terdapat perbedaan ukuran pesanan rata-rata antar kelompok.\n",
    "\n",
    "Dan perbedaan ukuran pesanan rata-rata antar kelompoknya sebesar 22.8%."
   ]
  },
  {
   "cell_type": "markdown",
   "metadata": {},
   "source": [
    "**Kesimpulan sementara**\n",
    "\n",
    "Berikut fakta yang didapatkan dari hasil uji hipotesis:\n",
    "1. Baik data mentah maupun data yang telah difilter, keduanya menunjukkan perbedaan yang signifikan secara statistik dalam hal konversi antar kelompok\n",
    "2. Baik data mentah maupun data yang telah difilter, keduanya tidak menunjukkan perbedaan yang signifikan secara statistik dalam hal ukuran pesanan rata-rata antar kelompok\n",
    "3. Grafik yang menunjukkan perbedaan konversi antar kelompok menunjukkan bahwa hasil kelompok B lebih baik, dan tidak memperlihatkan peningkatan secara signifikan\n",
    "4. Grafik yang menunjukkan perbedaan ukuran pesanan rata-rata antar kelompok menunjukkan bahwa hasil kelompok B semakin baik dari hari ke hari."
   ]
  },
  {
   "cell_type": "markdown",
   "metadata": {},
   "source": [
    "**Keputusan berdasarkan hasil pengujian**\n",
    "\n",
    "Berdasarkan hasil uji statistik berikut keputusan yang memungkinkan untuk diambil: \n",
    "\n",
    "Menghentikan pengujian, serta mempertimbangkan salah satu grup sebagai pemimpin seperti yang ditunjukkan probabilitas grup B lebih baik dari grup A dalam hal ukuran pesanan rata-rata."
   ]
  },
  {
   "cell_type": "markdown",
   "metadata": {},
   "source": [
    "[Kembali ke tahapan](#back)"
   ]
  },
  {
   "cell_type": "markdown",
   "metadata": {},
   "source": [
    "## Kesimpulan Umum <a id=\"Kesimpulan\"></a>"
   ]
  },
  {
   "cell_type": "markdown",
   "metadata": {},
   "source": [
    "Setelah dilakukan pemeriksaan dataset, melakukan perbaikan dan melakukan analisa, berikut hasilnya:\n",
    "\n",
    "Pada bagian prioritas hipotesis:\n",
    "- Hipotesis 0 dan 7 mememiliki posisi relatif yang menjanjikan untuk diuji terlebih dahulu\n",
    "\n",
    "Kemudian pada pengujian hipotesis:\n",
    "- Keputusan akhirnya yakni untuk menghentikan pengujian, dan mempertimbangkan grup B menjadi pemimpin berdasarakan probabilitas yang ditunjukkan."
   ]
  },
  {
   "cell_type": "markdown",
   "metadata": {},
   "source": [
    "[Kembali ke tahapan](#back)"
   ]
  }
 ],
 "metadata": {
  "kernelspec": {
   "display_name": "Python 3 (ipykernel)",
   "language": "python",
   "name": "python3"
  },
  "language_info": {
   "codemirror_mode": {
    "name": "ipython",
    "version": 3
   },
   "file_extension": ".py",
   "mimetype": "text/x-python",
   "name": "python",
   "nbconvert_exporter": "python",
   "pygments_lexer": "ipython3",
   "version": "3.9.13"
  },
  "nbTranslate": {
   "displayLangs": [
    "*"
   ],
   "hotkey": "alt-t",
   "langInMainMenu": true,
   "sourceLang": "en",
   "targetLang": "fr",
   "useGoogleTranslate": true
  },
  "toc": {
   "base_numbering": 1,
   "nav_menu": {},
   "number_sections": true,
   "sideBar": true,
   "skip_h1_title": true,
   "title_cell": "Table of Contents",
   "title_sidebar": "Contents",
   "toc_cell": false,
   "toc_position": {
    "height": "calc(100% - 180px)",
    "left": "10px",
    "top": "150px",
    "width": "307.2px"
   },
   "toc_section_display": true,
   "toc_window_display": true
  },
  "varInspector": {
   "cols": {
    "lenName": 16,
    "lenType": 16,
    "lenVar": 40
   },
   "kernels_config": {
    "python": {
     "delete_cmd_postfix": "",
     "delete_cmd_prefix": "del ",
     "library": "var_list.py",
     "varRefreshCmd": "print(var_dic_list())"
    },
    "r": {
     "delete_cmd_postfix": ") ",
     "delete_cmd_prefix": "rm(",
     "library": "var_list.r",
     "varRefreshCmd": "cat(var_dic_list()) "
    }
   },
   "types_to_exclude": [
    "module",
    "function",
    "builtin_function_or_method",
    "instance",
    "_Feature"
   ],
   "window_display": false
  }
 },
 "nbformat": 4,
 "nbformat_minor": 4
}
