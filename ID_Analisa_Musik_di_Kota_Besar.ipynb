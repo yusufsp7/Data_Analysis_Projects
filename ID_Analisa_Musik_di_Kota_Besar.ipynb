{
 "cells": [
  {
   "cell_type": "markdown",
   "id": "09118e31",
   "metadata": {},
   "source": [
    "# Analisa Musik di Kota Besar"
   ]
  },
  {
   "cell_type": "markdown",
   "id": "0751d722",
   "metadata": {},
   "source": [
    "Dalam proyek kali ini, Anda akan membandingkan preferensi musik di kota Springfield dan Shelbyville dan mempelajari data Y.Music yang sebenarnya untuk menguji hipotesis di bawah ini dan membandingkan perilaku pengguna di kedua kota ini.\n",
    "\n",
    "<b>Hipotesis:</b>\n",
    "\n",
    "   1. Aktivitas pengguna berbeda-beda tergantung pada hari dan kotanya.\n",
    "   2. Pada senin pagi, penduduk Springfield dan Shelbyville mendengarkan genre yang berbeda.\n",
    "       Hal ini juga ini juga berlaku untuk Jumat malam. \n",
    "   3. Pendengar di Springfield dan Shelbyville memiliki preferensi yang berbeda.\n",
    "      Di Springfield, mereka lebih suka musik pop, sementara Shelbyville, musik rap memiliki lebih banyak penggemar.\n",
    "\n",
    "<b>Tahapan:</b><a id='back'></a>\n",
    "\n",
    "1. [Ikhtisar Data](#Mulai)\n",
    "2. [Pra-pemprosesan Data](#pra-pemrosesan)\n",
    "    - [Judul kolom](#kolom)\n",
    "    - [Nilai-nilai yang hilang](#missing)\n",
    "    - [Duplikat](#duplikat)\n",
    "3. [Menguji Hipotesis](#Test)\n",
    "    - [Hipotesis 1: membandingkan perilaku pengguna di dua kota](#1)\n",
    "    - [Hipotesis 2: musik di awal dan akhir minggu](#2)\n",
    "    - [Hipotesis 3: preferensi genre di springfield dan shelbyville](#3)\n",
    "4. [Kesimpulan Umum](#Kesimpulan)"
   ]
  },
  {
   "cell_type": "markdown",
   "id": "03356c66",
   "metadata": {},
   "source": [
    "## Ikhtisar Data <a id=\"Mulai\"></a>"
   ]
  },
  {
   "cell_type": "code",
   "execution_count": 2,
   "id": "b270f941",
   "metadata": {},
   "outputs": [],
   "source": [
    "# Memuat library\n",
    "import pandas as pd"
   ]
  },
  {
   "cell_type": "code",
   "execution_count": 3,
   "id": "b7a1f5d1",
   "metadata": {},
   "outputs": [],
   "source": [
    "# Dataset\n",
    "df = pd.read_csv('Y:\\\\Online Course\\\\Practicum\\\\Jupyter Notebook\\\\1 Project\\\\music_project_en.csv')"
   ]
  },
  {
   "cell_type": "code",
   "execution_count": 4,
   "id": "a4a1ad26",
   "metadata": {},
   "outputs": [
    {
     "name": "stdout",
     "output_type": "stream",
     "text": [
      "<class 'pandas.core.frame.DataFrame'>\n",
      "RangeIndex: 65079 entries, 0 to 65078\n",
      "Data columns (total 7 columns):\n",
      " #   Column    Non-Null Count  Dtype \n",
      "---  ------    --------------  ----- \n",
      " 0     userID  65079 non-null  object\n",
      " 1   Track     63736 non-null  object\n",
      " 2   artist    57512 non-null  object\n",
      " 3   genre     63881 non-null  object\n",
      " 4     City    65079 non-null  object\n",
      " 5   time      65079 non-null  object\n",
      " 6   Day       65079 non-null  object\n",
      "dtypes: object(7)\n",
      "memory usage: 3.5+ MB\n"
     ]
    }
   ],
   "source": [
    "# Informasi umum\n",
    "df.info()"
   ]
  },
  {
   "cell_type": "code",
   "execution_count": 5,
   "id": "a9bf5eee-67c5-4714-a6e1-7c0ca2980f2c",
   "metadata": {},
   "outputs": [
    {
     "data": {
      "text/plain": [
       "(65079, 7)"
      ]
     },
     "execution_count": 5,
     "metadata": {},
     "output_type": "execute_result"
    }
   ],
   "source": [
    "# Ukuran dataset\n",
    "df.shape"
   ]
  },
  {
   "cell_type": "code",
   "execution_count": 6,
   "id": "a5db18f9",
   "metadata": {},
   "outputs": [
    {
     "data": {
      "text/html": [
       "<div>\n",
       "<style scoped>\n",
       "    .dataframe tbody tr th:only-of-type {\n",
       "        vertical-align: middle;\n",
       "    }\n",
       "\n",
       "    .dataframe tbody tr th {\n",
       "        vertical-align: top;\n",
       "    }\n",
       "\n",
       "    .dataframe thead th {\n",
       "        text-align: right;\n",
       "    }\n",
       "</style>\n",
       "<table border=\"1\" class=\"dataframe\">\n",
       "  <thead>\n",
       "    <tr style=\"text-align: right;\">\n",
       "      <th></th>\n",
       "      <th>userID</th>\n",
       "      <th>Track</th>\n",
       "      <th>artist</th>\n",
       "      <th>genre</th>\n",
       "      <th>City</th>\n",
       "      <th>time</th>\n",
       "      <th>Day</th>\n",
       "    </tr>\n",
       "  </thead>\n",
       "  <tbody>\n",
       "    <tr>\n",
       "      <th>0</th>\n",
       "      <td>FFB692EC</td>\n",
       "      <td>Kamigata To Boots</td>\n",
       "      <td>The Mass Missile</td>\n",
       "      <td>rock</td>\n",
       "      <td>Shelbyville</td>\n",
       "      <td>20:28:33</td>\n",
       "      <td>Wednesday</td>\n",
       "    </tr>\n",
       "    <tr>\n",
       "      <th>1</th>\n",
       "      <td>55204538</td>\n",
       "      <td>Delayed Because of Accident</td>\n",
       "      <td>Andreas Rönnberg</td>\n",
       "      <td>rock</td>\n",
       "      <td>Springfield</td>\n",
       "      <td>14:07:09</td>\n",
       "      <td>Friday</td>\n",
       "    </tr>\n",
       "    <tr>\n",
       "      <th>2</th>\n",
       "      <td>20EC38</td>\n",
       "      <td>Funiculì funiculà</td>\n",
       "      <td>Mario Lanza</td>\n",
       "      <td>pop</td>\n",
       "      <td>Shelbyville</td>\n",
       "      <td>20:58:07</td>\n",
       "      <td>Wednesday</td>\n",
       "    </tr>\n",
       "    <tr>\n",
       "      <th>3</th>\n",
       "      <td>A3DD03C9</td>\n",
       "      <td>Dragons in the Sunset</td>\n",
       "      <td>Fire + Ice</td>\n",
       "      <td>folk</td>\n",
       "      <td>Shelbyville</td>\n",
       "      <td>08:37:09</td>\n",
       "      <td>Monday</td>\n",
       "    </tr>\n",
       "    <tr>\n",
       "      <th>4</th>\n",
       "      <td>E2DC1FAE</td>\n",
       "      <td>Soul People</td>\n",
       "      <td>Space Echo</td>\n",
       "      <td>dance</td>\n",
       "      <td>Springfield</td>\n",
       "      <td>08:34:34</td>\n",
       "      <td>Monday</td>\n",
       "    </tr>\n",
       "    <tr>\n",
       "      <th>5</th>\n",
       "      <td>842029A1</td>\n",
       "      <td>Chains</td>\n",
       "      <td>Obladaet</td>\n",
       "      <td>rusrap</td>\n",
       "      <td>Shelbyville</td>\n",
       "      <td>13:09:41</td>\n",
       "      <td>Friday</td>\n",
       "    </tr>\n",
       "    <tr>\n",
       "      <th>6</th>\n",
       "      <td>4CB90AA5</td>\n",
       "      <td>True</td>\n",
       "      <td>Roman Messer</td>\n",
       "      <td>dance</td>\n",
       "      <td>Springfield</td>\n",
       "      <td>13:00:07</td>\n",
       "      <td>Wednesday</td>\n",
       "    </tr>\n",
       "    <tr>\n",
       "      <th>7</th>\n",
       "      <td>F03E1C1F</td>\n",
       "      <td>Feeling This Way</td>\n",
       "      <td>Polina Griffith</td>\n",
       "      <td>dance</td>\n",
       "      <td>Springfield</td>\n",
       "      <td>20:47:49</td>\n",
       "      <td>Wednesday</td>\n",
       "    </tr>\n",
       "    <tr>\n",
       "      <th>8</th>\n",
       "      <td>8FA1D3BE</td>\n",
       "      <td>L’estate</td>\n",
       "      <td>Julia Dalia</td>\n",
       "      <td>ruspop</td>\n",
       "      <td>Springfield</td>\n",
       "      <td>09:17:40</td>\n",
       "      <td>Friday</td>\n",
       "    </tr>\n",
       "    <tr>\n",
       "      <th>9</th>\n",
       "      <td>E772D5C0</td>\n",
       "      <td>Pessimist</td>\n",
       "      <td>NaN</td>\n",
       "      <td>dance</td>\n",
       "      <td>Shelbyville</td>\n",
       "      <td>21:20:49</td>\n",
       "      <td>Wednesday</td>\n",
       "    </tr>\n",
       "  </tbody>\n",
       "</table>\n",
       "</div>"
      ],
      "text/plain": [
       "     userID                        Track            artist   genre  \\\n",
       "0  FFB692EC            Kamigata To Boots  The Mass Missile    rock   \n",
       "1  55204538  Delayed Because of Accident  Andreas Rönnberg    rock   \n",
       "2    20EC38            Funiculì funiculà       Mario Lanza     pop   \n",
       "3  A3DD03C9        Dragons in the Sunset        Fire + Ice    folk   \n",
       "4  E2DC1FAE                  Soul People        Space Echo   dance   \n",
       "5  842029A1                       Chains          Obladaet  rusrap   \n",
       "6  4CB90AA5                         True      Roman Messer   dance   \n",
       "7  F03E1C1F             Feeling This Way   Polina Griffith   dance   \n",
       "8  8FA1D3BE                     L’estate       Julia Dalia  ruspop   \n",
       "9  E772D5C0                    Pessimist               NaN   dance   \n",
       "\n",
       "        City        time        Day  \n",
       "0  Shelbyville  20:28:33  Wednesday  \n",
       "1  Springfield  14:07:09     Friday  \n",
       "2  Shelbyville  20:58:07  Wednesday  \n",
       "3  Shelbyville  08:37:09     Monday  \n",
       "4  Springfield  08:34:34     Monday  \n",
       "5  Shelbyville  13:09:41     Friday  \n",
       "6  Springfield  13:00:07  Wednesday  \n",
       "7  Springfield  20:47:49  Wednesday  \n",
       "8  Springfield  09:17:40     Friday  \n",
       "9  Shelbyville  21:20:49  Wednesday  "
      ]
     },
     "execution_count": 6,
     "metadata": {},
     "output_type": "execute_result"
    }
   ],
   "source": [
    "# Memperoleh 10 baris pertama dari tabel df\n",
    "df.head(10)"
   ]
  },
  {
   "cell_type": "code",
   "execution_count": 7,
   "id": "2e533b5c-1779-4342-9db8-cfcd9b17d065",
   "metadata": {},
   "outputs": [
    {
     "data": {
      "text/plain": [
       "3826"
      ]
     },
     "execution_count": 7,
     "metadata": {},
     "output_type": "execute_result"
    }
   ],
   "source": [
    "# Memeriksa duplikat\n",
    "df.duplicated().sum()"
   ]
  },
  {
   "cell_type": "code",
   "execution_count": 8,
   "id": "02639351-72c1-4e22-abce-c2841f65ae54",
   "metadata": {},
   "outputs": [
    {
     "data": {
      "text/plain": [
       "  userID       0\n",
       "Track       1343\n",
       "artist      7567\n",
       "genre       1198\n",
       "  City         0\n",
       "time           0\n",
       "Day            0\n",
       "dtype: int64"
      ]
     },
     "execution_count": 8,
     "metadata": {},
     "output_type": "execute_result"
    }
   ],
   "source": [
    "# Memeriksa missing value\n",
    "df.isna().sum()"
   ]
  },
  {
   "cell_type": "markdown",
   "id": "be3cd41f",
   "metadata": {},
   "source": [
    "Dokumentasi:\n",
    "- `' userID'` — pengenal pengguna\n",
    "- `'Track'` — judul trek\n",
    "- `'artist'` — nama artis\n",
    "- `'genre'` - genre trek\n",
    "- `' City'` — kota tempat pengguna berada\n",
    "- `'time'` — lama waktu lagu tersebut dimainkan\n",
    "- `'Day'` — nama hari"
   ]
  },
  {
   "cell_type": "markdown",
   "id": "d3970d06",
   "metadata": {},
   "source": [
    "**Kesimpulan sementara**\n",
    "\n",
    "1. Terdapat beberapa nilai yang duplikat,\n",
    "2. Penamaan kolom yang bisa diperbaiki karena menggunakan spasi dan juga menggunakan *snake case*,\n",
    "3. Terdapat bebebara kolom yang memiliki *missing value*."
   ]
  },
  {
   "cell_type": "markdown",
   "id": "3de6ef6e",
   "metadata": {},
   "source": [
    "[Kembali ke tahapan](#back)"
   ]
  },
  {
   "cell_type": "markdown",
   "id": "91449c3b",
   "metadata": {},
   "source": [
    "## Pra-pemrosesan Data <a id=\"#pra-pemrosesan\"></a>"
   ]
  },
  {
   "cell_type": "markdown",
   "id": "76f99765",
   "metadata": {},
   "source": [
    "### Judul kolom <a id=\"kolom\"></a>"
   ]
  },
  {
   "cell_type": "code",
   "execution_count": 9,
   "id": "4d29416d",
   "metadata": {},
   "outputs": [
    {
     "data": {
      "text/plain": [
       "Index(['  userID', 'Track', 'artist', 'genre', '  City  ', 'time', 'Day'], dtype='object')"
      ]
     },
     "execution_count": 9,
     "metadata": {},
     "output_type": "execute_result"
    }
   ],
   "source": [
    "# Daftar nama kolom di tabel df\n",
    "df_clean = df\n",
    "df_clean.columns"
   ]
  },
  {
   "cell_type": "code",
   "execution_count": 10,
   "id": "e3926a9b",
   "metadata": {},
   "outputs": [],
   "source": [
    "# Mengganti nama kolom\n",
    "df_clean = df_clean.rename(columns={\n",
    "    '  userID': 'user_id',\n",
    "    'Track': 'track',\n",
    "    '  City  ':'city',\n",
    "    'Day':'day'\n",
    "})"
   ]
  },
  {
   "cell_type": "code",
   "execution_count": 11,
   "id": "5a62918c",
   "metadata": {},
   "outputs": [
    {
     "data": {
      "text/plain": [
       "Index(['user_id', 'track', 'artist', 'genre', 'city', 'time', 'day'], dtype='object')"
      ]
     },
     "execution_count": 11,
     "metadata": {},
     "output_type": "execute_result"
    }
   ],
   "source": [
    "# Mengecek hasil: daftar nama kolom\n",
    "df_clean.columns"
   ]
  },
  {
   "cell_type": "markdown",
   "id": "19d323b4",
   "metadata": {},
   "source": [
    "Nama kolom `used_id`, `track`, `city`, `day` sudah berhasil diganti menjadi lower case dan menghilangkan spasi."
   ]
  },
  {
   "cell_type": "markdown",
   "id": "66d24405",
   "metadata": {},
   "source": [
    "[Kembali ke tahapan](#back)"
   ]
  },
  {
   "cell_type": "markdown",
   "id": "83ee53d7",
   "metadata": {},
   "source": [
    "### Nilai-nilai yang hilang <a id=\"missing\"></a>"
   ]
  },
  {
   "cell_type": "code",
   "execution_count": 12,
   "id": "bb66e109",
   "metadata": {},
   "outputs": [
    {
     "data": {
      "text/plain": [
       "user_id       0\n",
       "track      1343\n",
       "artist     7567\n",
       "genre      1198\n",
       "city          0\n",
       "time          0\n",
       "day           0\n",
       "dtype: int64"
      ]
     },
     "execution_count": 12,
     "metadata": {},
     "output_type": "execute_result"
    }
   ],
   "source": [
    "# Menghitung nilai yang hilang\n",
    "df_clean.isna().sum()"
   ]
  },
  {
   "cell_type": "code",
   "execution_count": 13,
   "id": "2dc87f8d",
   "metadata": {},
   "outputs": [],
   "source": [
    "# Mengganti ganti nilai yang hilang dengan 'unknown'\n",
    "columns_to_replace = ['track', 'artist', 'genre']\n",
    "\n",
    "for cols in columns_to_replace:\n",
    "    df_clean[cols]=df_clean[cols].fillna('unknown')"
   ]
  },
  {
   "cell_type": "code",
   "execution_count": 14,
   "id": "6071c732",
   "metadata": {},
   "outputs": [
    {
     "data": {
      "text/plain": [
       "user_id    0\n",
       "track      0\n",
       "artist     0\n",
       "genre      0\n",
       "city       0\n",
       "time       0\n",
       "day        0\n",
       "dtype: int64"
      ]
     },
     "execution_count": 14,
     "metadata": {},
     "output_type": "execute_result"
    }
   ],
   "source": [
    "# Menghitung nilai yang hilang\n",
    "df_clean.isna().sum()"
   ]
  },
  {
   "cell_type": "markdown",
   "id": "45afb967",
   "metadata": {},
   "source": [
    "Nilai yang hilang dari kolom `track`, `artist`, `genre` berhasil di perbaiki, menggantinya dengan string 'unknown'."
   ]
  },
  {
   "cell_type": "markdown",
   "id": "4b568558",
   "metadata": {},
   "source": [
    "[Kembali ke tahapan](#back)"
   ]
  },
  {
   "cell_type": "markdown",
   "id": "b632137a",
   "metadata": {},
   "source": [
    "### Duplikat <a id=\"duplikat\"></a>"
   ]
  },
  {
   "cell_type": "code",
   "execution_count": 15,
   "id": "10c61f4c",
   "metadata": {},
   "outputs": [
    {
     "data": {
      "text/plain": [
       "3826"
      ]
     },
     "execution_count": 15,
     "metadata": {},
     "output_type": "execute_result"
    }
   ],
   "source": [
    "# Menghitung duplikat eksplisit\n",
    "df_clean.duplicated().sum()"
   ]
  },
  {
   "cell_type": "code",
   "execution_count": 16,
   "id": "b4467b72",
   "metadata": {},
   "outputs": [],
   "source": [
    "# Menghapus duplikat eksplisit\n",
    "df_clean = df_clean.drop_duplicates().reset_index(drop=True)"
   ]
  },
  {
   "cell_type": "code",
   "execution_count": 17,
   "id": "2292fafa",
   "metadata": {},
   "outputs": [
    {
     "data": {
      "text/plain": [
       "0"
      ]
     },
     "execution_count": 17,
     "metadata": {},
     "output_type": "execute_result"
    }
   ],
   "source": [
    "# Memeriksa duplikat\n",
    "df_clean.duplicated().sum()"
   ]
  },
  {
   "cell_type": "code",
   "execution_count": 18,
   "id": "6ce1b920",
   "metadata": {},
   "outputs": [
    {
     "data": {
      "text/plain": [
       "array(['acid', 'acoustic', 'action', 'adult', 'africa', 'afrikaans',\n",
       "       'alternative', 'ambient', 'americana', 'animated', 'anime',\n",
       "       'arabesk', 'arabic', 'arena', 'argentinetango', 'art', 'audiobook',\n",
       "       'avantgarde', 'axé', 'baile', 'balkan', 'beats', 'bigroom',\n",
       "       'black', 'bluegrass', 'blues', 'bollywood', 'bossa', 'brazilian',\n",
       "       'breakbeat', 'breaks', 'broadway', 'cantautori', 'cantopop',\n",
       "       'canzone', 'caribbean', 'caucasian', 'celtic', 'chamber',\n",
       "       'children', 'chill', 'chinese', 'choral', 'christian', 'christmas',\n",
       "       'classical', 'classicmetal', 'club', 'colombian', 'comedy',\n",
       "       'conjazz', 'contemporary', 'country', 'cuban', 'dance',\n",
       "       'dancehall', 'dancepop', 'dark', 'death', 'deep', 'deutschrock',\n",
       "       'deutschspr', 'dirty', 'disco', 'dnb', 'documentary', 'downbeat',\n",
       "       'downtempo', 'drum', 'dub', 'dubstep', 'eastern', 'easy',\n",
       "       'electronic', 'electropop', 'emo', 'entehno', 'epicmetal',\n",
       "       'estrada', 'ethnic', 'eurofolk', 'european', 'experimental',\n",
       "       'extrememetal', 'fado', 'film', 'fitness', 'flamenco', 'folk',\n",
       "       'folklore', 'folkmetal', 'folkrock', 'folktronica', 'forró',\n",
       "       'frankreich', 'französisch', 'french', 'funk', 'future', 'gangsta',\n",
       "       'garage', 'german', 'ghazal', 'gitarre', 'glitch', 'gospel',\n",
       "       'gothic', 'grime', 'grunge', 'gypsy', 'handsup', \"hard'n'heavy\",\n",
       "       'hardcore', 'hardstyle', 'hardtechno', 'hip', 'hip-hop', 'hiphop',\n",
       "       'historisch', 'holiday', 'hop', 'horror', 'house', 'idm',\n",
       "       'independent', 'indian', 'indie', 'indipop', 'industrial',\n",
       "       'inspirational', 'instrumental', 'international', 'irish', 'jam',\n",
       "       'japanese', 'jazz', 'jewish', 'jpop', 'jungle', 'k-pop',\n",
       "       'karadeniz', 'karaoke', 'kayokyoku', 'korean', 'laiko', 'latin',\n",
       "       'latino', 'leftfield', 'local', 'lounge', 'loungeelectronic',\n",
       "       'lovers', 'malaysian', 'mandopop', 'marschmusik', 'meditative',\n",
       "       'mediterranean', 'melodic', 'metal', 'metalcore', 'mexican',\n",
       "       'middle', 'minimal', 'miscellaneous', 'modern', 'mood', 'mpb',\n",
       "       'muslim', 'native', 'neoklassik', 'neue', 'new', 'newage',\n",
       "       'newwave', 'nu', 'nujazz', 'numetal', 'oceania', 'old', 'opera',\n",
       "       'orchestral', 'other', 'piano', 'pop', 'popelectronic',\n",
       "       'popeurodance', 'post', 'posthardcore', 'postrock', 'power',\n",
       "       'progmetal', 'progressive', 'psychedelic', 'punjabi', 'punk',\n",
       "       'quebecois', 'ragga', 'ram', 'rancheras', 'rap', 'rave', 'reggae',\n",
       "       'reggaeton', 'regional', 'relax', 'religious', 'retro', 'rhythm',\n",
       "       'rnb', 'rnr', 'rock', 'rockabilly', 'romance', 'roots', 'ruspop',\n",
       "       'rusrap', 'rusrock', 'salsa', 'samba', 'schlager', 'self',\n",
       "       'sertanejo', 'shoegazing', 'showtunes', 'singer', 'ska', 'slow',\n",
       "       'smooth', 'soul', 'soulful', 'sound', 'soundtrack', 'southern',\n",
       "       'specialty', 'speech', 'spiritual', 'sport', 'stonerrock', 'surf',\n",
       "       'swing', 'synthpop', 'sängerportrait', 'tango', 'tanzorchester',\n",
       "       'taraftar', 'tech', 'techno', 'thrash', 'top', 'traditional',\n",
       "       'tradjazz', 'trance', 'tribal', 'trip', 'triphop', 'tropical',\n",
       "       'türk', 'türkçe', 'unknown', 'urban', 'uzbek', 'variété', 'vi',\n",
       "       'videogame', 'vocal', 'western', 'world', 'worldbeat', 'ïîï'],\n",
       "      dtype=object)"
      ]
     },
     "execution_count": 18,
     "metadata": {},
     "output_type": "execute_result"
    }
   ],
   "source": [
    "# Mencari jumlah duplikat implisit dalam tabel dan memperbaikinya.\n",
    "# melihat nama genre yang unik\n",
    "df_clean['genre'].sort_values().unique()"
   ]
  },
  {
   "cell_type": "code",
   "execution_count": 24,
   "id": "1799e4f6",
   "metadata": {},
   "outputs": [],
   "source": [
    "# Terdapat duplikat implisit pada string hip, hop, hip-hop\n",
    "# Fungsi untuk mengganti duplikat implisit\n",
    "# Fungsi untuk mengganti genre\n",
    "'''\n",
    "Definisi:\n",
    "-----------\n",
    "    Fungsi ini untuk mengganti nilai menjadi string yang diinginkan\n",
    "-----------\n",
    "    wrong_genres:\n",
    "        string yang ingin diganti\n",
    "    correct_genre:\n",
    "        string yang akan menggantikan\n",
    "'''\n",
    "def replace_wrong_genres(wrong_genres,correct_genre):\n",
    "   \n",
    "    for wrong_genre in wrong_genres:\n",
    "        df_clean['genre'] = df_clean['genre'].replace(wrong_genres, correct_genre)\n",
    "        "
   ]
  },
  {
   "cell_type": "code",
   "execution_count": 20,
   "id": "e5268617",
   "metadata": {},
   "outputs": [],
   "source": [
    "# Menerapkan fungsi\n",
    "duplicates = ['hip', 'hop', 'hip-hop']\n",
    "genre ='hiphop'\n",
    "replace_wrong_genres(duplicates,genre)"
   ]
  },
  {
   "cell_type": "code",
   "execution_count": 21,
   "id": "ef56ba4a",
   "metadata": {},
   "outputs": [
    {
     "data": {
      "text/plain": [
       "array(['acid', 'acoustic', 'action', 'adult', 'africa', 'afrikaans',\n",
       "       'alternative', 'ambient', 'americana', 'animated', 'anime',\n",
       "       'arabesk', 'arabic', 'arena', 'argentinetango', 'art', 'audiobook',\n",
       "       'avantgarde', 'axé', 'baile', 'balkan', 'beats', 'bigroom',\n",
       "       'black', 'bluegrass', 'blues', 'bollywood', 'bossa', 'brazilian',\n",
       "       'breakbeat', 'breaks', 'broadway', 'cantautori', 'cantopop',\n",
       "       'canzone', 'caribbean', 'caucasian', 'celtic', 'chamber',\n",
       "       'children', 'chill', 'chinese', 'choral', 'christian', 'christmas',\n",
       "       'classical', 'classicmetal', 'club', 'colombian', 'comedy',\n",
       "       'conjazz', 'contemporary', 'country', 'cuban', 'dance',\n",
       "       'dancehall', 'dancepop', 'dark', 'death', 'deep', 'deutschrock',\n",
       "       'deutschspr', 'dirty', 'disco', 'dnb', 'documentary', 'downbeat',\n",
       "       'downtempo', 'drum', 'dub', 'dubstep', 'eastern', 'easy',\n",
       "       'electronic', 'electropop', 'emo', 'entehno', 'epicmetal',\n",
       "       'estrada', 'ethnic', 'eurofolk', 'european', 'experimental',\n",
       "       'extrememetal', 'fado', 'film', 'fitness', 'flamenco', 'folk',\n",
       "       'folklore', 'folkmetal', 'folkrock', 'folktronica', 'forró',\n",
       "       'frankreich', 'französisch', 'french', 'funk', 'future', 'gangsta',\n",
       "       'garage', 'german', 'ghazal', 'gitarre', 'glitch', 'gospel',\n",
       "       'gothic', 'grime', 'grunge', 'gypsy', 'handsup', \"hard'n'heavy\",\n",
       "       'hardcore', 'hardstyle', 'hardtechno', 'hiphop', 'historisch',\n",
       "       'holiday', 'horror', 'house', 'idm', 'independent', 'indian',\n",
       "       'indie', 'indipop', 'industrial', 'inspirational', 'instrumental',\n",
       "       'international', 'irish', 'jam', 'japanese', 'jazz', 'jewish',\n",
       "       'jpop', 'jungle', 'k-pop', 'karadeniz', 'karaoke', 'kayokyoku',\n",
       "       'korean', 'laiko', 'latin', 'latino', 'leftfield', 'local',\n",
       "       'lounge', 'loungeelectronic', 'lovers', 'malaysian', 'mandopop',\n",
       "       'marschmusik', 'meditative', 'mediterranean', 'melodic', 'metal',\n",
       "       'metalcore', 'mexican', 'middle', 'minimal', 'miscellaneous',\n",
       "       'modern', 'mood', 'mpb', 'muslim', 'native', 'neoklassik', 'neue',\n",
       "       'new', 'newage', 'newwave', 'nu', 'nujazz', 'numetal', 'oceania',\n",
       "       'old', 'opera', 'orchestral', 'other', 'piano', 'pop',\n",
       "       'popelectronic', 'popeurodance', 'post', 'posthardcore',\n",
       "       'postrock', 'power', 'progmetal', 'progressive', 'psychedelic',\n",
       "       'punjabi', 'punk', 'quebecois', 'ragga', 'ram', 'rancheras', 'rap',\n",
       "       'rave', 'reggae', 'reggaeton', 'regional', 'relax', 'religious',\n",
       "       'retro', 'rhythm', 'rnb', 'rnr', 'rock', 'rockabilly', 'romance',\n",
       "       'roots', 'ruspop', 'rusrap', 'rusrock', 'salsa', 'samba',\n",
       "       'schlager', 'self', 'sertanejo', 'shoegazing', 'showtunes',\n",
       "       'singer', 'ska', 'slow', 'smooth', 'soul', 'soulful', 'sound',\n",
       "       'soundtrack', 'southern', 'specialty', 'speech', 'spiritual',\n",
       "       'sport', 'stonerrock', 'surf', 'swing', 'synthpop',\n",
       "       'sängerportrait', 'tango', 'tanzorchester', 'taraftar', 'tech',\n",
       "       'techno', 'thrash', 'top', 'traditional', 'tradjazz', 'trance',\n",
       "       'tribal', 'trip', 'triphop', 'tropical', 'türk', 'türkçe',\n",
       "       'unknown', 'urban', 'uzbek', 'variété', 'vi', 'videogame', 'vocal',\n",
       "       'western', 'world', 'worldbeat', 'ïîï'], dtype=object)"
      ]
     },
     "execution_count": 21,
     "metadata": {},
     "output_type": "execute_result"
    }
   ],
   "source": [
    "# memeriksa duplikat implisit\n",
    "df_clean['genre'].sort_values().unique()"
   ]
  },
  {
   "cell_type": "markdown",
   "id": "a30be00e",
   "metadata": {},
   "source": [
    "Baik duplikat eksplisit yang diperbaiki dengan menghapus baris yang terduplikat atau implisit telah diperbaiki dengan mengganti nilai yang terduplikat dengan sebuah string."
   ]
  },
  {
   "cell_type": "markdown",
   "id": "96c73031",
   "metadata": {},
   "source": [
    "**Kesimpulan sementara**\n",
    "\n",
    "- Gaya penulisan judul yang menggunakan *snake case* diganti menjadi *lower case*, spasi juga dihapus,\n",
    "- Semua nilai yang hilang telah diganti dengan `'unknown'`,\n",
    "- Duplikat eksplisit dan implisit juga sudah diperbaiki."
   ]
  },
  {
   "cell_type": "markdown",
   "id": "a50e9eb3",
   "metadata": {},
   "source": [
    "[Kembali ke tahapan](#back)"
   ]
  },
  {
   "cell_type": "markdown",
   "id": "969c19c0",
   "metadata": {},
   "source": [
    "## Menguji Hipotesis <a id=\"#Test\"></a>"
   ]
  },
  {
   "cell_type": "markdown",
   "id": "644ec253",
   "metadata": {},
   "source": [
    "### Hipotesis 1: membandingkan perilaku pengguna di dua kota <a id=\"1\"></a>"
   ]
  },
  {
   "cell_type": "markdown",
   "id": "f1b5c4d4",
   "metadata": {},
   "source": [
    "Menurut hipotesis pertama, pengguna dari Springfield dan Shelbyville memiliki perbedaan perilaku dalam mendengarkan musik. Pengujian ini menggunakan data pada hari: Senin, Rabu, dan Jumat."
   ]
  },
  {
   "cell_type": "code",
   "execution_count": 22,
   "id": "bb8c0b28",
   "metadata": {},
   "outputs": [
    {
     "name": "stdout",
     "output_type": "stream",
     "text": [
      "city\n",
      "Shelbyville    18512\n",
      "Springfield    42741\n",
      "Name: track, dtype: int64\n"
     ]
    }
   ],
   "source": [
    "# Menghitung lagu yang diputar di setiap kota\n",
    "df_test = df_clean\n",
    "print(df_test.groupby('city')['track'].count())"
   ]
  },
  {
   "cell_type": "markdown",
   "id": "94b04af8",
   "metadata": {},
   "source": [
    "Springfield memiliki lebih banyak lagu yang dimainkan daripada Shelbyville. Namun bukan berarti warga Springfield lebih sering mendengarkan musik. Kota ini lebih besar, dan memiliki lebih banyak pengguna."
   ]
  },
  {
   "cell_type": "code",
   "execution_count": 23,
   "id": "ca32fb78",
   "metadata": {},
   "outputs": [
    {
     "name": "stdout",
     "output_type": "stream",
     "text": [
      "day\n",
      "Friday       21840\n",
      "Monday       21354\n",
      "Wednesday    18059\n",
      "Name: track, dtype: int64\n"
     ]
    }
   ],
   "source": [
    "# Menghitung trek yang diputar pada masing-masing hari\n",
    "print(df_test.groupby('day')['track'].count())"
   ]
  },
  {
   "cell_type": "markdown",
   "id": "77f8c227",
   "metadata": {},
   "source": [
    "Rabu adalah hari paling tenang secara keseluruhan. Tetapi jika mempertimbangkan kedua kota secara terpisah, mungkin akan memiliki kesimpulan yang berbeda."
   ]
  },
  {
   "cell_type": "code",
   "execution_count": 22,
   "id": "aecad9b8",
   "metadata": {},
   "outputs": [],
   "source": [
    "# Fungsi menghitung lagu yang diputar untuk kota dan hari tertentu.\n",
    "'''\n",
    "Definisi:\n",
    "-----------\n",
    "    Fungsi ini untuk menghitung lagu yang diputar untuk kota dan hari tertentu\n",
    "-----------\n",
    "    day:\n",
    "        hari yang diinginkan\n",
    "    city:\n",
    "        kota yang diinginkan\n",
    "'''\n",
    "def number_tracks(day,city):\n",
    "    track_list = df_test[(df_test['day'] == day) & (df_test['city'] == city)]['user_id']\n",
    "    track_list_count = track_list.count()\n",
    "    return print(track_list_count)"
   ]
  },
  {
   "cell_type": "markdown",
   "id": "80105e92",
   "metadata": {},
   "source": [
    "Menggunakan fungsi `number_tracks()` enam kali dan mengubah nilai parameternya, sehingga bisa mengambil data di kedua kota untuk masing-masing hari tersebut."
   ]
  },
  {
   "cell_type": "code",
   "execution_count": 25,
   "id": "6b3bcc39",
   "metadata": {},
   "outputs": [
    {
     "name": "stdout",
     "output_type": "stream",
     "text": [
      "15740\n"
     ]
    }
   ],
   "source": [
    "# Jumlah lagu yang diputar di Springfield pada hari Senin\n",
    "number_tracks('Monday', 'Springfield')"
   ]
  },
  {
   "cell_type": "code",
   "execution_count": 26,
   "id": "43992987",
   "metadata": {},
   "outputs": [
    {
     "name": "stdout",
     "output_type": "stream",
     "text": [
      "5614\n"
     ]
    }
   ],
   "source": [
    "# Jumlah lagu yang diputar di Shelbyville pada hari Senin\n",
    "number_tracks('Monday', 'Shelbyville')"
   ]
  },
  {
   "cell_type": "code",
   "execution_count": 27,
   "id": "ed91564c",
   "metadata": {},
   "outputs": [
    {
     "name": "stdout",
     "output_type": "stream",
     "text": [
      "11056\n"
     ]
    }
   ],
   "source": [
    "#  Jumlah lagu yang diputar di Springfield pada hari Rabu\n",
    "number_tracks('Wednesday', 'Springfield')"
   ]
  },
  {
   "cell_type": "code",
   "execution_count": 28,
   "id": "13957832",
   "metadata": {},
   "outputs": [
    {
     "name": "stdout",
     "output_type": "stream",
     "text": [
      "7003\n"
     ]
    }
   ],
   "source": [
    "#  Jumlah lagu yang diputar di Shelbyville pada hari Rabu\n",
    "number_tracks('Wednesday', 'Shelbyville')"
   ]
  },
  {
   "cell_type": "code",
   "execution_count": 29,
   "id": "27629288",
   "metadata": {},
   "outputs": [
    {
     "name": "stdout",
     "output_type": "stream",
     "text": [
      "15945\n"
     ]
    }
   ],
   "source": [
    "# Jumlah lagu yang diputar di Springfield pada hari Jumat\n",
    "number_tracks('Friday', 'Springfield')"
   ]
  },
  {
   "cell_type": "code",
   "execution_count": 30,
   "id": "8f6ee504",
   "metadata": {},
   "outputs": [
    {
     "name": "stdout",
     "output_type": "stream",
     "text": [
      "5895\n"
     ]
    }
   ],
   "source": [
    "# Jumlah lagu yang diputar di Shelbyville pada hari Jumat\n",
    "number_tracks('Friday', 'Shelbyville')"
   ]
  },
  {
   "cell_type": "code",
   "execution_count": 31,
   "id": "693eadd4",
   "metadata": {},
   "outputs": [
    {
     "name": "stdout",
     "output_type": "stream",
     "text": [
      "          city  monday  wednesday  friday\n",
      "0  Springfield   15740      11056   15945\n",
      "1  Shelbyville    5614       7003    5895\n"
     ]
    }
   ],
   "source": [
    "# Tabel dengan hasil\n",
    "new_data = [['Springfield', 15740, 11056, 15945],\n",
    "           ['Shelbyville', 5614, 7003, 5895]]\n",
    "\n",
    "column_names = ['city', 'monday', 'wednesday', 'friday']\n",
    "\n",
    "table = pd.DataFrame (data = new_data, columns = column_names)\n",
    "print(table)"
   ]
  },
  {
   "cell_type": "markdown",
   "id": "3d0fc27a",
   "metadata": {},
   "source": [
    "**Kesimpulan sementara**\n",
    "\n",
    "*Findings*:\n",
    "\n",
    "1. Pada Springfield, jumlah lagu yang diputar mencapai puncaknya pada hari Senin dan Jumat, sedangkan pada hari Rabu terjadi penurunan aktivitas.\n",
    "2. Di Shelbyville, sebaliknya, pengguna lebih banyak mendengarkan musik pada hari Rabu. Aktivitas pengguna pada hari Senin dan Jumat lebih sedikit."
   ]
  },
  {
   "cell_type": "markdown",
   "id": "b060fd3c",
   "metadata": {},
   "source": [
    "[Kembali ke tahapan](#back)"
   ]
  },
  {
   "cell_type": "markdown",
   "id": "5ee67d32",
   "metadata": {},
   "source": [
    "### Hipotesis 2: musik di awal dan akhir minggu <a id=\"2\"></a>"
   ]
  },
  {
   "cell_type": "markdown",
   "id": "0c3d4286",
   "metadata": {},
   "source": [
    "Menurut hipotesis kedua, pada Senin pagi dan Jumat malam, warga Springfield mendengarkan genre yang berbeda dari yang dinikmati warga Shelbyville."
   ]
  },
  {
   "cell_type": "code",
   "execution_count": 33,
   "id": "09d421e0",
   "metadata": {},
   "outputs": [],
   "source": [
    "# Mendapatkan tabel spr_general dari baris df,\n",
    "# di mana nilai dari kolom 'city' adalah 'Springfield'\n",
    "spr_general = df_test[df_test['city'] == 'Springfield']"
   ]
  },
  {
   "cell_type": "code",
   "execution_count": 34,
   "id": "d0cdfed0",
   "metadata": {},
   "outputs": [],
   "source": [
    "# Mendapatkan shel_general dari baris df,\n",
    "# di mana nilai dari kolom 'city' adalah 'Shelbyville'\n",
    "shel_general = df_test[df_test['city'] == 'Shelbyville']"
   ]
  },
  {
   "cell_type": "code",
   "execution_count": 23,
   "id": "6c049753",
   "metadata": {},
   "outputs": [],
   "source": [
    "# Fungsi untuk memfilter 15 genre yang populer pada waktu yang ditentukan\n",
    "'''\n",
    "Definisi:\n",
    "-----------\n",
    "    Fungsi ini untuk mengisi nilai yang hilang berdasarkan kondisi dari kolom lain\n",
    "-----------\n",
    "    df1:\n",
    "        data yang diinginkan\n",
    "    day:\n",
    "        Hari yang diinginkan\n",
    "    time1:\n",
    "        waktu awal yang diinginkan\n",
    "    time2:\n",
    "        waktu akhir yang diinginkan\n",
    "'''\n",
    "def genre_weekday(df1, day, time1, time2):\n",
    "    \n",
    "    genre_df = df1[df1['day']==day]\n",
    "    genre_df = genre_df[genre_df['time'] < time2]\n",
    "    genre_df = genre_df[genre_df['time'] > time1]\n",
    "\n",
    "    genre_df_grouped = genre_df.groupby('genre')['genre'].count()\n",
    "\n",
    "    genre_df_sorted = genre_df_grouped.sort_values(ascending = False)\n",
    "\n",
    "    return genre_df_sorted[:15]"
   ]
  },
  {
   "cell_type": "markdown",
   "id": "7c71aa00",
   "metadata": {},
   "source": [
    "Membandingkan hasil fungsi `genre_weekday()` untuk Springfield dan Shelbyville pada Senin pagi (dari pukul 07.00 hingga 11.00) dan pada Jumat malam (dari pukul 17:00 hingga 23:00):"
   ]
  },
  {
   "cell_type": "code",
   "execution_count": 36,
   "id": "7b4f0043",
   "metadata": {},
   "outputs": [
    {
     "data": {
      "text/plain": [
       "genre\n",
       "pop            781\n",
       "dance          549\n",
       "electronic     480\n",
       "rock           474\n",
       "hiphop         286\n",
       "ruspop         186\n",
       "world          181\n",
       "rusrap         175\n",
       "alternative    164\n",
       "unknown        161\n",
       "classical      157\n",
       "metal          120\n",
       "jazz           100\n",
       "folk            97\n",
       "soundtrack      95\n",
       "Name: genre, dtype: int64"
      ]
     },
     "execution_count": 36,
     "metadata": {},
     "output_type": "execute_result"
    }
   ],
   "source": [
    "# Memanggil fungsi untuk Senin pagi di Springfield\n",
    "genre_weekday(spr_general, 'Monday', '07:00', '11:00')"
   ]
  },
  {
   "cell_type": "code",
   "execution_count": 37,
   "id": "68a4d8a2",
   "metadata": {},
   "outputs": [
    {
     "data": {
      "text/plain": [
       "genre\n",
       "pop            218\n",
       "dance          182\n",
       "rock           162\n",
       "electronic     147\n",
       "hiphop          80\n",
       "ruspop          64\n",
       "alternative     58\n",
       "rusrap          55\n",
       "jazz            44\n",
       "classical       40\n",
       "world           36\n",
       "rap             32\n",
       "soundtrack      31\n",
       "rnb             27\n",
       "metal           27\n",
       "Name: genre, dtype: int64"
      ]
     },
     "execution_count": 37,
     "metadata": {},
     "output_type": "execute_result"
    }
   ],
   "source": [
    "# Memanggil fungsi untuk Senin pagi di Shelbyville\n",
    "genre_weekday(shel_general, 'Monday', '07:00', '11:00')"
   ]
  },
  {
   "cell_type": "code",
   "execution_count": 38,
   "id": "47ec213e",
   "metadata": {},
   "outputs": [
    {
     "data": {
      "text/plain": [
       "genre\n",
       "pop            713\n",
       "rock           517\n",
       "dance          495\n",
       "electronic     482\n",
       "hiphop         273\n",
       "world          208\n",
       "ruspop         170\n",
       "classical      163\n",
       "alternative    163\n",
       "rusrap         142\n",
       "jazz           111\n",
       "unknown        110\n",
       "soundtrack     105\n",
       "rnb             90\n",
       "metal           88\n",
       "Name: genre, dtype: int64"
      ]
     },
     "execution_count": 38,
     "metadata": {},
     "output_type": "execute_result"
    }
   ],
   "source": [
    "# Memanggil fungsi untuk Jumat malam di Springfield\n",
    "genre_weekday(spr_general, 'Friday', '17:00', '23:00')"
   ]
  },
  {
   "cell_type": "code",
   "execution_count": 39,
   "id": "3015a963",
   "metadata": {},
   "outputs": [
    {
     "data": {
      "text/plain": [
       "genre\n",
       "pop            256\n",
       "rock           216\n",
       "electronic     216\n",
       "dance          210\n",
       "hiphop          97\n",
       "alternative     63\n",
       "jazz            61\n",
       "classical       60\n",
       "rusrap          59\n",
       "world           54\n",
       "unknown         47\n",
       "ruspop          47\n",
       "soundtrack      40\n",
       "metal           39\n",
       "rap             36\n",
       "Name: genre, dtype: int64"
      ]
     },
     "execution_count": 39,
     "metadata": {},
     "output_type": "execute_result"
    }
   ],
   "source": [
    "# Memanggil fungsi untuk Jumat malam di Shelbyville\n",
    "genre_weekday(shel_general, 'Friday', '17:00', '23:00')"
   ]
  },
  {
   "cell_type": "markdown",
   "id": "469b333e",
   "metadata": {},
   "source": [
    "**Kesimpulan sementara**\n",
    "\n",
    "*Findings*:\n",
    "\n",
    "Setelah membandingkan 15 genre teratas pada Senin pagi, data yang didapat menarik kesimpulan berikut:\n",
    "\n",
    "1. Pengguna dari Springfield dan Shelbyville mendengarkan musik dengan genre yang sama. Lima genre teratas sama, hanya rock dan elektronik yang bertukar tempat.\n",
    "\n",
    "2. Di Springfield, jumlah nilai yang hilang ternyata sangat besar sehingga nilai `'unknown'` berada di urutan ke-10. Ini berarti bahwa nilai-nilai yang hilang memiliki jumlah data yang cukup besar, yang mungkin menjadi dasar untuk mempertanyakan ketepatan kesimpulan kita.\n",
    "\n",
    "Untuk Jumat malam, situasinya serupa. Genre individual cukup bervariasi, tetapi secara keseluruhan, 15 besar genre untuk kedua kota sama.\n",
    "\n",
    "*Insight*:\n",
    "\n",
    "Dengan demikian, hipotesis kedua sebagian terbukti benar:\n",
    "\n",
    "1. Pengguna mendengarkan musik yang sama di awal dan akhir minggu.\n",
    "2. Tidak ada perbedaan yang mencolok antara Springfield dan Shelbyville. Pada kedua kota tersebut, pop adalah genre yang paling populer.\n",
    "\n",
    "Namun, jumlah nilai yang hilang membuat hasil ini dipertanyakan. Di Springfield, ada begitu banyak yang memengaruhi 15 teratas. Jika tidak mengabaikan nilai-nilai ini, hasilnya mungkin akan berbeda."
   ]
  },
  {
   "cell_type": "markdown",
   "id": "acae8a05",
   "metadata": {},
   "source": [
    "[Kembali ke tahapan](#back)"
   ]
  },
  {
   "cell_type": "markdown",
   "id": "135d4a33",
   "metadata": {},
   "source": [
    "### Hipotesis 3: preferensi genre di springfield dan shelbyville <a id=\"3\"></a>"
   ]
  },
  {
   "cell_type": "markdown",
   "id": "0dd4744e",
   "metadata": {},
   "source": [
    "Shelbyville menyukai musik rap. Warga Springfield lebih menyukai pop."
   ]
  },
  {
   "cell_type": "code",
   "execution_count": 40,
   "id": "58206265",
   "metadata": {},
   "outputs": [],
   "source": [
    "# Mengelompokkan dataframe di Springfield berdasarkan kolom genre dan menghitung totalnya\n",
    "new = spr_general.groupby('genre')['genre'].count()\n",
    "spr_genres = new.sort_values(ascending=False)"
   ]
  },
  {
   "cell_type": "code",
   "execution_count": 41,
   "id": "4dd82369",
   "metadata": {},
   "outputs": [
    {
     "data": {
      "text/plain": [
       "genre\n",
       "pop            5892\n",
       "dance          4435\n",
       "rock           3965\n",
       "electronic     3786\n",
       "hiphop         2096\n",
       "classical      1616\n",
       "world          1432\n",
       "alternative    1379\n",
       "ruspop         1372\n",
       "rusrap         1161\n",
       "Name: genre, dtype: int64"
      ]
     },
     "execution_count": 41,
     "metadata": {},
     "output_type": "execute_result"
    }
   ],
   "source": [
    "# Menampilkan 10 baris pertama dari spr_genres\n",
    "spr_genres.head(10)"
   ]
  },
  {
   "cell_type": "code",
   "execution_count": 42,
   "id": "e133e452",
   "metadata": {},
   "outputs": [],
   "source": [
    "# Mengelompokkan dataframe di Shelbyville berdasarkan kolom genre dan menghitung totalnya\n",
    "new1 = shel_general.groupby('genre')['genre'].count()\n",
    "shel_genres = new1.sort_values(ascending=False)"
   ]
  },
  {
   "cell_type": "markdown",
   "id": "3c81b234",
   "metadata": {},
   "source": [
    "Tampilkan 10 baris pertama dari `shel_genres`:"
   ]
  },
  {
   "cell_type": "code",
   "execution_count": 43,
   "id": "663dc365",
   "metadata": {},
   "outputs": [
    {
     "data": {
      "text/plain": [
       "genre\n",
       "pop            2431\n",
       "dance          1932\n",
       "rock           1879\n",
       "electronic     1736\n",
       "hiphop          960\n",
       "alternative     649\n",
       "classical       646\n",
       "rusrap          564\n",
       "ruspop          538\n",
       "world           515\n",
       "Name: genre, dtype: int64"
      ]
     },
     "execution_count": 43,
     "metadata": {},
     "output_type": "execute_result"
    }
   ],
   "source": [
    "# menampilkan 10 baris pertama dari shel_genres\n",
    "shel_genres.head(10)"
   ]
  },
  {
   "cell_type": "markdown",
   "id": "f3d4352c",
   "metadata": {},
   "source": [
    "**Kesimpulan sementara**\n",
    "\n",
    "*Findings*:\n",
    "\n",
    "Hipotesis terbukti benar sebagian,\n",
    "\n",
    "1. Musik pop adalah genre paling populer di Springfield, seperti yang diharapkan.\n",
    "2. Namun, musik pop ternyata sama populernya baik di Springfield maupun di Shelbyville, dan musik rap tidak berada di 5 besar untuk kedua kota tersebut.\n"
   ]
  },
  {
   "cell_type": "markdown",
   "id": "3051072e",
   "metadata": {},
   "source": [
    "[Kembali ke tahapan](#back)"
   ]
  },
  {
   "cell_type": "markdown",
   "id": "1ab6940f",
   "metadata": {},
   "source": [
    "## Kesimpulan Umum <a id=\"#Kesimpulan\"></a>"
   ]
  },
  {
   "cell_type": "markdown",
   "id": "6c8ec79e",
   "metadata": {},
   "source": [
    "Setelah menguji tiga hipotesis berikut:\n",
    "\n",
    "1. Aktivitas pengguna berbeda-beda tergantung pada hari dan kotanya.\n",
    "2. Pada senin pagi, penduduk Springfield dan Shelbyville mendengarkan genre yang berbeda. Hal ini juga ini juga berlaku untuk Jumat malam.\n",
    "3. Pendengar di Springfield dan Shelbyville memiliki preferensi yang berbeda. Baik Springfield maupun di Shelbyville, mereka lebih suka musik pop.\n",
    "\n",
    "Setelah menganalisis data, dapat disimpulkan:\n",
    "\n",
    "1. Aktivitas pengguna di Springfield dan Shelbyville bergantung pada harinya, walaupun kotanya berbeda.\n",
    "\n",
    "Hipotesis pertama dapat diterima sepenuhnya.\n",
    "\n",
    "2. Preferensi musik tidak terlalu berbeda selama seminggu di Springfield dan Shelbyville. Terlihat perbedaan kecil dalam urutan pada hari Senin, tetapi:\n",
    "    - Baik di Springfield maupun di Shelbyville, orang paling banyak mendengarkan musik pop.\n",
    "\n",
    "Jadi hipotesis ini tidak dapat diterima. Harus diingat bahwa hasilnya mungkin saja akan berbeda jika bukan karena nilai yang hilang.\n",
    "\n",
    "3. Ternyata preferensi musik pengguna dari Springfield dan Shelbyville sangat mirip.\n",
    "\n",
    "Hipotesis ketiga ditolak. Jika memang ada perbedaan preferensi, ia tidak dapat dilihat dari data ini."
   ]
  },
  {
   "cell_type": "markdown",
   "id": "40a15fee",
   "metadata": {},
   "source": [
    "[Kembali ke tahapan](#back)"
   ]
  }
 ],
 "metadata": {
  "kernelspec": {
   "display_name": "Python 3 (ipykernel)",
   "language": "python",
   "name": "python3"
  },
  "language_info": {
   "codemirror_mode": {
    "name": "ipython",
    "version": 3
   },
   "file_extension": ".py",
   "mimetype": "text/x-python",
   "name": "python",
   "nbconvert_exporter": "python",
   "pygments_lexer": "ipython3",
   "version": "3.9.13"
  },
  "nbTranslate": {
   "displayLangs": [
    "*"
   ],
   "hotkey": "alt-t",
   "langInMainMenu": true,
   "sourceLang": "en",
   "targetLang": "fr",
   "useGoogleTranslate": true
  },
  "toc": {
   "base_numbering": 1,
   "nav_menu": {},
   "number_sections": true,
   "sideBar": true,
   "skip_h1_title": true,
   "title_cell": "Table of Contents",
   "title_sidebar": "Contents",
   "toc_cell": false,
   "toc_position": {
    "height": "calc(100% - 180px)",
    "left": "10px",
    "top": "150px",
    "width": "307.2px"
   },
   "toc_section_display": true,
   "toc_window_display": true
  },
  "toc-autonumbering": true,
  "varInspector": {
   "cols": {
    "lenName": 16,
    "lenType": 16,
    "lenVar": 40
   },
   "kernels_config": {
    "python": {
     "delete_cmd_postfix": "",
     "delete_cmd_prefix": "del ",
     "library": "var_list.py",
     "varRefreshCmd": "print(var_dic_list())"
    },
    "r": {
     "delete_cmd_postfix": ") ",
     "delete_cmd_prefix": "rm(",
     "library": "var_list.r",
     "varRefreshCmd": "cat(var_dic_list()) "
    }
   },
   "types_to_exclude": [
    "module",
    "function",
    "builtin_function_or_method",
    "instance",
    "_Feature"
   ],
   "window_display": false
  }
 },
 "nbformat": 4,
 "nbformat_minor": 5
}
