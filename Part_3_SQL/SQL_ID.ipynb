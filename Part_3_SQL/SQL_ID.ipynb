{
 "cells": [
  {
   "cell_type": "markdown",
   "metadata": {},
   "source": [
    "# Analisa SQL"
   ]
  },
  {
   "cell_type": "markdown",
   "metadata": {},
   "source": [
    "Virus corona yang kehadirannya mengejutkan seluruh dunia telah mengubah rutinitas harian semua orang. Kini, warga kota tidak lagi menghabiskan waktu luangnya di luar rumah seperti pergi ke kafe dan mal. Mereka lebih sering berada di rumah, menghabiskan waktunya dengan membaca buku. Hal ini pun mendorong perusahaan startup untuk mengembangkan aplikasi baru bagi para pecinta buku.\n",
    "\n",
    "Anda telah diberi sebuah database dari salah satu perusahaan yang bersaing dalam industri ini. Database tersebut berisi data tentang buku, penerbit, penulis, serta rating dan ulasan pelanggan atas buku terkait. Informasi ini akan digunakan dalam membuat penawaran harga untuk sebuah produk baru.\n",
    "\n",
    "**Deskripsi Data**\n",
    "\n",
    "books (Berisi data tentang buku):\n",
    "   - `book_id` — ID buku\n",
    "   - `author_id` — ID penulis\n",
    "   - `title` — judul buku\n",
    "   - `num_pages` — jumlah halaman\n",
    "   - `publication_date` — tanggal penerbitan\n",
    "   - `publisher_id` — ID penerbit\n",
    "\n",
    "authors (Berisi data tentang penulis):\n",
    "   - `author_id` — ID penulis\n",
    "   - `author` — nama penulis\n",
    "\n",
    "publishers (Berisi data tentang penerbit):\n",
    "   - `publisher_id` — ID penerbit\n",
    "   - `publisher` — nama penerbit\n",
    "\n",
    "ratings (Berisi data tentang ulasan pengguna):\n",
    "   - `rating_id` — ID rating\n",
    "   - `book_id` — ID buku\n",
    "   - `username` — nama pengguna yang memberi rating buku\n",
    "   - `rating` — rating dari pengguna\n",
    "\n",
    "reviews (Berisi data tentang ulasan pelanggan):\n",
    "   - `review_id` — ID ulasan\n",
    "   - `book_id` — ID buku\n",
    "   - `username` — nama pengguna yang mengulas buku\n",
    "   - `text` — teks ulasan\n",
    "   \n",
    "<b>Objektif</b>:\n",
    "\n",
    "- Menganalisa dataset ini untuk mendapatkan informasi yang akan digunakan dalam membuat penawaran harga untuk sebuah produk baru.\n",
    "\n",
    "<b>Tahapan:</b><a id='back'></a>\n",
    "\n",
    "1. [Ikhtisar Data](#Mulai)\n",
    "2. [*Exploratory Data Analysis*](#EDA)\n",
    "    - [Jumlah buku yang dirilis setelah tanggal 1 Januari 2000](#1)\n",
    "    - [Jumlah ulasan pengguna dan rating rata-rata untuk setiap buku](#2)\n",
    "    - [Penerbit yang telah menerbitkan jumlah buku terbanyak](#3)\n",
    "    - [Penulis dengan rating rata-rata buku tertinggi](#4)\n",
    "    - [Jumlah rata-rata teks ulasan di antara pengguna](#5)\n",
    "3. [Kesimpulan Umum](#Kesimpulan)"
   ]
  },
  {
   "cell_type": "code",
   "execution_count": 3,
   "metadata": {},
   "outputs": [
    {
     "name": "stdout",
     "output_type": "stream",
     "text": [
      "Collecting psycopg2-binary\n",
      "  Downloading psycopg2_binary-2.9.6-cp39-cp39-win_amd64.whl (1.2 MB)\n",
      "     ---------------------------------------- 1.2/1.2 MB 228.0 kB/s eta 0:00:00\n",
      "Installing collected packages: psycopg2-binary\n",
      "Successfully installed psycopg2-binary-2.9.6\n",
      "Note: you may need to restart the kernel to use updated packages.\n"
     ]
    }
   ],
   "source": [
    "# driver PostgreSQL yang digunakan oleh SQLAlchemy untuk terhubung ke database PostgreSQL\n",
    "pip install psycopg2-binary"
   ]
  },
  {
   "cell_type": "code",
   "execution_count": 4,
   "metadata": {},
   "outputs": [],
   "source": [
    "# impor library yang diperlukan\n",
    "import pandas as pd\n",
    "from sqlalchemy import create_engine"
   ]
  },
  {
   "cell_type": "code",
   "execution_count": 5,
   "metadata": {},
   "outputs": [],
   "source": [
    "# Account\n",
    "db_config = {'user': 'practicum_student',                         # nama pengguna\n",
    "             'pwd': 's65BlTKV3faNIGhmvJVzOqhs',                   # kata sandi\n",
    "             'host': 'rc1b-wcoijxj3yxfsf3fs.mdb.yandexcloud.net',\n",
    "             'port': 6432,                                        # port koneksi\n",
    "             'db': 'data-analyst-final-project-db'}               # nama database\n",
    "\n",
    "\n",
    "# Parameter\n",
    "connection_string = 'postgresql://{}:{}@{}:{}/{}'.format(db_config['user'],\n",
    "                                                         db_config['pwd'],\n",
    "                                                         db_config['host'],\n",
    "                                                         db_config['port'],\n",
    "                                                         db_config['db'])\n",
    "\n",
    "# Menghubungkan account dengan database dengan parameter connection_string\n",
    "engine = create_engine(connection_string, connect_args={'sslmode':'require'})"
   ]
  },
  {
   "cell_type": "code",
   "execution_count": 6,
   "metadata": {},
   "outputs": [],
   "source": [
    "# Fungsi untuk melakukan query dengan SQL\n",
    "'''\n",
    "Definisi:\n",
    "-----------\n",
    "    # Fungsi untuk melakukan query dengan SQL\n",
    "-----------\n",
    "    query:\n",
    "        query yang diinginkan menggunakan bahasa SQL\n",
    "'''\n",
    "def query_sql (query):\n",
    "    return pd.io.sql.read_sql(query, con = engine)"
   ]
  },
  {
   "cell_type": "markdown",
   "metadata": {},
   "source": [
    "## Ikhtisar Data<a id='Mulai'></a>"
   ]
  },
  {
   "cell_type": "code",
   "execution_count": 7,
   "metadata": {},
   "outputs": [
    {
     "data": {
      "text/html": [
       "<div>\n",
       "<style scoped>\n",
       "    .dataframe tbody tr th:only-of-type {\n",
       "        vertical-align: middle;\n",
       "    }\n",
       "\n",
       "    .dataframe tbody tr th {\n",
       "        vertical-align: top;\n",
       "    }\n",
       "\n",
       "    .dataframe thead th {\n",
       "        text-align: right;\n",
       "    }\n",
       "</style>\n",
       "<table border=\"1\" class=\"dataframe\">\n",
       "  <thead>\n",
       "    <tr style=\"text-align: right;\">\n",
       "      <th></th>\n",
       "      <th>book_id</th>\n",
       "      <th>author_id</th>\n",
       "      <th>title</th>\n",
       "      <th>num_pages</th>\n",
       "      <th>publication_date</th>\n",
       "      <th>publisher_id</th>\n",
       "    </tr>\n",
       "  </thead>\n",
       "  <tbody>\n",
       "    <tr>\n",
       "      <th>0</th>\n",
       "      <td>1</td>\n",
       "      <td>546</td>\n",
       "      <td>'Salem's Lot</td>\n",
       "      <td>594</td>\n",
       "      <td>2005-11-01</td>\n",
       "      <td>93</td>\n",
       "    </tr>\n",
       "    <tr>\n",
       "      <th>1</th>\n",
       "      <td>2</td>\n",
       "      <td>465</td>\n",
       "      <td>1 000 Places to See Before You Die</td>\n",
       "      <td>992</td>\n",
       "      <td>2003-05-22</td>\n",
       "      <td>336</td>\n",
       "    </tr>\n",
       "    <tr>\n",
       "      <th>2</th>\n",
       "      <td>3</td>\n",
       "      <td>407</td>\n",
       "      <td>13 Little Blue Envelopes (Little Blue Envelope...</td>\n",
       "      <td>322</td>\n",
       "      <td>2010-12-21</td>\n",
       "      <td>135</td>\n",
       "    </tr>\n",
       "    <tr>\n",
       "      <th>3</th>\n",
       "      <td>4</td>\n",
       "      <td>82</td>\n",
       "      <td>1491: New Revelations of the Americas Before C...</td>\n",
       "      <td>541</td>\n",
       "      <td>2006-10-10</td>\n",
       "      <td>309</td>\n",
       "    </tr>\n",
       "    <tr>\n",
       "      <th>4</th>\n",
       "      <td>5</td>\n",
       "      <td>125</td>\n",
       "      <td>1776</td>\n",
       "      <td>386</td>\n",
       "      <td>2006-07-04</td>\n",
       "      <td>268</td>\n",
       "    </tr>\n",
       "  </tbody>\n",
       "</table>\n",
       "</div>"
      ],
      "text/plain": [
       "   book_id  author_id                                              title  \\\n",
       "0        1        546                                       'Salem's Lot   \n",
       "1        2        465                 1 000 Places to See Before You Die   \n",
       "2        3        407  13 Little Blue Envelopes (Little Blue Envelope...   \n",
       "3        4         82  1491: New Revelations of the Americas Before C...   \n",
       "4        5        125                                               1776   \n",
       "\n",
       "   num_pages publication_date  publisher_id  \n",
       "0        594       2005-11-01            93  \n",
       "1        992       2003-05-22           336  \n",
       "2        322       2010-12-21           135  \n",
       "3        541       2006-10-10           309  \n",
       "4        386       2006-07-04           268  "
      ]
     },
     "execution_count": 7,
     "metadata": {},
     "output_type": "execute_result"
    }
   ],
   "source": [
    "# Melihat dataset books dan menampilkan hasilnya\n",
    "query_sql(\n",
    "    '''\n",
    "    SELECT\n",
    "        *\n",
    "    FROM\n",
    "        books;\n",
    "    '''\n",
    ").head()"
   ]
  },
  {
   "cell_type": "code",
   "execution_count": 8,
   "metadata": {},
   "outputs": [
    {
     "data": {
      "text/html": [
       "<div>\n",
       "<style scoped>\n",
       "    .dataframe tbody tr th:only-of-type {\n",
       "        vertical-align: middle;\n",
       "    }\n",
       "\n",
       "    .dataframe tbody tr th {\n",
       "        vertical-align: top;\n",
       "    }\n",
       "\n",
       "    .dataframe thead th {\n",
       "        text-align: right;\n",
       "    }\n",
       "</style>\n",
       "<table border=\"1\" class=\"dataframe\">\n",
       "  <thead>\n",
       "    <tr style=\"text-align: right;\">\n",
       "      <th></th>\n",
       "      <th>review_id</th>\n",
       "      <th>book_id</th>\n",
       "      <th>username</th>\n",
       "      <th>text</th>\n",
       "    </tr>\n",
       "  </thead>\n",
       "  <tbody>\n",
       "    <tr>\n",
       "      <th>0</th>\n",
       "      <td>1</td>\n",
       "      <td>1</td>\n",
       "      <td>brandtandrea</td>\n",
       "      <td>Mention society tell send professor analysis. ...</td>\n",
       "    </tr>\n",
       "    <tr>\n",
       "      <th>1</th>\n",
       "      <td>2</td>\n",
       "      <td>1</td>\n",
       "      <td>ryanfranco</td>\n",
       "      <td>Foot glass pretty audience hit themselves. Amo...</td>\n",
       "    </tr>\n",
       "    <tr>\n",
       "      <th>2</th>\n",
       "      <td>3</td>\n",
       "      <td>2</td>\n",
       "      <td>lorichen</td>\n",
       "      <td>Listen treat keep worry. Miss husband tax but ...</td>\n",
       "    </tr>\n",
       "    <tr>\n",
       "      <th>3</th>\n",
       "      <td>4</td>\n",
       "      <td>3</td>\n",
       "      <td>johnsonamanda</td>\n",
       "      <td>Finally month interesting blue could nature cu...</td>\n",
       "    </tr>\n",
       "    <tr>\n",
       "      <th>4</th>\n",
       "      <td>5</td>\n",
       "      <td>3</td>\n",
       "      <td>scotttamara</td>\n",
       "      <td>Nation purpose heavy give wait song will. List...</td>\n",
       "    </tr>\n",
       "  </tbody>\n",
       "</table>\n",
       "</div>"
      ],
      "text/plain": [
       "   review_id  book_id       username  \\\n",
       "0          1        1   brandtandrea   \n",
       "1          2        1     ryanfranco   \n",
       "2          3        2       lorichen   \n",
       "3          4        3  johnsonamanda   \n",
       "4          5        3    scotttamara   \n",
       "\n",
       "                                                text  \n",
       "0  Mention society tell send professor analysis. ...  \n",
       "1  Foot glass pretty audience hit themselves. Amo...  \n",
       "2  Listen treat keep worry. Miss husband tax but ...  \n",
       "3  Finally month interesting blue could nature cu...  \n",
       "4  Nation purpose heavy give wait song will. List...  "
      ]
     },
     "execution_count": 8,
     "metadata": {},
     "output_type": "execute_result"
    }
   ],
   "source": [
    "# Melihat dataset reviews dan menampilkan hasilnya\n",
    "query_sql(\n",
    "    '''\n",
    "    SELECT\n",
    "        *\n",
    "    FROM\n",
    "        reviews;\n",
    "    '''\n",
    ").head()"
   ]
  },
  {
   "cell_type": "code",
   "execution_count": 9,
   "metadata": {},
   "outputs": [
    {
     "data": {
      "text/html": [
       "<div>\n",
       "<style scoped>\n",
       "    .dataframe tbody tr th:only-of-type {\n",
       "        vertical-align: middle;\n",
       "    }\n",
       "\n",
       "    .dataframe tbody tr th {\n",
       "        vertical-align: top;\n",
       "    }\n",
       "\n",
       "    .dataframe thead th {\n",
       "        text-align: right;\n",
       "    }\n",
       "</style>\n",
       "<table border=\"1\" class=\"dataframe\">\n",
       "  <thead>\n",
       "    <tr style=\"text-align: right;\">\n",
       "      <th></th>\n",
       "      <th>rating_id</th>\n",
       "      <th>book_id</th>\n",
       "      <th>username</th>\n",
       "      <th>rating</th>\n",
       "    </tr>\n",
       "  </thead>\n",
       "  <tbody>\n",
       "    <tr>\n",
       "      <th>0</th>\n",
       "      <td>1</td>\n",
       "      <td>1</td>\n",
       "      <td>ryanfranco</td>\n",
       "      <td>4</td>\n",
       "    </tr>\n",
       "    <tr>\n",
       "      <th>1</th>\n",
       "      <td>2</td>\n",
       "      <td>1</td>\n",
       "      <td>grantpatricia</td>\n",
       "      <td>2</td>\n",
       "    </tr>\n",
       "    <tr>\n",
       "      <th>2</th>\n",
       "      <td>3</td>\n",
       "      <td>1</td>\n",
       "      <td>brandtandrea</td>\n",
       "      <td>5</td>\n",
       "    </tr>\n",
       "    <tr>\n",
       "      <th>3</th>\n",
       "      <td>4</td>\n",
       "      <td>2</td>\n",
       "      <td>lorichen</td>\n",
       "      <td>3</td>\n",
       "    </tr>\n",
       "    <tr>\n",
       "      <th>4</th>\n",
       "      <td>5</td>\n",
       "      <td>2</td>\n",
       "      <td>mariokeller</td>\n",
       "      <td>2</td>\n",
       "    </tr>\n",
       "  </tbody>\n",
       "</table>\n",
       "</div>"
      ],
      "text/plain": [
       "   rating_id  book_id       username  rating\n",
       "0          1        1     ryanfranco       4\n",
       "1          2        1  grantpatricia       2\n",
       "2          3        1   brandtandrea       5\n",
       "3          4        2       lorichen       3\n",
       "4          5        2    mariokeller       2"
      ]
     },
     "execution_count": 9,
     "metadata": {},
     "output_type": "execute_result"
    }
   ],
   "source": [
    "# Melihat dataset ratings dan menampilkan hasilnya\n",
    "query_sql(\n",
    "    '''\n",
    "    SELECT\n",
    "        *\n",
    "    FROM\n",
    "        ratings;\n",
    "    '''\n",
    ").head()"
   ]
  },
  {
   "cell_type": "code",
   "execution_count": null,
   "metadata": {},
   "outputs": [],
   "source": [
    "# Melihat dataset publishers dan menampilkan hasilnya\n",
    "query_sql(\n",
    "    '''\n",
    "    SELECT \n",
    "        *\n",
    "    FROM\n",
    "        publishers;\n",
    "    '''\n",
    ").head()"
   ]
  },
  {
   "cell_type": "code",
   "execution_count": null,
   "metadata": {},
   "outputs": [],
   "source": [
    "# Melihat dataset authors dan menampilkan hasilnya\n",
    "query_sql(\n",
    "    '''\n",
    "    SELECT \n",
    "        *\n",
    "    FROM\n",
    "        authors;\n",
    "    '''\n",
    ").head()"
   ]
  },
  {
   "cell_type": "markdown",
   "metadata": {},
   "source": [
    "## *Exploratory Data Analysis*<a id='EDA'></a>"
   ]
  },
  {
   "cell_type": "markdown",
   "metadata": {},
   "source": [
    "### Jumlah buku yang dirilis setelah tanggal 1 Januari 2000<a id='1'></a>"
   ]
  },
  {
   "cell_type": "code",
   "execution_count": null,
   "metadata": {},
   "outputs": [],
   "source": [
    "# Menghitung jumlah buku yang dirilis setelah tanggal yang ditentukan\n",
    "query_sql(\n",
    "    '''\n",
    "    SELECT \n",
    "        COUNT(publication_date) as books_cnt\n",
    "    FROM\n",
    "        books\n",
    "    WHERE\n",
    "        publication_date > '2020-01-01';\n",
    "    '''\n",
    ").head()"
   ]
  },
  {
   "cell_type": "code",
   "execution_count": 10,
   "metadata": {},
   "outputs": [
    {
     "data": {
      "text/html": [
       "<div>\n",
       "<style scoped>\n",
       "    .dataframe tbody tr th:only-of-type {\n",
       "        vertical-align: middle;\n",
       "    }\n",
       "\n",
       "    .dataframe tbody tr th {\n",
       "        vertical-align: top;\n",
       "    }\n",
       "\n",
       "    .dataframe thead th {\n",
       "        text-align: right;\n",
       "    }\n",
       "</style>\n",
       "<table border=\"1\" class=\"dataframe\">\n",
       "  <thead>\n",
       "    <tr style=\"text-align: right;\">\n",
       "      <th></th>\n",
       "      <th>author_id</th>\n",
       "      <th>publication_date</th>\n",
       "      <th>author</th>\n",
       "      <th>title</th>\n",
       "      <th>num_pages</th>\n",
       "    </tr>\n",
       "  </thead>\n",
       "  <tbody>\n",
       "    <tr>\n",
       "      <th>0</th>\n",
       "      <td>377</td>\n",
       "      <td>2020-03-31</td>\n",
       "      <td>Lynsay Sands</td>\n",
       "      <td>A Quick Bite (Argeneau #1)</td>\n",
       "      <td>360</td>\n",
       "    </tr>\n",
       "  </tbody>\n",
       "</table>\n",
       "</div>"
      ],
      "text/plain": [
       "   author_id publication_date        author                       title  \\\n",
       "0        377       2020-03-31  Lynsay Sands  A Quick Bite (Argeneau #1)   \n",
       "\n",
       "   num_pages  \n",
       "0        360  "
      ]
     },
     "execution_count": 10,
     "metadata": {},
     "output_type": "execute_result"
    }
   ],
   "source": [
    "# Memeriksa buku tersebut\n",
    "query_sql(\n",
    "    '''\n",
    "    -- CTE(Common Table Expression)\n",
    "    WITH table_2 AS(\n",
    "        SELECT\n",
    "            *\n",
    "        FROM\n",
    "            authors\n",
    "    )\n",
    "    \n",
    "    -- Menggabungkan tabel\n",
    "    SELECT \n",
    "        books.author_id,\n",
    "        publication_date,\n",
    "        author,\n",
    "        title,\n",
    "        num_pages\n",
    "    FROM\n",
    "        books LEFT JOIN table_2\n",
    "        ON table_2.author_id = books.author_id\n",
    "    WHERE\n",
    "        publication_date > '2020-01-01';\n",
    "    '''\n",
    ").head()"
   ]
  },
  {
   "cell_type": "markdown",
   "metadata": {},
   "source": [
    "Hanya terdapat 1 buku yang dirilis setelah tanggal 1 Januari 2000, yakni:\n",
    "- buku dari penulis Lynsay Sands dengan judul 'A Quick Bite (Argeneau #1)' yang mempunyai 360 halaman."
   ]
  },
  {
   "cell_type": "markdown",
   "metadata": {},
   "source": [
    "### Jumlah ulasan pengguna dan rating rata-rata untuk setiap buku<a id='2'></a>"
   ]
  },
  {
   "cell_type": "code",
   "execution_count": null,
   "metadata": {},
   "outputs": [],
   "source": [
    "# Menghitung jumlah ulasan dan rating rata-rata setiap buku\n",
    "query_sql(\n",
    "    '''\n",
    "    -- CTE\n",
    "    WITH table_reviews AS(\n",
    "        SELECT\n",
    "            book_id,\n",
    "            review_id\n",
    "        FROM\n",
    "            reviews\n",
    "    )\n",
    "    \n",
    "    -- Menggabungkan tabel\n",
    "    SELECT\n",
    "        ratings.book_id,\n",
    "        ROUND(AVG(ratings.rating)::numeric, 2) AS rating_avg, -- Rata-rata rating setiap buku\n",
    "        COUNT(table_reviews.review_id) as review_total -- Total review setiap buku\n",
    "    FROM\n",
    "        ratings LEFT JOIN table_reviews\n",
    "        ON ratings.book_id = table_reviews.book_id\n",
    "    GROUP BY\n",
    "        ratings.book_id\n",
    "    ORDER BY\n",
    "        review_total DESC;\n",
    "    '''\n",
    ").head()"
   ]
  },
  {
   "cell_type": "markdown",
   "metadata": {},
   "source": [
    "Jika diurutkan berdasarkan jumlah review yang diberikan pengguna pada setiap buku:\n",
    "1. `books_id` 948 menerima review terbanyak dengan jumlah 1120 dan rata-rata reviewnya sebesar 3.66,\n",
    "2. Diikuti oleh `books_id` 750 yang menerima review dengan jumlah 528 dan rata-rata reviewnya sebesar 4.13,\n",
    "2. Diperingkat berikutnya ada `books_id` 673 yang menerima review dengan jumlah 516 dan rata-rata reviewnya sebesar 3.83"
   ]
  },
  {
   "cell_type": "markdown",
   "metadata": {},
   "source": [
    "### Penerbit yang telah menerbitkan jumlah buku terbanyak<a id='3'></a>"
   ]
  },
  {
   "cell_type": "markdown",
   "metadata": {},
   "source": [
    "Filter yang akan diterapkan adalah jumlah halaman lebih dari 50 sehingga dapat mengecualikan seperti brosur dan publikasi."
   ]
  },
  {
   "cell_type": "code",
   "execution_count": null,
   "metadata": {},
   "outputs": [],
   "source": [
    "# Menghitung total buku yang dirilis oleh penerbit\n",
    "query_sql(\n",
    "    '''\n",
    "    -- CTE\n",
    "    WITH table_publisher AS(\n",
    "        SELECT\n",
    "            *\n",
    "        FROM\n",
    "            publishers\n",
    "    )\n",
    "    \n",
    "    SELECT\n",
    "        books.publisher_id,\n",
    "        COUNT(books.book_id) AS books_cnt, -- Total buku yang dirilis\n",
    "        table_publisher.publisher\n",
    "    FROM\n",
    "        books LEFT JOIN table_publisher\n",
    "        ON books.publisher_id = table_publisher.publisher_id\n",
    "    WHERE\n",
    "        books.num_pages > 50\n",
    "    GROUP BY\n",
    "        books.publisher_id,\n",
    "        table_publisher.publisher\n",
    "    ORDER BY\n",
    "        books_cnt DESC;\n",
    "    '''\n",
    ").head()"
   ]
  },
  {
   "cell_type": "markdown",
   "metadata": {},
   "source": [
    "Penerbit:\n",
    "1. Penguin Books menjadi yang terbanyak (42) dalam hal penerbitan buku,\n",
    "2. Diikuti oleh penerbit Vintage, Grand Central Publishing, Penguin Classics, dan Ballantine Books secara berurutan."
   ]
  },
  {
   "cell_type": "markdown",
   "metadata": {},
   "source": [
    "### Penulis dengan rating rata-rata buku tertinggi<a id='4'></a>"
   ]
  },
  {
   "cell_type": "markdown",
   "metadata": {},
   "source": [
    "Filter yang akan diterapkan adalah buku yang diberi rating lebih dari 50 kali."
   ]
  },
  {
   "cell_type": "code",
   "execution_count": 11,
   "metadata": {},
   "outputs": [
    {
     "data": {
      "text/html": [
       "<div>\n",
       "<style scoped>\n",
       "    .dataframe tbody tr th:only-of-type {\n",
       "        vertical-align: middle;\n",
       "    }\n",
       "\n",
       "    .dataframe tbody tr th {\n",
       "        vertical-align: top;\n",
       "    }\n",
       "\n",
       "    .dataframe thead th {\n",
       "        text-align: right;\n",
       "    }\n",
       "</style>\n",
       "<table border=\"1\" class=\"dataframe\">\n",
       "  <thead>\n",
       "    <tr style=\"text-align: right;\">\n",
       "      <th></th>\n",
       "      <th>book_id</th>\n",
       "      <th>rating_cnt</th>\n",
       "      <th>author_id</th>\n",
       "      <th>author</th>\n",
       "    </tr>\n",
       "  </thead>\n",
       "  <tbody>\n",
       "    <tr>\n",
       "      <th>0</th>\n",
       "      <td>948</td>\n",
       "      <td>160</td>\n",
       "      <td>554</td>\n",
       "      <td>Stephenie Meyer</td>\n",
       "    </tr>\n",
       "    <tr>\n",
       "      <th>1</th>\n",
       "      <td>750</td>\n",
       "      <td>88</td>\n",
       "      <td>240</td>\n",
       "      <td>J.R.R. Tolkien</td>\n",
       "    </tr>\n",
       "    <tr>\n",
       "      <th>2</th>\n",
       "      <td>673</td>\n",
       "      <td>86</td>\n",
       "      <td>235</td>\n",
       "      <td>J.D. Salinger</td>\n",
       "    </tr>\n",
       "    <tr>\n",
       "      <th>3</th>\n",
       "      <td>75</td>\n",
       "      <td>84</td>\n",
       "      <td>106</td>\n",
       "      <td>Dan Brown</td>\n",
       "    </tr>\n",
       "    <tr>\n",
       "      <th>4</th>\n",
       "      <td>302</td>\n",
       "      <td>82</td>\n",
       "      <td>236</td>\n",
       "      <td>J.K. Rowling/Mary GrandPré</td>\n",
       "    </tr>\n",
       "  </tbody>\n",
       "</table>\n",
       "</div>"
      ],
      "text/plain": [
       "   book_id  rating_cnt  author_id                      author\n",
       "0      948         160        554             Stephenie Meyer\n",
       "1      750          88        240              J.R.R. Tolkien\n",
       "2      673          86        235               J.D. Salinger\n",
       "3       75          84        106                   Dan Brown\n",
       "4      302          82        236  J.K. Rowling/Mary GrandPré"
      ]
     },
     "execution_count": 11,
     "metadata": {},
     "output_type": "execute_result"
    }
   ],
   "source": [
    "# Menghitung rating yang diberikan pengguna pada setiap buku\n",
    "query_sql(\n",
    "    '''\n",
    "    -- CTE\n",
    "    WITH table_authors AS(\n",
    "        SELECT\n",
    "            *\n",
    "        FROM\n",
    "            authors\n",
    "    ), table_books AS(\n",
    "        SELECT\n",
    "            book_id,\n",
    "            author_id\n",
    "        FROM\n",
    "            books\n",
    "    )\n",
    "    \n",
    "    -- Menggabungkan tabel\n",
    "    SELECT\n",
    "        ratings.book_id,\n",
    "        COUNT(ratings.username) AS rating_cnt,\n",
    "        table_authors.author_id,\n",
    "        table_authors.author\n",
    "    FROM\n",
    "        ratings\n",
    "        LEFT JOIN table_books\n",
    "        ON ratings.book_id = table_books.book_id\n",
    "        LEFT JOIN table_authors\n",
    "        ON table_books.author_id = table_authors.author_id\n",
    "    GROUP BY\n",
    "        ratings.book_id,\n",
    "        table_authors.author_id,\n",
    "        table_authors.author\n",
    "    HAVING\n",
    "        COUNT(ratings.username)>50\n",
    "    ORDER BY\n",
    "        rating_cnt DESC;\n",
    "    '''\n",
    ").head()"
   ]
  },
  {
   "cell_type": "markdown",
   "metadata": {},
   "source": [
    "1. Stephenie Meyer menjadi penulis dengan buku yang diberi rating terbanyak (160)\n",
    "2. Diikuti oleh J.R.R. Tolkien, J.D. Salinger, Dan Brown, dan J.K. Rowling/Mary GrandPré secara berurutan."
   ]
  },
  {
   "cell_type": "markdown",
   "metadata": {},
   "source": [
    "### Jumlah rata-rata teks ulasan di antara pengguna<a id='5'></a>"
   ]
  },
  {
   "cell_type": "markdown",
   "metadata": {},
   "source": [
    "Filter yang akan diterapkan adalah buku yang diberi rating lebih dari 50 kali."
   ]
  },
  {
   "cell_type": "code",
   "execution_count": 12,
   "metadata": {},
   "outputs": [
    {
     "data": {
      "text/html": [
       "<div>\n",
       "<style scoped>\n",
       "    .dataframe tbody tr th:only-of-type {\n",
       "        vertical-align: middle;\n",
       "    }\n",
       "\n",
       "    .dataframe tbody tr th {\n",
       "        vertical-align: top;\n",
       "    }\n",
       "\n",
       "    .dataframe thead th {\n",
       "        text-align: right;\n",
       "    }\n",
       "</style>\n",
       "<table border=\"1\" class=\"dataframe\">\n",
       "  <thead>\n",
       "    <tr style=\"text-align: right;\">\n",
       "      <th></th>\n",
       "      <th>book_id</th>\n",
       "      <th>rating_cnt</th>\n",
       "      <th>title</th>\n",
       "      <th>avg_text_len</th>\n",
       "    </tr>\n",
       "  </thead>\n",
       "  <tbody>\n",
       "    <tr>\n",
       "      <th>0</th>\n",
       "      <td>948</td>\n",
       "      <td>160</td>\n",
       "      <td>Twilight (Twilight  #1)</td>\n",
       "      <td>89.571429</td>\n",
       "    </tr>\n",
       "    <tr>\n",
       "      <th>1</th>\n",
       "      <td>750</td>\n",
       "      <td>88</td>\n",
       "      <td>The Hobbit  or There and Back Again</td>\n",
       "      <td>86.833333</td>\n",
       "    </tr>\n",
       "    <tr>\n",
       "      <th>2</th>\n",
       "      <td>673</td>\n",
       "      <td>86</td>\n",
       "      <td>The Catcher in the Rye</td>\n",
       "      <td>103.166667</td>\n",
       "    </tr>\n",
       "    <tr>\n",
       "      <th>3</th>\n",
       "      <td>75</td>\n",
       "      <td>84</td>\n",
       "      <td>Angels &amp; Demons (Robert Langdon  #1)</td>\n",
       "      <td>112.600000</td>\n",
       "    </tr>\n",
       "    <tr>\n",
       "      <th>4</th>\n",
       "      <td>302</td>\n",
       "      <td>82</td>\n",
       "      <td>Harry Potter and the Prisoner of Azkaban (Harr...</td>\n",
       "      <td>82.000000</td>\n",
       "    </tr>\n",
       "  </tbody>\n",
       "</table>\n",
       "</div>"
      ],
      "text/plain": [
       "   book_id  rating_cnt                                              title  \\\n",
       "0      948         160                            Twilight (Twilight  #1)   \n",
       "1      750          88                The Hobbit  or There and Back Again   \n",
       "2      673          86                             The Catcher in the Rye   \n",
       "3       75          84               Angels & Demons (Robert Langdon  #1)   \n",
       "4      302          82  Harry Potter and the Prisoner of Azkaban (Harr...   \n",
       "\n",
       "   avg_text_len  \n",
       "0     89.571429  \n",
       "1     86.833333  \n",
       "2    103.166667  \n",
       "3    112.600000  \n",
       "4     82.000000  "
      ]
     },
     "execution_count": 12,
     "metadata": {},
     "output_type": "execute_result"
    }
   ],
   "source": [
    "# Rata-rata ulasan pengguna\n",
    "query_sql(\n",
    "    '''\n",
    "    WITH table_authors AS (\n",
    "        SELECT\n",
    "            *\n",
    "        FROM\n",
    "            authors\n",
    "    ), table_books AS (\n",
    "        SELECT \n",
    "            book_id,\n",
    "            author_id,\n",
    "            title\n",
    "        FROM\n",
    "            books\n",
    "    ), table_reviews AS (\n",
    "        SELECT\n",
    "            book_id,\n",
    "            text\n",
    "        FROM\n",
    "            reviews\n",
    "    ), table_ratings AS (\n",
    "        SELECT\n",
    "            book_id,\n",
    "            COUNT(username) AS rating_cnt FROM ratings\n",
    "        GROUP BY\n",
    "            book_id\n",
    "        HAVING\n",
    "            COUNT(username) > 50 -- Filter rating yang diterima lebih dari 50 kali\n",
    "    )\n",
    "\n",
    "    SELECT \n",
    "        table_ratings.book_id,\n",
    "        table_ratings.rating_cnt,\n",
    "        table_books.title,\n",
    "        AVG(LENGTH(table_reviews.text)) AS avg_text_len\n",
    "    FROM\n",
    "        table_ratings\n",
    "        JOIN table_books ON table_ratings.book_id = table_books.book_id\n",
    "        JOIN table_authors ON table_books.author_id = table_authors.author_id\n",
    "        JOIN table_reviews ON table_ratings.book_id = table_reviews.book_id\n",
    "    GROUP BY \n",
    "        table_ratings.book_id,\n",
    "        table_ratings.rating_cnt,\n",
    "        table_books.title\n",
    "    ORDER BY \n",
    "        table_ratings.rating_cnt DESC;\n",
    "\n",
    "    '''\n",
    ").head()"
   ]
  },
  {
   "cell_type": "markdown",
   "metadata": {},
   "source": [
    "1. Buku dengan judul \"Twilight (Twilight #1)\"\tmenerima rata-rata teks ulasan sebesar 89.57,\n",
    "2. Diikuti oleh \"The Hobbit or There and Back Again\" (86.83), \"The Catcher in the Rye\" (103.17), \"Angels & Demons (Robert Langdon #1)\" (112.6), Harry Potter and the Prisoner of Azkaban\" (82)"
   ]
  },
  {
   "cell_type": "markdown",
   "metadata": {},
   "source": [
    "## Kesimpulan Umum<a id='Kesimpulan'></a>"
   ]
  },
  {
   "cell_type": "markdown",
   "metadata": {},
   "source": [
    "Kesimpulan umum dari hasil analisa dataset ini adalah:\n",
    "1. Kumpulan dataset ini terdiri dari informasi tentang buku-buku, penulis, penerbit, rating, dan ulasan pengguna.\n",
    "2. Hanya ada satu buku yang dirilis setelah tanggal 1 Januari 2000.\n",
    "3. Buku dengan ID 948 adalah buku yang paling banyak direview oleh pengguna dengan rata-rata rating 3.66.\n",
    "4. Penerbit Penguin Books menjadi penerbit yang paling banyak menerbitkan buku.\n",
    "5. Stephenie Meyer adalah penulis dengan rating rata-rata buku tertinggi.\n",
    "6. Beberapa buku memiliki rata-rata teks ulasan yang cukup tinggi di antara pengguna yang memberi rating terhadap lebih dari 50 buku.\n",
    "\n",
    "Berdasarkan hasil analisa tersebut, beberapa rekomendasi yang dapat diberikan dalam membuat penawaran harga untuk produk baru adalah:\n",
    "1. Mengambil buku-buku yang telah banyak direview dan memiliki rating rata-rata yang baik untuk dijadikan referensi dalam menawarkan produk baru.\n",
    "2. Menghubungi penerbit-penerbit terkait untuk menjajaki peluang kerjasama dalam penerbitan produk baru.\n",
    "3. Melihat karya-karya penulis dengan rating rata-rata buku tertinggi dan mempertimbangkan untuk mengajak kerjasama dalam penerbitan produk baru.\n",
    "4. Memperhatikan ulasan pengguna dan rata-rata teks ulasan yang tinggi sebagai bahan pertimbangan dalam menawarkan produk baru."
   ]
  }
 ],
 "metadata": {
  "kernelspec": {
   "display_name": "Python 3 (ipykernel)",
   "language": "python",
   "name": "python3"
  },
  "language_info": {
   "codemirror_mode": {
    "name": "ipython",
    "version": 3
   },
   "file_extension": ".py",
   "mimetype": "text/x-python",
   "name": "python",
   "nbconvert_exporter": "python",
   "pygments_lexer": "ipython3",
   "version": "3.9.13"
  },
  "nbTranslate": {
   "displayLangs": [
    "*"
   ],
   "hotkey": "alt-t",
   "langInMainMenu": true,
   "sourceLang": "en",
   "targetLang": "fr",
   "useGoogleTranslate": true
  },
  "toc": {
   "base_numbering": 1,
   "nav_menu": {},
   "number_sections": true,
   "sideBar": true,
   "skip_h1_title": true,
   "title_cell": "Table of Contents",
   "title_sidebar": "Contents",
   "toc_cell": false,
   "toc_position": {},
   "toc_section_display": true,
   "toc_window_display": false
  },
  "varInspector": {
   "cols": {
    "lenName": 16,
    "lenType": 16,
    "lenVar": 40
   },
   "kernels_config": {
    "python": {
     "delete_cmd_postfix": "",
     "delete_cmd_prefix": "del ",
     "library": "var_list.py",
     "varRefreshCmd": "print(var_dic_list())"
    },
    "r": {
     "delete_cmd_postfix": ") ",
     "delete_cmd_prefix": "rm(",
     "library": "var_list.r",
     "varRefreshCmd": "cat(var_dic_list()) "
    }
   },
   "types_to_exclude": [
    "module",
    "function",
    "builtin_function_or_method",
    "instance",
    "_Feature"
   ],
   "window_display": false
  }
 },
 "nbformat": 4,
 "nbformat_minor": 2
}
