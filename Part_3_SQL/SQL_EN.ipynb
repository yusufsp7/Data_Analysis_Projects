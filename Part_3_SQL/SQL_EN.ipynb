{
 "cells": [
  {
   "cell_type": "markdown",
   "metadata": {
    "lang": "en"
   },
   "source": [
    "# Analyze SQL"
   ]
  },
  {
   "cell_type": "markdown",
   "metadata": {
    "lang": "id"
   },
   "source": [
    "The corona virus whose presence shocked the whole world has changed everyone's daily routine. Now, city residents no longer spend their free time outside the home, such as going to cafes and malls. They are more often at home, spending time reading books. This also encourages startup companies to develop new applications for book lovers.\n",
    "\n",
    "You have been given a database of one of the competing companies in this industry. The database contains data about books, publishers, authors, as well as customer ratings and reviews of related books. This information will be used in making a price quote for a new product.\n",
    "\n",
    "**Data Description**\n",
    "\n",
    "books (Contains data about books):\n",
    "   - `book_id` — book ID\n",
    "   - `author_id` — author ID\n",
    "   - `title` — book title\n",
    "   - `num_pages` — number of pages\n",
    "   - `publication_date` — publication date\n",
    "   - `publisher_id` — publisher ID\n",
    "\n",
    "authors (Contains data about the author):\n",
    "   - `author_id` — author ID\n",
    "   - `author` — author name\n",
    "\n",
    "publishers (Contains data about publishers):\n",
    "   - `publisher_id` — publisher ID\n",
    "   - `publisher` — publisher name\n",
    "\n",
    "ratings (Contains data about user reviews):\n",
    "   - `rating_id` — rating ID\n",
    "   - `book_id` — book ID\n",
    "   - `username` — the username that rated the book\n",
    "   - `ratings` — rating from the users\n",
    "\n",
    "reviews (Contains data about customer reviews):\n",
    "   - `review_id` — Review ID\n",
    "   - `book_id` — book ID\n",
    "   - `username` — the username who reviewed the book\n",
    "   - `text` — review text\n",
    "   \n",
    "<b>Objective</b>:\n",
    "\n",
    "- Analyze this dataset to obtain information that will be used in making a price quote for a new product.\n",
    "\n",
    "<b>Stages:</b><a id='back'></a>\n",
    "\n",
    "1. [Data Overview](#Start)\n",
    "2. [*Exploratory Data Analysis*](#EDA)\n",
    "    - [Number of books released after January 1, 2000](#1)\n",
    "    - [Number of user reviews and average rating for each book](#2)\n",
    "    - [Publisher who has published the most number of books](#3)\n",
    "    - [Author with highest average book rating](#4)\n",
    "    - [Average number of review texts among users](#5)\n",
    "3. [General Conclusion](#Conclusion)"
   ]
  },
  {
   "cell_type": "markdown",
   "metadata": {
    "lang": "en"
   },
   "source": [
    "Note:\n",
    "\n",
    "need to install using the code below, the PostgreSQL driver used by SQLAlchemy to connect to the PostgreSQL database:\n",
    "\n",
    "`pip install psycopg2-binaryz`"
   ]
  },
  {
   "cell_type": "code",
   "execution_count": 1,
   "metadata": {
    "lang": "id"
   },
   "outputs": [],
   "source": [
    "# import required libraries\n",
    "import pandas as pd\n",
    "from sqlalchemy import create_engine"
   ]
  },
  {
   "cell_type": "code",
   "execution_count": 2,
   "metadata": {
    "lang": "id"
   },
   "outputs": [],
   "source": [
    "#Accounts\n",
    "db_config = {'user': 'practicum_student',                         # nama pengguna\n",
    "             'pwd': 's65BlTKV3faNIGhmvJVzOqhs',                   # kata sandi\n",
    "             'host': 'rc1b-wcoijxj3yxfsf3fs.mdb.yandexcloud.net',\n",
    "             'port': 6432,                                        # port koneksi\n",
    "             'db': 'data-analyst-final-project-db'}               # nama database\n",
    "\n",
    "\n",
    "# Parameters\n",
    "connection_string = 'postgresql://{}:{}@{}:{}/{}'.format(db_config['user'],\n",
    "                                                         db_config['pwd'],\n",
    "                                                         db_config['host'],\n",
    "                                                         db_config['port'],\n",
    "                                                         db_config['db'])\n",
    "\n",
    "# Connect account with database with connection_string parameter\n",
    "engine = create_engine(connection_string, connect_args={'sslmode':'require'})"
   ]
  },
  {
   "cell_type": "code",
   "execution_count": 3,
   "metadata": {
    "lang": "id"
   },
   "outputs": [],
   "source": [
    "# Functions to perform queries with SQL\n",
    "'''\n",
    "Definition:\n",
    "-----------\n",
    "    # Functions to perform queries with SQL\n",
    "-----------\n",
    "    queries:\n",
    "        the desired query using SQL language\n",
    "'''\n",
    "def query_sql (query):\n",
    "    return pd.io.sql.read_sql(query, con = engine)"
   ]
  },
  {
   "cell_type": "markdown",
   "metadata": {},
   "source": [
    "## Data Overview<a id='Start'></a>"
   ]
  },
  {
   "cell_type": "code",
   "execution_count": 4,
   "metadata": {
    "lang": "id"
   },
   "outputs": [
    {
     "data": {
      "text/html": [
       "<div>\n",
       "<style scoped>\n",
       "    .dataframe tbody tr th:only-of-type {\n",
       "        vertical-align: middle;\n",
       "    }\n",
       "\n",
       "    .dataframe tbody tr th {\n",
       "        vertical-align: top;\n",
       "    }\n",
       "\n",
       "    .dataframe thead th {\n",
       "        text-align: right;\n",
       "    }\n",
       "</style>\n",
       "<table border=\"1\" class=\"dataframe\">\n",
       "  <thead>\n",
       "    <tr style=\"text-align: right;\">\n",
       "      <th></th>\n",
       "      <th>book_id</th>\n",
       "      <th>author_id</th>\n",
       "      <th>title</th>\n",
       "      <th>num_pages</th>\n",
       "      <th>publication_date</th>\n",
       "      <th>publisher_id</th>\n",
       "    </tr>\n",
       "  </thead>\n",
       "  <tbody>\n",
       "    <tr>\n",
       "      <th>0</th>\n",
       "      <td>1</td>\n",
       "      <td>546</td>\n",
       "      <td>'Salem's Lot</td>\n",
       "      <td>594</td>\n",
       "      <td>2005-11-01</td>\n",
       "      <td>93</td>\n",
       "    </tr>\n",
       "    <tr>\n",
       "      <th>1</th>\n",
       "      <td>2</td>\n",
       "      <td>465</td>\n",
       "      <td>1 000 Places to See Before You Die</td>\n",
       "      <td>992</td>\n",
       "      <td>2003-05-22</td>\n",
       "      <td>336</td>\n",
       "    </tr>\n",
       "    <tr>\n",
       "      <th>2</th>\n",
       "      <td>3</td>\n",
       "      <td>407</td>\n",
       "      <td>13 Little Blue Envelopes (Little Blue Envelope...</td>\n",
       "      <td>322</td>\n",
       "      <td>2010-12-21</td>\n",
       "      <td>135</td>\n",
       "    </tr>\n",
       "    <tr>\n",
       "      <th>3</th>\n",
       "      <td>4</td>\n",
       "      <td>82</td>\n",
       "      <td>1491: New Revelations of the Americas Before C...</td>\n",
       "      <td>541</td>\n",
       "      <td>2006-10-10</td>\n",
       "      <td>309</td>\n",
       "    </tr>\n",
       "    <tr>\n",
       "      <th>4</th>\n",
       "      <td>5</td>\n",
       "      <td>125</td>\n",
       "      <td>1776</td>\n",
       "      <td>386</td>\n",
       "      <td>2006-07-04</td>\n",
       "      <td>268</td>\n",
       "    </tr>\n",
       "  </tbody>\n",
       "</table>\n",
       "</div>"
      ],
      "text/plain": [
       "   book_id  author_id                                              title  \\\n",
       "0        1        546                                       'Salem's Lot   \n",
       "1        2        465                 1 000 Places to See Before You Die   \n",
       "2        3        407  13 Little Blue Envelopes (Little Blue Envelope...   \n",
       "3        4         82  1491: New Revelations of the Americas Before C...   \n",
       "4        5        125                                               1776   \n",
       "\n",
       "   num_pages publication_date  publisher_id  \n",
       "0        594       2005-11-01            93  \n",
       "1        992       2003-05-22           336  \n",
       "2        322       2010-12-21           135  \n",
       "3        541       2006-10-10           309  \n",
       "4        386       2006-07-04           268  "
      ]
     },
     "execution_count": 4,
     "metadata": {},
     "output_type": "execute_result"
    }
   ],
   "source": [
    "# View the books dataset and display the results\n",
    "query_sql(\n",
    "    '''\n",
    "    SELECT\n",
    "        *\n",
    "    FROM\n",
    "        books;\n",
    "    '''\n",
    ").head()"
   ]
  },
  {
   "cell_type": "code",
   "execution_count": 5,
   "metadata": {
    "lang": "id"
   },
   "outputs": [
    {
     "data": {
      "text/html": [
       "<div>\n",
       "<style scoped>\n",
       "    .dataframe tbody tr th:only-of-type {\n",
       "        vertical-align: middle;\n",
       "    }\n",
       "\n",
       "    .dataframe tbody tr th {\n",
       "        vertical-align: top;\n",
       "    }\n",
       "\n",
       "    .dataframe thead th {\n",
       "        text-align: right;\n",
       "    }\n",
       "</style>\n",
       "<table border=\"1\" class=\"dataframe\">\n",
       "  <thead>\n",
       "    <tr style=\"text-align: right;\">\n",
       "      <th></th>\n",
       "      <th>review_id</th>\n",
       "      <th>book_id</th>\n",
       "      <th>username</th>\n",
       "      <th>text</th>\n",
       "    </tr>\n",
       "  </thead>\n",
       "  <tbody>\n",
       "    <tr>\n",
       "      <th>0</th>\n",
       "      <td>1</td>\n",
       "      <td>1</td>\n",
       "      <td>brandtandrea</td>\n",
       "      <td>Mention society tell send professor analysis. ...</td>\n",
       "    </tr>\n",
       "    <tr>\n",
       "      <th>1</th>\n",
       "      <td>2</td>\n",
       "      <td>1</td>\n",
       "      <td>ryanfranco</td>\n",
       "      <td>Foot glass pretty audience hit themselves. Amo...</td>\n",
       "    </tr>\n",
       "    <tr>\n",
       "      <th>2</th>\n",
       "      <td>3</td>\n",
       "      <td>2</td>\n",
       "      <td>lorichen</td>\n",
       "      <td>Listen treat keep worry. Miss husband tax but ...</td>\n",
       "    </tr>\n",
       "    <tr>\n",
       "      <th>3</th>\n",
       "      <td>4</td>\n",
       "      <td>3</td>\n",
       "      <td>johnsonamanda</td>\n",
       "      <td>Finally month interesting blue could nature cu...</td>\n",
       "    </tr>\n",
       "    <tr>\n",
       "      <th>4</th>\n",
       "      <td>5</td>\n",
       "      <td>3</td>\n",
       "      <td>scotttamara</td>\n",
       "      <td>Nation purpose heavy give wait song will. List...</td>\n",
       "    </tr>\n",
       "  </tbody>\n",
       "</table>\n",
       "</div>"
      ],
      "text/plain": [
       "   review_id  book_id       username  \\\n",
       "0          1        1   brandtandrea   \n",
       "1          2        1     ryanfranco   \n",
       "2          3        2       lorichen   \n",
       "3          4        3  johnsonamanda   \n",
       "4          5        3    scotttamara   \n",
       "\n",
       "                                                text  \n",
       "0  Mention society tell send professor analysis. ...  \n",
       "1  Foot glass pretty audience hit themselves. Amo...  \n",
       "2  Listen treat keep worry. Miss husband tax but ...  \n",
       "3  Finally month interesting blue could nature cu...  \n",
       "4  Nation purpose heavy give wait song will. List...  "
      ]
     },
     "execution_count": 5,
     "metadata": {},
     "output_type": "execute_result"
    }
   ],
   "source": [
    "# View the reviews dataset and display the results\n",
    "query_sql(\n",
    "    '''\n",
    "    SELECT\n",
    "        *\n",
    "    FROM\n",
    "        reviews;\n",
    "    '''\n",
    ").head()"
   ]
  },
  {
   "cell_type": "code",
   "execution_count": 6,
   "metadata": {
    "lang": "id"
   },
   "outputs": [
    {
     "data": {
      "text/html": [
       "<div>\n",
       "<style scoped>\n",
       "    .dataframe tbody tr th:only-of-type {\n",
       "        vertical-align: middle;\n",
       "    }\n",
       "\n",
       "    .dataframe tbody tr th {\n",
       "        vertical-align: top;\n",
       "    }\n",
       "\n",
       "    .dataframe thead th {\n",
       "        text-align: right;\n",
       "    }\n",
       "</style>\n",
       "<table border=\"1\" class=\"dataframe\">\n",
       "  <thead>\n",
       "    <tr style=\"text-align: right;\">\n",
       "      <th></th>\n",
       "      <th>rating_id</th>\n",
       "      <th>book_id</th>\n",
       "      <th>username</th>\n",
       "      <th>rating</th>\n",
       "    </tr>\n",
       "  </thead>\n",
       "  <tbody>\n",
       "    <tr>\n",
       "      <th>0</th>\n",
       "      <td>1</td>\n",
       "      <td>1</td>\n",
       "      <td>ryanfranco</td>\n",
       "      <td>4</td>\n",
       "    </tr>\n",
       "    <tr>\n",
       "      <th>1</th>\n",
       "      <td>2</td>\n",
       "      <td>1</td>\n",
       "      <td>grantpatricia</td>\n",
       "      <td>2</td>\n",
       "    </tr>\n",
       "    <tr>\n",
       "      <th>2</th>\n",
       "      <td>3</td>\n",
       "      <td>1</td>\n",
       "      <td>brandtandrea</td>\n",
       "      <td>5</td>\n",
       "    </tr>\n",
       "    <tr>\n",
       "      <th>3</th>\n",
       "      <td>4</td>\n",
       "      <td>2</td>\n",
       "      <td>lorichen</td>\n",
       "      <td>3</td>\n",
       "    </tr>\n",
       "    <tr>\n",
       "      <th>4</th>\n",
       "      <td>5</td>\n",
       "      <td>2</td>\n",
       "      <td>mariokeller</td>\n",
       "      <td>2</td>\n",
       "    </tr>\n",
       "  </tbody>\n",
       "</table>\n",
       "</div>"
      ],
      "text/plain": [
       "   rating_id  book_id       username  rating\n",
       "0          1        1     ryanfranco       4\n",
       "1          2        1  grantpatricia       2\n",
       "2          3        1   brandtandrea       5\n",
       "3          4        2       lorichen       3\n",
       "4          5        2    mariokeller       2"
      ]
     },
     "execution_count": 6,
     "metadata": {},
     "output_type": "execute_result"
    }
   ],
   "source": [
    "# View the ratings dataset and display the results\n",
    "query_sql(\n",
    "    '''\n",
    "    SELECT\n",
    "        *\n",
    "    FROM\n",
    "        ratings;\n",
    "    '''\n",
    ").head()"
   ]
  },
  {
   "cell_type": "code",
   "execution_count": 7,
   "metadata": {},
   "outputs": [
    {
     "data": {
      "text/html": [
       "<div>\n",
       "<style scoped>\n",
       "    .dataframe tbody tr th:only-of-type {\n",
       "        vertical-align: middle;\n",
       "    }\n",
       "\n",
       "    .dataframe tbody tr th {\n",
       "        vertical-align: top;\n",
       "    }\n",
       "\n",
       "    .dataframe thead th {\n",
       "        text-align: right;\n",
       "    }\n",
       "</style>\n",
       "<table border=\"1\" class=\"dataframe\">\n",
       "  <thead>\n",
       "    <tr style=\"text-align: right;\">\n",
       "      <th></th>\n",
       "      <th>publisher_id</th>\n",
       "      <th>publisher</th>\n",
       "    </tr>\n",
       "  </thead>\n",
       "  <tbody>\n",
       "    <tr>\n",
       "      <th>0</th>\n",
       "      <td>1</td>\n",
       "      <td>Ace</td>\n",
       "    </tr>\n",
       "    <tr>\n",
       "      <th>1</th>\n",
       "      <td>2</td>\n",
       "      <td>Ace Book</td>\n",
       "    </tr>\n",
       "    <tr>\n",
       "      <th>2</th>\n",
       "      <td>3</td>\n",
       "      <td>Ace Books</td>\n",
       "    </tr>\n",
       "    <tr>\n",
       "      <th>3</th>\n",
       "      <td>4</td>\n",
       "      <td>Ace Hardcover</td>\n",
       "    </tr>\n",
       "    <tr>\n",
       "      <th>4</th>\n",
       "      <td>5</td>\n",
       "      <td>Addison Wesley Publishing Company</td>\n",
       "    </tr>\n",
       "  </tbody>\n",
       "</table>\n",
       "</div>"
      ],
      "text/plain": [
       "   publisher_id                          publisher\n",
       "0             1                                Ace\n",
       "1             2                           Ace Book\n",
       "2             3                          Ace Books\n",
       "3             4                      Ace Hardcover\n",
       "4             5  Addison Wesley Publishing Company"
      ]
     },
     "execution_count": 7,
     "metadata": {},
     "output_type": "execute_result"
    }
   ],
   "source": [
    "# View the publishers dataset and display the results\n",
    "query_sql(\n",
    "    '''\n",
    "    SELECT \n",
    "        *\n",
    "    FROM\n",
    "        publishers;\n",
    "    '''\n",
    ").head()"
   ]
  },
  {
   "cell_type": "code",
   "execution_count": 8,
   "metadata": {},
   "outputs": [
    {
     "data": {
      "text/html": [
       "<div>\n",
       "<style scoped>\n",
       "    .dataframe tbody tr th:only-of-type {\n",
       "        vertical-align: middle;\n",
       "    }\n",
       "\n",
       "    .dataframe tbody tr th {\n",
       "        vertical-align: top;\n",
       "    }\n",
       "\n",
       "    .dataframe thead th {\n",
       "        text-align: right;\n",
       "    }\n",
       "</style>\n",
       "<table border=\"1\" class=\"dataframe\">\n",
       "  <thead>\n",
       "    <tr style=\"text-align: right;\">\n",
       "      <th></th>\n",
       "      <th>author_id</th>\n",
       "      <th>author</th>\n",
       "    </tr>\n",
       "  </thead>\n",
       "  <tbody>\n",
       "    <tr>\n",
       "      <th>0</th>\n",
       "      <td>1</td>\n",
       "      <td>A.S. Byatt</td>\n",
       "    </tr>\n",
       "    <tr>\n",
       "      <th>1</th>\n",
       "      <td>2</td>\n",
       "      <td>Aesop/Laura Harris/Laura Gibbs</td>\n",
       "    </tr>\n",
       "    <tr>\n",
       "      <th>2</th>\n",
       "      <td>3</td>\n",
       "      <td>Agatha Christie</td>\n",
       "    </tr>\n",
       "    <tr>\n",
       "      <th>3</th>\n",
       "      <td>4</td>\n",
       "      <td>Alan Brennert</td>\n",
       "    </tr>\n",
       "    <tr>\n",
       "      <th>4</th>\n",
       "      <td>5</td>\n",
       "      <td>Alan Moore/David   Lloyd</td>\n",
       "    </tr>\n",
       "  </tbody>\n",
       "</table>\n",
       "</div>"
      ],
      "text/plain": [
       "   author_id                          author\n",
       "0          1                      A.S. Byatt\n",
       "1          2  Aesop/Laura Harris/Laura Gibbs\n",
       "2          3                 Agatha Christie\n",
       "3          4                   Alan Brennert\n",
       "4          5        Alan Moore/David   Lloyd"
      ]
     },
     "execution_count": 8,
     "metadata": {},
     "output_type": "execute_result"
    }
   ],
   "source": [
    "# View the authors dataset and display the results\n",
    "query_sql(\n",
    "    '''\n",
    "    SELECT \n",
    "        *\n",
    "    FROM\n",
    "        authors;\n",
    "    '''\n",
    ").head()"
   ]
  },
  {
   "cell_type": "markdown",
   "metadata": {},
   "source": [
    "## *Exploratory Data Analysis*<a id='EDA'></a>"
   ]
  },
  {
   "cell_type": "markdown",
   "metadata": {},
   "source": [
    "### Number of books released after January 1, 2000<a id='1'></a>"
   ]
  },
  {
   "cell_type": "code",
   "execution_count": 9,
   "metadata": {
    "lang": "id"
   },
   "outputs": [
    {
     "data": {
      "text/html": [
       "<div>\n",
       "<style scoped>\n",
       "    .dataframe tbody tr th:only-of-type {\n",
       "        vertical-align: middle;\n",
       "    }\n",
       "\n",
       "    .dataframe tbody tr th {\n",
       "        vertical-align: top;\n",
       "    }\n",
       "\n",
       "    .dataframe thead th {\n",
       "        text-align: right;\n",
       "    }\n",
       "</style>\n",
       "<table border=\"1\" class=\"dataframe\">\n",
       "  <thead>\n",
       "    <tr style=\"text-align: right;\">\n",
       "      <th></th>\n",
       "      <th>books_cnt</th>\n",
       "    </tr>\n",
       "  </thead>\n",
       "  <tbody>\n",
       "    <tr>\n",
       "      <th>0</th>\n",
       "      <td>1</td>\n",
       "    </tr>\n",
       "  </tbody>\n",
       "</table>\n",
       "</div>"
      ],
      "text/plain": [
       "   books_cnt\n",
       "0          1"
      ]
     },
     "execution_count": 9,
     "metadata": {},
     "output_type": "execute_result"
    }
   ],
   "source": [
    "# Counts the number of books released after the specified date\n",
    "query_sql(\n",
    "    '''\n",
    "    SELECT \n",
    "        COUNT(publication_date) as books_cnt\n",
    "    FROM\n",
    "        books\n",
    "    WHERE\n",
    "        publication_date > '2020-01-01';\n",
    "    '''\n",
    ").head()"
   ]
  },
  {
   "cell_type": "code",
   "execution_count": 10,
   "metadata": {
    "lang": "id"
   },
   "outputs": [
    {
     "data": {
      "text/html": [
       "<div>\n",
       "<style scoped>\n",
       "    .dataframe tbody tr th:only-of-type {\n",
       "        vertical-align: middle;\n",
       "    }\n",
       "\n",
       "    .dataframe tbody tr th {\n",
       "        vertical-align: top;\n",
       "    }\n",
       "\n",
       "    .dataframe thead th {\n",
       "        text-align: right;\n",
       "    }\n",
       "</style>\n",
       "<table border=\"1\" class=\"dataframe\">\n",
       "  <thead>\n",
       "    <tr style=\"text-align: right;\">\n",
       "      <th></th>\n",
       "      <th>author_id</th>\n",
       "      <th>publication_date</th>\n",
       "      <th>author</th>\n",
       "      <th>title</th>\n",
       "      <th>num_pages</th>\n",
       "    </tr>\n",
       "  </thead>\n",
       "  <tbody>\n",
       "    <tr>\n",
       "      <th>0</th>\n",
       "      <td>377</td>\n",
       "      <td>2020-03-31</td>\n",
       "      <td>Lynsay Sands</td>\n",
       "      <td>A Quick Bite (Argeneau #1)</td>\n",
       "      <td>360</td>\n",
       "    </tr>\n",
       "  </tbody>\n",
       "</table>\n",
       "</div>"
      ],
      "text/plain": [
       "   author_id publication_date        author                       title  \\\n",
       "0        377       2020-03-31  Lynsay Sands  A Quick Bite (Argeneau #1)   \n",
       "\n",
       "   num_pages  \n",
       "0        360  "
      ]
     },
     "execution_count": 10,
     "metadata": {},
     "output_type": "execute_result"
    }
   ],
   "source": [
    "# Examine the book\n",
    "query_sql(\n",
    "    '''\n",
    "    -- CTE(Common Table Expression)\n",
    "    WITH table_2 AS(\n",
    "        SELECT\n",
    "            *\n",
    "        FROM\n",
    "            authors\n",
    "    )\n",
    "    \n",
    "    -- Merge tables\n",
    "    SELECT \n",
    "        books.author_id,\n",
    "        publication_date,\n",
    "        author,\n",
    "        title,\n",
    "        num_pages\n",
    "    FROM\n",
    "        books LEFT JOIN table_2\n",
    "        ON table_2.author_id = books.author_id\n",
    "    WHERE\n",
    "        publication_date > '2020-01-01';\n",
    "    '''\n",
    ").head()"
   ]
  },
  {
   "cell_type": "markdown",
   "metadata": {
    "lang": "en"
   },
   "source": [
    "There is only 1 book released after January 1, 2000, namely:\n",
    "- a book by author Lynsay Sands entitled 'A Quick Bite (Argeneau #1)' which has 360 pages."
   ]
  },
  {
   "cell_type": "markdown",
   "metadata": {},
   "source": [
    "### Number of user reviews and average rating for each book<a id='2'></a>"
   ]
  },
  {
   "cell_type": "code",
   "execution_count": 11,
   "metadata": {
    "lang": "id"
   },
   "outputs": [
    {
     "data": {
      "text/html": [
       "<div>\n",
       "<style scoped>\n",
       "    .dataframe tbody tr th:only-of-type {\n",
       "        vertical-align: middle;\n",
       "    }\n",
       "\n",
       "    .dataframe tbody tr th {\n",
       "        vertical-align: top;\n",
       "    }\n",
       "\n",
       "    .dataframe thead th {\n",
       "        text-align: right;\n",
       "    }\n",
       "</style>\n",
       "<table border=\"1\" class=\"dataframe\">\n",
       "  <thead>\n",
       "    <tr style=\"text-align: right;\">\n",
       "      <th></th>\n",
       "      <th>book_id</th>\n",
       "      <th>rating_avg</th>\n",
       "      <th>review_total</th>\n",
       "    </tr>\n",
       "  </thead>\n",
       "  <tbody>\n",
       "    <tr>\n",
       "      <th>0</th>\n",
       "      <td>948</td>\n",
       "      <td>3.66</td>\n",
       "      <td>1120</td>\n",
       "    </tr>\n",
       "    <tr>\n",
       "      <th>1</th>\n",
       "      <td>750</td>\n",
       "      <td>4.13</td>\n",
       "      <td>528</td>\n",
       "    </tr>\n",
       "    <tr>\n",
       "      <th>2</th>\n",
       "      <td>673</td>\n",
       "      <td>3.83</td>\n",
       "      <td>516</td>\n",
       "    </tr>\n",
       "    <tr>\n",
       "      <th>3</th>\n",
       "      <td>302</td>\n",
       "      <td>4.41</td>\n",
       "      <td>492</td>\n",
       "    </tr>\n",
       "    <tr>\n",
       "      <th>4</th>\n",
       "      <td>299</td>\n",
       "      <td>4.29</td>\n",
       "      <td>480</td>\n",
       "    </tr>\n",
       "  </tbody>\n",
       "</table>\n",
       "</div>"
      ],
      "text/plain": [
       "   book_id  rating_avg  review_total\n",
       "0      948        3.66          1120\n",
       "1      750        4.13           528\n",
       "2      673        3.83           516\n",
       "3      302        4.41           492\n",
       "4      299        4.29           480"
      ]
     },
     "execution_count": 11,
     "metadata": {},
     "output_type": "execute_result"
    }
   ],
   "source": [
    "# Calculates the number of reviews and the average rating of each book\n",
    "query_sql(\n",
    "    '''\n",
    "    -- CTE\n",
    "    WITH table_reviews AS(\n",
    "        SELECT\n",
    "            book_id,\n",
    "            review_id\n",
    "        FROM\n",
    "            reviews\n",
    "    )\n",
    "    \n",
    "    -- Merge tables\n",
    "    SELECT\n",
    "        ratings.book_id,\n",
    "        ROUND(AVG(ratings.rating)::numeric, 2) AS rating_avg, -- Rata-rata rating setiap buku\n",
    "        COUNT(table_reviews.review_id) as review_total -- Total review setiap buku\n",
    "    FROM\n",
    "        ratings LEFT JOIN table_reviews\n",
    "        ON ratings.book_id = table_reviews.book_id\n",
    "    GROUP BY\n",
    "        ratings.book_id\n",
    "    ORDER BY\n",
    "        review_total DESC;\n",
    "    '''\n",
    ").head()"
   ]
  },
  {
   "cell_type": "markdown",
   "metadata": {
    "lang": "en"
   },
   "source": [
    "If sorted by the number of reviews given by users on each book:\n",
    "1. `books_id` 948 received the most reviews with a total of 1120 and the average review was 3.66,\n",
    "2. Followed by `books_id` 750 which received 528 reviews and an average review of 4.13,\n",
    "2. Ranked next, there are `books_id` 673 which received 516 reviews and an average review of 3.83"
   ]
  },
  {
   "cell_type": "markdown",
   "metadata": {},
   "source": [
    "### Publisher who has published the most number of books<a id='3'></a>"
   ]
  },
  {
   "cell_type": "markdown",
   "metadata": {
    "lang": "en"
   },
   "source": [
    "The filter that will be applied is the number of pages more than 50 so that it can exclude things like brochures and publications."
   ]
  },
  {
   "cell_type": "code",
   "execution_count": 12,
   "metadata": {
    "lang": "id"
   },
   "outputs": [
    {
     "data": {
      "text/html": [
       "<div>\n",
       "<style scoped>\n",
       "    .dataframe tbody tr th:only-of-type {\n",
       "        vertical-align: middle;\n",
       "    }\n",
       "\n",
       "    .dataframe tbody tr th {\n",
       "        vertical-align: top;\n",
       "    }\n",
       "\n",
       "    .dataframe thead th {\n",
       "        text-align: right;\n",
       "    }\n",
       "</style>\n",
       "<table border=\"1\" class=\"dataframe\">\n",
       "  <thead>\n",
       "    <tr style=\"text-align: right;\">\n",
       "      <th></th>\n",
       "      <th>publisher_id</th>\n",
       "      <th>books_cnt</th>\n",
       "      <th>publisher</th>\n",
       "    </tr>\n",
       "  </thead>\n",
       "  <tbody>\n",
       "    <tr>\n",
       "      <th>0</th>\n",
       "      <td>212</td>\n",
       "      <td>42</td>\n",
       "      <td>Penguin Books</td>\n",
       "    </tr>\n",
       "    <tr>\n",
       "      <th>1</th>\n",
       "      <td>309</td>\n",
       "      <td>31</td>\n",
       "      <td>Vintage</td>\n",
       "    </tr>\n",
       "    <tr>\n",
       "      <th>2</th>\n",
       "      <td>116</td>\n",
       "      <td>25</td>\n",
       "      <td>Grand Central Publishing</td>\n",
       "    </tr>\n",
       "    <tr>\n",
       "      <th>3</th>\n",
       "      <td>217</td>\n",
       "      <td>24</td>\n",
       "      <td>Penguin Classics</td>\n",
       "    </tr>\n",
       "    <tr>\n",
       "      <th>4</th>\n",
       "      <td>33</td>\n",
       "      <td>19</td>\n",
       "      <td>Ballantine Books</td>\n",
       "    </tr>\n",
       "  </tbody>\n",
       "</table>\n",
       "</div>"
      ],
      "text/plain": [
       "   publisher_id  books_cnt                 publisher\n",
       "0           212         42             Penguin Books\n",
       "1           309         31                   Vintage\n",
       "2           116         25  Grand Central Publishing\n",
       "3           217         24          Penguin Classics\n",
       "4            33         19          Ballantine Books"
      ]
     },
     "execution_count": 12,
     "metadata": {},
     "output_type": "execute_result"
    }
   ],
   "source": [
    "# Calculates the total number of books released by the publisher\n",
    "query_sql(\n",
    "    '''\n",
    "    -- CTE\n",
    "    WITH table_publisher AS(\n",
    "        SELECT\n",
    "            *\n",
    "        FROM\n",
    "            publishers\n",
    "    )\n",
    "    \n",
    "    -- Merge tables\n",
    "    SELECT\n",
    "        books.publisher_id,\n",
    "        COUNT(books.book_id) AS books_cnt, -- Total buku yang dirilis\n",
    "        table_publisher.publisher\n",
    "    FROM\n",
    "        books LEFT JOIN table_publisher\n",
    "        ON books.publisher_id = table_publisher.publisher_id\n",
    "    WHERE\n",
    "        books.num_pages > 50\n",
    "    GROUP BY\n",
    "        books.publisher_id,\n",
    "        table_publisher.publisher\n",
    "    ORDER BY\n",
    "        books_cnt DESC;\n",
    "    '''\n",
    ").head()"
   ]
  },
  {
   "cell_type": "markdown",
   "metadata": {
    "lang": "en"
   },
   "source": [
    "Publisher:\n",
    "1. Penguin Books is the most (42) in terms of book publishing,\n",
    "2. Followed by Vintage, Grand Central Publishing, Penguin Classics, and Ballantine Books respectively."
   ]
  },
  {
   "cell_type": "markdown",
   "metadata": {},
   "source": [
    "### Author with highest average book rating<a id='4'></a>"
   ]
  },
  {
   "cell_type": "markdown",
   "metadata": {
    "lang": "en"
   },
   "source": [
    "The filter that will be applied is books that are rated more than 50 times."
   ]
  },
  {
   "cell_type": "code",
   "execution_count": 13,
   "metadata": {
    "lang": "id"
   },
   "outputs": [
    {
     "data": {
      "text/html": [
       "<div>\n",
       "<style scoped>\n",
       "    .dataframe tbody tr th:only-of-type {\n",
       "        vertical-align: middle;\n",
       "    }\n",
       "\n",
       "    .dataframe tbody tr th {\n",
       "        vertical-align: top;\n",
       "    }\n",
       "\n",
       "    .dataframe thead th {\n",
       "        text-align: right;\n",
       "    }\n",
       "</style>\n",
       "<table border=\"1\" class=\"dataframe\">\n",
       "  <thead>\n",
       "    <tr style=\"text-align: right;\">\n",
       "      <th></th>\n",
       "      <th>book_id</th>\n",
       "      <th>rating_cnt</th>\n",
       "      <th>author_id</th>\n",
       "      <th>author</th>\n",
       "    </tr>\n",
       "  </thead>\n",
       "  <tbody>\n",
       "    <tr>\n",
       "      <th>0</th>\n",
       "      <td>948</td>\n",
       "      <td>160</td>\n",
       "      <td>554</td>\n",
       "      <td>Stephenie Meyer</td>\n",
       "    </tr>\n",
       "    <tr>\n",
       "      <th>1</th>\n",
       "      <td>750</td>\n",
       "      <td>88</td>\n",
       "      <td>240</td>\n",
       "      <td>J.R.R. Tolkien</td>\n",
       "    </tr>\n",
       "    <tr>\n",
       "      <th>2</th>\n",
       "      <td>673</td>\n",
       "      <td>86</td>\n",
       "      <td>235</td>\n",
       "      <td>J.D. Salinger</td>\n",
       "    </tr>\n",
       "    <tr>\n",
       "      <th>3</th>\n",
       "      <td>75</td>\n",
       "      <td>84</td>\n",
       "      <td>106</td>\n",
       "      <td>Dan Brown</td>\n",
       "    </tr>\n",
       "    <tr>\n",
       "      <th>4</th>\n",
       "      <td>302</td>\n",
       "      <td>82</td>\n",
       "      <td>236</td>\n",
       "      <td>J.K. Rowling/Mary GrandPré</td>\n",
       "    </tr>\n",
       "  </tbody>\n",
       "</table>\n",
       "</div>"
      ],
      "text/plain": [
       "   book_id  rating_cnt  author_id                      author\n",
       "0      948         160        554             Stephenie Meyer\n",
       "1      750          88        240              J.R.R. Tolkien\n",
       "2      673          86        235               J.D. Salinger\n",
       "3       75          84        106                   Dan Brown\n",
       "4      302          82        236  J.K. Rowling/Mary GrandPré"
      ]
     },
     "execution_count": 13,
     "metadata": {},
     "output_type": "execute_result"
    }
   ],
   "source": [
    "# Calculates the rating given by the user to each book\n",
    "query_sql(\n",
    "    '''\n",
    "    -- CTE\n",
    "    WITH table_authors AS(\n",
    "        SELECT\n",
    "            *\n",
    "        FROM\n",
    "            authors\n",
    "    ), table_books AS(\n",
    "        SELECT\n",
    "            book_id,\n",
    "            author_id\n",
    "        FROM\n",
    "            books\n",
    "    )\n",
    "    \n",
    "    -- Merge tables\n",
    "    SELECT\n",
    "        ratings.book_id,\n",
    "        COUNT(ratings.username) AS rating_cnt,\n",
    "        table_authors.author_id,\n",
    "        table_authors.author\n",
    "    FROM\n",
    "        ratings\n",
    "        LEFT JOIN table_books\n",
    "        ON ratings.book_id = table_books.book_id\n",
    "        LEFT JOIN table_authors\n",
    "        ON table_books.author_id = table_authors.author_id\n",
    "    GROUP BY\n",
    "        ratings.book_id,\n",
    "        table_authors.author_id,\n",
    "        table_authors.author\n",
    "    HAVING\n",
    "        COUNT(ratings.username)>50\n",
    "    ORDER BY\n",
    "        rating_cnt DESC;\n",
    "    '''\n",
    ").head()"
   ]
  },
  {
   "cell_type": "markdown",
   "metadata": {
    "lang": "en"
   },
   "source": [
    "1. Stephenie Meyer is the author with the most rated books (160)\n",
    "2. Followed by J.R.R. Tolkien, J.D. Salinger, Dan Brown, and J.K. Rowling/Mary GrandPré respectively."
   ]
  },
  {
   "cell_type": "markdown",
   "metadata": {},
   "source": [
    "### Average number of review texts among users<a id='5'></a>"
   ]
  },
  {
   "cell_type": "markdown",
   "metadata": {
    "lang": "en"
   },
   "source": [
    "The filter that will be applied is books that are rated more than 50 times."
   ]
  },
  {
   "cell_type": "code",
   "execution_count": 14,
   "metadata": {
    "lang": "id"
   },
   "outputs": [
    {
     "data": {
      "text/html": [
       "<div>\n",
       "<style scoped>\n",
       "    .dataframe tbody tr th:only-of-type {\n",
       "        vertical-align: middle;\n",
       "    }\n",
       "\n",
       "    .dataframe tbody tr th {\n",
       "        vertical-align: top;\n",
       "    }\n",
       "\n",
       "    .dataframe thead th {\n",
       "        text-align: right;\n",
       "    }\n",
       "</style>\n",
       "<table border=\"1\" class=\"dataframe\">\n",
       "  <thead>\n",
       "    <tr style=\"text-align: right;\">\n",
       "      <th></th>\n",
       "      <th>book_id</th>\n",
       "      <th>rating_cnt</th>\n",
       "      <th>title</th>\n",
       "      <th>avg_text_len</th>\n",
       "    </tr>\n",
       "  </thead>\n",
       "  <tbody>\n",
       "    <tr>\n",
       "      <th>0</th>\n",
       "      <td>948</td>\n",
       "      <td>160</td>\n",
       "      <td>Twilight (Twilight  #1)</td>\n",
       "      <td>89.571429</td>\n",
       "    </tr>\n",
       "    <tr>\n",
       "      <th>1</th>\n",
       "      <td>750</td>\n",
       "      <td>88</td>\n",
       "      <td>The Hobbit  or There and Back Again</td>\n",
       "      <td>86.833333</td>\n",
       "    </tr>\n",
       "    <tr>\n",
       "      <th>2</th>\n",
       "      <td>673</td>\n",
       "      <td>86</td>\n",
       "      <td>The Catcher in the Rye</td>\n",
       "      <td>103.166667</td>\n",
       "    </tr>\n",
       "    <tr>\n",
       "      <th>3</th>\n",
       "      <td>75</td>\n",
       "      <td>84</td>\n",
       "      <td>Angels &amp; Demons (Robert Langdon  #1)</td>\n",
       "      <td>112.600000</td>\n",
       "    </tr>\n",
       "    <tr>\n",
       "      <th>4</th>\n",
       "      <td>302</td>\n",
       "      <td>82</td>\n",
       "      <td>Harry Potter and the Prisoner of Azkaban (Harr...</td>\n",
       "      <td>82.000000</td>\n",
       "    </tr>\n",
       "  </tbody>\n",
       "</table>\n",
       "</div>"
      ],
      "text/plain": [
       "   book_id  rating_cnt                                              title  \\\n",
       "0      948         160                            Twilight (Twilight  #1)   \n",
       "1      750          88                The Hobbit  or There and Back Again   \n",
       "2      673          86                             The Catcher in the Rye   \n",
       "3       75          84               Angels & Demons (Robert Langdon  #1)   \n",
       "4      302          82  Harry Potter and the Prisoner of Azkaban (Harr...   \n",
       "\n",
       "   avg_text_len  \n",
       "0     89.571429  \n",
       "1     86.833333  \n",
       "2    103.166667  \n",
       "3    112.600000  \n",
       "4     82.000000  "
      ]
     },
     "execution_count": 14,
     "metadata": {},
     "output_type": "execute_result"
    }
   ],
   "source": [
    "# Average user review\n",
    "query_sql(\n",
    "    '''\n",
    "    -- CTE\n",
    "    WITH table_authors AS (\n",
    "        SELECT\n",
    "            *\n",
    "        FROM\n",
    "            authors\n",
    "    ), table_books AS (\n",
    "        SELECT \n",
    "            book_id,\n",
    "            author_id,\n",
    "            title\n",
    "        FROM\n",
    "            books\n",
    "    ), table_reviews AS (\n",
    "        SELECT\n",
    "            book_id,\n",
    "            text\n",
    "        FROM\n",
    "            reviews\n",
    "    ), table_ratings AS (\n",
    "        SELECT\n",
    "            book_id,\n",
    "            COUNT(username) AS rating_cnt FROM ratings\n",
    "        GROUP BY\n",
    "            book_id\n",
    "        HAVING\n",
    "            COUNT(username) > 50 -- Filter rating yang diterima lebih dari 50 kali\n",
    "    )\n",
    "\n",
    "    -- Merge tables\n",
    "    SELECT \n",
    "        table_ratings.book_id,\n",
    "        table_ratings.rating_cnt,\n",
    "        table_books.title,\n",
    "        AVG(LENGTH(table_reviews.text)) AS avg_text_len\n",
    "    FROM\n",
    "        table_ratings\n",
    "        JOIN table_books ON table_ratings.book_id = table_books.book_id\n",
    "        JOIN table_authors ON table_books.author_id = table_authors.author_id\n",
    "        JOIN table_reviews ON table_ratings.book_id = table_reviews.book_id\n",
    "    GROUP BY \n",
    "        table_ratings.book_id,\n",
    "        table_ratings.rating_cnt,\n",
    "        table_books.title\n",
    "    ORDER BY \n",
    "        table_ratings.rating_cnt DESC;\n",
    "\n",
    "    '''\n",
    ").head()"
   ]
  },
  {
   "cell_type": "markdown",
   "metadata": {
    "lang": "en"
   },
   "source": [
    "1. Books with the title \"Twilight (Twilight #1)\" received an average review text of 89.57,\n",
    "2. Followed by \"The Hobbit or There and Back Again\" (86.83), \"The Catcher in the Rye\" (103.17), \"Angels & Demons (Robert Langdon #1)\" (112.6), Harry Potter and the Prisoner of Azkaban \" (82)"
   ]
  },
  {
   "cell_type": "markdown",
   "metadata": {},
   "source": [
    "## General Conclusion<a id='Conclusion'></a>"
   ]
  },
  {
   "cell_type": "markdown",
   "metadata": {
    "lang": "en"
   },
   "source": [
    "The general conclusions from the results of this dataset analysis are:\n",
    "1. This dataset consists of information about books, authors, publishers, ratings, and user reviews.\n",
    "2. There is only one book released after January 1, 2000.\n",
    "3. Books with ID 948 are the most reviewed books by users with an average rating of 3.66.\n",
    "4. Penguin Books is the publisher that publishes the most books.\n",
    "5. Stephenie Meyer is the author with the highest average book rating.\n",
    "6. Some books have a relatively high average review text among users rating more than 50 books.\n",
    "\n",
    "Based on the results of this analysis, several recommendations that can be given in making a price quote for a new product are:\n",
    "1. Take books that have been widely reviewed and have a good average rating to be used as a reference in offering new products.\n",
    "2. Contacting relevant publishers to explore cooperation opportunities in publishing new products.\n",
    "3. Look at the works of authors with the highest average book rating and consider inviting cooperation in publishing new products.\n",
    "4. Pay attention to user reviews and high average review text as a consideration in offering new products."
   ]
  }
 ],
 "metadata": {
  "kernelspec": {
   "display_name": "Python 3 (ipykernel)",
   "language": "python",
   "name": "python3"
  },
  "language_info": {
   "codemirror_mode": {
    "name": "ipython",
    "version": 3
   },
   "file_extension": ".py",
   "mimetype": "text/x-python",
   "name": "python",
   "nbconvert_exporter": "python",
   "pygments_lexer": "ipython3",
   "version": "3.9.13"
  },
  "nbTranslate": {
   "displayLangs": [
    "*"
   ],
   "hotkey": "alt-t",
   "langInMainMenu": true,
   "sourceLang": "id",
   "targetLang": "en",
   "useGoogleTranslate": true
  },
  "toc": {
   "base_numbering": 1,
   "nav_menu": {},
   "number_sections": true,
   "sideBar": true,
   "skip_h1_title": true,
   "title_cell": "Table of Contents",
   "title_sidebar": "Contents",
   "toc_cell": false,
   "toc_position": {
    "height": "calc(100% - 180px)",
    "left": "10px",
    "top": "150px",
    "width": "307.2px"
   },
   "toc_section_display": true,
   "toc_window_display": true
  },
  "varInspector": {
   "cols": {
    "lenName": 16,
    "lenType": 16,
    "lenVar": 40
   },
   "kernels_config": {
    "python": {
     "delete_cmd_postfix": "",
     "delete_cmd_prefix": "del ",
     "library": "var_list.py",
     "varRefreshCmd": "print(var_dic_list())"
    },
    "r": {
     "delete_cmd_postfix": ") ",
     "delete_cmd_prefix": "rm(",
     "library": "var_list.r",
     "varRefreshCmd": "cat(var_dic_list()) "
    }
   },
   "types_to_exclude": [
    "module",
    "function",
    "builtin_function_or_method",
    "instance",
    "_Feature"
   ],
   "window_display": false
  }
 },
 "nbformat": 4,
 "nbformat_minor": 2
}
